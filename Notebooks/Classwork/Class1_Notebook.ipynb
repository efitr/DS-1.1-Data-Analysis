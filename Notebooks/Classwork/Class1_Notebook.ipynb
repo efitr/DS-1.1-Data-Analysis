{
 "cells": [
  {
   "cell_type": "markdown",
   "metadata": {},
   "source": [
    "# Class 1: In-Class Notebook (_Learning to Explore Data_)"
   ]
  },
  {
   "cell_type": "markdown",
   "metadata": {},
   "source": [
    "---"
   ]
  },
  {
   "cell_type": "markdown",
   "metadata": {},
   "source": [
    "## SECTION 1: _CSV and Vanilla Python_"
   ]
  },
  {
   "cell_type": "markdown",
   "metadata": {},
   "source": [
    "### INTRODUCTION: _Setting Up Our Data_"
   ]
  },
  {
   "cell_type": "code",
   "execution_count": 6,
   "metadata": {},
   "outputs": [],
   "source": [
    "# Importing CSV library for easier CSV data file conversion (non-Pandas)\n",
    "import csv\n",
    "\n",
    "# Creating uneditable path variable pointing to Titanic dataset location\n",
    "PATH = \"./Notebooks/Datasets/titanic.csv\"\n",
    "\n",
    "# TODO: Write comments for the following code...\n",
    "data_matrix = list()\n",
    "with open(PATH, \"r\") as fr:\n",
    "    reader = csv.reader(fr, delimiter=\",\")\n",
    "    for row in reader:\n",
    "        data_matrix.append(row)"
   ]
  },
  {
   "cell_type": "code",
   "execution_count": 26,
   "metadata": {},
   "outputs": [],
   "source": [
    "##################################################\n",
    "# INDEX VALUE 01 --> Survived\n",
    "# INDEX VALUE 03 --> Name\n",
    "# INDEX VALUE 04 --> Sex\n",
    "# INDEX VALUE 05 --> Age\n",
    "# INDEX VALUE 11 --> Embarked\n",
    "##################################################"
   ]
  },
  {
   "cell_type": "markdown",
   "metadata": {},
   "source": [
    "### PROBLEM 1: _How many women survived aboard the Titanic?_"
   ]
  },
  {
   "cell_type": "code",
   "execution_count": 20,
   "metadata": {},
   "outputs": [
    {
     "data": {
      "text/plain": [
       "233"
      ]
     },
     "execution_count": 20,
     "metadata": {},
     "output_type": "execute_result"
    }
   ],
   "source": [
    "# TODO: Write comments for the following code...\n",
    "def get_surviving_females(dataset, get_names=False):\n",
    "    \"\"\" Main function to get the total number or names of surviving women on the Titanic. \"\"\"\n",
    "    females_survived, indices = int(), list()\n",
    "    for iterator in range(len(dataset)):\n",
    "        if dataset[iterator][1] == \"1\" and dataset[iterator][4] == \"female\":\n",
    "            females_survived += 1\n",
    "            indices.append(iterator)\n",
    "    # If get_names is True, return the names of the women who survived the Titanic.\n",
    "    if get_names:\n",
    "        def _get_female_survivor_names(index_list):\n",
    "            \"\"\" Helper function to get the names of female survivors. \"\"\"\n",
    "            names_of_surviving_females = list()\n",
    "            for index in index_list:\n",
    "                names_of_surviving_females.append(dataset[index][3])\n",
    "            return names_of_surviving_females\n",
    "        return _get_female_survivor_names(indices)\n",
    "    # If get_names is False, return the number of women who survived the Titanic.\n",
    "    else:\n",
    "        return females_survived\n",
    "\n",
    "get_surviving_females(data_matrix)"
   ]
  },
  {
   "cell_type": "markdown",
   "metadata": {},
   "source": [
    "### PROBLEM 2: _What are the names of the surviving women of the Titanic_?"
   ]
  },
  {
   "cell_type": "code",
   "execution_count": 19,
   "metadata": {},
   "outputs": [
    {
     "data": {
      "text/plain": [
       "['Cumings, Mrs. John Bradley (Florence Briggs Thayer)',\n",
       " 'Heikkinen, Miss. Laina',\n",
       " 'Futrelle, Mrs. Jacques Heath (Lily May Peel)',\n",
       " 'Johnson, Mrs. Oscar W (Elisabeth Vilhelmina Berg)',\n",
       " 'Nasser, Mrs. Nicholas (Adele Achem)',\n",
       " 'Sandstrom, Miss. Marguerite Rut',\n",
       " 'Bonnell, Miss. Elizabeth',\n",
       " 'Hewlett, Mrs. (Mary D Kingcome) ',\n",
       " 'Masselmani, Mrs. Fatima',\n",
       " 'McGowan, Miss. Anna \"Annie\"',\n",
       " 'Asplund, Mrs. Carl Oscar (Selma Augusta Emilia Johansson)',\n",
       " 'O\\'Dwyer, Miss. Ellen \"Nellie\"',\n",
       " 'Spencer, Mrs. William Augustus (Marie Eugenie)',\n",
       " 'Glynn, Miss. Mary Agatha',\n",
       " 'Nicola-Yarred, Miss. Jamila',\n",
       " 'Laroche, Miss. Simonne Marie Anne Andree',\n",
       " 'Devaney, Miss. Margaret Delia',\n",
       " \"O'Driscoll, Miss. Bridget\",\n",
       " 'Harper, Mrs. Henry Sleeper (Myna Haxtun)',\n",
       " 'Faunthorpe, Mrs. Lizzie (Elizabeth Anne Wilkinson)',\n",
       " 'Rugg, Miss. Emily',\n",
       " 'West, Miss. Constance Mirium',\n",
       " 'Icard, Miss. Amelie',\n",
       " 'Nye, Mrs. (Elizabeth Ramell)',\n",
       " 'Andersson, Miss. Erna Alexandra',\n",
       " 'Dowdell, Miss. Elizabeth',\n",
       " 'McDermott, Miss. Brigdet Delia',\n",
       " 'Ilett, Miss. Bertha',\n",
       " 'Backstrom, Mrs. Karl Alfred (Maria Mathilda Gustafsson)',\n",
       " 'Fortune, Miss. Mabel Helen',\n",
       " 'Doling, Mrs. John T (Ada Julia Bone)',\n",
       " 'Salkjelsvik, Miss. Anna Kristine',\n",
       " 'Moran, Miss. Bertha',\n",
       " 'Webber, Miss. Susan',\n",
       " 'Peter, Miss. Anna',\n",
       " 'Weisz, Mrs. Leopold (Mathilde Francoise Pede)',\n",
       " 'Newsom, Miss. Helen Monypeny',\n",
       " 'Nysten, Miss. Anna Sofia',\n",
       " 'Hakkarainen, Mrs. Pekka Pietari (Elin Matilda Dolck)',\n",
       " 'Pears, Mrs. Thomas (Edith Wearne)',\n",
       " 'Gilnagh, Miss. Katherine \"Katie\"',\n",
       " 'Watt, Mrs. James (Elizabeth \"Bessie\" Inglis Milne)',\n",
       " 'Chibnall, Mrs. (Edith Martha Bowerman)',\n",
       " 'Johnson, Miss. Eleanor Ileen',\n",
       " 'Kink-Heilmann, Miss. Luise Gretchen',\n",
       " 'O\\'Brien, Mrs. Thomas (Johanna \"Hannah\" Godfrey)',\n",
       " 'Pinsky, Mrs. (Rosa)',\n",
       " 'Andersen-Jensen, Miss. Carla Christine Nielsine',\n",
       " 'Brown, Mrs. James Joseph (Margaret Tobin)',\n",
       " 'Lurette, Miss. Elise',\n",
       " 'Madigan, Miss. Margaret \"Maggie\"',\n",
       " 'Carr, Miss. Helen \"Ellen\"',\n",
       " 'Cameron, Miss. Clear Annie',\n",
       " 'Newell, Miss. Madeleine',\n",
       " 'Honkanen, Miss. Eliina',\n",
       " 'Bazzani, Miss. Albina',\n",
       " 'Harris, Mrs. Henry Birkhardt (Irene Wallach)',\n",
       " 'Asplund, Miss. Lillian Gertrud',\n",
       " 'Collyer, Miss. Marjorie \"Lottie\"',\n",
       " 'Murphy, Miss. Katherine \"Kate\"',\n",
       " 'Hamalainen, Mrs. William (Anna)',\n",
       " 'Touma, Mrs. Darwis (Hanne Youssef Razi)',\n",
       " 'Thorne, Mrs. Gertrude Maybelle',\n",
       " 'Cherry, Miss. Gladys',\n",
       " 'Ward, Miss. Anna',\n",
       " 'Parrish, Mrs. (Lutie Davis)',\n",
       " 'Graham, Mrs. William Thompson (Edith Junkins)',\n",
       " 'Bissette, Miss. Amelia',\n",
       " 'Mellinger, Mrs. (Elizabeth Anne Maidment)',\n",
       " 'Healy, Miss. Hanora \"Nora\"',\n",
       " 'Andrews, Miss. Kornelia Theodosia',\n",
       " 'Abbott, Mrs. Stanton (Rosa Hunt)',\n",
       " 'Connolly, Miss. Kate',\n",
       " 'Barber, Miss. Ellen \"Nellie\"',\n",
       " 'Bishop, Mrs. Dickinson H (Helen Walton)',\n",
       " 'Baxter, Mrs. James (Helene DeLaudeniere Chaput)',\n",
       " 'Kelly, Miss. Anna Katherine \"Annie Kate\"',\n",
       " 'Keane, Miss. Nora A',\n",
       " 'Fleming, Miss. Margaret',\n",
       " 'Penasco y Castellana, Mrs. Victor de Satode (Maria Josefa Perez de Soto y Vallejo)',\n",
       " 'Francatelli, Miss. Laura Mabel',\n",
       " 'Hays, Miss. Margaret Bechstein',\n",
       " 'Ryerson, Miss. Emily Borie',\n",
       " 'Nilsson, Miss. Helmina Josefina',\n",
       " 'Kantor, Mrs. Sinai (Miriam Sternin)',\n",
       " 'Wick, Miss. Mary Natalie',\n",
       " 'Spedden, Mrs. Frederic Oakley (Margaretta Corning Stone)',\n",
       " 'Slayter, Miss. Hilda Mary',\n",
       " 'Caldwell, Mrs. Albert Francis (Sylvia Mae Harbaugh)',\n",
       " 'Young, Miss. Marie Grice',\n",
       " 'Ball, Mrs. (Ada E Hall)',\n",
       " 'Goldsmith, Mrs. Frank John (Emily Alice Brown)',\n",
       " 'Hippach, Miss. Jean Gertrude',\n",
       " 'McCoy, Miss. Agnes',\n",
       " 'Frauenthal, Mrs. Henry William (Clara Heinsheimer)',\n",
       " 'Burns, Miss. Elizabeth Margaret',\n",
       " 'Fortune, Miss. Alice Elizabeth',\n",
       " 'Brown, Miss. Amelia \"Mildred\"',\n",
       " 'Smith, Miss. Marion Elsie',\n",
       " 'Davison, Mrs. Thomas Henry (Mary E Finck)',\n",
       " 'Bowerman, Miss. Elsie Edith',\n",
       " 'McGovern, Miss. Mary',\n",
       " 'Mockler, Miss. Helen Mary \"Ellie\"',\n",
       " 'Warren, Mrs. Frank Manley (Anna Sophia Atkinson)',\n",
       " 'Moussa, Mrs. (Mantoura Boulos)',\n",
       " 'Jermyn, Miss. Annie',\n",
       " 'Aubart, Mme. Leontine Pauline',\n",
       " 'Meyer, Mrs. Edgar Joseph (Leila Saks)',\n",
       " 'Landergren, Miss. Aurora Adelia',\n",
       " 'Bidois, Miss. Rosalie',\n",
       " 'Nakid, Miss. Maria (\"Mary\")',\n",
       " 'Holverson, Mrs. Alexander Oskar (Mary Aline Towner)',\n",
       " 'Buss, Miss. Kate',\n",
       " 'Lehmann, Miss. Bertha',\n",
       " 'Newell, Miss. Marjorie',\n",
       " 'Sandstrom, Mrs. Hjalmar (Agnes Charlotta Bengtsson)',\n",
       " 'Trout, Mrs. William H (Jessie L)',\n",
       " 'Minahan, Miss. Daisy E',\n",
       " 'Drew, Mrs. James Vivian (Lulu Thorne Christian)',\n",
       " 'Silven, Miss. Lyyli Karoliina',\n",
       " 'Clarke, Mrs. Charles V (Ada Maria Winfield)',\n",
       " 'Phillips, Miss. Kate Florence (\"Mrs Kate Louise Phillips Marshall\")',\n",
       " 'Thorneycroft, Mrs. Percival (Florence Kate White)',\n",
       " 'Louch, Mrs. Charles Alexander (Alice Adelaide Slow)',\n",
       " 'Carter, Miss. Lucile Polk',\n",
       " 'Richards, Mrs. Sidney (Emily Hocking)',\n",
       " 'Hart, Mrs. Benjamin (Esther Ada Bloomfield)',\n",
       " 'Reynaldo, Ms. Encarnacion',\n",
       " 'Mellinger, Miss. Madeleine Violet',\n",
       " 'Baclini, Miss. Marie Catherine',\n",
       " 'Kenyon, Mrs. Frederick R (Marion)',\n",
       " 'Toomey, Miss. Ellen',\n",
       " 'Baclini, Miss. Helene Barbara',\n",
       " 'West, Mrs. Edwy Arthur (Ada Mary Worth)',\n",
       " 'Jerwan, Mrs. Amin S (Marie Marthe Thuillard)',\n",
       " 'Hirvonen, Miss. Hildur E',\n",
       " 'Turkula, Mrs. (Hedwig)',\n",
       " 'Hoyt, Mrs. Frederick Maxfield (Jane Anne Forby)',\n",
       " 'Eustis, Miss. Elizabeth Mussey',\n",
       " 'Maioni, Miss. Roberta',\n",
       " 'Quick, Mrs. Frederick Charles (Jane Richards)',\n",
       " 'Rothschild, Mrs. Martin (Elizabeth L. Barrett)',\n",
       " 'Lemore, Mrs. (Amelia Milley)',\n",
       " 'Angle, Mrs. William A (Florence \"Mary\" Agnes Hughes)',\n",
       " 'Perreault, Miss. Anne',\n",
       " 'Hippach, Mrs. Louis Albert (Ida Sophia Fischer)',\n",
       " 'Ridsdale, Miss. Lucy',\n",
       " 'Quick, Miss. Phyllis May',\n",
       " 'Peter, Mrs. Catherine (Catherine Rizk)',\n",
       " 'Hart, Miss. Eva Miriam',\n",
       " 'LeRoy, Miss. Bertha',\n",
       " 'Frolicher, Miss. Hedwig Margaritha',\n",
       " 'Crosby, Miss. Harriet R',\n",
       " 'Beane, Mrs. Edward (Ethel Clarke)',\n",
       " 'Ohman, Miss. Velin',\n",
       " 'Duff Gordon, Lady. (Lucille Christiana Sutherland) (\"Mrs Morgan\")',\n",
       " 'Taussig, Mrs. Emil (Tillie Mandelbaum)',\n",
       " 'de Messemaeker, Mrs. Guillaume Joseph (Emma)',\n",
       " 'Appleton, Mrs. Edward Dale (Charlotte Lamson)',\n",
       " 'Kelly, Miss. Mary',\n",
       " 'Garside, Miss. Ethel',\n",
       " 'Silvey, Mrs. William Baird (Alice Munger)',\n",
       " 'Christy, Miss. Julie Rachel',\n",
       " 'Thayer, Mrs. John Borland (Marian Longstreth Morris)',\n",
       " 'Taussig, Miss. Ruth',\n",
       " 'Stephenson, Mrs. Walter Bertram (Martha Eustis)',\n",
       " 'Leitch, Miss. Jessie Wills',\n",
       " 'Jacobsohn, Mrs. Sidney Samuel (Amy Frances Christy)',\n",
       " 'Laroche, Mrs. Joseph (Juliette Marie Louise Lafargue)',\n",
       " 'Shutes, Miss. Elizabeth W',\n",
       " 'Murphy, Miss. Margaret Jane',\n",
       " 'Herman, Miss. Alice',\n",
       " 'Becker, Miss. Marion Louise',\n",
       " 'Longley, Miss. Gretchen Fiske',\n",
       " 'Davis, Miss. Mary',\n",
       " 'Sagesser, Mlle. Emma',\n",
       " 'Baclini, Miss. Eugenie',\n",
       " 'Stanley, Miss. Amy Zillah Elsie',\n",
       " 'Doling, Miss. Elsie',\n",
       " 'O\\'Leary, Miss. Hanora \"Norah\"',\n",
       " 'Taylor, Mrs. Elmer Zebley (Juliet Cummins Wright)',\n",
       " 'Brown, Mrs. Thomas William Solomon (Elizabeth Catherine Ford)',\n",
       " 'Turja, Miss. Anna Sofia',\n",
       " 'Madill, Miss. Georgette Alexandra',\n",
       " 'Karun, Miss. Manca',\n",
       " 'Mullens, Miss. Katherine \"Katie\"',\n",
       " 'Astor, Mrs. John Jacob (Madeleine Talmadge Force)',\n",
       " 'Kelly, Mrs. Florence \"Fannie\"',\n",
       " 'Cleaver, Miss. Alice',\n",
       " 'Mayne, Mlle. Berthe Antonine (\"Mrs de Villiers\")',\n",
       " 'Endres, Miss. Caroline Louise',\n",
       " 'Troutt, Miss. Edwina Celia \"Winnie\"',\n",
       " 'Harper, Miss. Annie Jessie \"Nina\"',\n",
       " 'Renouf, Mrs. Peter Henry (Lillian Jefferys)',\n",
       " 'Mannion, Miss. Margareth',\n",
       " 'Allen, Miss. Elisabeth Walton',\n",
       " 'Ryerson, Miss. Susan Parker \"Suzette\"',\n",
       " 'Sinkkonen, Miss. Anna',\n",
       " 'Wells, Miss. Joan',\n",
       " 'Herman, Mrs. Samuel (Jane Laver)',\n",
       " 'Rothes, the Countess. of (Lucy Noel Martha Dyer-Edwards)',\n",
       " 'Carter, Mrs. William Ernest (Lucile Polk)',\n",
       " 'Hogeboom, Mrs. John C (Anna Andrews)',\n",
       " 'Hocking, Mrs. Elizabeth (Eliza Needs)',\n",
       " 'Emanuel, Miss. Virginia Ethel',\n",
       " 'Robert, Mrs. Edward Scott (Elisabeth Walton McMillan)',\n",
       " 'Ayoub, Miss. Banoura',\n",
       " 'Dick, Mrs. Albert Adrian (Vera Gillespie)',\n",
       " 'Sjoblom, Miss. Anna Sofia',\n",
       " 'Leader, Dr. Alice (Farnham)',\n",
       " 'Osman, Mrs. Mara',\n",
       " 'Collyer, Mrs. Harvey (Charlotte Annie Tate)',\n",
       " 'Chambers, Mrs. Norman Campbell (Bertha Griggs)',\n",
       " 'Hays, Mrs. Charles Melville (Clara Jennings Gregg)',\n",
       " 'Moor, Mrs. (Beila)',\n",
       " 'Stone, Mrs. George Nelson (Martha Evelyn)',\n",
       " 'Yasbeck, Mrs. Antoni (Selini Alexander)',\n",
       " 'Compton, Miss. Sara Rebecca',\n",
       " 'Serepeca, Miss. Augusta',\n",
       " 'Goldenberg, Mrs. Samuel L (Edwiga Grabowska)',\n",
       " 'Lines, Miss. Mary Conover',\n",
       " 'Aks, Mrs. Sam (Leah Rosen)',\n",
       " 'Wick, Mrs. George Dennick (Mary Hitchcock)',\n",
       " 'Baclini, Mrs. Solomon (Latifa Qurban)',\n",
       " 'Swift, Mrs. Frederick Joel (Margaret Welles Barron)',\n",
       " 'Bystrom, Mrs. (Karolina)',\n",
       " 'Duran y More, Miss. Asuncion',\n",
       " 'Beckwith, Mrs. Richard Leonard (Sallie Monypeny)',\n",
       " 'Abelson, Mrs. Samuel (Hannah Wizosky)',\n",
       " 'Najib, Miss. Adele Kiamie \"Jane\"',\n",
       " 'Potter, Mrs. Thomas Jr (Lily Alexenia Wilson)',\n",
       " 'Shelley, Mrs. William (Imanita Parrish Hall)',\n",
       " 'Graham, Miss. Margaret Edith']"
      ]
     },
     "execution_count": 19,
     "metadata": {},
     "output_type": "execute_result"
    }
   ],
   "source": [
    "get_surviving_females(data_matrix, get_names=True)"
   ]
  },
  {
   "cell_type": "markdown",
   "metadata": {},
   "source": [
    "### PROBLEM 3: _How many people above the age of 30 died?_"
   ]
  },
  {
   "cell_type": "code",
   "execution_count": null,
   "metadata": {
    "collapsed": true
   },
   "outputs": [],
   "source": []
  },
  {
   "cell_type": "markdown",
   "metadata": {},
   "source": [
    "### PROBLEM 4: _From which embarking location did the most people survive?_"
   ]
  },
  {
   "cell_type": "code",
   "execution_count": null,
   "metadata": {
    "collapsed": true
   },
   "outputs": [],
   "source": []
  },
  {
   "cell_type": "markdown",
   "metadata": {},
   "source": [
    "---"
   ]
  },
  {
   "cell_type": "markdown",
   "metadata": {},
   "source": [
    "## SECTION 2: _Pandas_"
   ]
  },
  {
   "cell_type": "markdown",
   "metadata": {},
   "source": [
    "### INTRODUCTION: _Setting Up Our Data_"
   ]
  },
  {
   "cell_type": "code",
   "execution_count": 24,
   "metadata": {},
   "outputs": [
    {
     "data": {
      "text/html": [
       "<div>\n",
       "<style>\n",
       "    .dataframe thead tr:only-child th {\n",
       "        text-align: right;\n",
       "    }\n",
       "\n",
       "    .dataframe thead th {\n",
       "        text-align: left;\n",
       "    }\n",
       "\n",
       "    .dataframe tbody tr th {\n",
       "        vertical-align: top;\n",
       "    }\n",
       "</style>\n",
       "<table border=\"1\" class=\"dataframe\">\n",
       "  <thead>\n",
       "    <tr style=\"text-align: right;\">\n",
       "      <th></th>\n",
       "      <th>PassengerId</th>\n",
       "      <th>Survived</th>\n",
       "      <th>Pclass</th>\n",
       "      <th>Name</th>\n",
       "      <th>Sex</th>\n",
       "      <th>Age</th>\n",
       "      <th>SibSp</th>\n",
       "      <th>Parch</th>\n",
       "      <th>Ticket</th>\n",
       "      <th>Fare</th>\n",
       "      <th>Cabin</th>\n",
       "      <th>Embarked</th>\n",
       "    </tr>\n",
       "  </thead>\n",
       "  <tbody>\n",
       "    <tr>\n",
       "      <th>0</th>\n",
       "      <td>1</td>\n",
       "      <td>0</td>\n",
       "      <td>3</td>\n",
       "      <td>Braund, Mr. Owen Harris</td>\n",
       "      <td>male</td>\n",
       "      <td>22.0</td>\n",
       "      <td>1</td>\n",
       "      <td>0</td>\n",
       "      <td>A/5 21171</td>\n",
       "      <td>7.2500</td>\n",
       "      <td>NaN</td>\n",
       "      <td>S</td>\n",
       "    </tr>\n",
       "    <tr>\n",
       "      <th>1</th>\n",
       "      <td>2</td>\n",
       "      <td>1</td>\n",
       "      <td>1</td>\n",
       "      <td>Cumings, Mrs. John Bradley (Florence Briggs Th...</td>\n",
       "      <td>female</td>\n",
       "      <td>38.0</td>\n",
       "      <td>1</td>\n",
       "      <td>0</td>\n",
       "      <td>PC 17599</td>\n",
       "      <td>71.2833</td>\n",
       "      <td>C85</td>\n",
       "      <td>C</td>\n",
       "    </tr>\n",
       "    <tr>\n",
       "      <th>2</th>\n",
       "      <td>3</td>\n",
       "      <td>1</td>\n",
       "      <td>3</td>\n",
       "      <td>Heikkinen, Miss. Laina</td>\n",
       "      <td>female</td>\n",
       "      <td>26.0</td>\n",
       "      <td>0</td>\n",
       "      <td>0</td>\n",
       "      <td>STON/O2. 3101282</td>\n",
       "      <td>7.9250</td>\n",
       "      <td>NaN</td>\n",
       "      <td>S</td>\n",
       "    </tr>\n",
       "    <tr>\n",
       "      <th>3</th>\n",
       "      <td>4</td>\n",
       "      <td>1</td>\n",
       "      <td>1</td>\n",
       "      <td>Futrelle, Mrs. Jacques Heath (Lily May Peel)</td>\n",
       "      <td>female</td>\n",
       "      <td>35.0</td>\n",
       "      <td>1</td>\n",
       "      <td>0</td>\n",
       "      <td>113803</td>\n",
       "      <td>53.1000</td>\n",
       "      <td>C123</td>\n",
       "      <td>S</td>\n",
       "    </tr>\n",
       "    <tr>\n",
       "      <th>4</th>\n",
       "      <td>5</td>\n",
       "      <td>0</td>\n",
       "      <td>3</td>\n",
       "      <td>Allen, Mr. William Henry</td>\n",
       "      <td>male</td>\n",
       "      <td>35.0</td>\n",
       "      <td>0</td>\n",
       "      <td>0</td>\n",
       "      <td>373450</td>\n",
       "      <td>8.0500</td>\n",
       "      <td>NaN</td>\n",
       "      <td>S</td>\n",
       "    </tr>\n",
       "  </tbody>\n",
       "</table>\n",
       "</div>"
      ],
      "text/plain": [
       "   PassengerId  Survived  Pclass  \\\n",
       "0            1         0       3   \n",
       "1            2         1       1   \n",
       "2            3         1       3   \n",
       "3            4         1       1   \n",
       "4            5         0       3   \n",
       "\n",
       "                                                Name     Sex   Age  SibSp  \\\n",
       "0                            Braund, Mr. Owen Harris    male  22.0      1   \n",
       "1  Cumings, Mrs. John Bradley (Florence Briggs Th...  female  38.0      1   \n",
       "2                             Heikkinen, Miss. Laina  female  26.0      0   \n",
       "3       Futrelle, Mrs. Jacques Heath (Lily May Peel)  female  35.0      1   \n",
       "4                           Allen, Mr. William Henry    male  35.0      0   \n",
       "\n",
       "   Parch            Ticket     Fare Cabin Embarked  \n",
       "0      0         A/5 21171   7.2500   NaN        S  \n",
       "1      0          PC 17599  71.2833   C85        C  \n",
       "2      0  STON/O2. 3101282   7.9250   NaN        S  \n",
       "3      0            113803  53.1000  C123        S  \n",
       "4      0            373450   8.0500   NaN        S  "
      ]
     },
     "execution_count": 24,
     "metadata": {},
     "output_type": "execute_result"
    }
   ],
   "source": [
    "import pandas as pd\n",
    "\n",
    "df = pd.read_csv(PATH)\n",
    "df.head()"
   ]
  },
  {
   "cell_type": "markdown",
   "metadata": {},
   "source": [
    "### PROBLEM 1: _How many women survived aboard the Titanic?_"
   ]
  },
  {
   "cell_type": "code",
   "execution_count": 49,
   "metadata": {},
   "outputs": [],
   "source": [
    "# NOTE: Mathematical Construction\n",
    "##################################################\n",
    "# LOGIC CLAUSE 1: Sex --> female\n",
    "# LOGIC CLAUSE 2: Survived --> 1\n",
    "##################################################\n",
    "\n",
    "condition1 = (df[\"Sex\"] == \"female\")\n",
    "condition2 = (df[\"Survived\"] == 1)\n",
    "\n",
    "women_survived_df = df[condition1 & condition2]"
   ]
  },
  {
   "cell_type": "code",
   "execution_count": 52,
   "metadata": {},
   "outputs": [],
   "source": [
    "# NOTE: Iterative Construction\n",
    "women_survived_df = df[(df[\"Sex\"] == \"female\") & (df[\"Survived\"] == 1)]"
   ]
  },
  {
   "cell_type": "code",
   "execution_count": 53,
   "metadata": {},
   "outputs": [
    {
     "data": {
      "text/plain": [
       "233"
      ]
     },
     "execution_count": 53,
     "metadata": {},
     "output_type": "execute_result"
    }
   ],
   "source": [
    "len(women_survived_df)"
   ]
  },
  {
   "cell_type": "markdown",
   "metadata": {},
   "source": [
    "### PROBLEM 2: _What are the names of the surviving women of the Titanic_?"
   ]
  },
  {
   "cell_type": "code",
   "execution_count": 54,
   "metadata": {},
   "outputs": [
    {
     "data": {
      "text/plain": [
       "1      Cumings, Mrs. John Bradley (Florence Briggs Th...\n",
       "2                                 Heikkinen, Miss. Laina\n",
       "3           Futrelle, Mrs. Jacques Heath (Lily May Peel)\n",
       "8      Johnson, Mrs. Oscar W (Elisabeth Vilhelmina Berg)\n",
       "9                    Nasser, Mrs. Nicholas (Adele Achem)\n",
       "10                       Sandstrom, Miss. Marguerite Rut\n",
       "11                              Bonnell, Miss. Elizabeth\n",
       "15                      Hewlett, Mrs. (Mary D Kingcome) \n",
       "19                               Masselmani, Mrs. Fatima\n",
       "22                           McGowan, Miss. Anna \"Annie\"\n",
       "25     Asplund, Mrs. Carl Oscar (Selma Augusta Emilia...\n",
       "28                         O'Dwyer, Miss. Ellen \"Nellie\"\n",
       "31        Spencer, Mrs. William Augustus (Marie Eugenie)\n",
       "32                              Glynn, Miss. Mary Agatha\n",
       "39                           Nicola-Yarred, Miss. Jamila\n",
       "43              Laroche, Miss. Simonne Marie Anne Andree\n",
       "44                         Devaney, Miss. Margaret Delia\n",
       "47                             O'Driscoll, Miss. Bridget\n",
       "52              Harper, Mrs. Henry Sleeper (Myna Haxtun)\n",
       "53     Faunthorpe, Mrs. Lizzie (Elizabeth Anne Wilkin...\n",
       "56                                     Rugg, Miss. Emily\n",
       "58                          West, Miss. Constance Mirium\n",
       "61                                   Icard, Miss. Amelie\n",
       "66                          Nye, Mrs. (Elizabeth Ramell)\n",
       "68                       Andersson, Miss. Erna Alexandra\n",
       "79                              Dowdell, Miss. Elizabeth\n",
       "82                        McDermott, Miss. Brigdet Delia\n",
       "84                                   Ilett, Miss. Bertha\n",
       "85     Backstrom, Mrs. Karl Alfred (Maria Mathilda Gu...\n",
       "88                            Fortune, Miss. Mabel Helen\n",
       "                             ...                        \n",
       "774                Hocking, Mrs. Elizabeth (Eliza Needs)\n",
       "777                        Emanuel, Miss. Virginia Ethel\n",
       "779    Robert, Mrs. Edward Scott (Elisabeth Walton Mc...\n",
       "780                                 Ayoub, Miss. Banoura\n",
       "781            Dick, Mrs. Albert Adrian (Vera Gillespie)\n",
       "786                            Sjoblom, Miss. Anna Sofia\n",
       "796                          Leader, Dr. Alice (Farnham)\n",
       "797                                     Osman, Mrs. Mara\n",
       "801          Collyer, Mrs. Harvey (Charlotte Annie Tate)\n",
       "809       Chambers, Mrs. Norman Campbell (Bertha Griggs)\n",
       "820    Hays, Mrs. Charles Melville (Clara Jennings Gr...\n",
       "823                                   Moor, Mrs. (Beila)\n",
       "829            Stone, Mrs. George Nelson (Martha Evelyn)\n",
       "830              Yasbeck, Mrs. Antoni (Selini Alexander)\n",
       "835                          Compton, Miss. Sara Rebecca\n",
       "842                              Serepeca, Miss. Augusta\n",
       "849         Goldenberg, Mrs. Samuel L (Edwiga Grabowska)\n",
       "853                            Lines, Miss. Mary Conover\n",
       "855                           Aks, Mrs. Sam (Leah Rosen)\n",
       "856           Wick, Mrs. George Dennick (Mary Hitchcock)\n",
       "858                Baclini, Mrs. Solomon (Latifa Qurban)\n",
       "862    Swift, Mrs. Frederick Joel (Margaret Welles Ba...\n",
       "865                             Bystrom, Mrs. (Karolina)\n",
       "866                         Duran y More, Miss. Asuncion\n",
       "871     Beckwith, Mrs. Richard Leonard (Sallie Monypeny)\n",
       "874                Abelson, Mrs. Samuel (Hannah Wizosky)\n",
       "875                     Najib, Miss. Adele Kiamie \"Jane\"\n",
       "879        Potter, Mrs. Thomas Jr (Lily Alexenia Wilson)\n",
       "880         Shelley, Mrs. William (Imanita Parrish Hall)\n",
       "887                         Graham, Miss. Margaret Edith\n",
       "Name: Name, Length: 233, dtype: object"
      ]
     },
     "execution_count": 54,
     "metadata": {},
     "output_type": "execute_result"
    }
   ],
   "source": [
    "women_survived_df[\"Name\"]"
   ]
  },
  {
   "cell_type": "markdown",
   "metadata": {},
   "source": [
    "### PROBLEM 3: _How many people above the age of 30 died?_"
   ]
  },
  {
   "cell_type": "markdown",
   "metadata": {},
   "source": [
    "### PROBLEM 4: _From which embarking location did the most people survive?_"
   ]
  },
  {
   "cell_type": "code",
   "execution_count": null,
   "metadata": {
    "collapsed": true
   },
   "outputs": [],
   "source": []
  }
 ],
 "metadata": {
  "kernelspec": {
   "display_name": "Python 3",
   "language": "python",
   "name": "python3"
  },
  "language_info": {
   "codemirror_mode": {
    "name": "ipython",
    "version": 3
   },
   "file_extension": ".py",
   "mimetype": "text/x-python",
   "name": "python",
   "nbconvert_exporter": "python",
   "pygments_lexer": "ipython3",
   "version": "3.6.3"
  }
 },
 "nbformat": 4,
 "nbformat_minor": 2
}
