{
 "cells": [
  {
   "cell_type": "markdown",
   "metadata": {},
   "source": [
    "# Class 1: In-Class Notebook (_Learning to Explore Data_)"
   ]
  },
  {
   "cell_type": "markdown",
   "metadata": {},
   "source": [
    "---"
   ]
  },
  {
   "cell_type": "markdown",
   "metadata": {},
   "source": [
    "## SECTION 1: _CSV and Vanilla Python_"
   ]
  },
  {
   "cell_type": "markdown",
   "metadata": {},
   "source": [
    "### INTRODUCTION: _Setting Up Our Data_"
   ]
  },
  {
   "cell_type": "code",
   "execution_count": 2,
   "metadata": {},
   "outputs": [],
   "source": [
    "# Importing CSV library for easier CSV data file conversion (non-Pandas)\n",
    "import csv\n",
    "\n",
    "# Creating uneditable path variable pointing to Titanic dataset location\n",
    "PATH = \"../Datasets/titanic.csv\"\n",
    "\n",
    "# TODO: Write comments for the following code...\n",
    "data_matrix = list()\n",
    "with open(PATH, \"r\") as fr:\n",
    "    reader = csv.reader(fr, delimiter=\",\")\n",
    "    for row in reader:\n",
    "        data_matrix.append(row)"
   ]
  },
  {
   "cell_type": "code",
   "execution_count": 3,
   "metadata": {
    "collapsed": true
   },
   "outputs": [],
   "source": [
    "##################################################\n",
    "# INDEX VALUE 01 --> Survived\n",
    "# INDEX VALUE 03 --> Name\n",
    "# INDEX VALUE 04 --> Sex\n",
    "# INDEX VALUE 05 --> Age\n",
    "# INDEX VALUE 11 --> Embarked\n",
    "##################################################"
   ]
  },
  {
   "cell_type": "markdown",
   "metadata": {},
   "source": [
    "### PROBLEM 1: _How many women survived aboard the Titanic?_"
   ]
  },
  {
   "cell_type": "code",
   "execution_count": 4,
   "metadata": {},
   "outputs": [
    {
     "data": {
      "text/plain": [
       "233"
      ]
     },
     "execution_count": 4,
     "metadata": {},
     "output_type": "execute_result"
    }
   ],
   "source": [
    "\n",
    "def get_surviving_females(dataset, get_names=False):\n",
    "    \"\"\" Main function to get the total number or names of surviving women on the Titanic. \"\"\"\n",
    "    # first two variables, number of survivors and a list of indices\n",
    "    females_survived, indices = int(), list()\n",
    "    # \n",
    "    for iterator in range(len(dataset)):\n",
    "        if dataset[iterator][1] == \"1\" and dataset[iterator][4] == \"female\":\n",
    "            females_survived += 1\n",
    "            indices.append(iterator)\n",
    "    # If get_names is True, return the names of the women who survived the Titanic.\n",
    "    if get_names:\n",
    "        def _get_female_survivor_names(index_list):\n",
    "            \"\"\" Helper function to get the names of female survivors. \"\"\"\n",
    "            names_of_surviving_females = list()\n",
    "            for index in index_list:\n",
    "                names_of_surviving_females.append(dataset[index][3])\n",
    "            return names_of_surviving_females\n",
    "        return _get_female_survivor_names(indices)\n",
    "    # If get_names is False, return the number of women who survived the Titanic.\n",
    "    else:\n",
    "        return females_survived\n",
    "\n",
    "get_surviving_females(data_matrix)"
   ]
  },
  {
   "cell_type": "markdown",
   "metadata": {},
   "source": [
    "### PROBLEM 2:  _What are the names of the surviving women of the Titanic_?"
   ]
  },
  {
   "cell_type": "code",
   "execution_count": 5,
   "metadata": {},
   "outputs": [
    {
     "data": {
      "text/plain": [
       "['Cumings, Mrs. John Bradley (Florence Briggs Thayer)',\n",
       " 'Heikkinen, Miss. Laina',\n",
       " 'Futrelle, Mrs. Jacques Heath (Lily May Peel)',\n",
       " 'Johnson, Mrs. Oscar W (Elisabeth Vilhelmina Berg)',\n",
       " 'Nasser, Mrs. Nicholas (Adele Achem)',\n",
       " 'Sandstrom, Miss. Marguerite Rut',\n",
       " 'Bonnell, Miss. Elizabeth',\n",
       " 'Hewlett, Mrs. (Mary D Kingcome) ',\n",
       " 'Masselmani, Mrs. Fatima',\n",
       " 'McGowan, Miss. Anna \"Annie\"',\n",
       " 'Asplund, Mrs. Carl Oscar (Selma Augusta Emilia Johansson)',\n",
       " 'O\\'Dwyer, Miss. Ellen \"Nellie\"',\n",
       " 'Spencer, Mrs. William Augustus (Marie Eugenie)',\n",
       " 'Glynn, Miss. Mary Agatha',\n",
       " 'Nicola-Yarred, Miss. Jamila',\n",
       " 'Laroche, Miss. Simonne Marie Anne Andree',\n",
       " 'Devaney, Miss. Margaret Delia',\n",
       " \"O'Driscoll, Miss. Bridget\",\n",
       " 'Harper, Mrs. Henry Sleeper (Myna Haxtun)',\n",
       " 'Faunthorpe, Mrs. Lizzie (Elizabeth Anne Wilkinson)',\n",
       " 'Rugg, Miss. Emily',\n",
       " 'West, Miss. Constance Mirium',\n",
       " 'Icard, Miss. Amelie',\n",
       " 'Nye, Mrs. (Elizabeth Ramell)',\n",
       " 'Andersson, Miss. Erna Alexandra',\n",
       " 'Dowdell, Miss. Elizabeth',\n",
       " 'McDermott, Miss. Brigdet Delia',\n",
       " 'Ilett, Miss. Bertha',\n",
       " 'Backstrom, Mrs. Karl Alfred (Maria Mathilda Gustafsson)',\n",
       " 'Fortune, Miss. Mabel Helen',\n",
       " 'Doling, Mrs. John T (Ada Julia Bone)',\n",
       " 'Salkjelsvik, Miss. Anna Kristine',\n",
       " 'Moran, Miss. Bertha',\n",
       " 'Webber, Miss. Susan',\n",
       " 'Peter, Miss. Anna',\n",
       " 'Weisz, Mrs. Leopold (Mathilde Francoise Pede)',\n",
       " 'Newsom, Miss. Helen Monypeny',\n",
       " 'Nysten, Miss. Anna Sofia',\n",
       " 'Hakkarainen, Mrs. Pekka Pietari (Elin Matilda Dolck)',\n",
       " 'Pears, Mrs. Thomas (Edith Wearne)',\n",
       " 'Gilnagh, Miss. Katherine \"Katie\"',\n",
       " 'Watt, Mrs. James (Elizabeth \"Bessie\" Inglis Milne)',\n",
       " 'Chibnall, Mrs. (Edith Martha Bowerman)',\n",
       " 'Johnson, Miss. Eleanor Ileen',\n",
       " 'Kink-Heilmann, Miss. Luise Gretchen',\n",
       " 'O\\'Brien, Mrs. Thomas (Johanna \"Hannah\" Godfrey)',\n",
       " 'Pinsky, Mrs. (Rosa)',\n",
       " 'Andersen-Jensen, Miss. Carla Christine Nielsine',\n",
       " 'Brown, Mrs. James Joseph (Margaret Tobin)',\n",
       " 'Lurette, Miss. Elise',\n",
       " 'Madigan, Miss. Margaret \"Maggie\"',\n",
       " 'Carr, Miss. Helen \"Ellen\"',\n",
       " 'Cameron, Miss. Clear Annie',\n",
       " 'Newell, Miss. Madeleine',\n",
       " 'Honkanen, Miss. Eliina',\n",
       " 'Bazzani, Miss. Albina',\n",
       " 'Harris, Mrs. Henry Birkhardt (Irene Wallach)',\n",
       " 'Asplund, Miss. Lillian Gertrud',\n",
       " 'Collyer, Miss. Marjorie \"Lottie\"',\n",
       " 'Murphy, Miss. Katherine \"Kate\"',\n",
       " 'Hamalainen, Mrs. William (Anna)',\n",
       " 'Touma, Mrs. Darwis (Hanne Youssef Razi)',\n",
       " 'Thorne, Mrs. Gertrude Maybelle',\n",
       " 'Cherry, Miss. Gladys',\n",
       " 'Ward, Miss. Anna',\n",
       " 'Parrish, Mrs. (Lutie Davis)',\n",
       " 'Graham, Mrs. William Thompson (Edith Junkins)',\n",
       " 'Bissette, Miss. Amelia',\n",
       " 'Mellinger, Mrs. (Elizabeth Anne Maidment)',\n",
       " 'Healy, Miss. Hanora \"Nora\"',\n",
       " 'Andrews, Miss. Kornelia Theodosia',\n",
       " 'Abbott, Mrs. Stanton (Rosa Hunt)',\n",
       " 'Connolly, Miss. Kate',\n",
       " 'Barber, Miss. Ellen \"Nellie\"',\n",
       " 'Bishop, Mrs. Dickinson H (Helen Walton)',\n",
       " 'Baxter, Mrs. James (Helene DeLaudeniere Chaput)',\n",
       " 'Kelly, Miss. Anna Katherine \"Annie Kate\"',\n",
       " 'Keane, Miss. Nora A',\n",
       " 'Fleming, Miss. Margaret',\n",
       " 'Penasco y Castellana, Mrs. Victor de Satode (Maria Josefa Perez de Soto y Vallejo)',\n",
       " 'Francatelli, Miss. Laura Mabel',\n",
       " 'Hays, Miss. Margaret Bechstein',\n",
       " 'Ryerson, Miss. Emily Borie',\n",
       " 'Nilsson, Miss. Helmina Josefina',\n",
       " 'Kantor, Mrs. Sinai (Miriam Sternin)',\n",
       " 'Wick, Miss. Mary Natalie',\n",
       " 'Spedden, Mrs. Frederic Oakley (Margaretta Corning Stone)',\n",
       " 'Slayter, Miss. Hilda Mary',\n",
       " 'Caldwell, Mrs. Albert Francis (Sylvia Mae Harbaugh)',\n",
       " 'Young, Miss. Marie Grice',\n",
       " 'Ball, Mrs. (Ada E Hall)',\n",
       " 'Goldsmith, Mrs. Frank John (Emily Alice Brown)',\n",
       " 'Hippach, Miss. Jean Gertrude',\n",
       " 'McCoy, Miss. Agnes',\n",
       " 'Frauenthal, Mrs. Henry William (Clara Heinsheimer)',\n",
       " 'Burns, Miss. Elizabeth Margaret',\n",
       " 'Fortune, Miss. Alice Elizabeth',\n",
       " 'Brown, Miss. Amelia \"Mildred\"',\n",
       " 'Smith, Miss. Marion Elsie',\n",
       " 'Davison, Mrs. Thomas Henry (Mary E Finck)',\n",
       " 'Bowerman, Miss. Elsie Edith',\n",
       " 'McGovern, Miss. Mary',\n",
       " 'Mockler, Miss. Helen Mary \"Ellie\"',\n",
       " 'Warren, Mrs. Frank Manley (Anna Sophia Atkinson)',\n",
       " 'Moussa, Mrs. (Mantoura Boulos)',\n",
       " 'Jermyn, Miss. Annie',\n",
       " 'Aubart, Mme. Leontine Pauline',\n",
       " 'Meyer, Mrs. Edgar Joseph (Leila Saks)',\n",
       " 'Landergren, Miss. Aurora Adelia',\n",
       " 'Bidois, Miss. Rosalie',\n",
       " 'Nakid, Miss. Maria (\"Mary\")',\n",
       " 'Holverson, Mrs. Alexander Oskar (Mary Aline Towner)',\n",
       " 'Buss, Miss. Kate',\n",
       " 'Lehmann, Miss. Bertha',\n",
       " 'Newell, Miss. Marjorie',\n",
       " 'Sandstrom, Mrs. Hjalmar (Agnes Charlotta Bengtsson)',\n",
       " 'Trout, Mrs. William H (Jessie L)',\n",
       " 'Minahan, Miss. Daisy E',\n",
       " 'Drew, Mrs. James Vivian (Lulu Thorne Christian)',\n",
       " 'Silven, Miss. Lyyli Karoliina',\n",
       " 'Clarke, Mrs. Charles V (Ada Maria Winfield)',\n",
       " 'Phillips, Miss. Kate Florence (\"Mrs Kate Louise Phillips Marshall\")',\n",
       " 'Thorneycroft, Mrs. Percival (Florence Kate White)',\n",
       " 'Louch, Mrs. Charles Alexander (Alice Adelaide Slow)',\n",
       " 'Carter, Miss. Lucile Polk',\n",
       " 'Richards, Mrs. Sidney (Emily Hocking)',\n",
       " 'Hart, Mrs. Benjamin (Esther Ada Bloomfield)',\n",
       " 'Reynaldo, Ms. Encarnacion',\n",
       " 'Mellinger, Miss. Madeleine Violet',\n",
       " 'Baclini, Miss. Marie Catherine',\n",
       " 'Kenyon, Mrs. Frederick R (Marion)',\n",
       " 'Toomey, Miss. Ellen',\n",
       " 'Baclini, Miss. Helene Barbara',\n",
       " 'West, Mrs. Edwy Arthur (Ada Mary Worth)',\n",
       " 'Jerwan, Mrs. Amin S (Marie Marthe Thuillard)',\n",
       " 'Hirvonen, Miss. Hildur E',\n",
       " 'Turkula, Mrs. (Hedwig)',\n",
       " 'Hoyt, Mrs. Frederick Maxfield (Jane Anne Forby)',\n",
       " 'Eustis, Miss. Elizabeth Mussey',\n",
       " 'Maioni, Miss. Roberta',\n",
       " 'Quick, Mrs. Frederick Charles (Jane Richards)',\n",
       " 'Rothschild, Mrs. Martin (Elizabeth L. Barrett)',\n",
       " 'Lemore, Mrs. (Amelia Milley)',\n",
       " 'Angle, Mrs. William A (Florence \"Mary\" Agnes Hughes)',\n",
       " 'Perreault, Miss. Anne',\n",
       " 'Hippach, Mrs. Louis Albert (Ida Sophia Fischer)',\n",
       " 'Ridsdale, Miss. Lucy',\n",
       " 'Quick, Miss. Phyllis May',\n",
       " 'Peter, Mrs. Catherine (Catherine Rizk)',\n",
       " 'Hart, Miss. Eva Miriam',\n",
       " 'LeRoy, Miss. Bertha',\n",
       " 'Frolicher, Miss. Hedwig Margaritha',\n",
       " 'Crosby, Miss. Harriet R',\n",
       " 'Beane, Mrs. Edward (Ethel Clarke)',\n",
       " 'Ohman, Miss. Velin',\n",
       " 'Duff Gordon, Lady. (Lucille Christiana Sutherland) (\"Mrs Morgan\")',\n",
       " 'Taussig, Mrs. Emil (Tillie Mandelbaum)',\n",
       " 'de Messemaeker, Mrs. Guillaume Joseph (Emma)',\n",
       " 'Appleton, Mrs. Edward Dale (Charlotte Lamson)',\n",
       " 'Kelly, Miss. Mary',\n",
       " 'Garside, Miss. Ethel',\n",
       " 'Silvey, Mrs. William Baird (Alice Munger)',\n",
       " 'Christy, Miss. Julie Rachel',\n",
       " 'Thayer, Mrs. John Borland (Marian Longstreth Morris)',\n",
       " 'Taussig, Miss. Ruth',\n",
       " 'Stephenson, Mrs. Walter Bertram (Martha Eustis)',\n",
       " 'Leitch, Miss. Jessie Wills',\n",
       " 'Jacobsohn, Mrs. Sidney Samuel (Amy Frances Christy)',\n",
       " 'Laroche, Mrs. Joseph (Juliette Marie Louise Lafargue)',\n",
       " 'Shutes, Miss. Elizabeth W',\n",
       " 'Murphy, Miss. Margaret Jane',\n",
       " 'Herman, Miss. Alice',\n",
       " 'Becker, Miss. Marion Louise',\n",
       " 'Longley, Miss. Gretchen Fiske',\n",
       " 'Davis, Miss. Mary',\n",
       " 'Sagesser, Mlle. Emma',\n",
       " 'Baclini, Miss. Eugenie',\n",
       " 'Stanley, Miss. Amy Zillah Elsie',\n",
       " 'Doling, Miss. Elsie',\n",
       " 'O\\'Leary, Miss. Hanora \"Norah\"',\n",
       " 'Taylor, Mrs. Elmer Zebley (Juliet Cummins Wright)',\n",
       " 'Brown, Mrs. Thomas William Solomon (Elizabeth Catherine Ford)',\n",
       " 'Turja, Miss. Anna Sofia',\n",
       " 'Madill, Miss. Georgette Alexandra',\n",
       " 'Karun, Miss. Manca',\n",
       " 'Mullens, Miss. Katherine \"Katie\"',\n",
       " 'Astor, Mrs. John Jacob (Madeleine Talmadge Force)',\n",
       " 'Kelly, Mrs. Florence \"Fannie\"',\n",
       " 'Cleaver, Miss. Alice',\n",
       " 'Mayne, Mlle. Berthe Antonine (\"Mrs de Villiers\")',\n",
       " 'Endres, Miss. Caroline Louise',\n",
       " 'Troutt, Miss. Edwina Celia \"Winnie\"',\n",
       " 'Harper, Miss. Annie Jessie \"Nina\"',\n",
       " 'Renouf, Mrs. Peter Henry (Lillian Jefferys)',\n",
       " 'Mannion, Miss. Margareth',\n",
       " 'Allen, Miss. Elisabeth Walton',\n",
       " 'Ryerson, Miss. Susan Parker \"Suzette\"',\n",
       " 'Sinkkonen, Miss. Anna',\n",
       " 'Wells, Miss. Joan',\n",
       " 'Herman, Mrs. Samuel (Jane Laver)',\n",
       " 'Rothes, the Countess. of (Lucy Noel Martha Dyer-Edwards)',\n",
       " 'Carter, Mrs. William Ernest (Lucile Polk)',\n",
       " 'Hogeboom, Mrs. John C (Anna Andrews)',\n",
       " 'Hocking, Mrs. Elizabeth (Eliza Needs)',\n",
       " 'Emanuel, Miss. Virginia Ethel',\n",
       " 'Robert, Mrs. Edward Scott (Elisabeth Walton McMillan)',\n",
       " 'Ayoub, Miss. Banoura',\n",
       " 'Dick, Mrs. Albert Adrian (Vera Gillespie)',\n",
       " 'Sjoblom, Miss. Anna Sofia',\n",
       " 'Leader, Dr. Alice (Farnham)',\n",
       " 'Osman, Mrs. Mara',\n",
       " 'Collyer, Mrs. Harvey (Charlotte Annie Tate)',\n",
       " 'Chambers, Mrs. Norman Campbell (Bertha Griggs)',\n",
       " 'Hays, Mrs. Charles Melville (Clara Jennings Gregg)',\n",
       " 'Moor, Mrs. (Beila)',\n",
       " 'Stone, Mrs. George Nelson (Martha Evelyn)',\n",
       " 'Yasbeck, Mrs. Antoni (Selini Alexander)',\n",
       " 'Compton, Miss. Sara Rebecca',\n",
       " 'Serepeca, Miss. Augusta',\n",
       " 'Goldenberg, Mrs. Samuel L (Edwiga Grabowska)',\n",
       " 'Lines, Miss. Mary Conover',\n",
       " 'Aks, Mrs. Sam (Leah Rosen)',\n",
       " 'Wick, Mrs. George Dennick (Mary Hitchcock)',\n",
       " 'Baclini, Mrs. Solomon (Latifa Qurban)',\n",
       " 'Swift, Mrs. Frederick Joel (Margaret Welles Barron)',\n",
       " 'Bystrom, Mrs. (Karolina)',\n",
       " 'Duran y More, Miss. Asuncion',\n",
       " 'Beckwith, Mrs. Richard Leonard (Sallie Monypeny)',\n",
       " 'Abelson, Mrs. Samuel (Hannah Wizosky)',\n",
       " 'Najib, Miss. Adele Kiamie \"Jane\"',\n",
       " 'Potter, Mrs. Thomas Jr (Lily Alexenia Wilson)',\n",
       " 'Shelley, Mrs. William (Imanita Parrish Hall)',\n",
       " 'Graham, Miss. Margaret Edith']"
      ]
     },
     "execution_count": 5,
     "metadata": {},
     "output_type": "execute_result"
    }
   ],
   "source": [
    "get_surviving_females(data_matrix, get_names=True)"
   ]
  },
  {
   "cell_type": "markdown",
   "metadata": {},
   "source": [
    "### PROBLEM 3: _How many people above the age of 30 died?_ and _What was the name of those people_?"
   ]
  },
  {
   "cell_type": "code",
   "execution_count": 8,
   "metadata": {
    "collapsed": true
   },
   "outputs": [],
   "source": [
    "##################################################\n",
    "# INDEX VALUE 01 --> Survived\n",
    "# INDEX VALUE 03 --> Name\n",
    "# INDEX VALUE 04 --> Sex\n",
    "# INDEX VALUE 05 --> Age\n",
    "# INDEX VALUE 11 --> Embarked\n",
    "##################################################"
   ]
  },
  {
   "cell_type": "code",
   "execution_count": 19,
   "metadata": {},
   "outputs": [
    {
     "data": {
      "text/plain": [
       "0"
      ]
     },
     "execution_count": 19,
     "metadata": {},
     "output_type": "execute_result"
    }
   ],
   "source": [
    "# I have to get the number of all the people above the age of 30 that survived,\n",
    "# \n",
    "def people_above_30_died(titanic_dataset):\n",
    "    '''  '''\n",
    "    people_above_30_dead, indices = int(), list()\n",
    "    \n",
    "    for iterator in range(len(titanic_dataset)):\n",
    "        # Its\n",
    "        if titanic_dataset[iterator][2] == \"0\" and int(titanic_dataset[iterator][6]) >= 30:\n",
    "            people_above_30_dead += 1\n",
    "            indices.append(iterator)\n",
    "    return people_above_30_dead\n",
    "#    if get_names:\n",
    "\n",
    "people_above_30_died(data_matrix)\n"
   ]
  },
  {
   "cell_type": "markdown",
   "metadata": {},
   "source": [
    "### PROBLEM 4: _From which embarking location did the most people survive?_"
   ]
  },
  {
   "cell_type": "code",
   "execution_count": null,
   "metadata": {
    "collapsed": true
   },
   "outputs": [],
   "source": []
  },
  {
   "cell_type": "markdown",
   "metadata": {},
   "source": [
    "---"
   ]
  },
  {
   "cell_type": "markdown",
   "metadata": {},
   "source": [
    "## SECTION 2: _Pandas_"
   ]
  },
  {
   "cell_type": "markdown",
   "metadata": {},
   "source": [
    "### INTRODUCTION: _Setting Up Our Data_"
   ]
  },
  {
   "cell_type": "code",
   "execution_count": 21,
   "metadata": {},
   "outputs": [
    {
     "data": {
      "text/html": [
       "<div>\n",
       "<style>\n",
       "    .dataframe thead tr:only-child th {\n",
       "        text-align: right;\n",
       "    }\n",
       "\n",
       "    .dataframe thead th {\n",
       "        text-align: left;\n",
       "    }\n",
       "\n",
       "    .dataframe tbody tr th {\n",
       "        vertical-align: top;\n",
       "    }\n",
       "</style>\n",
       "<table border=\"1\" class=\"dataframe\">\n",
       "  <thead>\n",
       "    <tr style=\"text-align: right;\">\n",
       "      <th></th>\n",
       "      <th>PassengerId</th>\n",
       "      <th>Survived</th>\n",
       "      <th>Pclass</th>\n",
       "      <th>Name</th>\n",
       "      <th>Sex</th>\n",
       "      <th>Age</th>\n",
       "      <th>SibSp</th>\n",
       "      <th>Parch</th>\n",
       "      <th>Ticket</th>\n",
       "      <th>Fare</th>\n",
       "      <th>Cabin</th>\n",
       "      <th>Embarked</th>\n",
       "    </tr>\n",
       "  </thead>\n",
       "  <tbody>\n",
       "    <tr>\n",
       "      <th>886</th>\n",
       "      <td>887</td>\n",
       "      <td>0</td>\n",
       "      <td>2</td>\n",
       "      <td>Montvila, Rev. Juozas</td>\n",
       "      <td>male</td>\n",
       "      <td>27.0</td>\n",
       "      <td>0</td>\n",
       "      <td>0</td>\n",
       "      <td>211536</td>\n",
       "      <td>13.00</td>\n",
       "      <td>NaN</td>\n",
       "      <td>S</td>\n",
       "    </tr>\n",
       "    <tr>\n",
       "      <th>887</th>\n",
       "      <td>888</td>\n",
       "      <td>1</td>\n",
       "      <td>1</td>\n",
       "      <td>Graham, Miss. Margaret Edith</td>\n",
       "      <td>female</td>\n",
       "      <td>19.0</td>\n",
       "      <td>0</td>\n",
       "      <td>0</td>\n",
       "      <td>112053</td>\n",
       "      <td>30.00</td>\n",
       "      <td>B42</td>\n",
       "      <td>S</td>\n",
       "    </tr>\n",
       "    <tr>\n",
       "      <th>888</th>\n",
       "      <td>889</td>\n",
       "      <td>0</td>\n",
       "      <td>3</td>\n",
       "      <td>Johnston, Miss. Catherine Helen \"Carrie\"</td>\n",
       "      <td>female</td>\n",
       "      <td>NaN</td>\n",
       "      <td>1</td>\n",
       "      <td>2</td>\n",
       "      <td>W./C. 6607</td>\n",
       "      <td>23.45</td>\n",
       "      <td>NaN</td>\n",
       "      <td>S</td>\n",
       "    </tr>\n",
       "    <tr>\n",
       "      <th>889</th>\n",
       "      <td>890</td>\n",
       "      <td>1</td>\n",
       "      <td>1</td>\n",
       "      <td>Behr, Mr. Karl Howell</td>\n",
       "      <td>male</td>\n",
       "      <td>26.0</td>\n",
       "      <td>0</td>\n",
       "      <td>0</td>\n",
       "      <td>111369</td>\n",
       "      <td>30.00</td>\n",
       "      <td>C148</td>\n",
       "      <td>C</td>\n",
       "    </tr>\n",
       "    <tr>\n",
       "      <th>890</th>\n",
       "      <td>891</td>\n",
       "      <td>0</td>\n",
       "      <td>3</td>\n",
       "      <td>Dooley, Mr. Patrick</td>\n",
       "      <td>male</td>\n",
       "      <td>32.0</td>\n",
       "      <td>0</td>\n",
       "      <td>0</td>\n",
       "      <td>370376</td>\n",
       "      <td>7.75</td>\n",
       "      <td>NaN</td>\n",
       "      <td>Q</td>\n",
       "    </tr>\n",
       "  </tbody>\n",
       "</table>\n",
       "</div>"
      ],
      "text/plain": [
       "     PassengerId  Survived  Pclass                                      Name  \\\n",
       "886          887         0       2                     Montvila, Rev. Juozas   \n",
       "887          888         1       1              Graham, Miss. Margaret Edith   \n",
       "888          889         0       3  Johnston, Miss. Catherine Helen \"Carrie\"   \n",
       "889          890         1       1                     Behr, Mr. Karl Howell   \n",
       "890          891         0       3                       Dooley, Mr. Patrick   \n",
       "\n",
       "        Sex   Age  SibSp  Parch      Ticket   Fare Cabin Embarked  \n",
       "886    male  27.0      0      0      211536  13.00   NaN        S  \n",
       "887  female  19.0      0      0      112053  30.00   B42        S  \n",
       "888  female   NaN      1      2  W./C. 6607  23.45   NaN        S  \n",
       "889    male  26.0      0      0      111369  30.00  C148        C  \n",
       "890    male  32.0      0      0      370376   7.75   NaN        Q  "
      ]
     },
     "execution_count": 21,
     "metadata": {},
     "output_type": "execute_result"
    }
   ],
   "source": [
    "import pandas as pd\n",
    "\n",
    "df = pd.read_csv(PATH)\n",
    "df.tail()"
   ]
  },
  {
   "cell_type": "markdown",
   "metadata": {},
   "source": [
    "### PROBLEM 1: _How many women survived aboard the Titanic?_"
   ]
  },
  {
   "cell_type": "code",
   "execution_count": 22,
   "metadata": {
    "collapsed": true
   },
   "outputs": [],
   "source": [
    "# NOTE: Mathematical Construction\n",
    "##################################################\n",
    "# LOGIC CLAUSE 1: Sex --> female\n",
    "# LOGIC CLAUSE 2: Survived --> 1\n",
    "##################################################\n",
    "\n",
    "condition1 = (df[\"Sex\"] == \"female\")\n",
    "condition2 = (df[\"Survived\"] == 1)\n",
    "\n",
    "women_survived_df = df[condition1 & condition2]"
   ]
  },
  {
   "cell_type": "code",
   "execution_count": 23,
   "metadata": {
    "collapsed": true
   },
   "outputs": [],
   "source": [
    "# NOTE: Iterative Construction\n",
    "women_survived_df = df[(df[\"Sex\"] == \"female\") & (df[\"Survived\"] == 1)]"
   ]
  },
  {
   "cell_type": "code",
   "execution_count": 24,
   "metadata": {},
   "outputs": [
    {
     "data": {
      "text/plain": [
       "233"
      ]
     },
     "execution_count": 24,
     "metadata": {},
     "output_type": "execute_result"
    }
   ],
   "source": [
    "len(women_survived_df)"
   ]
  },
  {
   "cell_type": "markdown",
   "metadata": {},
   "source": [
    "### PROBLEM 2: _What are the names of the surviving women of the Titanic_?"
   ]
  },
  {
   "cell_type": "code",
   "execution_count": 25,
   "metadata": {},
   "outputs": [
    {
     "data": {
      "text/plain": [
       "1      Cumings, Mrs. John Bradley (Florence Briggs Th...\n",
       "2                                 Heikkinen, Miss. Laina\n",
       "3           Futrelle, Mrs. Jacques Heath (Lily May Peel)\n",
       "8      Johnson, Mrs. Oscar W (Elisabeth Vilhelmina Berg)\n",
       "9                    Nasser, Mrs. Nicholas (Adele Achem)\n",
       "10                       Sandstrom, Miss. Marguerite Rut\n",
       "11                              Bonnell, Miss. Elizabeth\n",
       "15                      Hewlett, Mrs. (Mary D Kingcome) \n",
       "19                               Masselmani, Mrs. Fatima\n",
       "22                           McGowan, Miss. Anna \"Annie\"\n",
       "25     Asplund, Mrs. Carl Oscar (Selma Augusta Emilia...\n",
       "28                         O'Dwyer, Miss. Ellen \"Nellie\"\n",
       "31        Spencer, Mrs. William Augustus (Marie Eugenie)\n",
       "32                              Glynn, Miss. Mary Agatha\n",
       "39                           Nicola-Yarred, Miss. Jamila\n",
       "43              Laroche, Miss. Simonne Marie Anne Andree\n",
       "44                         Devaney, Miss. Margaret Delia\n",
       "47                             O'Driscoll, Miss. Bridget\n",
       "52              Harper, Mrs. Henry Sleeper (Myna Haxtun)\n",
       "53     Faunthorpe, Mrs. Lizzie (Elizabeth Anne Wilkin...\n",
       "56                                     Rugg, Miss. Emily\n",
       "58                          West, Miss. Constance Mirium\n",
       "61                                   Icard, Miss. Amelie\n",
       "66                          Nye, Mrs. (Elizabeth Ramell)\n",
       "68                       Andersson, Miss. Erna Alexandra\n",
       "79                              Dowdell, Miss. Elizabeth\n",
       "82                        McDermott, Miss. Brigdet Delia\n",
       "84                                   Ilett, Miss. Bertha\n",
       "85     Backstrom, Mrs. Karl Alfred (Maria Mathilda Gu...\n",
       "88                            Fortune, Miss. Mabel Helen\n",
       "                             ...                        \n",
       "774                Hocking, Mrs. Elizabeth (Eliza Needs)\n",
       "777                        Emanuel, Miss. Virginia Ethel\n",
       "779    Robert, Mrs. Edward Scott (Elisabeth Walton Mc...\n",
       "780                                 Ayoub, Miss. Banoura\n",
       "781            Dick, Mrs. Albert Adrian (Vera Gillespie)\n",
       "786                            Sjoblom, Miss. Anna Sofia\n",
       "796                          Leader, Dr. Alice (Farnham)\n",
       "797                                     Osman, Mrs. Mara\n",
       "801          Collyer, Mrs. Harvey (Charlotte Annie Tate)\n",
       "809       Chambers, Mrs. Norman Campbell (Bertha Griggs)\n",
       "820    Hays, Mrs. Charles Melville (Clara Jennings Gr...\n",
       "823                                   Moor, Mrs. (Beila)\n",
       "829            Stone, Mrs. George Nelson (Martha Evelyn)\n",
       "830              Yasbeck, Mrs. Antoni (Selini Alexander)\n",
       "835                          Compton, Miss. Sara Rebecca\n",
       "842                              Serepeca, Miss. Augusta\n",
       "849         Goldenberg, Mrs. Samuel L (Edwiga Grabowska)\n",
       "853                            Lines, Miss. Mary Conover\n",
       "855                           Aks, Mrs. Sam (Leah Rosen)\n",
       "856           Wick, Mrs. George Dennick (Mary Hitchcock)\n",
       "858                Baclini, Mrs. Solomon (Latifa Qurban)\n",
       "862    Swift, Mrs. Frederick Joel (Margaret Welles Ba...\n",
       "865                             Bystrom, Mrs. (Karolina)\n",
       "866                         Duran y More, Miss. Asuncion\n",
       "871     Beckwith, Mrs. Richard Leonard (Sallie Monypeny)\n",
       "874                Abelson, Mrs. Samuel (Hannah Wizosky)\n",
       "875                     Najib, Miss. Adele Kiamie \"Jane\"\n",
       "879        Potter, Mrs. Thomas Jr (Lily Alexenia Wilson)\n",
       "880         Shelley, Mrs. William (Imanita Parrish Hall)\n",
       "887                         Graham, Miss. Margaret Edith\n",
       "Name: Name, Length: 233, dtype: object"
      ]
     },
     "execution_count": 25,
     "metadata": {},
     "output_type": "execute_result"
    }
   ],
   "source": [
    "women_survived_df[\"Name\"]"
   ]
  },
  {
   "cell_type": "markdown",
   "metadata": {},
   "source": [
    "### PROBLEM 3: _How many people above the age of 30 died?_"
   ]
  },
  {
   "cell_type": "code",
   "execution_count": 31,
   "metadata": {},
   "outputs": [
    {
     "data": {
      "text/plain": [
       "134"
      ]
     },
     "execution_count": 31,
     "metadata": {},
     "output_type": "execute_result"
    }
   ],
   "source": [
    "\n",
    "# NOTE: Iterative Construction\n",
    "#women_survived_df = df[(df[\"Sex\"] == \"female\") & (df[\"Survived\"] == 1)]\n",
    "\n",
    "# Must be above 30 \n",
    "condition_above_30_df = (df[\"Survived\"] == 1)\n",
    "# Must be alive\n",
    "condition_survived_df = (df[\"Age\"] >= 30)\n",
    "\n",
    "people_above_30_survived_df = df[condition_above_30_df & condition_survived_df]\n",
    "\n",
    "len(people_above_30_survived_df)"
   ]
  },
  {
   "cell_type": "code",
   "execution_count": 37,
   "metadata": {},
   "outputs": [],
   "source": [
    "people_above_30_survived_df = df[(df[\"Survived\"] == 1) & (df[\"Age\"] >= 30)]"
   ]
  },
  {
   "cell_type": "code",
   "execution_count": 39,
   "metadata": {},
   "outputs": [
    {
     "data": {
      "text/plain": [
       "1      Cumings, Mrs. John Bradley (Florence Briggs Th...\n",
       "3           Futrelle, Mrs. Jacques Heath (Lily May Peel)\n",
       "11                              Bonnell, Miss. Elizabeth\n",
       "15                      Hewlett, Mrs. (Mary D Kingcome) \n",
       "21                                 Beesley, Mr. Lawrence\n",
       "25     Asplund, Mrs. Carl Oscar (Selma Augusta Emilia...\n",
       "52              Harper, Mrs. Henry Sleeper (Myna Haxtun)\n",
       "61                                   Icard, Miss. Amelie\n",
       "74                                         Bing, Mr. Lee\n",
       "79                              Dowdell, Miss. Elizabeth\n",
       "85     Backstrom, Mrs. Karl Alfred (Maria Mathilda Gu...\n",
       "98                  Doling, Mrs. John T (Ada Julia Bone)\n",
       "123                                  Webber, Miss. Susan\n",
       "161    Watt, Mrs. James (Elizabeth \"Bessie\" Inglis Mi...\n",
       "187        Romaine, Mr. Charles Hallace (\"Mr C Rolmane\")\n",
       "190                                  Pinsky, Mrs. (Rosa)\n",
       "194            Brown, Mrs. James Joseph (Margaret Tobin)\n",
       "195                                 Lurette, Miss. Elise\n",
       "209                                     Blank, Mr. Henry\n",
       "211                           Cameron, Miss. Clear Annie\n",
       "215                              Newell, Miss. Madeleine\n",
       "218                                Bazzani, Miss. Albina\n",
       "224                         Hoyt, Mr. Frederick Maxfield\n",
       "230         Harris, Mrs. Henry Birkhardt (Irene Wallach)\n",
       "248                        Beckwith, Mr. Richard Leonard\n",
       "257                                 Cherry, Miss. Gladys\n",
       "258                                     Ward, Miss. Anna\n",
       "259                          Parrish, Mrs. (Lutie Davis)\n",
       "268        Graham, Mrs. William Thompson (Edith Junkins)\n",
       "269                               Bissette, Miss. Amelia\n",
       "                             ...                        \n",
       "701                     Silverthorne, Mr. Spencer Victor\n",
       "706                        Kelly, Mrs. Florence \"Fannie\"\n",
       "707                    Calderhead, Mr. Edward Pennington\n",
       "712                             Taylor, Mr. Elmer Zebley\n",
       "716                        Endres, Miss. Caroline Louise\n",
       "726          Renouf, Mrs. Peter Henry (Lillian Jefferys)\n",
       "737                               Lesurer, Mr. Gustave J\n",
       "744                                   Stranden, Mr. Juho\n",
       "747                                Sinkkonen, Miss. Anna\n",
       "754                     Herman, Mrs. Samuel (Jane Laver)\n",
       "759    Rothes, the Countess. of (Lucy Noel Martha Dye...\n",
       "763            Carter, Mrs. William Ernest (Lucile Polk)\n",
       "765                 Hogeboom, Mrs. John C (Anna Andrews)\n",
       "774                Hocking, Mrs. Elizabeth (Eliza Needs)\n",
       "779    Robert, Mrs. Edward Scott (Elisabeth Walton Mc...\n",
       "796                          Leader, Dr. Alice (Farnham)\n",
       "797                                     Osman, Mrs. Mara\n",
       "801          Collyer, Mrs. Harvey (Charlotte Annie Tate)\n",
       "809       Chambers, Mrs. Norman Campbell (Bertha Griggs)\n",
       "820    Hays, Mrs. Charles Melville (Clara Jennings Gr...\n",
       "829            Stone, Mrs. George Nelson (Martha Evelyn)\n",
       "835                          Compton, Miss. Sara Rebecca\n",
       "838                                      Chip, Mr. Chang\n",
       "842                              Serepeca, Miss. Augusta\n",
       "856           Wick, Mrs. George Dennick (Mary Hitchcock)\n",
       "857                               Daly, Mr. Peter Denis \n",
       "862    Swift, Mrs. Frederick Joel (Margaret Welles Ba...\n",
       "865                             Bystrom, Mrs. (Karolina)\n",
       "871     Beckwith, Mrs. Richard Leonard (Sallie Monypeny)\n",
       "879        Potter, Mrs. Thomas Jr (Lily Alexenia Wilson)\n",
       "Name: Name, Length: 134, dtype: object"
      ]
     },
     "execution_count": 39,
     "metadata": {},
     "output_type": "execute_result"
    }
   ],
   "source": [
    "people_above_30_survived_df[\"Name\"]"
   ]
  },
  {
   "cell_type": "markdown",
   "metadata": {},
   "source": [
    "### PROBLEM 4: _From which embarking location did the most people survive?_"
   ]
  },
  {
   "cell_type": "code",
   "execution_count": null,
   "metadata": {
    "collapsed": true
   },
   "outputs": [],
   "source": []
  }
 ],
 "metadata": {
  "kernelspec": {
   "display_name": "Python 3",
   "language": "python",
   "name": "python3"
  }
 },
 "nbformat": 4,
 "nbformat_minor": 2
}
