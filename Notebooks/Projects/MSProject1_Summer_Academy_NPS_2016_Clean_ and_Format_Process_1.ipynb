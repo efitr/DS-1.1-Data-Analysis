{
 "cells": [
  {
   "cell_type": "markdown",
   "metadata": {},
   "source": [
    "## Step1 - Get the 2016 information dataset to a point where they can be compared with 2017 datasets."
   ]
  },
  {
   "cell_type": "markdown",
   "metadata": {
    "collapsed": true
   },
   "source": [
    "## Action Plan\n",
    "__1.__ See each file and check the quality of each CSV file.\n",
    "    \n",
    "    1.1. Count the number of data points.\n",
    "    \n",
    "    1.2. Make a set with each week features.\n",
    "    \n",
    "    \n",
    "__2.__ Make a coherent for each week format that mixes all the locations features according from which is the first week they started and ended.\n",
    "\n",
    "\n",
    "__3.__ Make the format grow mixing same week with different locations, mixing all weeks into a bigger format with all locations."
   ]
  },
  {
   "cell_type": "markdown",
   "metadata": {},
   "source": [
    "**Note:** _Each number in the action plan that is a decimal is an extra step that is optional and not necesarilly been done_"
   ]
  },
  {
   "cell_type": "markdown",
   "metadata": {},
   "source": [
    "---"
   ]
  },
  {
   "cell_type": "markdown",
   "metadata": {},
   "source": [
    "### File list\n",
    "* 2016\n",
    "    1. Anon Week 1 Feedback - LA.csv\n",
    "    2. Anon Week 1 Feedback - NY.csv\n",
    "    3. Anon Week 1 Feedback - SF.csv\n",
    "    4. Anon Week 1 Feedback - SV.csv\n",
    "    5. Anon Week 1 Feedback - Singapore.csv\n",
    "    6. Anon Week 2 Feedback - LA.csv\n",
    "    7. Anon Week 2 Feedback - NY.csv\n",
    "    8. Anon Week 2 Feedback - SF.csv\n",
    "    9. Anon Week 2 Feedback - SG.csv\n",
    "    10. Anon Week 2 Feedback - SV.csv\n",
    "    11. Anon Week 3 Feedback - LA.csv\n",
    "    12. Anon Week 3 Feedback - NY.csv\n",
    "    13. Anon Week 3 Feedback - SF.csv\n",
    "    14. Anon Week 3 Feedback - SG.csv\n",
    "    15. Anon Week 3 Feedback - SV.csv\n",
    "    16. Anon Week 4 Feedback - LA.csv\n",
    "    17. Anon Week 4 Feedback - NY.csv\n",
    "    18. Anon Week 4 Feedback - SF.csv\n",
    "    19. Anon Week 4 Feedback - SG.csv\n",
    "    20. Anon Week 4 Feedback - SV.csv\n",
    "    21. Anon Week 5 Feedback - HK.csv\n",
    "    22. Anon Week 5 Feedback - LA.csv\n",
    "    23. Anon Week 5 Feedback - NY.csv\n",
    "    24. Anon Week 5 Feedback - SF.csv\n",
    "    25. Anon Week 5 Feedback - SG.csv\n",
    "    26. Anon Week 5 Feedback - SV.csv\n",
    "    27. Anon Week 6 Feedback - HK.csv\n",
    "    28. Anon Week 6 Feedback - LA.csv\n",
    "    29. Anon Week 6 Feedback - NY.csv\n",
    "    30. Anon Week 6 Feedback - SF.csv\n",
    "    31. Anon Week 6 Feedback - SG.csv\n",
    "    32. Anon Week 6 Feedback - SV.csv\n",
    "    33. Anon Week 6 Feedback - Taipei.csv\n",
    "    34. Anon Week 6 Feedback - Tokyo.csv\n",
    "    35. Anon Week 7 Feedback - LA.csv\n",
    "    36. Anon Week 7 Feedback - NY.csv\n",
    "    37. Anon Week 7 Feedback - SF.csv\n",
    "    38. Anon Week 7 Feedback - SV.csv\n",
    "    39. Anon Week 7 Feedback - Taipei.csv\n",
    "    40. Week 8 Feedback (2016, incomplete) - results.csv\n",
    "    \n"
   ]
  },
  {
   "cell_type": "markdown",
   "metadata": {},
   "source": [
    "## Why this step?\n",
    "* See if all the different csv files have the same features."
   ]
  },
  {
   "cell_type": "markdown",
   "metadata": {},
   "source": [
    "### Step1"
   ]
  },
  {
   "cell_type": "code",
   "execution_count": 512,
   "metadata": {},
   "outputs": [],
   "source": [
    "import pandas as pd\n",
    "import numpy as np"
   ]
  },
  {
   "cell_type": "code",
   "execution_count": 47,
   "metadata": {},
   "outputs": [
    {
     "data": {
      "text/plain": [
       "'/Users/egonfiedler/Coding/DataScience/DS-1.1-Data-Analysis/Notebooks/Projects'"
      ]
     },
     "execution_count": 47,
     "metadata": {},
     "output_type": "execute_result"
    }
   ],
   "source": [
    "pwd"
   ]
  },
  {
   "cell_type": "markdown",
   "metadata": {},
   "source": [
    "## Week1"
   ]
  },
  {
   "cell_type": "code",
   "execution_count": 355,
   "metadata": {},
   "outputs": [
    {
     "data": {
      "text/html": [
       "<div>\n",
       "<style scoped>\n",
       "    .dataframe tbody tr th:only-of-type {\n",
       "        vertical-align: middle;\n",
       "    }\n",
       "\n",
       "    .dataframe tbody tr th {\n",
       "        vertical-align: top;\n",
       "    }\n",
       "\n",
       "    .dataframe thead th {\n",
       "        text-align: right;\n",
       "    }\n",
       "</style>\n",
       "<table border=\"1\" class=\"dataframe\">\n",
       "  <thead>\n",
       "    <tr style=\"text-align: right;\">\n",
       "      <th></th>\n",
       "      <th>Timestamp</th>\n",
       "      <th>How would you rate your overall satisfaction with the Summer Academy this week?</th>\n",
       "      <th>How well are the tutorials paced?</th>\n",
       "    </tr>\n",
       "  </thead>\n",
       "  <tbody>\n",
       "    <tr>\n",
       "      <th>0</th>\n",
       "      <td>6/23/2016 15:55:12</td>\n",
       "      <td>3</td>\n",
       "      <td>4</td>\n",
       "    </tr>\n",
       "    <tr>\n",
       "      <th>1</th>\n",
       "      <td>6/23/2016 16:14:04</td>\n",
       "      <td>4</td>\n",
       "      <td>4</td>\n",
       "    </tr>\n",
       "    <tr>\n",
       "      <th>2</th>\n",
       "      <td>6/24/2016 0:18:42</td>\n",
       "      <td>4</td>\n",
       "      <td>4</td>\n",
       "    </tr>\n",
       "    <tr>\n",
       "      <th>3</th>\n",
       "      <td>6/24/2016 6:59:42</td>\n",
       "      <td>4</td>\n",
       "      <td>4</td>\n",
       "    </tr>\n",
       "    <tr>\n",
       "      <th>4</th>\n",
       "      <td>6/24/2016 9:40:16</td>\n",
       "      <td>4</td>\n",
       "      <td>5</td>\n",
       "    </tr>\n",
       "    <tr>\n",
       "      <th>5</th>\n",
       "      <td>6/23/2016 22:07:29</td>\n",
       "      <td>5</td>\n",
       "      <td>4</td>\n",
       "    </tr>\n",
       "    <tr>\n",
       "      <th>6</th>\n",
       "      <td>6/24/2016 9:34:14</td>\n",
       "      <td>5</td>\n",
       "      <td>3</td>\n",
       "    </tr>\n",
       "  </tbody>\n",
       "</table>\n",
       "</div>"
      ],
      "text/plain": [
       "            Timestamp  \\\n",
       "0  6/23/2016 15:55:12   \n",
       "1  6/23/2016 16:14:04   \n",
       "2   6/24/2016 0:18:42   \n",
       "3   6/24/2016 6:59:42   \n",
       "4   6/24/2016 9:40:16   \n",
       "5  6/23/2016 22:07:29   \n",
       "6   6/24/2016 9:34:14   \n",
       "\n",
       "   How would you rate your overall satisfaction with the Summer Academy this week?  \\\n",
       "0                                                  3                                 \n",
       "1                                                  4                                 \n",
       "2                                                  4                                 \n",
       "3                                                  4                                 \n",
       "4                                                  4                                 \n",
       "5                                                  5                                 \n",
       "6                                                  5                                 \n",
       "\n",
       "   How well are the tutorials paced?  \n",
       "0                                  4  \n",
       "1                                  4  \n",
       "2                                  4  \n",
       "3                                  4  \n",
       "4                                  5  \n",
       "5                                  4  \n",
       "6                                  3  "
      ]
     },
     "execution_count": 355,
     "metadata": {},
     "output_type": "execute_result"
    }
   ],
   "source": [
    "file1_LA_PATH = \"../Datasets/SAFeedbackSurveys_FINAL/2016/Anon Week 1 Feedback - LA.csv\"\n",
    "SA_2016_LA_W1 = pd.read_csv(file1_LA_PATH)\n",
    "SA_2016_LA_W1"
   ]
  },
  {
   "cell_type": "markdown",
   "metadata": {},
   "source": [
    "#### Notes on Week1 LA\n",
    "* There are 7 data points\n",
    "* Features 3: \"Timestamp, How would you rate your overall satisfaction with the Summer Academy this week?, How well are the tutorials paced?\""
   ]
  },
  {
   "cell_type": "markdown",
   "metadata": {},
   "source": [
    "#### Cleaning Process\n",
    "* Change the name of Timestamp to week number"
   ]
  },
  {
   "cell_type": "code",
   "execution_count": 357,
   "metadata": {},
   "outputs": [
    {
     "data": {
      "text/html": [
       "<div>\n",
       "<style scoped>\n",
       "    .dataframe tbody tr th:only-of-type {\n",
       "        vertical-align: middle;\n",
       "    }\n",
       "\n",
       "    .dataframe tbody tr th {\n",
       "        vertical-align: top;\n",
       "    }\n",
       "\n",
       "    .dataframe thead th {\n",
       "        text-align: right;\n",
       "    }\n",
       "</style>\n",
       "<table border=\"1\" class=\"dataframe\">\n",
       "  <thead>\n",
       "    <tr style=\"text-align: right;\">\n",
       "      <th></th>\n",
       "      <th>Week number</th>\n",
       "      <th>How would you rate your overall satisfaction with the Summer Academy this week?</th>\n",
       "      <th>How well are the tutorials paced?</th>\n",
       "    </tr>\n",
       "  </thead>\n",
       "  <tbody>\n",
       "    <tr>\n",
       "      <th>0</th>\n",
       "      <td>6/23/2016 15:55:12</td>\n",
       "      <td>3</td>\n",
       "      <td>4</td>\n",
       "    </tr>\n",
       "    <tr>\n",
       "      <th>1</th>\n",
       "      <td>6/23/2016 16:14:04</td>\n",
       "      <td>4</td>\n",
       "      <td>4</td>\n",
       "    </tr>\n",
       "    <tr>\n",
       "      <th>2</th>\n",
       "      <td>6/24/2016 0:18:42</td>\n",
       "      <td>4</td>\n",
       "      <td>4</td>\n",
       "    </tr>\n",
       "    <tr>\n",
       "      <th>3</th>\n",
       "      <td>6/24/2016 6:59:42</td>\n",
       "      <td>4</td>\n",
       "      <td>4</td>\n",
       "    </tr>\n",
       "    <tr>\n",
       "      <th>4</th>\n",
       "      <td>6/24/2016 9:40:16</td>\n",
       "      <td>4</td>\n",
       "      <td>5</td>\n",
       "    </tr>\n",
       "    <tr>\n",
       "      <th>5</th>\n",
       "      <td>6/23/2016 22:07:29</td>\n",
       "      <td>5</td>\n",
       "      <td>4</td>\n",
       "    </tr>\n",
       "    <tr>\n",
       "      <th>6</th>\n",
       "      <td>6/24/2016 9:34:14</td>\n",
       "      <td>5</td>\n",
       "      <td>3</td>\n",
       "    </tr>\n",
       "  </tbody>\n",
       "</table>\n",
       "</div>"
      ],
      "text/plain": [
       "          Week number  \\\n",
       "0  6/23/2016 15:55:12   \n",
       "1  6/23/2016 16:14:04   \n",
       "2   6/24/2016 0:18:42   \n",
       "3   6/24/2016 6:59:42   \n",
       "4   6/24/2016 9:40:16   \n",
       "5  6/23/2016 22:07:29   \n",
       "6   6/24/2016 9:34:14   \n",
       "\n",
       "   How would you rate your overall satisfaction with the Summer Academy this week?  \\\n",
       "0                                                  3                                 \n",
       "1                                                  4                                 \n",
       "2                                                  4                                 \n",
       "3                                                  4                                 \n",
       "4                                                  4                                 \n",
       "5                                                  5                                 \n",
       "6                                                  5                                 \n",
       "\n",
       "   How well are the tutorials paced?  \n",
       "0                                  4  \n",
       "1                                  4  \n",
       "2                                  4  \n",
       "3                                  4  \n",
       "4                                  5  \n",
       "5                                  4  \n",
       "6                                  3  "
      ]
     },
     "execution_count": 357,
     "metadata": {},
     "output_type": "execute_result"
    }
   ],
   "source": [
    "SA_2016_LA_W1.rename(columns={'Timestamp': 'Week number'}, inplace=True)\n",
    "SA_2016_LA_W1"
   ]
  },
  {
   "cell_type": "markdown",
   "metadata": {},
   "source": [
    "#### Formatting Setup\n",
    "* Make a variable with the number of data points\n",
    "* Make a variable with all the features\n",
    "* Make a variable with the number of features"
   ]
  },
  {
   "cell_type": "code",
   "execution_count": 358,
   "metadata": {},
   "outputs": [],
   "source": [
    "lenght_SA_2016_LA_W1 = len(SA_2016_LA_W1)\n",
    "SET_SA_2016_LA_W1 = set(SA_2016_LA_W1)\n",
    "column_lenght_SA_2016_LA_W1 = len(SA_2016_LA_W1.columns)"
   ]
  },
  {
   "cell_type": "markdown",
   "metadata": {},
   "source": [
    "#### Add new column with the location name"
   ]
  },
  {
   "cell_type": "code",
   "execution_count": 383,
   "metadata": {},
   "outputs": [],
   "source": [
    "# SA_2016_LA_W1.insert(0, 'Location', 'Los Angeles')\n",
    "# SA_2016_LA_W1"
   ]
  },
  {
   "cell_type": "markdown",
   "metadata": {},
   "source": [
    "---"
   ]
  },
  {
   "cell_type": "code",
   "execution_count": 359,
   "metadata": {},
   "outputs": [
    {
     "data": {
      "text/html": [
       "<div>\n",
       "<style scoped>\n",
       "    .dataframe tbody tr th:only-of-type {\n",
       "        vertical-align: middle;\n",
       "    }\n",
       "\n",
       "    .dataframe tbody tr th {\n",
       "        vertical-align: top;\n",
       "    }\n",
       "\n",
       "    .dataframe thead th {\n",
       "        text-align: right;\n",
       "    }\n",
       "</style>\n",
       "<table border=\"1\" class=\"dataframe\">\n",
       "  <thead>\n",
       "    <tr style=\"text-align: right;\">\n",
       "      <th></th>\n",
       "      <th>What track are you in?</th>\n",
       "      <th>Timestamp</th>\n",
       "      <th>How would you rate your overall satisfaction with the Summer Academy this week?</th>\n",
       "      <th>How well are the tutorials paced?</th>\n",
       "    </tr>\n",
       "  </thead>\n",
       "  <tbody>\n",
       "    <tr>\n",
       "      <th>34</th>\n",
       "      <td>Apps</td>\n",
       "      <td>6/24/2016 7:06:58</td>\n",
       "      <td>5</td>\n",
       "      <td>4</td>\n",
       "    </tr>\n",
       "    <tr>\n",
       "      <th>35</th>\n",
       "      <td>Apps</td>\n",
       "      <td>6/24/2016 7:07:26</td>\n",
       "      <td>5</td>\n",
       "      <td>3</td>\n",
       "    </tr>\n",
       "    <tr>\n",
       "      <th>36</th>\n",
       "      <td>Apps</td>\n",
       "      <td>6/24/2016 7:08:43</td>\n",
       "      <td>5</td>\n",
       "      <td>3</td>\n",
       "    </tr>\n",
       "    <tr>\n",
       "      <th>37</th>\n",
       "      <td>Apps</td>\n",
       "      <td>6/24/2016 7:18:32</td>\n",
       "      <td>5</td>\n",
       "      <td>4</td>\n",
       "    </tr>\n",
       "    <tr>\n",
       "      <th>38</th>\n",
       "      <td>Apps</td>\n",
       "      <td>6/24/2016 8:22:55</td>\n",
       "      <td>5</td>\n",
       "      <td>3</td>\n",
       "    </tr>\n",
       "  </tbody>\n",
       "</table>\n",
       "</div>"
      ],
      "text/plain": [
       "   What track are you in?          Timestamp  \\\n",
       "34                   Apps  6/24/2016 7:06:58   \n",
       "35                   Apps  6/24/2016 7:07:26   \n",
       "36                   Apps  6/24/2016 7:08:43   \n",
       "37                   Apps  6/24/2016 7:18:32   \n",
       "38                   Apps  6/24/2016 8:22:55   \n",
       "\n",
       "    How would you rate your overall satisfaction with the Summer Academy this week?  \\\n",
       "34                                                  5                                 \n",
       "35                                                  5                                 \n",
       "36                                                  5                                 \n",
       "37                                                  5                                 \n",
       "38                                                  5                                 \n",
       "\n",
       "    How well are the tutorials paced?  \n",
       "34                                  4  \n",
       "35                                  3  \n",
       "36                                  3  \n",
       "37                                  4  \n",
       "38                                  3  "
      ]
     },
     "execution_count": 359,
     "metadata": {},
     "output_type": "execute_result"
    }
   ],
   "source": [
    "file2_NY_PATH = \"../Datasets/SAFeedbackSurveys_FINAL/2016/Anon Week 1 Feedback - NY.csv\"\n",
    "SA_2016_NY_W1 = pd.read_csv(file2_NY_PATH)\n",
    "# SA_2016_NY_W1.head()\n",
    "SA_2016_NY_W1.tail()"
   ]
  },
  {
   "cell_type": "markdown",
   "metadata": {},
   "source": [
    "#### Notes on Week1 NY\n",
    "* There are 39 data points\n",
    "* Features 4: \"Timestamp, How would you rate your overall satisfaction with the Summer Academy this week?, How well are the tutorials paced?\""
   ]
  },
  {
   "cell_type": "markdown",
   "metadata": {},
   "source": [
    "#### Cleaning Process\n",
    "* Change the name of Timestamp to Week Number with the purpose of making it be clear what it is when mixing all weeks together"
   ]
  },
  {
   "cell_type": "code",
   "execution_count": 360,
   "metadata": {},
   "outputs": [
    {
     "data": {
      "text/html": [
       "<div>\n",
       "<style scoped>\n",
       "    .dataframe tbody tr th:only-of-type {\n",
       "        vertical-align: middle;\n",
       "    }\n",
       "\n",
       "    .dataframe tbody tr th {\n",
       "        vertical-align: top;\n",
       "    }\n",
       "\n",
       "    .dataframe thead th {\n",
       "        text-align: right;\n",
       "    }\n",
       "</style>\n",
       "<table border=\"1\" class=\"dataframe\">\n",
       "  <thead>\n",
       "    <tr style=\"text-align: right;\">\n",
       "      <th></th>\n",
       "      <th>What track are you in?</th>\n",
       "      <th>Week number</th>\n",
       "      <th>How would you rate your overall satisfaction with the Summer Academy this week?</th>\n",
       "      <th>How well are the tutorials paced?</th>\n",
       "    </tr>\n",
       "  </thead>\n",
       "  <tbody>\n",
       "    <tr>\n",
       "      <th>0</th>\n",
       "      <td>Games</td>\n",
       "      <td>6/24/2016 7:03:34</td>\n",
       "      <td>3</td>\n",
       "      <td>5</td>\n",
       "    </tr>\n",
       "    <tr>\n",
       "      <th>1</th>\n",
       "      <td>Games</td>\n",
       "      <td>6/24/2016 7:10:22</td>\n",
       "      <td>3</td>\n",
       "      <td>3</td>\n",
       "    </tr>\n",
       "    <tr>\n",
       "      <th>2</th>\n",
       "      <td>Apps</td>\n",
       "      <td>6/24/2016 7:03:41</td>\n",
       "      <td>3</td>\n",
       "      <td>3</td>\n",
       "    </tr>\n",
       "    <tr>\n",
       "      <th>3</th>\n",
       "      <td>Intro</td>\n",
       "      <td>6/24/2016 7:04:59</td>\n",
       "      <td>4</td>\n",
       "      <td>3</td>\n",
       "    </tr>\n",
       "    <tr>\n",
       "      <th>4</th>\n",
       "      <td>Intro</td>\n",
       "      <td>6/24/2016 7:07:02</td>\n",
       "      <td>4</td>\n",
       "      <td>4</td>\n",
       "    </tr>\n",
       "    <tr>\n",
       "      <th>5</th>\n",
       "      <td>Intro</td>\n",
       "      <td>6/24/2016 7:08:41</td>\n",
       "      <td>4</td>\n",
       "      <td>4</td>\n",
       "    </tr>\n",
       "    <tr>\n",
       "      <th>6</th>\n",
       "      <td>Intro</td>\n",
       "      <td>6/24/2016 7:09:30</td>\n",
       "      <td>4</td>\n",
       "      <td>4</td>\n",
       "    </tr>\n",
       "    <tr>\n",
       "      <th>7</th>\n",
       "      <td>Games</td>\n",
       "      <td>6/24/2016 7:01:03</td>\n",
       "      <td>4</td>\n",
       "      <td>4</td>\n",
       "    </tr>\n",
       "    <tr>\n",
       "      <th>8</th>\n",
       "      <td>Games</td>\n",
       "      <td>6/24/2016 7:02:43</td>\n",
       "      <td>4</td>\n",
       "      <td>4</td>\n",
       "    </tr>\n",
       "    <tr>\n",
       "      <th>9</th>\n",
       "      <td>Games</td>\n",
       "      <td>6/24/2016 7:03:48</td>\n",
       "      <td>4</td>\n",
       "      <td>3</td>\n",
       "    </tr>\n",
       "    <tr>\n",
       "      <th>10</th>\n",
       "      <td>Games</td>\n",
       "      <td>6/24/2016 7:06:04</td>\n",
       "      <td>4</td>\n",
       "      <td>3</td>\n",
       "    </tr>\n",
       "    <tr>\n",
       "      <th>11</th>\n",
       "      <td>Games</td>\n",
       "      <td>6/24/2016 7:06:24</td>\n",
       "      <td>4</td>\n",
       "      <td>4</td>\n",
       "    </tr>\n",
       "    <tr>\n",
       "      <th>12</th>\n",
       "      <td>Apps</td>\n",
       "      <td>6/24/2016 7:01:19</td>\n",
       "      <td>4</td>\n",
       "      <td>4</td>\n",
       "    </tr>\n",
       "    <tr>\n",
       "      <th>13</th>\n",
       "      <td>Apps</td>\n",
       "      <td>6/24/2016 7:01:29</td>\n",
       "      <td>4</td>\n",
       "      <td>4</td>\n",
       "    </tr>\n",
       "    <tr>\n",
       "      <th>14</th>\n",
       "      <td>Apps</td>\n",
       "      <td>6/24/2016 7:02:20</td>\n",
       "      <td>4</td>\n",
       "      <td>4</td>\n",
       "    </tr>\n",
       "    <tr>\n",
       "      <th>15</th>\n",
       "      <td>Apps</td>\n",
       "      <td>6/24/2016 7:03:24</td>\n",
       "      <td>4</td>\n",
       "      <td>3</td>\n",
       "    </tr>\n",
       "    <tr>\n",
       "      <th>16</th>\n",
       "      <td>Apps</td>\n",
       "      <td>6/24/2016 7:03:25</td>\n",
       "      <td>4</td>\n",
       "      <td>4</td>\n",
       "    </tr>\n",
       "    <tr>\n",
       "      <th>17</th>\n",
       "      <td>Apps</td>\n",
       "      <td>6/24/2016 7:03:58</td>\n",
       "      <td>4</td>\n",
       "      <td>2</td>\n",
       "    </tr>\n",
       "    <tr>\n",
       "      <th>18</th>\n",
       "      <td>Apps</td>\n",
       "      <td>6/24/2016 7:06:59</td>\n",
       "      <td>4</td>\n",
       "      <td>3</td>\n",
       "    </tr>\n",
       "    <tr>\n",
       "      <th>19</th>\n",
       "      <td>Apps</td>\n",
       "      <td>6/24/2016 7:07:06</td>\n",
       "      <td>4</td>\n",
       "      <td>4</td>\n",
       "    </tr>\n",
       "    <tr>\n",
       "      <th>20</th>\n",
       "      <td>Apps</td>\n",
       "      <td>6/24/2016 7:08:37</td>\n",
       "      <td>4</td>\n",
       "      <td>4</td>\n",
       "    </tr>\n",
       "    <tr>\n",
       "      <th>21</th>\n",
       "      <td>Apps</td>\n",
       "      <td>6/24/2016 7:08:51</td>\n",
       "      <td>4</td>\n",
       "      <td>3</td>\n",
       "    </tr>\n",
       "    <tr>\n",
       "      <th>22</th>\n",
       "      <td>Intro</td>\n",
       "      <td>6/24/2016 7:01:55</td>\n",
       "      <td>5</td>\n",
       "      <td>3</td>\n",
       "    </tr>\n",
       "    <tr>\n",
       "      <th>23</th>\n",
       "      <td>Intro</td>\n",
       "      <td>6/24/2016 7:03:41</td>\n",
       "      <td>5</td>\n",
       "      <td>3</td>\n",
       "    </tr>\n",
       "    <tr>\n",
       "      <th>24</th>\n",
       "      <td>Intro</td>\n",
       "      <td>6/24/2016 7:06:21</td>\n",
       "      <td>5</td>\n",
       "      <td>4</td>\n",
       "    </tr>\n",
       "    <tr>\n",
       "      <th>25</th>\n",
       "      <td>Intro</td>\n",
       "      <td>6/24/2016 7:07:00</td>\n",
       "      <td>5</td>\n",
       "      <td>4</td>\n",
       "    </tr>\n",
       "    <tr>\n",
       "      <th>26</th>\n",
       "      <td>Games</td>\n",
       "      <td>6/24/2016 7:04:34</td>\n",
       "      <td>5</td>\n",
       "      <td>3</td>\n",
       "    </tr>\n",
       "    <tr>\n",
       "      <th>27</th>\n",
       "      <td>Games</td>\n",
       "      <td>6/24/2016 7:08:15</td>\n",
       "      <td>5</td>\n",
       "      <td>3</td>\n",
       "    </tr>\n",
       "    <tr>\n",
       "      <th>28</th>\n",
       "      <td>Games</td>\n",
       "      <td>6/24/2016 7:12:49</td>\n",
       "      <td>5</td>\n",
       "      <td>4</td>\n",
       "    </tr>\n",
       "    <tr>\n",
       "      <th>29</th>\n",
       "      <td>Apps</td>\n",
       "      <td>6/24/2016 7:03:41</td>\n",
       "      <td>5</td>\n",
       "      <td>3</td>\n",
       "    </tr>\n",
       "    <tr>\n",
       "      <th>30</th>\n",
       "      <td>Apps</td>\n",
       "      <td>6/24/2016 7:03:58</td>\n",
       "      <td>5</td>\n",
       "      <td>4</td>\n",
       "    </tr>\n",
       "    <tr>\n",
       "      <th>31</th>\n",
       "      <td>Apps</td>\n",
       "      <td>6/24/2016 7:04:09</td>\n",
       "      <td>5</td>\n",
       "      <td>3</td>\n",
       "    </tr>\n",
       "    <tr>\n",
       "      <th>32</th>\n",
       "      <td>Apps</td>\n",
       "      <td>6/24/2016 7:04:11</td>\n",
       "      <td>5</td>\n",
       "      <td>3</td>\n",
       "    </tr>\n",
       "    <tr>\n",
       "      <th>33</th>\n",
       "      <td>Apps</td>\n",
       "      <td>6/24/2016 7:05:51</td>\n",
       "      <td>5</td>\n",
       "      <td>4</td>\n",
       "    </tr>\n",
       "    <tr>\n",
       "      <th>34</th>\n",
       "      <td>Apps</td>\n",
       "      <td>6/24/2016 7:06:58</td>\n",
       "      <td>5</td>\n",
       "      <td>4</td>\n",
       "    </tr>\n",
       "    <tr>\n",
       "      <th>35</th>\n",
       "      <td>Apps</td>\n",
       "      <td>6/24/2016 7:07:26</td>\n",
       "      <td>5</td>\n",
       "      <td>3</td>\n",
       "    </tr>\n",
       "    <tr>\n",
       "      <th>36</th>\n",
       "      <td>Apps</td>\n",
       "      <td>6/24/2016 7:08:43</td>\n",
       "      <td>5</td>\n",
       "      <td>3</td>\n",
       "    </tr>\n",
       "    <tr>\n",
       "      <th>37</th>\n",
       "      <td>Apps</td>\n",
       "      <td>6/24/2016 7:18:32</td>\n",
       "      <td>5</td>\n",
       "      <td>4</td>\n",
       "    </tr>\n",
       "    <tr>\n",
       "      <th>38</th>\n",
       "      <td>Apps</td>\n",
       "      <td>6/24/2016 8:22:55</td>\n",
       "      <td>5</td>\n",
       "      <td>3</td>\n",
       "    </tr>\n",
       "  </tbody>\n",
       "</table>\n",
       "</div>"
      ],
      "text/plain": [
       "   What track are you in?        Week number  \\\n",
       "0                   Games  6/24/2016 7:03:34   \n",
       "1                   Games  6/24/2016 7:10:22   \n",
       "2                    Apps  6/24/2016 7:03:41   \n",
       "3                   Intro  6/24/2016 7:04:59   \n",
       "4                   Intro  6/24/2016 7:07:02   \n",
       "5                   Intro  6/24/2016 7:08:41   \n",
       "6                   Intro  6/24/2016 7:09:30   \n",
       "7                   Games  6/24/2016 7:01:03   \n",
       "8                   Games  6/24/2016 7:02:43   \n",
       "9                   Games  6/24/2016 7:03:48   \n",
       "10                  Games  6/24/2016 7:06:04   \n",
       "11                  Games  6/24/2016 7:06:24   \n",
       "12                   Apps  6/24/2016 7:01:19   \n",
       "13                   Apps  6/24/2016 7:01:29   \n",
       "14                   Apps  6/24/2016 7:02:20   \n",
       "15                   Apps  6/24/2016 7:03:24   \n",
       "16                   Apps  6/24/2016 7:03:25   \n",
       "17                   Apps  6/24/2016 7:03:58   \n",
       "18                   Apps  6/24/2016 7:06:59   \n",
       "19                   Apps  6/24/2016 7:07:06   \n",
       "20                   Apps  6/24/2016 7:08:37   \n",
       "21                   Apps  6/24/2016 7:08:51   \n",
       "22                  Intro  6/24/2016 7:01:55   \n",
       "23                  Intro  6/24/2016 7:03:41   \n",
       "24                  Intro  6/24/2016 7:06:21   \n",
       "25                  Intro  6/24/2016 7:07:00   \n",
       "26                  Games  6/24/2016 7:04:34   \n",
       "27                  Games  6/24/2016 7:08:15   \n",
       "28                  Games  6/24/2016 7:12:49   \n",
       "29                   Apps  6/24/2016 7:03:41   \n",
       "30                   Apps  6/24/2016 7:03:58   \n",
       "31                   Apps  6/24/2016 7:04:09   \n",
       "32                   Apps  6/24/2016 7:04:11   \n",
       "33                   Apps  6/24/2016 7:05:51   \n",
       "34                   Apps  6/24/2016 7:06:58   \n",
       "35                   Apps  6/24/2016 7:07:26   \n",
       "36                   Apps  6/24/2016 7:08:43   \n",
       "37                   Apps  6/24/2016 7:18:32   \n",
       "38                   Apps  6/24/2016 8:22:55   \n",
       "\n",
       "    How would you rate your overall satisfaction with the Summer Academy this week?  \\\n",
       "0                                                   3                                 \n",
       "1                                                   3                                 \n",
       "2                                                   3                                 \n",
       "3                                                   4                                 \n",
       "4                                                   4                                 \n",
       "5                                                   4                                 \n",
       "6                                                   4                                 \n",
       "7                                                   4                                 \n",
       "8                                                   4                                 \n",
       "9                                                   4                                 \n",
       "10                                                  4                                 \n",
       "11                                                  4                                 \n",
       "12                                                  4                                 \n",
       "13                                                  4                                 \n",
       "14                                                  4                                 \n",
       "15                                                  4                                 \n",
       "16                                                  4                                 \n",
       "17                                                  4                                 \n",
       "18                                                  4                                 \n",
       "19                                                  4                                 \n",
       "20                                                  4                                 \n",
       "21                                                  4                                 \n",
       "22                                                  5                                 \n",
       "23                                                  5                                 \n",
       "24                                                  5                                 \n",
       "25                                                  5                                 \n",
       "26                                                  5                                 \n",
       "27                                                  5                                 \n",
       "28                                                  5                                 \n",
       "29                                                  5                                 \n",
       "30                                                  5                                 \n",
       "31                                                  5                                 \n",
       "32                                                  5                                 \n",
       "33                                                  5                                 \n",
       "34                                                  5                                 \n",
       "35                                                  5                                 \n",
       "36                                                  5                                 \n",
       "37                                                  5                                 \n",
       "38                                                  5                                 \n",
       "\n",
       "    How well are the tutorials paced?  \n",
       "0                                   5  \n",
       "1                                   3  \n",
       "2                                   3  \n",
       "3                                   3  \n",
       "4                                   4  \n",
       "5                                   4  \n",
       "6                                   4  \n",
       "7                                   4  \n",
       "8                                   4  \n",
       "9                                   3  \n",
       "10                                  3  \n",
       "11                                  4  \n",
       "12                                  4  \n",
       "13                                  4  \n",
       "14                                  4  \n",
       "15                                  3  \n",
       "16                                  4  \n",
       "17                                  2  \n",
       "18                                  3  \n",
       "19                                  4  \n",
       "20                                  4  \n",
       "21                                  3  \n",
       "22                                  3  \n",
       "23                                  3  \n",
       "24                                  4  \n",
       "25                                  4  \n",
       "26                                  3  \n",
       "27                                  3  \n",
       "28                                  4  \n",
       "29                                  3  \n",
       "30                                  4  \n",
       "31                                  3  \n",
       "32                                  3  \n",
       "33                                  4  \n",
       "34                                  4  \n",
       "35                                  3  \n",
       "36                                  3  \n",
       "37                                  4  \n",
       "38                                  3  "
      ]
     },
     "execution_count": 360,
     "metadata": {},
     "output_type": "execute_result"
    }
   ],
   "source": [
    "SA_2016_NY_W1.rename(columns={'Timestamp': 'Week number'}, inplace=True)\n",
    "SA_2016_NY_W1"
   ]
  },
  {
   "cell_type": "markdown",
   "metadata": {},
   "source": [
    "#### Formatting Setup\n",
    "* Make a variable with the number of data points\n",
    "* Make a variable with all the features\n",
    "* Make a variable with the number of features"
   ]
  },
  {
   "cell_type": "code",
   "execution_count": 361,
   "metadata": {},
   "outputs": [],
   "source": [
    "lenght_SA_2016_NY_W1 = len(SA_2016_NY_W1)\n",
    "SET_SA_2016_NY_W1 = set(SA_2016_NY_W1)\n",
    "column_lenght_SA_2016_NY_W1 = len(SA_2016_NY_W1.columns)"
   ]
  },
  {
   "cell_type": "markdown",
   "metadata": {},
   "source": [
    "#### Add new column with the location name"
   ]
  },
  {
   "cell_type": "code",
   "execution_count": 381,
   "metadata": {},
   "outputs": [],
   "source": [
    "# SA_2016_NY_W1.insert(0, 'Location', 'New York')\n",
    "# SA_2016_NY_W1"
   ]
  },
  {
   "cell_type": "markdown",
   "metadata": {},
   "source": [
    "------"
   ]
  },
  {
   "cell_type": "code",
   "execution_count": 362,
   "metadata": {},
   "outputs": [
    {
     "data": {
      "text/html": [
       "<div>\n",
       "<style scoped>\n",
       "    .dataframe tbody tr th:only-of-type {\n",
       "        vertical-align: middle;\n",
       "    }\n",
       "\n",
       "    .dataframe tbody tr th {\n",
       "        vertical-align: top;\n",
       "    }\n",
       "\n",
       "    .dataframe thead th {\n",
       "        text-align: right;\n",
       "    }\n",
       "</style>\n",
       "<table border=\"1\" class=\"dataframe\">\n",
       "  <thead>\n",
       "    <tr style=\"text-align: right;\">\n",
       "      <th></th>\n",
       "      <th>What track are you in?</th>\n",
       "      <th>Timestamp</th>\n",
       "      <th>How would you rate your overall satisfaction with the Summer Academy this week?</th>\n",
       "      <th>How well are the tutorials paced?</th>\n",
       "    </tr>\n",
       "  </thead>\n",
       "  <tbody>\n",
       "    <tr>\n",
       "      <th>88</th>\n",
       "      <td>Intro</td>\n",
       "      <td>6/26/2016 23:32:51</td>\n",
       "      <td>5</td>\n",
       "      <td>3</td>\n",
       "    </tr>\n",
       "    <tr>\n",
       "      <th>89</th>\n",
       "      <td>VR</td>\n",
       "      <td>6/29/2016 22:39:27</td>\n",
       "      <td>3</td>\n",
       "      <td>3</td>\n",
       "    </tr>\n",
       "    <tr>\n",
       "      <th>90</th>\n",
       "      <td>VR</td>\n",
       "      <td>6/24/2016 13:30:31</td>\n",
       "      <td>5</td>\n",
       "      <td>3</td>\n",
       "    </tr>\n",
       "    <tr>\n",
       "      <th>91</th>\n",
       "      <td>VR</td>\n",
       "      <td>6/24/2016 14:41:17</td>\n",
       "      <td>5</td>\n",
       "      <td>3</td>\n",
       "    </tr>\n",
       "    <tr>\n",
       "      <th>92</th>\n",
       "      <td>VR</td>\n",
       "      <td>6/24/2016 17:29:38</td>\n",
       "      <td>5</td>\n",
       "      <td>3</td>\n",
       "    </tr>\n",
       "  </tbody>\n",
       "</table>\n",
       "</div>"
      ],
      "text/plain": [
       "   What track are you in?           Timestamp  \\\n",
       "88                  Intro  6/26/2016 23:32:51   \n",
       "89                     VR  6/29/2016 22:39:27   \n",
       "90                     VR  6/24/2016 13:30:31   \n",
       "91                     VR  6/24/2016 14:41:17   \n",
       "92                     VR  6/24/2016 17:29:38   \n",
       "\n",
       "    How would you rate your overall satisfaction with the Summer Academy this week?  \\\n",
       "88                                                  5                                 \n",
       "89                                                  3                                 \n",
       "90                                                  5                                 \n",
       "91                                                  5                                 \n",
       "92                                                  5                                 \n",
       "\n",
       "    How well are the tutorials paced?  \n",
       "88                                  3  \n",
       "89                                  3  \n",
       "90                                  3  \n",
       "91                                  3  \n",
       "92                                  3  "
      ]
     },
     "execution_count": 362,
     "metadata": {},
     "output_type": "execute_result"
    }
   ],
   "source": [
    "file3_SF_PATH = \"../Datasets/SAFeedbackSurveys_FINAL/2016/Anon Week 1 Feedback - SF.csv\"\n",
    "SA_2016_SF_W1 = pd.read_csv(file3_SF_PATH)\n",
    "#SA_2016_SF_W1.head()\n",
    "SA_2016_SF_W1.tail()"
   ]
  },
  {
   "cell_type": "markdown",
   "metadata": {},
   "source": [
    "#### Notes on Week1 SF\n",
    "* There are 93 data points\n",
    "* Features 4: \"What track are you in?, Timestamp, How would you rate your overall satisfaction with the Summer Academy this week?, How well are the tutorials paced?\""
   ]
  },
  {
   "cell_type": "markdown",
   "metadata": {},
   "source": [
    "#### Cleaning Process\n",
    "* Change the name of Timestamp to Week Number with the purpose of making it be clear what it is when mixing all weeks together"
   ]
  },
  {
   "cell_type": "code",
   "execution_count": 364,
   "metadata": {},
   "outputs": [],
   "source": [
    "SA_2016_SF_W1.rename(columns={'Timestamp': 'Week number'}, inplace=True)"
   ]
  },
  {
   "cell_type": "markdown",
   "metadata": {},
   "source": [
    "#### Formatting Setup\n",
    "* Make a variable with the number of data points\n",
    "* Make a variable with all the features\n",
    "* Make a variable with the number of features"
   ]
  },
  {
   "cell_type": "code",
   "execution_count": 365,
   "metadata": {},
   "outputs": [],
   "source": [
    "lenght_SA_2016_SF_W1 = len(SA_2016_SF_W1)\n",
    "SET_SA_2016_SF_W1 = set(SA_2016_SF_W1)\n",
    "column_lenght_SA_2016_SF_W1 = len(SA_2016_SF_W1.columns)"
   ]
  },
  {
   "cell_type": "markdown",
   "metadata": {},
   "source": [
    "#### Add new column with the location name"
   ]
  },
  {
   "cell_type": "code",
   "execution_count": 379,
   "metadata": {},
   "outputs": [],
   "source": [
    "# SA_2016_SF_W1.insert(0, 'Location', 'San Francisco')\n",
    "# SA_2016_SF_W1"
   ]
  },
  {
   "cell_type": "markdown",
   "metadata": {},
   "source": [
    "---"
   ]
  },
  {
   "cell_type": "code",
   "execution_count": 103,
   "metadata": {},
   "outputs": [
    {
     "data": {
      "text/html": [
       "<div>\n",
       "<style scoped>\n",
       "    .dataframe tbody tr th:only-of-type {\n",
       "        vertical-align: middle;\n",
       "    }\n",
       "\n",
       "    .dataframe tbody tr th {\n",
       "        vertical-align: top;\n",
       "    }\n",
       "\n",
       "    .dataframe thead th {\n",
       "        text-align: right;\n",
       "    }\n",
       "</style>\n",
       "<table border=\"1\" class=\"dataframe\">\n",
       "  <thead>\n",
       "    <tr style=\"text-align: right;\">\n",
       "      <th></th>\n",
       "      <th>Unnamed: 0</th>\n",
       "      <th>What track are you in?</th>\n",
       "      <th>How would you rate your overall satisfaction with the Summer Academy this week?</th>\n",
       "      <th>How well are the tutorials paced?</th>\n",
       "    </tr>\n",
       "  </thead>\n",
       "  <tbody>\n",
       "    <tr>\n",
       "      <th>57</th>\n",
       "      <td>6/24/2016 13:45:50</td>\n",
       "      <td>Intro</td>\n",
       "      <td>5</td>\n",
       "      <td>2</td>\n",
       "    </tr>\n",
       "    <tr>\n",
       "      <th>58</th>\n",
       "      <td>6/24/2016 13:47:01</td>\n",
       "      <td>Intro</td>\n",
       "      <td>5</td>\n",
       "      <td>3</td>\n",
       "    </tr>\n",
       "    <tr>\n",
       "      <th>59</th>\n",
       "      <td>6/24/2016 13:49:01</td>\n",
       "      <td>Intro</td>\n",
       "      <td>5</td>\n",
       "      <td>3</td>\n",
       "    </tr>\n",
       "    <tr>\n",
       "      <th>60</th>\n",
       "      <td>6/24/2016 13:49:44</td>\n",
       "      <td>Intro</td>\n",
       "      <td>5</td>\n",
       "      <td>3</td>\n",
       "    </tr>\n",
       "    <tr>\n",
       "      <th>61</th>\n",
       "      <td>6/24/2016 13:50:23</td>\n",
       "      <td>Intro</td>\n",
       "      <td>5</td>\n",
       "      <td>3</td>\n",
       "    </tr>\n",
       "  </tbody>\n",
       "</table>\n",
       "</div>"
      ],
      "text/plain": [
       "            Unnamed: 0 What track are you in?  \\\n",
       "57  6/24/2016 13:45:50                  Intro   \n",
       "58  6/24/2016 13:47:01                  Intro   \n",
       "59  6/24/2016 13:49:01                  Intro   \n",
       "60  6/24/2016 13:49:44                  Intro   \n",
       "61  6/24/2016 13:50:23                  Intro   \n",
       "\n",
       "    How would you rate your overall satisfaction with the Summer Academy this week?  \\\n",
       "57                                                  5                                 \n",
       "58                                                  5                                 \n",
       "59                                                  5                                 \n",
       "60                                                  5                                 \n",
       "61                                                  5                                 \n",
       "\n",
       "    How well are the tutorials paced?  \n",
       "57                                  2  \n",
       "58                                  3  \n",
       "59                                  3  \n",
       "60                                  3  \n",
       "61                                  3  "
      ]
     },
     "execution_count": 103,
     "metadata": {},
     "output_type": "execute_result"
    }
   ],
   "source": [
    "file4_SV_PATH = \"../Datasets/SAFeedbackSurveys_FINAL/2016/Anon Week 1 Feedback - SV.csv\"\n",
    "SA_2016_SV_W1 = pd.read_csv(file4_SV_PATH)\n",
    "# SA_2016_SV_W1.head()\n",
    "SA_2016_SV_W1.tail()"
   ]
  },
  {
   "cell_type": "markdown",
   "metadata": {},
   "source": [
    "#### Notes on Week1 SV\n",
    "* There are 62 data points\n",
    "* Features 4: \"Unnamed: 0, What track are you in?, How would you rate your overall satisfaction with the Summer Academy this week?, How well are the tutorials paced?\""
   ]
  },
  {
   "cell_type": "markdown",
   "metadata": {},
   "source": [
    "#### Cleaning Process\n",
    "* Change the name of Unname to Week Number with the purpose of making it be clear what it is when mixing all weeks together"
   ]
  },
  {
   "cell_type": "code",
   "execution_count": 109,
   "metadata": {},
   "outputs": [],
   "source": [
    "SA_2016_SV_W1.rename(columns={'Unnamed: 0': 'Week number'}, inplace=True)"
   ]
  },
  {
   "cell_type": "markdown",
   "metadata": {},
   "source": [
    "#### Formatting Setup\n",
    "* Make a variable with the number of data points\n",
    "* Make a variable with all the features\n",
    "* Make a variable with the number of features"
   ]
  },
  {
   "cell_type": "code",
   "execution_count": 136,
   "metadata": {},
   "outputs": [],
   "source": [
    "lenght_SA_2016_SV_W1 = len(SA_2016_SV_W1)\n",
    "SET_SA_2016_SV_W1 = set(SA_2016_SV_W1)\n",
    "column_lenght_SA_2016_SV_W1\n"
   ]
  },
  {
   "cell_type": "markdown",
   "metadata": {},
   "source": [
    "#### Add new column with the location name"
   ]
  },
  {
   "cell_type": "code",
   "execution_count": 377,
   "metadata": {},
   "outputs": [],
   "source": [
    "# SA_2016_SV_W1.insert(0, 'Location', 'Sunnyvale')\n",
    "# SA_2016_SV_W1"
   ]
  },
  {
   "cell_type": "markdown",
   "metadata": {},
   "source": [
    "---"
   ]
  },
  {
   "cell_type": "code",
   "execution_count": 117,
   "metadata": {},
   "outputs": [
    {
     "data": {
      "text/html": [
       "<div>\n",
       "<style scoped>\n",
       "    .dataframe tbody tr th:only-of-type {\n",
       "        vertical-align: middle;\n",
       "    }\n",
       "\n",
       "    .dataframe tbody tr th {\n",
       "        vertical-align: top;\n",
       "    }\n",
       "\n",
       "    .dataframe thead th {\n",
       "        text-align: right;\n",
       "    }\n",
       "</style>\n",
       "<table border=\"1\" class=\"dataframe\">\n",
       "  <thead>\n",
       "    <tr style=\"text-align: right;\">\n",
       "      <th></th>\n",
       "      <th>Timestamp</th>\n",
       "      <th>How would you rate your overall satisfaction with the Summer Academy this week?</th>\n",
       "      <th>How well are the tutorials paced?</th>\n",
       "    </tr>\n",
       "  </thead>\n",
       "  <tbody>\n",
       "    <tr>\n",
       "      <th>7</th>\n",
       "      <td>6/23/2016 22:15:33</td>\n",
       "      <td>4</td>\n",
       "      <td>3</td>\n",
       "    </tr>\n",
       "    <tr>\n",
       "      <th>8</th>\n",
       "      <td>6/23/2016 22:41:02</td>\n",
       "      <td>4</td>\n",
       "      <td>4</td>\n",
       "    </tr>\n",
       "    <tr>\n",
       "      <th>9</th>\n",
       "      <td>6/23/2016 23:56:36</td>\n",
       "      <td>4</td>\n",
       "      <td>3</td>\n",
       "    </tr>\n",
       "    <tr>\n",
       "      <th>10</th>\n",
       "      <td>6/25/2016 22:17:48</td>\n",
       "      <td>4</td>\n",
       "      <td>3</td>\n",
       "    </tr>\n",
       "    <tr>\n",
       "      <th>11</th>\n",
       "      <td>6/23/2016 22:13:09</td>\n",
       "      <td>5</td>\n",
       "      <td>5</td>\n",
       "    </tr>\n",
       "  </tbody>\n",
       "</table>\n",
       "</div>"
      ],
      "text/plain": [
       "             Timestamp  \\\n",
       "7   6/23/2016 22:15:33   \n",
       "8   6/23/2016 22:41:02   \n",
       "9   6/23/2016 23:56:36   \n",
       "10  6/25/2016 22:17:48   \n",
       "11  6/23/2016 22:13:09   \n",
       "\n",
       "    How would you rate your overall satisfaction with the Summer Academy this week?  \\\n",
       "7                                                   4                                 \n",
       "8                                                   4                                 \n",
       "9                                                   4                                 \n",
       "10                                                  4                                 \n",
       "11                                                  5                                 \n",
       "\n",
       "    How well are the tutorials paced?  \n",
       "7                                   3  \n",
       "8                                   4  \n",
       "9                                   3  \n",
       "10                                  3  \n",
       "11                                  5  "
      ]
     },
     "execution_count": 117,
     "metadata": {},
     "output_type": "execute_result"
    }
   ],
   "source": [
    "file5_Singapore_PATH = \"../Datasets/SAFeedbackSurveys_FINAL/2016/Anon Week 1 Feedback - Singapore.csv\"\n",
    "SA_2016_Singapore_W1 = pd.read_csv(file5_Singapore_PATH)\n",
    "# SA_2016_Singapore_W1.head()\n",
    "SA_2016_Singapore_W1.tail()"
   ]
  },
  {
   "cell_type": "markdown",
   "metadata": {},
   "source": [
    "#### Notes on Week1 Singapore:\n",
    "* There are 11 data points\n",
    "* Features 3: \"Timestamp, How would you rate your overall satisfaction with the Summer Academy this week?, How well are the tutorials paced?\""
   ]
  },
  {
   "cell_type": "markdown",
   "metadata": {},
   "source": [
    "#### Cleaning Process\n",
    "* Change the name of Timestamp to Week Number with the purpose of making it be clear what it is when mixing all weeks together"
   ]
  },
  {
   "cell_type": "code",
   "execution_count": 412,
   "metadata": {},
   "outputs": [],
   "source": [
    "# SA_2016_Singapore_W1.rename(columns={'Timestamp': 'Week number'}, inplace=True)\n",
    "# SA_2016_Singapore_W1\n"
   ]
  },
  {
   "cell_type": "code",
   "execution_count": 353,
   "metadata": {},
   "outputs": [],
   "source": [
    "SET_SA_2016_Singapore_W1 = set(SA_2016_Singapore_W1)\n",
    "lenght_SA_2016_Singapore_W1 = len(SA_2016_Singapore_W1)\n",
    "column_lenght_SA_2016_Singapore_W1 = len(SA_2016_Singapore_W1.columns)"
   ]
  },
  {
   "cell_type": "markdown",
   "metadata": {},
   "source": [
    "#### Add new column with the location name"
   ]
  },
  {
   "cell_type": "code",
   "execution_count": 540,
   "metadata": {},
   "outputs": [
    {
     "data": {
      "text/html": [
       "<div>\n",
       "<style scoped>\n",
       "    .dataframe tbody tr th:only-of-type {\n",
       "        vertical-align: middle;\n",
       "    }\n",
       "\n",
       "    .dataframe tbody tr th {\n",
       "        vertical-align: top;\n",
       "    }\n",
       "\n",
       "    .dataframe thead th {\n",
       "        text-align: right;\n",
       "    }\n",
       "</style>\n",
       "<table border=\"1\" class=\"dataframe\">\n",
       "  <thead>\n",
       "    <tr style=\"text-align: right;\">\n",
       "      <th></th>\n",
       "      <th>Location</th>\n",
       "      <th>Week number</th>\n",
       "      <th>How would you rate your overall satisfaction with the Summer Academy this week?</th>\n",
       "      <th>How well is the schedule paced?</th>\n",
       "    </tr>\n",
       "  </thead>\n",
       "  <tbody>\n",
       "    <tr>\n",
       "      <th>0</th>\n",
       "      <td>Singapore</td>\n",
       "      <td>7/1/2016 5:41:15</td>\n",
       "      <td>4</td>\n",
       "      <td>3</td>\n",
       "    </tr>\n",
       "    <tr>\n",
       "      <th>1</th>\n",
       "      <td>Singapore</td>\n",
       "      <td>7/1/2016 8:52:52</td>\n",
       "      <td>3</td>\n",
       "      <td>3</td>\n",
       "    </tr>\n",
       "    <tr>\n",
       "      <th>2</th>\n",
       "      <td>Singapore</td>\n",
       "      <td>7/2/2016 7:49:54</td>\n",
       "      <td>3</td>\n",
       "      <td>5</td>\n",
       "    </tr>\n",
       "    <tr>\n",
       "      <th>3</th>\n",
       "      <td>Singapore</td>\n",
       "      <td>7/3/2016 19:14:57</td>\n",
       "      <td>3</td>\n",
       "      <td>3</td>\n",
       "    </tr>\n",
       "    <tr>\n",
       "      <th>4</th>\n",
       "      <td>Singapore</td>\n",
       "      <td>7/3/2016 19:21:48</td>\n",
       "      <td>4</td>\n",
       "      <td>4</td>\n",
       "    </tr>\n",
       "    <tr>\n",
       "      <th>5</th>\n",
       "      <td>Singapore</td>\n",
       "      <td>7/3/2016 19:27:27</td>\n",
       "      <td>4</td>\n",
       "      <td>3</td>\n",
       "    </tr>\n",
       "    <tr>\n",
       "      <th>6</th>\n",
       "      <td>Singapore</td>\n",
       "      <td>7/3/2016 20:00:26</td>\n",
       "      <td>3</td>\n",
       "      <td>3</td>\n",
       "    </tr>\n",
       "    <tr>\n",
       "      <th>7</th>\n",
       "      <td>Singapore</td>\n",
       "      <td>7/4/2016 3:03:20</td>\n",
       "      <td>3</td>\n",
       "      <td>3</td>\n",
       "    </tr>\n",
       "  </tbody>\n",
       "</table>\n",
       "</div>"
      ],
      "text/plain": [
       "    Location        Week number  \\\n",
       "0  Singapore   7/1/2016 5:41:15   \n",
       "1  Singapore   7/1/2016 8:52:52   \n",
       "2  Singapore   7/2/2016 7:49:54   \n",
       "3  Singapore  7/3/2016 19:14:57   \n",
       "4  Singapore  7/3/2016 19:21:48   \n",
       "5  Singapore  7/3/2016 19:27:27   \n",
       "6  Singapore  7/3/2016 20:00:26   \n",
       "7  Singapore   7/4/2016 3:03:20   \n",
       "\n",
       "   How would you rate your overall satisfaction with the Summer Academy this week?  \\\n",
       "0                                                  4                                 \n",
       "1                                                  3                                 \n",
       "2                                                  3                                 \n",
       "3                                                  3                                 \n",
       "4                                                  4                                 \n",
       "5                                                  4                                 \n",
       "6                                                  3                                 \n",
       "7                                                  3                                 \n",
       "\n",
       "   How well is the schedule paced?  \n",
       "0                                3  \n",
       "1                                3  \n",
       "2                                5  \n",
       "3                                3  \n",
       "4                                4  \n",
       "5                                3  \n",
       "6                                3  \n",
       "7                                3  "
      ]
     },
     "execution_count": 540,
     "metadata": {},
     "output_type": "execute_result"
    }
   ],
   "source": [
    "SA_2016_Singapore_W1.insert(0, 'Location', 'Singapore')\n",
    "SA_2016_Singapore_W1\n",
    "\n"
   ]
  },
  {
   "cell_type": "markdown",
   "metadata": {},
   "source": [
    "### Formating into a complete week 1 file\n",
    "#### What to consider for this process\n",
    "* Do all Datasets have 4 features?\n",
    "* For NPS score do I need all datasets to have all features"
   ]
  },
  {
   "cell_type": "code",
   "execution_count": 541,
   "metadata": {},
   "outputs": [
    {
     "data": {
      "text/html": [
       "<div>\n",
       "<style scoped>\n",
       "    .dataframe tbody tr th:only-of-type {\n",
       "        vertical-align: middle;\n",
       "    }\n",
       "\n",
       "    .dataframe tbody tr th {\n",
       "        vertical-align: top;\n",
       "    }\n",
       "\n",
       "    .dataframe thead th {\n",
       "        text-align: right;\n",
       "    }\n",
       "</style>\n",
       "<table border=\"1\" class=\"dataframe\">\n",
       "  <thead>\n",
       "    <tr style=\"text-align: right;\">\n",
       "      <th></th>\n",
       "      <th>Location</th>\n",
       "      <th>Features</th>\n",
       "      <th>Number of Datapoints</th>\n",
       "      <th>Number of Features</th>\n",
       "    </tr>\n",
       "  </thead>\n",
       "  <tbody>\n",
       "    <tr>\n",
       "      <th>0</th>\n",
       "      <td>Singapore</td>\n",
       "      <td>{Week number, How well are the tutorials paced...</td>\n",
       "      <td>12</td>\n",
       "      <td>3</td>\n",
       "    </tr>\n",
       "    <tr>\n",
       "      <th>1</th>\n",
       "      <td>Los Angeles</td>\n",
       "      <td>{Week number, How well are the tutorials paced...</td>\n",
       "      <td>7</td>\n",
       "      <td>3</td>\n",
       "    </tr>\n",
       "    <tr>\n",
       "      <th>2</th>\n",
       "      <td>New York</td>\n",
       "      <td>{What track are you in?, Week number, How well...</td>\n",
       "      <td>39</td>\n",
       "      <td>4</td>\n",
       "    </tr>\n",
       "    <tr>\n",
       "      <th>3</th>\n",
       "      <td>San Francisco</td>\n",
       "      <td>{What track are you in?, Week number, How well...</td>\n",
       "      <td>93</td>\n",
       "      <td>4</td>\n",
       "    </tr>\n",
       "    <tr>\n",
       "      <th>4</th>\n",
       "      <td>Sunnyvale</td>\n",
       "      <td>{Week number, How well are the tutorials paced...</td>\n",
       "      <td>62</td>\n",
       "      <td>4</td>\n",
       "    </tr>\n",
       "  </tbody>\n",
       "</table>\n",
       "</div>"
      ],
      "text/plain": [
       "        Location                                           Features  \\\n",
       "0      Singapore  {Week number, How well are the tutorials paced...   \n",
       "1    Los Angeles  {Week number, How well are the tutorials paced...   \n",
       "2       New York  {What track are you in?, Week number, How well...   \n",
       "3  San Francisco  {What track are you in?, Week number, How well...   \n",
       "4      Sunnyvale  {Week number, How well are the tutorials paced...   \n",
       "\n",
       "   Number of Datapoints  Number of Features  \n",
       "0                    12                   3  \n",
       "1                     7                   3  \n",
       "2                    39                   4  \n",
       "3                    93                   4  \n",
       "4                    62                   4  "
      ]
     },
     "execution_count": 541,
     "metadata": {},
     "output_type": "execute_result"
    }
   ],
   "source": [
    "SA_2016_W1_data = {'Location': ['Singapore', 'Los Angeles', 'New York', 'San Francisco', 'Sunnyvale'], \n",
    "                   'Features': [SET_SA_2016_Singapore_W1, SET_SA_2016_LA_W1, SET_SA_2016_NY_W1, SET_SA_2016_SF_W1, SET_SA_2016_SV_W1], \n",
    "                   'Number of Datapoints': [lenght_SA_2016_Singapore_W1, lenght_SA_2016_LA_W1, lenght_SA_2016_NY_W1, lenght_SA_2016_SF_W1, lenght_SA_2016_SV_W1],\n",
    "                   'Number of Features': [column_lenght_SA_2016_Singapore_W1, column_lenght_SA_2016_LA_W1, column_lenght_SA_2016_NY_W1, column_lenght_SA_2016_SF_W1, column_lenght_SA_2016_SV_W1]\n",
    "                  }\n",
    "SA_2016_W1 = pd.DataFrame(data=SA_2016_W1_data)\n",
    "SA_2016_W1\n",
    "\n"
   ]
  },
  {
   "cell_type": "markdown",
   "metadata": {},
   "source": [
    "#### Complete comparion of dataset\n",
    "_Objective:_\n",
    "* Be able to see easily which dataset have more features \n",
    "* Decide if it's a good idea to have a special weekly dataset with the more complete ones and a normal one where the not always present features is not added"
   ]
  },
  {
   "cell_type": "markdown",
   "metadata": {},
   "source": [
    "### Complete week 1 \n",
    "#### Process to achieve this\n",
    "* Concatenate all without including track\n",
    "* Concatenate only the ones with track\n",
    "\n",
    "__Note:__\n",
    "    - Given that all datasets don't have track included will have two weekly datasets"
   ]
  },
  {
   "cell_type": "code",
   "execution_count": 542,
   "metadata": {},
   "outputs": [
    {
     "data": {
      "text/html": [
       "<div>\n",
       "<style scoped>\n",
       "    .dataframe tbody tr th:only-of-type {\n",
       "        vertical-align: middle;\n",
       "    }\n",
       "\n",
       "    .dataframe tbody tr th {\n",
       "        vertical-align: top;\n",
       "    }\n",
       "\n",
       "    .dataframe thead th {\n",
       "        text-align: right;\n",
       "    }\n",
       "</style>\n",
       "<table border=\"1\" class=\"dataframe\">\n",
       "  <thead>\n",
       "    <tr style=\"text-align: right;\">\n",
       "      <th></th>\n",
       "      <th>How well are the tutorials paced?</th>\n",
       "      <th>How well is the schedule paced?</th>\n",
       "      <th>How would you rate your overall satisfaction with the Summer Academy this week?</th>\n",
       "      <th>Location</th>\n",
       "      <th>Week number</th>\n",
       "      <th>What track are you in?</th>\n",
       "    </tr>\n",
       "  </thead>\n",
       "  <tbody>\n",
       "    <tr>\n",
       "      <th>0</th>\n",
       "      <td>NaN</td>\n",
       "      <td>3.0</td>\n",
       "      <td>4</td>\n",
       "      <td>Singapore</td>\n",
       "      <td>7/1/2016 5:41:15</td>\n",
       "      <td>NaN</td>\n",
       "    </tr>\n",
       "    <tr>\n",
       "      <th>1</th>\n",
       "      <td>NaN</td>\n",
       "      <td>3.0</td>\n",
       "      <td>3</td>\n",
       "      <td>Singapore</td>\n",
       "      <td>7/1/2016 8:52:52</td>\n",
       "      <td>NaN</td>\n",
       "    </tr>\n",
       "    <tr>\n",
       "      <th>2</th>\n",
       "      <td>NaN</td>\n",
       "      <td>5.0</td>\n",
       "      <td>3</td>\n",
       "      <td>Singapore</td>\n",
       "      <td>7/2/2016 7:49:54</td>\n",
       "      <td>NaN</td>\n",
       "    </tr>\n",
       "    <tr>\n",
       "      <th>3</th>\n",
       "      <td>NaN</td>\n",
       "      <td>3.0</td>\n",
       "      <td>3</td>\n",
       "      <td>Singapore</td>\n",
       "      <td>7/3/2016 19:14:57</td>\n",
       "      <td>NaN</td>\n",
       "    </tr>\n",
       "    <tr>\n",
       "      <th>4</th>\n",
       "      <td>NaN</td>\n",
       "      <td>4.0</td>\n",
       "      <td>4</td>\n",
       "      <td>Singapore</td>\n",
       "      <td>7/3/2016 19:21:48</td>\n",
       "      <td>NaN</td>\n",
       "    </tr>\n",
       "    <tr>\n",
       "      <th>5</th>\n",
       "      <td>NaN</td>\n",
       "      <td>3.0</td>\n",
       "      <td>4</td>\n",
       "      <td>Singapore</td>\n",
       "      <td>7/3/2016 19:27:27</td>\n",
       "      <td>NaN</td>\n",
       "    </tr>\n",
       "    <tr>\n",
       "      <th>6</th>\n",
       "      <td>NaN</td>\n",
       "      <td>3.0</td>\n",
       "      <td>3</td>\n",
       "      <td>Singapore</td>\n",
       "      <td>7/3/2016 20:00:26</td>\n",
       "      <td>NaN</td>\n",
       "    </tr>\n",
       "    <tr>\n",
       "      <th>7</th>\n",
       "      <td>NaN</td>\n",
       "      <td>3.0</td>\n",
       "      <td>3</td>\n",
       "      <td>Singapore</td>\n",
       "      <td>7/4/2016 3:03:20</td>\n",
       "      <td>NaN</td>\n",
       "    </tr>\n",
       "    <tr>\n",
       "      <th>0</th>\n",
       "      <td>4.0</td>\n",
       "      <td>NaN</td>\n",
       "      <td>3</td>\n",
       "      <td>Los Angeles</td>\n",
       "      <td>6/23/2016 15:55:12</td>\n",
       "      <td>NaN</td>\n",
       "    </tr>\n",
       "    <tr>\n",
       "      <th>1</th>\n",
       "      <td>4.0</td>\n",
       "      <td>NaN</td>\n",
       "      <td>4</td>\n",
       "      <td>Los Angeles</td>\n",
       "      <td>6/23/2016 16:14:04</td>\n",
       "      <td>NaN</td>\n",
       "    </tr>\n",
       "    <tr>\n",
       "      <th>2</th>\n",
       "      <td>4.0</td>\n",
       "      <td>NaN</td>\n",
       "      <td>4</td>\n",
       "      <td>Los Angeles</td>\n",
       "      <td>6/24/2016 0:18:42</td>\n",
       "      <td>NaN</td>\n",
       "    </tr>\n",
       "    <tr>\n",
       "      <th>3</th>\n",
       "      <td>4.0</td>\n",
       "      <td>NaN</td>\n",
       "      <td>4</td>\n",
       "      <td>Los Angeles</td>\n",
       "      <td>6/24/2016 6:59:42</td>\n",
       "      <td>NaN</td>\n",
       "    </tr>\n",
       "    <tr>\n",
       "      <th>4</th>\n",
       "      <td>5.0</td>\n",
       "      <td>NaN</td>\n",
       "      <td>4</td>\n",
       "      <td>Los Angeles</td>\n",
       "      <td>6/24/2016 9:40:16</td>\n",
       "      <td>NaN</td>\n",
       "    </tr>\n",
       "    <tr>\n",
       "      <th>5</th>\n",
       "      <td>4.0</td>\n",
       "      <td>NaN</td>\n",
       "      <td>5</td>\n",
       "      <td>Los Angeles</td>\n",
       "      <td>6/23/2016 22:07:29</td>\n",
       "      <td>NaN</td>\n",
       "    </tr>\n",
       "    <tr>\n",
       "      <th>6</th>\n",
       "      <td>3.0</td>\n",
       "      <td>NaN</td>\n",
       "      <td>5</td>\n",
       "      <td>Los Angeles</td>\n",
       "      <td>6/24/2016 9:34:14</td>\n",
       "      <td>NaN</td>\n",
       "    </tr>\n",
       "    <tr>\n",
       "      <th>0</th>\n",
       "      <td>5.0</td>\n",
       "      <td>NaN</td>\n",
       "      <td>3</td>\n",
       "      <td>New York</td>\n",
       "      <td>6/24/2016 7:03:34</td>\n",
       "      <td>Games</td>\n",
       "    </tr>\n",
       "    <tr>\n",
       "      <th>1</th>\n",
       "      <td>3.0</td>\n",
       "      <td>NaN</td>\n",
       "      <td>3</td>\n",
       "      <td>New York</td>\n",
       "      <td>6/24/2016 7:10:22</td>\n",
       "      <td>Games</td>\n",
       "    </tr>\n",
       "    <tr>\n",
       "      <th>2</th>\n",
       "      <td>3.0</td>\n",
       "      <td>NaN</td>\n",
       "      <td>3</td>\n",
       "      <td>New York</td>\n",
       "      <td>6/24/2016 7:03:41</td>\n",
       "      <td>Apps</td>\n",
       "    </tr>\n",
       "    <tr>\n",
       "      <th>3</th>\n",
       "      <td>3.0</td>\n",
       "      <td>NaN</td>\n",
       "      <td>4</td>\n",
       "      <td>New York</td>\n",
       "      <td>6/24/2016 7:04:59</td>\n",
       "      <td>Intro</td>\n",
       "    </tr>\n",
       "    <tr>\n",
       "      <th>4</th>\n",
       "      <td>4.0</td>\n",
       "      <td>NaN</td>\n",
       "      <td>4</td>\n",
       "      <td>New York</td>\n",
       "      <td>6/24/2016 7:07:02</td>\n",
       "      <td>Intro</td>\n",
       "    </tr>\n",
       "    <tr>\n",
       "      <th>5</th>\n",
       "      <td>4.0</td>\n",
       "      <td>NaN</td>\n",
       "      <td>4</td>\n",
       "      <td>New York</td>\n",
       "      <td>6/24/2016 7:08:41</td>\n",
       "      <td>Intro</td>\n",
       "    </tr>\n",
       "    <tr>\n",
       "      <th>6</th>\n",
       "      <td>4.0</td>\n",
       "      <td>NaN</td>\n",
       "      <td>4</td>\n",
       "      <td>New York</td>\n",
       "      <td>6/24/2016 7:09:30</td>\n",
       "      <td>Intro</td>\n",
       "    </tr>\n",
       "    <tr>\n",
       "      <th>7</th>\n",
       "      <td>4.0</td>\n",
       "      <td>NaN</td>\n",
       "      <td>4</td>\n",
       "      <td>New York</td>\n",
       "      <td>6/24/2016 7:01:03</td>\n",
       "      <td>Games</td>\n",
       "    </tr>\n",
       "    <tr>\n",
       "      <th>8</th>\n",
       "      <td>4.0</td>\n",
       "      <td>NaN</td>\n",
       "      <td>4</td>\n",
       "      <td>New York</td>\n",
       "      <td>6/24/2016 7:02:43</td>\n",
       "      <td>Games</td>\n",
       "    </tr>\n",
       "    <tr>\n",
       "      <th>9</th>\n",
       "      <td>3.0</td>\n",
       "      <td>NaN</td>\n",
       "      <td>4</td>\n",
       "      <td>New York</td>\n",
       "      <td>6/24/2016 7:03:48</td>\n",
       "      <td>Games</td>\n",
       "    </tr>\n",
       "    <tr>\n",
       "      <th>10</th>\n",
       "      <td>3.0</td>\n",
       "      <td>NaN</td>\n",
       "      <td>4</td>\n",
       "      <td>New York</td>\n",
       "      <td>6/24/2016 7:06:04</td>\n",
       "      <td>Games</td>\n",
       "    </tr>\n",
       "    <tr>\n",
       "      <th>11</th>\n",
       "      <td>4.0</td>\n",
       "      <td>NaN</td>\n",
       "      <td>4</td>\n",
       "      <td>New York</td>\n",
       "      <td>6/24/2016 7:06:24</td>\n",
       "      <td>Games</td>\n",
       "    </tr>\n",
       "    <tr>\n",
       "      <th>12</th>\n",
       "      <td>4.0</td>\n",
       "      <td>NaN</td>\n",
       "      <td>4</td>\n",
       "      <td>New York</td>\n",
       "      <td>6/24/2016 7:01:19</td>\n",
       "      <td>Apps</td>\n",
       "    </tr>\n",
       "    <tr>\n",
       "      <th>13</th>\n",
       "      <td>4.0</td>\n",
       "      <td>NaN</td>\n",
       "      <td>4</td>\n",
       "      <td>New York</td>\n",
       "      <td>6/24/2016 7:01:29</td>\n",
       "      <td>Apps</td>\n",
       "    </tr>\n",
       "    <tr>\n",
       "      <th>14</th>\n",
       "      <td>4.0</td>\n",
       "      <td>NaN</td>\n",
       "      <td>4</td>\n",
       "      <td>New York</td>\n",
       "      <td>6/24/2016 7:02:20</td>\n",
       "      <td>Apps</td>\n",
       "    </tr>\n",
       "    <tr>\n",
       "      <th>...</th>\n",
       "      <td>...</td>\n",
       "      <td>...</td>\n",
       "      <td>...</td>\n",
       "      <td>...</td>\n",
       "      <td>...</td>\n",
       "      <td>...</td>\n",
       "    </tr>\n",
       "    <tr>\n",
       "      <th>32</th>\n",
       "      <td>4.0</td>\n",
       "      <td>NaN</td>\n",
       "      <td>4</td>\n",
       "      <td>Sunnyvale</td>\n",
       "      <td>6/24/2016 14:12:35</td>\n",
       "      <td>Games</td>\n",
       "    </tr>\n",
       "    <tr>\n",
       "      <th>33</th>\n",
       "      <td>4.0</td>\n",
       "      <td>NaN</td>\n",
       "      <td>4</td>\n",
       "      <td>Sunnyvale</td>\n",
       "      <td>6/24/2016 13:44:44</td>\n",
       "      <td>Intro</td>\n",
       "    </tr>\n",
       "    <tr>\n",
       "      <th>34</th>\n",
       "      <td>3.0</td>\n",
       "      <td>NaN</td>\n",
       "      <td>4</td>\n",
       "      <td>Sunnyvale</td>\n",
       "      <td>6/24/2016 13:45:54</td>\n",
       "      <td>Intro</td>\n",
       "    </tr>\n",
       "    <tr>\n",
       "      <th>35</th>\n",
       "      <td>4.0</td>\n",
       "      <td>NaN</td>\n",
       "      <td>4</td>\n",
       "      <td>Sunnyvale</td>\n",
       "      <td>6/24/2016 13:49:54</td>\n",
       "      <td>Intro</td>\n",
       "    </tr>\n",
       "    <tr>\n",
       "      <th>36</th>\n",
       "      <td>3.0</td>\n",
       "      <td>NaN</td>\n",
       "      <td>4</td>\n",
       "      <td>Sunnyvale</td>\n",
       "      <td>6/24/2016 13:50:04</td>\n",
       "      <td>Intro</td>\n",
       "    </tr>\n",
       "    <tr>\n",
       "      <th>37</th>\n",
       "      <td>4.0</td>\n",
       "      <td>NaN</td>\n",
       "      <td>4</td>\n",
       "      <td>Sunnyvale</td>\n",
       "      <td>6/24/2016 13:50:19</td>\n",
       "      <td>Intro</td>\n",
       "    </tr>\n",
       "    <tr>\n",
       "      <th>38</th>\n",
       "      <td>3.0</td>\n",
       "      <td>NaN</td>\n",
       "      <td>4</td>\n",
       "      <td>Sunnyvale</td>\n",
       "      <td>6/24/2016 13:51:46</td>\n",
       "      <td>Intro</td>\n",
       "    </tr>\n",
       "    <tr>\n",
       "      <th>39</th>\n",
       "      <td>3.0</td>\n",
       "      <td>NaN</td>\n",
       "      <td>4</td>\n",
       "      <td>Sunnyvale</td>\n",
       "      <td>6/24/2016 13:53:22</td>\n",
       "      <td>Intro</td>\n",
       "    </tr>\n",
       "    <tr>\n",
       "      <th>40</th>\n",
       "      <td>3.0</td>\n",
       "      <td>NaN</td>\n",
       "      <td>4</td>\n",
       "      <td>Sunnyvale</td>\n",
       "      <td>6/24/2016 13:55:06</td>\n",
       "      <td>Intro</td>\n",
       "    </tr>\n",
       "    <tr>\n",
       "      <th>41</th>\n",
       "      <td>3.0</td>\n",
       "      <td>NaN</td>\n",
       "      <td>5</td>\n",
       "      <td>Sunnyvale</td>\n",
       "      <td>6/24/2016 13:47:09</td>\n",
       "      <td>Apps</td>\n",
       "    </tr>\n",
       "    <tr>\n",
       "      <th>42</th>\n",
       "      <td>3.0</td>\n",
       "      <td>NaN</td>\n",
       "      <td>5</td>\n",
       "      <td>Sunnyvale</td>\n",
       "      <td>6/24/2016 13:47:20</td>\n",
       "      <td>Apps</td>\n",
       "    </tr>\n",
       "    <tr>\n",
       "      <th>43</th>\n",
       "      <td>3.0</td>\n",
       "      <td>NaN</td>\n",
       "      <td>5</td>\n",
       "      <td>Sunnyvale</td>\n",
       "      <td>6/24/2016 13:47:25</td>\n",
       "      <td>Apps</td>\n",
       "    </tr>\n",
       "    <tr>\n",
       "      <th>44</th>\n",
       "      <td>3.0</td>\n",
       "      <td>NaN</td>\n",
       "      <td>5</td>\n",
       "      <td>Sunnyvale</td>\n",
       "      <td>6/24/2016 13:49:23</td>\n",
       "      <td>Apps</td>\n",
       "    </tr>\n",
       "    <tr>\n",
       "      <th>45</th>\n",
       "      <td>3.0</td>\n",
       "      <td>NaN</td>\n",
       "      <td>5</td>\n",
       "      <td>Sunnyvale</td>\n",
       "      <td>6/24/2016 13:50:25</td>\n",
       "      <td>Apps</td>\n",
       "    </tr>\n",
       "    <tr>\n",
       "      <th>46</th>\n",
       "      <td>3.0</td>\n",
       "      <td>NaN</td>\n",
       "      <td>5</td>\n",
       "      <td>Sunnyvale</td>\n",
       "      <td>6/24/2016 13:50:34</td>\n",
       "      <td>Apps</td>\n",
       "    </tr>\n",
       "    <tr>\n",
       "      <th>47</th>\n",
       "      <td>4.0</td>\n",
       "      <td>NaN</td>\n",
       "      <td>5</td>\n",
       "      <td>Sunnyvale</td>\n",
       "      <td>6/24/2016 13:50:54</td>\n",
       "      <td>Apps</td>\n",
       "    </tr>\n",
       "    <tr>\n",
       "      <th>48</th>\n",
       "      <td>4.0</td>\n",
       "      <td>NaN</td>\n",
       "      <td>5</td>\n",
       "      <td>Sunnyvale</td>\n",
       "      <td>6/24/2016 13:51:20</td>\n",
       "      <td>Apps</td>\n",
       "    </tr>\n",
       "    <tr>\n",
       "      <th>49</th>\n",
       "      <td>3.0</td>\n",
       "      <td>NaN</td>\n",
       "      <td>5</td>\n",
       "      <td>Sunnyvale</td>\n",
       "      <td>6/24/2016 13:53:34</td>\n",
       "      <td>Apps</td>\n",
       "    </tr>\n",
       "    <tr>\n",
       "      <th>50</th>\n",
       "      <td>4.0</td>\n",
       "      <td>NaN</td>\n",
       "      <td>5</td>\n",
       "      <td>Sunnyvale</td>\n",
       "      <td>6/24/2016 13:54:13</td>\n",
       "      <td>Apps</td>\n",
       "    </tr>\n",
       "    <tr>\n",
       "      <th>51</th>\n",
       "      <td>4.0</td>\n",
       "      <td>NaN</td>\n",
       "      <td>5</td>\n",
       "      <td>Sunnyvale</td>\n",
       "      <td>6/24/2016 13:54:38</td>\n",
       "      <td>Apps</td>\n",
       "    </tr>\n",
       "    <tr>\n",
       "      <th>52</th>\n",
       "      <td>4.0</td>\n",
       "      <td>NaN</td>\n",
       "      <td>5</td>\n",
       "      <td>Sunnyvale</td>\n",
       "      <td>6/24/2016 13:30:55</td>\n",
       "      <td>Games</td>\n",
       "    </tr>\n",
       "    <tr>\n",
       "      <th>53</th>\n",
       "      <td>2.0</td>\n",
       "      <td>NaN</td>\n",
       "      <td>5</td>\n",
       "      <td>Sunnyvale</td>\n",
       "      <td>6/24/2016 13:33:00</td>\n",
       "      <td>Games</td>\n",
       "    </tr>\n",
       "    <tr>\n",
       "      <th>54</th>\n",
       "      <td>3.0</td>\n",
       "      <td>NaN</td>\n",
       "      <td>5</td>\n",
       "      <td>Sunnyvale</td>\n",
       "      <td>6/24/2016 13:34:13</td>\n",
       "      <td>Games</td>\n",
       "    </tr>\n",
       "    <tr>\n",
       "      <th>55</th>\n",
       "      <td>4.0</td>\n",
       "      <td>NaN</td>\n",
       "      <td>5</td>\n",
       "      <td>Sunnyvale</td>\n",
       "      <td>6/24/2016 14:05:25</td>\n",
       "      <td>Games</td>\n",
       "    </tr>\n",
       "    <tr>\n",
       "      <th>56</th>\n",
       "      <td>3.0</td>\n",
       "      <td>NaN</td>\n",
       "      <td>5</td>\n",
       "      <td>Sunnyvale</td>\n",
       "      <td>6/24/2016 13:44:05</td>\n",
       "      <td>Intro</td>\n",
       "    </tr>\n",
       "    <tr>\n",
       "      <th>57</th>\n",
       "      <td>2.0</td>\n",
       "      <td>NaN</td>\n",
       "      <td>5</td>\n",
       "      <td>Sunnyvale</td>\n",
       "      <td>6/24/2016 13:45:50</td>\n",
       "      <td>Intro</td>\n",
       "    </tr>\n",
       "    <tr>\n",
       "      <th>58</th>\n",
       "      <td>3.0</td>\n",
       "      <td>NaN</td>\n",
       "      <td>5</td>\n",
       "      <td>Sunnyvale</td>\n",
       "      <td>6/24/2016 13:47:01</td>\n",
       "      <td>Intro</td>\n",
       "    </tr>\n",
       "    <tr>\n",
       "      <th>59</th>\n",
       "      <td>3.0</td>\n",
       "      <td>NaN</td>\n",
       "      <td>5</td>\n",
       "      <td>Sunnyvale</td>\n",
       "      <td>6/24/2016 13:49:01</td>\n",
       "      <td>Intro</td>\n",
       "    </tr>\n",
       "    <tr>\n",
       "      <th>60</th>\n",
       "      <td>3.0</td>\n",
       "      <td>NaN</td>\n",
       "      <td>5</td>\n",
       "      <td>Sunnyvale</td>\n",
       "      <td>6/24/2016 13:49:44</td>\n",
       "      <td>Intro</td>\n",
       "    </tr>\n",
       "    <tr>\n",
       "      <th>61</th>\n",
       "      <td>3.0</td>\n",
       "      <td>NaN</td>\n",
       "      <td>5</td>\n",
       "      <td>Sunnyvale</td>\n",
       "      <td>6/24/2016 13:50:23</td>\n",
       "      <td>Intro</td>\n",
       "    </tr>\n",
       "  </tbody>\n",
       "</table>\n",
       "<p>209 rows × 6 columns</p>\n",
       "</div>"
      ],
      "text/plain": [
       "    How well are the tutorials paced?  How well is the schedule paced?  \\\n",
       "0                                 NaN                              3.0   \n",
       "1                                 NaN                              3.0   \n",
       "2                                 NaN                              5.0   \n",
       "3                                 NaN                              3.0   \n",
       "4                                 NaN                              4.0   \n",
       "5                                 NaN                              3.0   \n",
       "6                                 NaN                              3.0   \n",
       "7                                 NaN                              3.0   \n",
       "0                                 4.0                              NaN   \n",
       "1                                 4.0                              NaN   \n",
       "2                                 4.0                              NaN   \n",
       "3                                 4.0                              NaN   \n",
       "4                                 5.0                              NaN   \n",
       "5                                 4.0                              NaN   \n",
       "6                                 3.0                              NaN   \n",
       "0                                 5.0                              NaN   \n",
       "1                                 3.0                              NaN   \n",
       "2                                 3.0                              NaN   \n",
       "3                                 3.0                              NaN   \n",
       "4                                 4.0                              NaN   \n",
       "5                                 4.0                              NaN   \n",
       "6                                 4.0                              NaN   \n",
       "7                                 4.0                              NaN   \n",
       "8                                 4.0                              NaN   \n",
       "9                                 3.0                              NaN   \n",
       "10                                3.0                              NaN   \n",
       "11                                4.0                              NaN   \n",
       "12                                4.0                              NaN   \n",
       "13                                4.0                              NaN   \n",
       "14                                4.0                              NaN   \n",
       "..                                ...                              ...   \n",
       "32                                4.0                              NaN   \n",
       "33                                4.0                              NaN   \n",
       "34                                3.0                              NaN   \n",
       "35                                4.0                              NaN   \n",
       "36                                3.0                              NaN   \n",
       "37                                4.0                              NaN   \n",
       "38                                3.0                              NaN   \n",
       "39                                3.0                              NaN   \n",
       "40                                3.0                              NaN   \n",
       "41                                3.0                              NaN   \n",
       "42                                3.0                              NaN   \n",
       "43                                3.0                              NaN   \n",
       "44                                3.0                              NaN   \n",
       "45                                3.0                              NaN   \n",
       "46                                3.0                              NaN   \n",
       "47                                4.0                              NaN   \n",
       "48                                4.0                              NaN   \n",
       "49                                3.0                              NaN   \n",
       "50                                4.0                              NaN   \n",
       "51                                4.0                              NaN   \n",
       "52                                4.0                              NaN   \n",
       "53                                2.0                              NaN   \n",
       "54                                3.0                              NaN   \n",
       "55                                4.0                              NaN   \n",
       "56                                3.0                              NaN   \n",
       "57                                2.0                              NaN   \n",
       "58                                3.0                              NaN   \n",
       "59                                3.0                              NaN   \n",
       "60                                3.0                              NaN   \n",
       "61                                3.0                              NaN   \n",
       "\n",
       "    How would you rate your overall satisfaction with the Summer Academy this week?  \\\n",
       "0                                                   4                                 \n",
       "1                                                   3                                 \n",
       "2                                                   3                                 \n",
       "3                                                   3                                 \n",
       "4                                                   4                                 \n",
       "5                                                   4                                 \n",
       "6                                                   3                                 \n",
       "7                                                   3                                 \n",
       "0                                                   3                                 \n",
       "1                                                   4                                 \n",
       "2                                                   4                                 \n",
       "3                                                   4                                 \n",
       "4                                                   4                                 \n",
       "5                                                   5                                 \n",
       "6                                                   5                                 \n",
       "0                                                   3                                 \n",
       "1                                                   3                                 \n",
       "2                                                   3                                 \n",
       "3                                                   4                                 \n",
       "4                                                   4                                 \n",
       "5                                                   4                                 \n",
       "6                                                   4                                 \n",
       "7                                                   4                                 \n",
       "8                                                   4                                 \n",
       "9                                                   4                                 \n",
       "10                                                  4                                 \n",
       "11                                                  4                                 \n",
       "12                                                  4                                 \n",
       "13                                                  4                                 \n",
       "14                                                  4                                 \n",
       "..                                                ...                                 \n",
       "32                                                  4                                 \n",
       "33                                                  4                                 \n",
       "34                                                  4                                 \n",
       "35                                                  4                                 \n",
       "36                                                  4                                 \n",
       "37                                                  4                                 \n",
       "38                                                  4                                 \n",
       "39                                                  4                                 \n",
       "40                                                  4                                 \n",
       "41                                                  5                                 \n",
       "42                                                  5                                 \n",
       "43                                                  5                                 \n",
       "44                                                  5                                 \n",
       "45                                                  5                                 \n",
       "46                                                  5                                 \n",
       "47                                                  5                                 \n",
       "48                                                  5                                 \n",
       "49                                                  5                                 \n",
       "50                                                  5                                 \n",
       "51                                                  5                                 \n",
       "52                                                  5                                 \n",
       "53                                                  5                                 \n",
       "54                                                  5                                 \n",
       "55                                                  5                                 \n",
       "56                                                  5                                 \n",
       "57                                                  5                                 \n",
       "58                                                  5                                 \n",
       "59                                                  5                                 \n",
       "60                                                  5                                 \n",
       "61                                                  5                                 \n",
       "\n",
       "       Location         Week number What track are you in?  \n",
       "0     Singapore    7/1/2016 5:41:15                    NaN  \n",
       "1     Singapore    7/1/2016 8:52:52                    NaN  \n",
       "2     Singapore    7/2/2016 7:49:54                    NaN  \n",
       "3     Singapore   7/3/2016 19:14:57                    NaN  \n",
       "4     Singapore   7/3/2016 19:21:48                    NaN  \n",
       "5     Singapore   7/3/2016 19:27:27                    NaN  \n",
       "6     Singapore   7/3/2016 20:00:26                    NaN  \n",
       "7     Singapore    7/4/2016 3:03:20                    NaN  \n",
       "0   Los Angeles  6/23/2016 15:55:12                    NaN  \n",
       "1   Los Angeles  6/23/2016 16:14:04                    NaN  \n",
       "2   Los Angeles   6/24/2016 0:18:42                    NaN  \n",
       "3   Los Angeles   6/24/2016 6:59:42                    NaN  \n",
       "4   Los Angeles   6/24/2016 9:40:16                    NaN  \n",
       "5   Los Angeles  6/23/2016 22:07:29                    NaN  \n",
       "6   Los Angeles   6/24/2016 9:34:14                    NaN  \n",
       "0      New York   6/24/2016 7:03:34                  Games  \n",
       "1      New York   6/24/2016 7:10:22                  Games  \n",
       "2      New York   6/24/2016 7:03:41                   Apps  \n",
       "3      New York   6/24/2016 7:04:59                  Intro  \n",
       "4      New York   6/24/2016 7:07:02                  Intro  \n",
       "5      New York   6/24/2016 7:08:41                  Intro  \n",
       "6      New York   6/24/2016 7:09:30                  Intro  \n",
       "7      New York   6/24/2016 7:01:03                  Games  \n",
       "8      New York   6/24/2016 7:02:43                  Games  \n",
       "9      New York   6/24/2016 7:03:48                  Games  \n",
       "10     New York   6/24/2016 7:06:04                  Games  \n",
       "11     New York   6/24/2016 7:06:24                  Games  \n",
       "12     New York   6/24/2016 7:01:19                   Apps  \n",
       "13     New York   6/24/2016 7:01:29                   Apps  \n",
       "14     New York   6/24/2016 7:02:20                   Apps  \n",
       "..          ...                 ...                    ...  \n",
       "32    Sunnyvale  6/24/2016 14:12:35                  Games  \n",
       "33    Sunnyvale  6/24/2016 13:44:44                  Intro  \n",
       "34    Sunnyvale  6/24/2016 13:45:54                  Intro  \n",
       "35    Sunnyvale  6/24/2016 13:49:54                  Intro  \n",
       "36    Sunnyvale  6/24/2016 13:50:04                  Intro  \n",
       "37    Sunnyvale  6/24/2016 13:50:19                  Intro  \n",
       "38    Sunnyvale  6/24/2016 13:51:46                  Intro  \n",
       "39    Sunnyvale  6/24/2016 13:53:22                  Intro  \n",
       "40    Sunnyvale  6/24/2016 13:55:06                  Intro  \n",
       "41    Sunnyvale  6/24/2016 13:47:09                   Apps  \n",
       "42    Sunnyvale  6/24/2016 13:47:20                   Apps  \n",
       "43    Sunnyvale  6/24/2016 13:47:25                   Apps  \n",
       "44    Sunnyvale  6/24/2016 13:49:23                   Apps  \n",
       "45    Sunnyvale  6/24/2016 13:50:25                   Apps  \n",
       "46    Sunnyvale  6/24/2016 13:50:34                   Apps  \n",
       "47    Sunnyvale  6/24/2016 13:50:54                   Apps  \n",
       "48    Sunnyvale  6/24/2016 13:51:20                   Apps  \n",
       "49    Sunnyvale  6/24/2016 13:53:34                   Apps  \n",
       "50    Sunnyvale  6/24/2016 13:54:13                   Apps  \n",
       "51    Sunnyvale  6/24/2016 13:54:38                   Apps  \n",
       "52    Sunnyvale  6/24/2016 13:30:55                  Games  \n",
       "53    Sunnyvale  6/24/2016 13:33:00                  Games  \n",
       "54    Sunnyvale  6/24/2016 13:34:13                  Games  \n",
       "55    Sunnyvale  6/24/2016 14:05:25                  Games  \n",
       "56    Sunnyvale  6/24/2016 13:44:05                  Intro  \n",
       "57    Sunnyvale  6/24/2016 13:45:50                  Intro  \n",
       "58    Sunnyvale  6/24/2016 13:47:01                  Intro  \n",
       "59    Sunnyvale  6/24/2016 13:49:01                  Intro  \n",
       "60    Sunnyvale  6/24/2016 13:49:44                  Intro  \n",
       "61    Sunnyvale  6/24/2016 13:50:23                  Intro  \n",
       "\n",
       "[209 rows x 6 columns]"
      ]
     },
     "execution_count": 542,
     "metadata": {},
     "output_type": "execute_result"
    }
   ],
   "source": [
    "# Here will only be the ones who have their track\n",
    "week1_frames = [SA_2016_Singapore_W1, SA_2016_LA_W1, SA_2016_NY_W1, SA_2016_SF_W1, SA_2016_SV_W1]\n",
    "SA_2016_W1_ALL = pd.concat(week1_frames, sort=True)\n",
    "# SA_2016_W1_ALL = SA_2016_W1_ALL.drop('What track are you in?', 1)\n",
    "SA_2016_W1_ALL"
   ]
  },
  {
   "cell_type": "code",
   "execution_count": 543,
   "metadata": {},
   "outputs": [],
   "source": [
    "# Here will only be the ones who have the feature track\n",
    "week1_frames_only_track = [SA_2016_NY_W1, SA_2016_SF_W1, SA_2016_SV_W1]\n",
    "SA_2016_W1_with_track = pd.concat(week1_frames_only_track, sort=True)\n",
    "# SA_2016_W1_with_track"
   ]
  },
  {
   "cell_type": "markdown",
   "metadata": {},
   "source": [
    "### Final cleanse and formating\n",
    "* Clean nul values\n",
    "* Change value of Week number"
   ]
  },
  {
   "cell_type": "code",
   "execution_count": 544,
   "metadata": {},
   "outputs": [
    {
     "data": {
      "text/html": [
       "<div>\n",
       "<style scoped>\n",
       "    .dataframe tbody tr th:only-of-type {\n",
       "        vertical-align: middle;\n",
       "    }\n",
       "\n",
       "    .dataframe tbody tr th {\n",
       "        vertical-align: top;\n",
       "    }\n",
       "\n",
       "    .dataframe thead th {\n",
       "        text-align: right;\n",
       "    }\n",
       "</style>\n",
       "<table border=\"1\" class=\"dataframe\">\n",
       "  <thead>\n",
       "    <tr style=\"text-align: right;\">\n",
       "      <th></th>\n",
       "      <th>0</th>\n",
       "    </tr>\n",
       "  </thead>\n",
       "  <tbody>\n",
       "    <tr>\n",
       "      <th>0</th>\n",
       "      <td>1.0</td>\n",
       "    </tr>\n",
       "    <tr>\n",
       "      <th>1</th>\n",
       "      <td>2.0</td>\n",
       "    </tr>\n",
       "    <tr>\n",
       "      <th>2</th>\n",
       "      <td>3.0</td>\n",
       "    </tr>\n",
       "    <tr>\n",
       "      <th>3</th>\n",
       "      <td>NaN</td>\n",
       "    </tr>\n",
       "    <tr>\n",
       "      <th>4</th>\n",
       "      <td>NaN</td>\n",
       "    </tr>\n",
       "    <tr>\n",
       "      <th>5</th>\n",
       "      <td>6.0</td>\n",
       "    </tr>\n",
       "    <tr>\n",
       "      <th>6</th>\n",
       "      <td>7.0</td>\n",
       "    </tr>\n",
       "    <tr>\n",
       "      <th>7</th>\n",
       "      <td>NaN</td>\n",
       "    </tr>\n",
       "    <tr>\n",
       "      <th>8</th>\n",
       "      <td>NaN</td>\n",
       "    </tr>\n",
       "    <tr>\n",
       "      <th>9</th>\n",
       "      <td>NaN</td>\n",
       "    </tr>\n",
       "  </tbody>\n",
       "</table>\n",
       "</div>"
      ],
      "text/plain": [
       "     0\n",
       "0  1.0\n",
       "1  2.0\n",
       "2  3.0\n",
       "3  NaN\n",
       "4  NaN\n",
       "5  6.0\n",
       "6  7.0\n",
       "7  NaN\n",
       "8  NaN\n",
       "9  NaN"
      ]
     },
     "execution_count": 544,
     "metadata": {},
     "output_type": "execute_result"
    }
   ],
   "source": [
    "df1 = pd.DataFrame([1, 2, 3, np.nan, np.nan, 6, 7, np.nan, np.nan, np.nan])\n",
    "df2 = pd.DataFrame([np.nan, np.nan, np.nan, 4, 5, np.nan, np.nan, 8, 9, 0])\n",
    "\n",
    "df1"
   ]
  },
  {
   "cell_type": "code",
   "execution_count": 545,
   "metadata": {
    "scrolled": true
   },
   "outputs": [
    {
     "data": {
      "text/html": [
       "<div>\n",
       "<style scoped>\n",
       "    .dataframe tbody tr th:only-of-type {\n",
       "        vertical-align: middle;\n",
       "    }\n",
       "\n",
       "    .dataframe tbody tr th {\n",
       "        vertical-align: top;\n",
       "    }\n",
       "\n",
       "    .dataframe thead th {\n",
       "        text-align: right;\n",
       "    }\n",
       "</style>\n",
       "<table border=\"1\" class=\"dataframe\">\n",
       "  <thead>\n",
       "    <tr style=\"text-align: right;\">\n",
       "      <th></th>\n",
       "      <th>0</th>\n",
       "    </tr>\n",
       "  </thead>\n",
       "  <tbody>\n",
       "    <tr>\n",
       "      <th>0</th>\n",
       "      <td>NaN</td>\n",
       "    </tr>\n",
       "    <tr>\n",
       "      <th>1</th>\n",
       "      <td>NaN</td>\n",
       "    </tr>\n",
       "    <tr>\n",
       "      <th>2</th>\n",
       "      <td>NaN</td>\n",
       "    </tr>\n",
       "    <tr>\n",
       "      <th>3</th>\n",
       "      <td>4.0</td>\n",
       "    </tr>\n",
       "    <tr>\n",
       "      <th>4</th>\n",
       "      <td>5.0</td>\n",
       "    </tr>\n",
       "    <tr>\n",
       "      <th>5</th>\n",
       "      <td>NaN</td>\n",
       "    </tr>\n",
       "    <tr>\n",
       "      <th>6</th>\n",
       "      <td>NaN</td>\n",
       "    </tr>\n",
       "    <tr>\n",
       "      <th>7</th>\n",
       "      <td>8.0</td>\n",
       "    </tr>\n",
       "    <tr>\n",
       "      <th>8</th>\n",
       "      <td>9.0</td>\n",
       "    </tr>\n",
       "    <tr>\n",
       "      <th>9</th>\n",
       "      <td>0.0</td>\n",
       "    </tr>\n",
       "  </tbody>\n",
       "</table>\n",
       "</div>"
      ],
      "text/plain": [
       "     0\n",
       "0  NaN\n",
       "1  NaN\n",
       "2  NaN\n",
       "3  4.0\n",
       "4  5.0\n",
       "5  NaN\n",
       "6  NaN\n",
       "7  8.0\n",
       "8  9.0\n",
       "9  0.0"
      ]
     },
     "execution_count": 545,
     "metadata": {},
     "output_type": "execute_result"
    }
   ],
   "source": [
    "df2"
   ]
  },
  {
   "cell_type": "code",
   "execution_count": 546,
   "metadata": {},
   "outputs": [],
   "source": [
    "df1 = df1.fillna(0)\n",
    "df2 = df2.fillna(0)\n",
    "\n",
    "df_full = df1 + df2"
   ]
  },
  {
   "cell_type": "code",
   "execution_count": 547,
   "metadata": {},
   "outputs": [
    {
     "data": {
      "text/html": [
       "<div>\n",
       "<style scoped>\n",
       "    .dataframe tbody tr th:only-of-type {\n",
       "        vertical-align: middle;\n",
       "    }\n",
       "\n",
       "    .dataframe tbody tr th {\n",
       "        vertical-align: top;\n",
       "    }\n",
       "\n",
       "    .dataframe thead th {\n",
       "        text-align: right;\n",
       "    }\n",
       "</style>\n",
       "<table border=\"1\" class=\"dataframe\">\n",
       "  <thead>\n",
       "    <tr style=\"text-align: right;\">\n",
       "      <th></th>\n",
       "      <th>0</th>\n",
       "    </tr>\n",
       "  </thead>\n",
       "  <tbody>\n",
       "    <tr>\n",
       "      <th>0</th>\n",
       "      <td>1.0</td>\n",
       "    </tr>\n",
       "    <tr>\n",
       "      <th>1</th>\n",
       "      <td>2.0</td>\n",
       "    </tr>\n",
       "    <tr>\n",
       "      <th>2</th>\n",
       "      <td>3.0</td>\n",
       "    </tr>\n",
       "    <tr>\n",
       "      <th>3</th>\n",
       "      <td>4.0</td>\n",
       "    </tr>\n",
       "    <tr>\n",
       "      <th>4</th>\n",
       "      <td>5.0</td>\n",
       "    </tr>\n",
       "    <tr>\n",
       "      <th>5</th>\n",
       "      <td>6.0</td>\n",
       "    </tr>\n",
       "    <tr>\n",
       "      <th>6</th>\n",
       "      <td>7.0</td>\n",
       "    </tr>\n",
       "    <tr>\n",
       "      <th>7</th>\n",
       "      <td>8.0</td>\n",
       "    </tr>\n",
       "    <tr>\n",
       "      <th>8</th>\n",
       "      <td>9.0</td>\n",
       "    </tr>\n",
       "    <tr>\n",
       "      <th>9</th>\n",
       "      <td>0.0</td>\n",
       "    </tr>\n",
       "  </tbody>\n",
       "</table>\n",
       "</div>"
      ],
      "text/plain": [
       "     0\n",
       "0  1.0\n",
       "1  2.0\n",
       "2  3.0\n",
       "3  4.0\n",
       "4  5.0\n",
       "5  6.0\n",
       "6  7.0\n",
       "7  8.0\n",
       "8  9.0\n",
       "9  0.0"
      ]
     },
     "execution_count": 547,
     "metadata": {},
     "output_type": "execute_result"
    }
   ],
   "source": [
    "df_full"
   ]
  },
  {
   "cell_type": "markdown",
   "metadata": {},
   "source": [
    "#### Replacing all Nan values with 0"
   ]
  },
  {
   "cell_type": "code",
   "execution_count": 548,
   "metadata": {},
   "outputs": [],
   "source": [
    "SA_2016_W1_ALL = SA_2016_W1_ALL.fillna(0)\n",
    "# SA_2016_W1_ALL\n",
    "# Only in the locations where you dont have a track they have the schedule pacing\n",
    "# SA_2016_W1_with_track = SA_2016_W1_with_track.fillna(0)\n",
    "# SA_2016_W1_with_track"
   ]
  },
  {
   "cell_type": "markdown",
   "metadata": {},
   "source": [
    "#### Creating a single column"
   ]
  },
  {
   "cell_type": "code",
   "execution_count": 557,
   "metadata": {},
   "outputs": [
    {
     "data": {
      "text/html": [
       "<div>\n",
       "<style scoped>\n",
       "    .dataframe tbody tr th:only-of-type {\n",
       "        vertical-align: middle;\n",
       "    }\n",
       "\n",
       "    .dataframe tbody tr th {\n",
       "        vertical-align: top;\n",
       "    }\n",
       "\n",
       "    .dataframe thead th {\n",
       "        text-align: right;\n",
       "    }\n",
       "</style>\n",
       "<table border=\"1\" class=\"dataframe\">\n",
       "  <thead>\n",
       "    <tr style=\"text-align: right;\">\n",
       "      <th></th>\n",
       "      <th>Week number</th>\n",
       "      <th>How would you rate your overall satisfaction with the Summer Academy this week?</th>\n",
       "      <th>Location</th>\n",
       "      <th>Level of satisfaction with the pacing</th>\n",
       "    </tr>\n",
       "  </thead>\n",
       "  <tbody>\n",
       "    <tr>\n",
       "      <th>0</th>\n",
       "      <td>Week1</td>\n",
       "      <td>4</td>\n",
       "      <td>Singapore</td>\n",
       "      <td>3.0</td>\n",
       "    </tr>\n",
       "    <tr>\n",
       "      <th>1</th>\n",
       "      <td>Week1</td>\n",
       "      <td>3</td>\n",
       "      <td>Singapore</td>\n",
       "      <td>3.0</td>\n",
       "    </tr>\n",
       "    <tr>\n",
       "      <th>2</th>\n",
       "      <td>Week1</td>\n",
       "      <td>3</td>\n",
       "      <td>Singapore</td>\n",
       "      <td>5.0</td>\n",
       "    </tr>\n",
       "    <tr>\n",
       "      <th>3</th>\n",
       "      <td>Week1</td>\n",
       "      <td>3</td>\n",
       "      <td>Singapore</td>\n",
       "      <td>3.0</td>\n",
       "    </tr>\n",
       "    <tr>\n",
       "      <th>4</th>\n",
       "      <td>Week1</td>\n",
       "      <td>4</td>\n",
       "      <td>Singapore</td>\n",
       "      <td>4.0</td>\n",
       "    </tr>\n",
       "    <tr>\n",
       "      <th>5</th>\n",
       "      <td>Week1</td>\n",
       "      <td>4</td>\n",
       "      <td>Singapore</td>\n",
       "      <td>3.0</td>\n",
       "    </tr>\n",
       "    <tr>\n",
       "      <th>6</th>\n",
       "      <td>Week1</td>\n",
       "      <td>3</td>\n",
       "      <td>Singapore</td>\n",
       "      <td>3.0</td>\n",
       "    </tr>\n",
       "    <tr>\n",
       "      <th>7</th>\n",
       "      <td>Week1</td>\n",
       "      <td>3</td>\n",
       "      <td>Singapore</td>\n",
       "      <td>3.0</td>\n",
       "    </tr>\n",
       "    <tr>\n",
       "      <th>0</th>\n",
       "      <td>Week1</td>\n",
       "      <td>3</td>\n",
       "      <td>Los Angeles</td>\n",
       "      <td>4.0</td>\n",
       "    </tr>\n",
       "    <tr>\n",
       "      <th>1</th>\n",
       "      <td>Week1</td>\n",
       "      <td>4</td>\n",
       "      <td>Los Angeles</td>\n",
       "      <td>4.0</td>\n",
       "    </tr>\n",
       "    <tr>\n",
       "      <th>2</th>\n",
       "      <td>Week1</td>\n",
       "      <td>4</td>\n",
       "      <td>Los Angeles</td>\n",
       "      <td>4.0</td>\n",
       "    </tr>\n",
       "    <tr>\n",
       "      <th>3</th>\n",
       "      <td>Week1</td>\n",
       "      <td>4</td>\n",
       "      <td>Los Angeles</td>\n",
       "      <td>4.0</td>\n",
       "    </tr>\n",
       "    <tr>\n",
       "      <th>4</th>\n",
       "      <td>Week1</td>\n",
       "      <td>4</td>\n",
       "      <td>Los Angeles</td>\n",
       "      <td>5.0</td>\n",
       "    </tr>\n",
       "    <tr>\n",
       "      <th>5</th>\n",
       "      <td>Week1</td>\n",
       "      <td>5</td>\n",
       "      <td>Los Angeles</td>\n",
       "      <td>4.0</td>\n",
       "    </tr>\n",
       "    <tr>\n",
       "      <th>6</th>\n",
       "      <td>Week1</td>\n",
       "      <td>5</td>\n",
       "      <td>Los Angeles</td>\n",
       "      <td>3.0</td>\n",
       "    </tr>\n",
       "    <tr>\n",
       "      <th>0</th>\n",
       "      <td>Week1</td>\n",
       "      <td>3</td>\n",
       "      <td>New York</td>\n",
       "      <td>5.0</td>\n",
       "    </tr>\n",
       "    <tr>\n",
       "      <th>1</th>\n",
       "      <td>Week1</td>\n",
       "      <td>3</td>\n",
       "      <td>New York</td>\n",
       "      <td>3.0</td>\n",
       "    </tr>\n",
       "    <tr>\n",
       "      <th>2</th>\n",
       "      <td>Week1</td>\n",
       "      <td>3</td>\n",
       "      <td>New York</td>\n",
       "      <td>3.0</td>\n",
       "    </tr>\n",
       "    <tr>\n",
       "      <th>3</th>\n",
       "      <td>Week1</td>\n",
       "      <td>4</td>\n",
       "      <td>New York</td>\n",
       "      <td>3.0</td>\n",
       "    </tr>\n",
       "    <tr>\n",
       "      <th>4</th>\n",
       "      <td>Week1</td>\n",
       "      <td>4</td>\n",
       "      <td>New York</td>\n",
       "      <td>4.0</td>\n",
       "    </tr>\n",
       "    <tr>\n",
       "      <th>5</th>\n",
       "      <td>Week1</td>\n",
       "      <td>4</td>\n",
       "      <td>New York</td>\n",
       "      <td>4.0</td>\n",
       "    </tr>\n",
       "    <tr>\n",
       "      <th>6</th>\n",
       "      <td>Week1</td>\n",
       "      <td>4</td>\n",
       "      <td>New York</td>\n",
       "      <td>4.0</td>\n",
       "    </tr>\n",
       "    <tr>\n",
       "      <th>7</th>\n",
       "      <td>Week1</td>\n",
       "      <td>4</td>\n",
       "      <td>New York</td>\n",
       "      <td>4.0</td>\n",
       "    </tr>\n",
       "    <tr>\n",
       "      <th>8</th>\n",
       "      <td>Week1</td>\n",
       "      <td>4</td>\n",
       "      <td>New York</td>\n",
       "      <td>4.0</td>\n",
       "    </tr>\n",
       "    <tr>\n",
       "      <th>9</th>\n",
       "      <td>Week1</td>\n",
       "      <td>4</td>\n",
       "      <td>New York</td>\n",
       "      <td>3.0</td>\n",
       "    </tr>\n",
       "    <tr>\n",
       "      <th>10</th>\n",
       "      <td>Week1</td>\n",
       "      <td>4</td>\n",
       "      <td>New York</td>\n",
       "      <td>3.0</td>\n",
       "    </tr>\n",
       "    <tr>\n",
       "      <th>11</th>\n",
       "      <td>Week1</td>\n",
       "      <td>4</td>\n",
       "      <td>New York</td>\n",
       "      <td>4.0</td>\n",
       "    </tr>\n",
       "    <tr>\n",
       "      <th>12</th>\n",
       "      <td>Week1</td>\n",
       "      <td>4</td>\n",
       "      <td>New York</td>\n",
       "      <td>4.0</td>\n",
       "    </tr>\n",
       "    <tr>\n",
       "      <th>13</th>\n",
       "      <td>Week1</td>\n",
       "      <td>4</td>\n",
       "      <td>New York</td>\n",
       "      <td>4.0</td>\n",
       "    </tr>\n",
       "    <tr>\n",
       "      <th>14</th>\n",
       "      <td>Week1</td>\n",
       "      <td>4</td>\n",
       "      <td>New York</td>\n",
       "      <td>4.0</td>\n",
       "    </tr>\n",
       "    <tr>\n",
       "      <th>...</th>\n",
       "      <td>...</td>\n",
       "      <td>...</td>\n",
       "      <td>...</td>\n",
       "      <td>...</td>\n",
       "    </tr>\n",
       "    <tr>\n",
       "      <th>32</th>\n",
       "      <td>Week1</td>\n",
       "      <td>4</td>\n",
       "      <td>Sunnyvale</td>\n",
       "      <td>4.0</td>\n",
       "    </tr>\n",
       "    <tr>\n",
       "      <th>33</th>\n",
       "      <td>Week1</td>\n",
       "      <td>4</td>\n",
       "      <td>Sunnyvale</td>\n",
       "      <td>4.0</td>\n",
       "    </tr>\n",
       "    <tr>\n",
       "      <th>34</th>\n",
       "      <td>Week1</td>\n",
       "      <td>4</td>\n",
       "      <td>Sunnyvale</td>\n",
       "      <td>3.0</td>\n",
       "    </tr>\n",
       "    <tr>\n",
       "      <th>35</th>\n",
       "      <td>Week1</td>\n",
       "      <td>4</td>\n",
       "      <td>Sunnyvale</td>\n",
       "      <td>4.0</td>\n",
       "    </tr>\n",
       "    <tr>\n",
       "      <th>36</th>\n",
       "      <td>Week1</td>\n",
       "      <td>4</td>\n",
       "      <td>Sunnyvale</td>\n",
       "      <td>3.0</td>\n",
       "    </tr>\n",
       "    <tr>\n",
       "      <th>37</th>\n",
       "      <td>Week1</td>\n",
       "      <td>4</td>\n",
       "      <td>Sunnyvale</td>\n",
       "      <td>4.0</td>\n",
       "    </tr>\n",
       "    <tr>\n",
       "      <th>38</th>\n",
       "      <td>Week1</td>\n",
       "      <td>4</td>\n",
       "      <td>Sunnyvale</td>\n",
       "      <td>3.0</td>\n",
       "    </tr>\n",
       "    <tr>\n",
       "      <th>39</th>\n",
       "      <td>Week1</td>\n",
       "      <td>4</td>\n",
       "      <td>Sunnyvale</td>\n",
       "      <td>3.0</td>\n",
       "    </tr>\n",
       "    <tr>\n",
       "      <th>40</th>\n",
       "      <td>Week1</td>\n",
       "      <td>4</td>\n",
       "      <td>Sunnyvale</td>\n",
       "      <td>3.0</td>\n",
       "    </tr>\n",
       "    <tr>\n",
       "      <th>41</th>\n",
       "      <td>Week1</td>\n",
       "      <td>5</td>\n",
       "      <td>Sunnyvale</td>\n",
       "      <td>3.0</td>\n",
       "    </tr>\n",
       "    <tr>\n",
       "      <th>42</th>\n",
       "      <td>Week1</td>\n",
       "      <td>5</td>\n",
       "      <td>Sunnyvale</td>\n",
       "      <td>3.0</td>\n",
       "    </tr>\n",
       "    <tr>\n",
       "      <th>43</th>\n",
       "      <td>Week1</td>\n",
       "      <td>5</td>\n",
       "      <td>Sunnyvale</td>\n",
       "      <td>3.0</td>\n",
       "    </tr>\n",
       "    <tr>\n",
       "      <th>44</th>\n",
       "      <td>Week1</td>\n",
       "      <td>5</td>\n",
       "      <td>Sunnyvale</td>\n",
       "      <td>3.0</td>\n",
       "    </tr>\n",
       "    <tr>\n",
       "      <th>45</th>\n",
       "      <td>Week1</td>\n",
       "      <td>5</td>\n",
       "      <td>Sunnyvale</td>\n",
       "      <td>3.0</td>\n",
       "    </tr>\n",
       "    <tr>\n",
       "      <th>46</th>\n",
       "      <td>Week1</td>\n",
       "      <td>5</td>\n",
       "      <td>Sunnyvale</td>\n",
       "      <td>3.0</td>\n",
       "    </tr>\n",
       "    <tr>\n",
       "      <th>47</th>\n",
       "      <td>Week1</td>\n",
       "      <td>5</td>\n",
       "      <td>Sunnyvale</td>\n",
       "      <td>4.0</td>\n",
       "    </tr>\n",
       "    <tr>\n",
       "      <th>48</th>\n",
       "      <td>Week1</td>\n",
       "      <td>5</td>\n",
       "      <td>Sunnyvale</td>\n",
       "      <td>4.0</td>\n",
       "    </tr>\n",
       "    <tr>\n",
       "      <th>49</th>\n",
       "      <td>Week1</td>\n",
       "      <td>5</td>\n",
       "      <td>Sunnyvale</td>\n",
       "      <td>3.0</td>\n",
       "    </tr>\n",
       "    <tr>\n",
       "      <th>50</th>\n",
       "      <td>Week1</td>\n",
       "      <td>5</td>\n",
       "      <td>Sunnyvale</td>\n",
       "      <td>4.0</td>\n",
       "    </tr>\n",
       "    <tr>\n",
       "      <th>51</th>\n",
       "      <td>Week1</td>\n",
       "      <td>5</td>\n",
       "      <td>Sunnyvale</td>\n",
       "      <td>4.0</td>\n",
       "    </tr>\n",
       "    <tr>\n",
       "      <th>52</th>\n",
       "      <td>Week1</td>\n",
       "      <td>5</td>\n",
       "      <td>Sunnyvale</td>\n",
       "      <td>4.0</td>\n",
       "    </tr>\n",
       "    <tr>\n",
       "      <th>53</th>\n",
       "      <td>Week1</td>\n",
       "      <td>5</td>\n",
       "      <td>Sunnyvale</td>\n",
       "      <td>2.0</td>\n",
       "    </tr>\n",
       "    <tr>\n",
       "      <th>54</th>\n",
       "      <td>Week1</td>\n",
       "      <td>5</td>\n",
       "      <td>Sunnyvale</td>\n",
       "      <td>3.0</td>\n",
       "    </tr>\n",
       "    <tr>\n",
       "      <th>55</th>\n",
       "      <td>Week1</td>\n",
       "      <td>5</td>\n",
       "      <td>Sunnyvale</td>\n",
       "      <td>4.0</td>\n",
       "    </tr>\n",
       "    <tr>\n",
       "      <th>56</th>\n",
       "      <td>Week1</td>\n",
       "      <td>5</td>\n",
       "      <td>Sunnyvale</td>\n",
       "      <td>3.0</td>\n",
       "    </tr>\n",
       "    <tr>\n",
       "      <th>57</th>\n",
       "      <td>Week1</td>\n",
       "      <td>5</td>\n",
       "      <td>Sunnyvale</td>\n",
       "      <td>2.0</td>\n",
       "    </tr>\n",
       "    <tr>\n",
       "      <th>58</th>\n",
       "      <td>Week1</td>\n",
       "      <td>5</td>\n",
       "      <td>Sunnyvale</td>\n",
       "      <td>3.0</td>\n",
       "    </tr>\n",
       "    <tr>\n",
       "      <th>59</th>\n",
       "      <td>Week1</td>\n",
       "      <td>5</td>\n",
       "      <td>Sunnyvale</td>\n",
       "      <td>3.0</td>\n",
       "    </tr>\n",
       "    <tr>\n",
       "      <th>60</th>\n",
       "      <td>Week1</td>\n",
       "      <td>5</td>\n",
       "      <td>Sunnyvale</td>\n",
       "      <td>3.0</td>\n",
       "    </tr>\n",
       "    <tr>\n",
       "      <th>61</th>\n",
       "      <td>Week1</td>\n",
       "      <td>5</td>\n",
       "      <td>Sunnyvale</td>\n",
       "      <td>3.0</td>\n",
       "    </tr>\n",
       "  </tbody>\n",
       "</table>\n",
       "<p>209 rows × 4 columns</p>\n",
       "</div>"
      ],
      "text/plain": [
       "   Week number  \\\n",
       "0        Week1   \n",
       "1        Week1   \n",
       "2        Week1   \n",
       "3        Week1   \n",
       "4        Week1   \n",
       "5        Week1   \n",
       "6        Week1   \n",
       "7        Week1   \n",
       "0        Week1   \n",
       "1        Week1   \n",
       "2        Week1   \n",
       "3        Week1   \n",
       "4        Week1   \n",
       "5        Week1   \n",
       "6        Week1   \n",
       "0        Week1   \n",
       "1        Week1   \n",
       "2        Week1   \n",
       "3        Week1   \n",
       "4        Week1   \n",
       "5        Week1   \n",
       "6        Week1   \n",
       "7        Week1   \n",
       "8        Week1   \n",
       "9        Week1   \n",
       "10       Week1   \n",
       "11       Week1   \n",
       "12       Week1   \n",
       "13       Week1   \n",
       "14       Week1   \n",
       "..         ...   \n",
       "32       Week1   \n",
       "33       Week1   \n",
       "34       Week1   \n",
       "35       Week1   \n",
       "36       Week1   \n",
       "37       Week1   \n",
       "38       Week1   \n",
       "39       Week1   \n",
       "40       Week1   \n",
       "41       Week1   \n",
       "42       Week1   \n",
       "43       Week1   \n",
       "44       Week1   \n",
       "45       Week1   \n",
       "46       Week1   \n",
       "47       Week1   \n",
       "48       Week1   \n",
       "49       Week1   \n",
       "50       Week1   \n",
       "51       Week1   \n",
       "52       Week1   \n",
       "53       Week1   \n",
       "54       Week1   \n",
       "55       Week1   \n",
       "56       Week1   \n",
       "57       Week1   \n",
       "58       Week1   \n",
       "59       Week1   \n",
       "60       Week1   \n",
       "61       Week1   \n",
       "\n",
       "    How would you rate your overall satisfaction with the Summer Academy this week?  \\\n",
       "0                                                   4                                 \n",
       "1                                                   3                                 \n",
       "2                                                   3                                 \n",
       "3                                                   3                                 \n",
       "4                                                   4                                 \n",
       "5                                                   4                                 \n",
       "6                                                   3                                 \n",
       "7                                                   3                                 \n",
       "0                                                   3                                 \n",
       "1                                                   4                                 \n",
       "2                                                   4                                 \n",
       "3                                                   4                                 \n",
       "4                                                   4                                 \n",
       "5                                                   5                                 \n",
       "6                                                   5                                 \n",
       "0                                                   3                                 \n",
       "1                                                   3                                 \n",
       "2                                                   3                                 \n",
       "3                                                   4                                 \n",
       "4                                                   4                                 \n",
       "5                                                   4                                 \n",
       "6                                                   4                                 \n",
       "7                                                   4                                 \n",
       "8                                                   4                                 \n",
       "9                                                   4                                 \n",
       "10                                                  4                                 \n",
       "11                                                  4                                 \n",
       "12                                                  4                                 \n",
       "13                                                  4                                 \n",
       "14                                                  4                                 \n",
       "..                                                ...                                 \n",
       "32                                                  4                                 \n",
       "33                                                  4                                 \n",
       "34                                                  4                                 \n",
       "35                                                  4                                 \n",
       "36                                                  4                                 \n",
       "37                                                  4                                 \n",
       "38                                                  4                                 \n",
       "39                                                  4                                 \n",
       "40                                                  4                                 \n",
       "41                                                  5                                 \n",
       "42                                                  5                                 \n",
       "43                                                  5                                 \n",
       "44                                                  5                                 \n",
       "45                                                  5                                 \n",
       "46                                                  5                                 \n",
       "47                                                  5                                 \n",
       "48                                                  5                                 \n",
       "49                                                  5                                 \n",
       "50                                                  5                                 \n",
       "51                                                  5                                 \n",
       "52                                                  5                                 \n",
       "53                                                  5                                 \n",
       "54                                                  5                                 \n",
       "55                                                  5                                 \n",
       "56                                                  5                                 \n",
       "57                                                  5                                 \n",
       "58                                                  5                                 \n",
       "59                                                  5                                 \n",
       "60                                                  5                                 \n",
       "61                                                  5                                 \n",
       "\n",
       "       Location  Level of satisfaction with the pacing  \n",
       "0     Singapore                                    3.0  \n",
       "1     Singapore                                    3.0  \n",
       "2     Singapore                                    5.0  \n",
       "3     Singapore                                    3.0  \n",
       "4     Singapore                                    4.0  \n",
       "5     Singapore                                    3.0  \n",
       "6     Singapore                                    3.0  \n",
       "7     Singapore                                    3.0  \n",
       "0   Los Angeles                                    4.0  \n",
       "1   Los Angeles                                    4.0  \n",
       "2   Los Angeles                                    4.0  \n",
       "3   Los Angeles                                    4.0  \n",
       "4   Los Angeles                                    5.0  \n",
       "5   Los Angeles                                    4.0  \n",
       "6   Los Angeles                                    3.0  \n",
       "0      New York                                    5.0  \n",
       "1      New York                                    3.0  \n",
       "2      New York                                    3.0  \n",
       "3      New York                                    3.0  \n",
       "4      New York                                    4.0  \n",
       "5      New York                                    4.0  \n",
       "6      New York                                    4.0  \n",
       "7      New York                                    4.0  \n",
       "8      New York                                    4.0  \n",
       "9      New York                                    3.0  \n",
       "10     New York                                    3.0  \n",
       "11     New York                                    4.0  \n",
       "12     New York                                    4.0  \n",
       "13     New York                                    4.0  \n",
       "14     New York                                    4.0  \n",
       "..          ...                                    ...  \n",
       "32    Sunnyvale                                    4.0  \n",
       "33    Sunnyvale                                    4.0  \n",
       "34    Sunnyvale                                    3.0  \n",
       "35    Sunnyvale                                    4.0  \n",
       "36    Sunnyvale                                    3.0  \n",
       "37    Sunnyvale                                    4.0  \n",
       "38    Sunnyvale                                    3.0  \n",
       "39    Sunnyvale                                    3.0  \n",
       "40    Sunnyvale                                    3.0  \n",
       "41    Sunnyvale                                    3.0  \n",
       "42    Sunnyvale                                    3.0  \n",
       "43    Sunnyvale                                    3.0  \n",
       "44    Sunnyvale                                    3.0  \n",
       "45    Sunnyvale                                    3.0  \n",
       "46    Sunnyvale                                    3.0  \n",
       "47    Sunnyvale                                    4.0  \n",
       "48    Sunnyvale                                    4.0  \n",
       "49    Sunnyvale                                    3.0  \n",
       "50    Sunnyvale                                    4.0  \n",
       "51    Sunnyvale                                    4.0  \n",
       "52    Sunnyvale                                    4.0  \n",
       "53    Sunnyvale                                    2.0  \n",
       "54    Sunnyvale                                    3.0  \n",
       "55    Sunnyvale                                    4.0  \n",
       "56    Sunnyvale                                    3.0  \n",
       "57    Sunnyvale                                    2.0  \n",
       "58    Sunnyvale                                    3.0  \n",
       "59    Sunnyvale                                    3.0  \n",
       "60    Sunnyvale                                    3.0  \n",
       "61    Sunnyvale                                    3.0  \n",
       "\n",
       "[209 rows x 4 columns]"
      ]
     },
     "execution_count": 557,
     "metadata": {},
     "output_type": "execute_result"
    }
   ],
   "source": [
    "# SA_2016_W1_ALL['Level of satisfaction with the pacing'] = SA_2016_W1_ALL['How well are the tutorials paced?'] + SA_2016_W1_ALL['How well is the schedule paced?']\n",
    "# SA_2016_W1_ALL = SA_2016_W1_ALL.drop('How well are the tutorials paced?', 1)\n",
    "# SA_2016_W1_ALL = SA_2016_W1_ALL.drop('How well is the schedule paced?', 1)\n",
    "# SA_2016_W1_ALL = SA_2016_W1_ALL.drop('What track are you in?', 1)\n",
    "# SA_2016_W1_ALL = SA_2016_W1_ALL.drop('Week number', 1)\n",
    "# SA_2016_W1_ALL.insert(0, 'Week number', 'Week1')\n",
    "SA_2016_W1_ALL"
   ]
  },
  {
   "cell_type": "markdown",
   "metadata": {},
   "source": [
    "## Week2"
   ]
  },
  {
   "cell_type": "code",
   "execution_count": 186,
   "metadata": {},
   "outputs": [
    {
     "data": {
      "text/html": [
       "<div>\n",
       "<style scoped>\n",
       "    .dataframe tbody tr th:only-of-type {\n",
       "        vertical-align: middle;\n",
       "    }\n",
       "\n",
       "    .dataframe tbody tr th {\n",
       "        vertical-align: top;\n",
       "    }\n",
       "\n",
       "    .dataframe thead th {\n",
       "        text-align: right;\n",
       "    }\n",
       "</style>\n",
       "<table border=\"1\" class=\"dataframe\">\n",
       "  <thead>\n",
       "    <tr style=\"text-align: right;\">\n",
       "      <th></th>\n",
       "      <th>Timestamp</th>\n",
       "      <th>How would you rate your overall satisfaction with the Summer Academy this week?</th>\n",
       "      <th>How well is the schedule paced?</th>\n",
       "    </tr>\n",
       "  </thead>\n",
       "  <tbody>\n",
       "    <tr>\n",
       "      <th>2</th>\n",
       "      <td>7/1/2016 9:34:16</td>\n",
       "      <td>4</td>\n",
       "      <td>4</td>\n",
       "    </tr>\n",
       "    <tr>\n",
       "      <th>3</th>\n",
       "      <td>7/1/2016 10:42:17</td>\n",
       "      <td>4</td>\n",
       "      <td>3</td>\n",
       "    </tr>\n",
       "    <tr>\n",
       "      <th>4</th>\n",
       "      <td>7/1/2016 11:25:53</td>\n",
       "      <td>4</td>\n",
       "      <td>3</td>\n",
       "    </tr>\n",
       "    <tr>\n",
       "      <th>5</th>\n",
       "      <td>7/1/2016 11:57:11</td>\n",
       "      <td>5</td>\n",
       "      <td>3</td>\n",
       "    </tr>\n",
       "    <tr>\n",
       "      <th>6</th>\n",
       "      <td>7/1/2016 11:58:37</td>\n",
       "      <td>5</td>\n",
       "      <td>3</td>\n",
       "    </tr>\n",
       "  </tbody>\n",
       "</table>\n",
       "</div>"
      ],
      "text/plain": [
       "           Timestamp  \\\n",
       "2   7/1/2016 9:34:16   \n",
       "3  7/1/2016 10:42:17   \n",
       "4  7/1/2016 11:25:53   \n",
       "5  7/1/2016 11:57:11   \n",
       "6  7/1/2016 11:58:37   \n",
       "\n",
       "   How would you rate your overall satisfaction with the Summer Academy this week?  \\\n",
       "2                                                  4                                 \n",
       "3                                                  4                                 \n",
       "4                                                  4                                 \n",
       "5                                                  5                                 \n",
       "6                                                  5                                 \n",
       "\n",
       "   How well is the schedule paced?  \n",
       "2                                4  \n",
       "3                                3  \n",
       "4                                3  \n",
       "5                                3  \n",
       "6                                3  "
      ]
     },
     "execution_count": 186,
     "metadata": {},
     "output_type": "execute_result"
    }
   ],
   "source": [
    "file6_LA_PATH = \"../Datasets/SAFeedbackSurveys_FINAL/2016/Anon Week 2 Feedback - LA.csv\"\n",
    "SA_2016_LA_W2 = pd.read_csv(file6_LA_PATH)\n",
    "# SA_2016_LA_W2.head()\n",
    "SA_2016_LA_W2.tail()"
   ]
  },
  {
   "cell_type": "markdown",
   "metadata": {},
   "source": [
    "#### Notes on Week2 LA:\n",
    "* There are 7 data points\n",
    "* Features 3: \"Timestamp,How would you rate your overall satisfaction with the Summer Academy this week?, How well is the schedule paced?\""
   ]
  },
  {
   "cell_type": "markdown",
   "metadata": {},
   "source": [
    "#### Cleaning Process\n",
    "* Change the name of Unname to Week Number with the purpose of making it be clear what it is when mixing all weeks together"
   ]
  },
  {
   "cell_type": "code",
   "execution_count": 187,
   "metadata": {},
   "outputs": [],
   "source": [
    "SA_2016_LA_W2.rename(columns={'Timestamp': 'Week number'}, inplace=True)"
   ]
  },
  {
   "cell_type": "markdown",
   "metadata": {},
   "source": [
    "#### Formatting Setup\n",
    "* Make a variable with the number of data points\n",
    "* Make a variable with all the features\n",
    "* Make a variable with the number of features"
   ]
  },
  {
   "cell_type": "code",
   "execution_count": 188,
   "metadata": {},
   "outputs": [
    {
     "data": {
      "text/plain": [
       "{'How well is the schedule paced?',\n",
       " 'How would you rate your overall satisfaction with the Summer Academy this week?',\n",
       " 'Week number'}"
      ]
     },
     "execution_count": 188,
     "metadata": {},
     "output_type": "execute_result"
    }
   ],
   "source": [
    "lenght_SA_2016_LA_W2 = len(SA_2016_LA_W2)\n",
    "SET_SA_2016_LA_W2 = set(SA_2016_LA_W2)\n",
    "column_lenght_SA_2016_LA_W2 = len(SA_2016_LA_W2.columns)\n",
    "# lenght_SA_2016_LA_W2\n",
    "SET_SA_2016_LA_W2"
   ]
  },
  {
   "cell_type": "markdown",
   "metadata": {},
   "source": [
    "#### Add new column with the location name"
   ]
  },
  {
   "cell_type": "code",
   "execution_count": 385,
   "metadata": {},
   "outputs": [],
   "source": [
    "# SA_2016_LA_W2.insert(0, 'Location', 'Los Angeles')\n",
    "# SA_2016_LA_W2"
   ]
  },
  {
   "cell_type": "markdown",
   "metadata": {},
   "source": [
    "---"
   ]
  },
  {
   "cell_type": "code",
   "execution_count": 189,
   "metadata": {},
   "outputs": [
    {
     "data": {
      "text/html": [
       "<div>\n",
       "<style scoped>\n",
       "    .dataframe tbody tr th:only-of-type {\n",
       "        vertical-align: middle;\n",
       "    }\n",
       "\n",
       "    .dataframe tbody tr th {\n",
       "        vertical-align: top;\n",
       "    }\n",
       "\n",
       "    .dataframe thead th {\n",
       "        text-align: right;\n",
       "    }\n",
       "</style>\n",
       "<table border=\"1\" class=\"dataframe\">\n",
       "  <thead>\n",
       "    <tr style=\"text-align: right;\">\n",
       "      <th></th>\n",
       "      <th>Timestamp</th>\n",
       "      <th>What track are you in?</th>\n",
       "      <th>How would you rate your overall satisfaction with the Summer Academy this week?</th>\n",
       "      <th>How well is the schedule paced?</th>\n",
       "    </tr>\n",
       "  </thead>\n",
       "  <tbody>\n",
       "    <tr>\n",
       "      <th>23</th>\n",
       "      <td>7/1/2016 6:41:54</td>\n",
       "      <td>Apps</td>\n",
       "      <td>5</td>\n",
       "      <td>4</td>\n",
       "    </tr>\n",
       "    <tr>\n",
       "      <th>24</th>\n",
       "      <td>7/1/2016 6:27:48</td>\n",
       "      <td>Games</td>\n",
       "      <td>5</td>\n",
       "      <td>4</td>\n",
       "    </tr>\n",
       "    <tr>\n",
       "      <th>25</th>\n",
       "      <td>7/1/2016 6:31:02</td>\n",
       "      <td>Intro</td>\n",
       "      <td>5</td>\n",
       "      <td>3</td>\n",
       "    </tr>\n",
       "    <tr>\n",
       "      <th>26</th>\n",
       "      <td>7/1/2016 6:31:12</td>\n",
       "      <td>Intro</td>\n",
       "      <td>5</td>\n",
       "      <td>3</td>\n",
       "    </tr>\n",
       "    <tr>\n",
       "      <th>27</th>\n",
       "      <td>7/1/2016 6:36:15</td>\n",
       "      <td>Intro</td>\n",
       "      <td>5</td>\n",
       "      <td>3</td>\n",
       "    </tr>\n",
       "  </tbody>\n",
       "</table>\n",
       "</div>"
      ],
      "text/plain": [
       "           Timestamp What track are you in?  \\\n",
       "23  7/1/2016 6:41:54                   Apps   \n",
       "24  7/1/2016 6:27:48                  Games   \n",
       "25  7/1/2016 6:31:02                  Intro   \n",
       "26  7/1/2016 6:31:12                  Intro   \n",
       "27  7/1/2016 6:36:15                  Intro   \n",
       "\n",
       "    How would you rate your overall satisfaction with the Summer Academy this week?  \\\n",
       "23                                                  5                                 \n",
       "24                                                  5                                 \n",
       "25                                                  5                                 \n",
       "26                                                  5                                 \n",
       "27                                                  5                                 \n",
       "\n",
       "    How well is the schedule paced?  \n",
       "23                                4  \n",
       "24                                4  \n",
       "25                                3  \n",
       "26                                3  \n",
       "27                                3  "
      ]
     },
     "execution_count": 189,
     "metadata": {},
     "output_type": "execute_result"
    }
   ],
   "source": [
    "file7_NY_PATH = \"../Datasets/SAFeedbackSurveys_FINAL/2016/Anon Week 2 Feedback - NY.csv\"\n",
    "SA_2016_NY_W2 = pd.read_csv(file7_NY_PATH)\n",
    "# SA_2016_NY_W2.head()\n",
    "SA_2016_NY_W2.tail()"
   ]
  },
  {
   "cell_type": "markdown",
   "metadata": {},
   "source": [
    "#### Cleaning Process\n",
    "* Change the name of Timestamp to Week Number with the purpose of making it be clear what it is when mixing all weeks together"
   ]
  },
  {
   "cell_type": "markdown",
   "metadata": {},
   "source": [
    "#### Notes on Week2 NY:\n",
    "* There are 28 data points\n",
    "* Features 4: \"Timestamp, What track are you in, How would you rate your overall satisfaction with the Summer Academy this week?, How well is the schedule paced?\""
   ]
  },
  {
   "cell_type": "code",
   "execution_count": 190,
   "metadata": {},
   "outputs": [],
   "source": [
    "SA_2016_NY_W2.rename(columns={'Timestamp': 'Week number'}, inplace=True)"
   ]
  },
  {
   "cell_type": "markdown",
   "metadata": {},
   "source": [
    "#### Formatting Setup\n",
    "* Make a variable with the number of data points\n",
    "* Make a variable with all the features\n",
    "* Make a variable with the number of features"
   ]
  },
  {
   "cell_type": "code",
   "execution_count": 191,
   "metadata": {},
   "outputs": [],
   "source": [
    "lenght_SA_2016_NY_W2 = len(SA_2016_NY_W2)\n",
    "SET_SA_2016_NY_W2 = set(SA_2016_NY_W2)\n",
    "column_lenght_SA_2016_NY_W2 = len(SA_2016_NY_W2.columns)"
   ]
  },
  {
   "cell_type": "markdown",
   "metadata": {},
   "source": [
    "#### Add new column with the location name"
   ]
  },
  {
   "cell_type": "code",
   "execution_count": 387,
   "metadata": {},
   "outputs": [],
   "source": [
    "# SA_2016_NY_W2.insert(0, 'Location', 'New York')\n",
    "# SA_2016_NY_W2"
   ]
  },
  {
   "cell_type": "markdown",
   "metadata": {},
   "source": [
    "---"
   ]
  },
  {
   "cell_type": "code",
   "execution_count": 192,
   "metadata": {},
   "outputs": [
    {
     "data": {
      "text/html": [
       "<div>\n",
       "<style scoped>\n",
       "    .dataframe tbody tr th:only-of-type {\n",
       "        vertical-align: middle;\n",
       "    }\n",
       "\n",
       "    .dataframe tbody tr th {\n",
       "        vertical-align: top;\n",
       "    }\n",
       "\n",
       "    .dataframe thead th {\n",
       "        text-align: right;\n",
       "    }\n",
       "</style>\n",
       "<table border=\"1\" class=\"dataframe\">\n",
       "  <thead>\n",
       "    <tr style=\"text-align: right;\">\n",
       "      <th></th>\n",
       "      <th>What track are you in?</th>\n",
       "      <th>Timestamp</th>\n",
       "      <th>How would you rate your overall satisfaction with the Summer Academy this week?</th>\n",
       "      <th>How well is the schedule paced?</th>\n",
       "    </tr>\n",
       "  </thead>\n",
       "  <tbody>\n",
       "    <tr>\n",
       "      <th>57</th>\n",
       "      <td>VR</td>\n",
       "      <td>7/5/2016 12:00:21</td>\n",
       "      <td>2</td>\n",
       "      <td>3</td>\n",
       "    </tr>\n",
       "    <tr>\n",
       "      <th>58</th>\n",
       "      <td>VR</td>\n",
       "      <td>7/1/2016 15:35:33</td>\n",
       "      <td>5</td>\n",
       "      <td>3</td>\n",
       "    </tr>\n",
       "    <tr>\n",
       "      <th>59</th>\n",
       "      <td>VR</td>\n",
       "      <td>7/2/2016 21:55:49</td>\n",
       "      <td>5</td>\n",
       "      <td>3</td>\n",
       "    </tr>\n",
       "    <tr>\n",
       "      <th>60</th>\n",
       "      <td>VR</td>\n",
       "      <td>7/5/2016 11:30:35</td>\n",
       "      <td>5</td>\n",
       "      <td>3</td>\n",
       "    </tr>\n",
       "    <tr>\n",
       "      <th>61</th>\n",
       "      <td>VR</td>\n",
       "      <td>7/5/2016 18:24:11</td>\n",
       "      <td>5</td>\n",
       "      <td>3</td>\n",
       "    </tr>\n",
       "  </tbody>\n",
       "</table>\n",
       "</div>"
      ],
      "text/plain": [
       "   What track are you in?          Timestamp  \\\n",
       "57                     VR  7/5/2016 12:00:21   \n",
       "58                     VR  7/1/2016 15:35:33   \n",
       "59                     VR  7/2/2016 21:55:49   \n",
       "60                     VR  7/5/2016 11:30:35   \n",
       "61                     VR  7/5/2016 18:24:11   \n",
       "\n",
       "    How would you rate your overall satisfaction with the Summer Academy this week?  \\\n",
       "57                                                  2                                 \n",
       "58                                                  5                                 \n",
       "59                                                  5                                 \n",
       "60                                                  5                                 \n",
       "61                                                  5                                 \n",
       "\n",
       "    How well is the schedule paced?  \n",
       "57                                3  \n",
       "58                                3  \n",
       "59                                3  \n",
       "60                                3  \n",
       "61                                3  "
      ]
     },
     "execution_count": 192,
     "metadata": {},
     "output_type": "execute_result"
    }
   ],
   "source": [
    "file8_SF_PATH = \"../Datasets/SAFeedbackSurveys_FINAL/2016/Anon Week 2 Feedback - SF.csv\"\n",
    "SA_2016_SF_W2 = pd.read_csv(file8_SF_PATH)\n",
    "# SA_2016_SF_W2.head()\n",
    "SA_2016_SF_W2.tail()"
   ]
  },
  {
   "cell_type": "markdown",
   "metadata": {},
   "source": [
    "#### Notes on Week2 SF:\n",
    "* There are 62 data points\n",
    "* Features 4: \"What track are you in?, Timestamp, How would you rate your overall satisfaction with the Summer Academy this week?, How well is the schedule paced?\""
   ]
  },
  {
   "cell_type": "markdown",
   "metadata": {},
   "source": [
    "#### Cleaning Process\n",
    "* Change the name of Timestamp to Week Number with the purpose of making it be clear what it is when mixing all weeks together"
   ]
  },
  {
   "cell_type": "code",
   "execution_count": 193,
   "metadata": {},
   "outputs": [],
   "source": [
    "SA_2016_SF_W2.rename(columns={'Timestamp': 'Week number'}, inplace=True)"
   ]
  },
  {
   "cell_type": "markdown",
   "metadata": {},
   "source": [
    "#### Formatting Setup\n",
    "* Make a variable with the number of data points\n",
    "* Make a variable with all the features\n",
    "* Make a variable with the number of features"
   ]
  },
  {
   "cell_type": "code",
   "execution_count": 194,
   "metadata": {},
   "outputs": [],
   "source": [
    "lenght_SA_2016_SF_W2 = len(SA_2016_SF_W2)\n",
    "SET_SA_2016_SF_W2 = set(SA_2016_SF_W2)\n",
    "column_lenght_SA_2016_SF_W2 = len(SA_2016_SF_W2.columns)"
   ]
  },
  {
   "cell_type": "markdown",
   "metadata": {},
   "source": [
    "#### Add new column with the location name"
   ]
  },
  {
   "cell_type": "code",
   "execution_count": 389,
   "metadata": {},
   "outputs": [],
   "source": [
    "# SA_2016_SF_W2.insert(0, 'Location', 'San Francisco')\n",
    "# SA_2016_SF_W2"
   ]
  },
  {
   "cell_type": "markdown",
   "metadata": {},
   "source": [
    "---"
   ]
  },
  {
   "cell_type": "code",
   "execution_count": 195,
   "metadata": {},
   "outputs": [
    {
     "data": {
      "text/html": [
       "<div>\n",
       "<style scoped>\n",
       "    .dataframe tbody tr th:only-of-type {\n",
       "        vertical-align: middle;\n",
       "    }\n",
       "\n",
       "    .dataframe tbody tr th {\n",
       "        vertical-align: top;\n",
       "    }\n",
       "\n",
       "    .dataframe thead th {\n",
       "        text-align: right;\n",
       "    }\n",
       "</style>\n",
       "<table border=\"1\" class=\"dataframe\">\n",
       "  <thead>\n",
       "    <tr style=\"text-align: right;\">\n",
       "      <th></th>\n",
       "      <th>Timestamp</th>\n",
       "      <th>How would you rate your overall satisfaction with the Summer Academy this week?</th>\n",
       "      <th>How well is the schedule paced?</th>\n",
       "    </tr>\n",
       "  </thead>\n",
       "  <tbody>\n",
       "    <tr>\n",
       "      <th>3</th>\n",
       "      <td>7/3/2016 19:14:57</td>\n",
       "      <td>3</td>\n",
       "      <td>3</td>\n",
       "    </tr>\n",
       "    <tr>\n",
       "      <th>4</th>\n",
       "      <td>7/3/2016 19:21:48</td>\n",
       "      <td>4</td>\n",
       "      <td>4</td>\n",
       "    </tr>\n",
       "    <tr>\n",
       "      <th>5</th>\n",
       "      <td>7/3/2016 19:27:27</td>\n",
       "      <td>4</td>\n",
       "      <td>3</td>\n",
       "    </tr>\n",
       "    <tr>\n",
       "      <th>6</th>\n",
       "      <td>7/3/2016 20:00:26</td>\n",
       "      <td>3</td>\n",
       "      <td>3</td>\n",
       "    </tr>\n",
       "    <tr>\n",
       "      <th>7</th>\n",
       "      <td>7/4/2016 3:03:20</td>\n",
       "      <td>3</td>\n",
       "      <td>3</td>\n",
       "    </tr>\n",
       "  </tbody>\n",
       "</table>\n",
       "</div>"
      ],
      "text/plain": [
       "           Timestamp  \\\n",
       "3  7/3/2016 19:14:57   \n",
       "4  7/3/2016 19:21:48   \n",
       "5  7/3/2016 19:27:27   \n",
       "6  7/3/2016 20:00:26   \n",
       "7   7/4/2016 3:03:20   \n",
       "\n",
       "   How would you rate your overall satisfaction with the Summer Academy this week?  \\\n",
       "3                                                  3                                 \n",
       "4                                                  4                                 \n",
       "5                                                  4                                 \n",
       "6                                                  3                                 \n",
       "7                                                  3                                 \n",
       "\n",
       "   How well is the schedule paced?  \n",
       "3                                3  \n",
       "4                                4  \n",
       "5                                3  \n",
       "6                                3  \n",
       "7                                3  "
      ]
     },
     "execution_count": 195,
     "metadata": {},
     "output_type": "execute_result"
    }
   ],
   "source": [
    "file9_SG_PATH = \"../Datasets/SAFeedbackSurveys_FINAL/2016/Anon Week 2 Feedback - SG.csv\"\n",
    "SA_2016_SG_W2 = pd.read_csv(file9_SG_PATH)\n",
    "# SA_2016_SG_W2.head()\n",
    "SA_2016_SG_W2.tail()"
   ]
  },
  {
   "cell_type": "markdown",
   "metadata": {},
   "source": [
    "#### Notes on Week2 SG:\n",
    "* There are 8 data points\n",
    "* Features 3: \"Timestamp, How would you rate your overall satisfaction with the Summer Academy this week?, How well is the schedule paced?\""
   ]
  },
  {
   "cell_type": "markdown",
   "metadata": {},
   "source": [
    "#### Cleaning Process\n",
    "* Change the name of Timestamp to Week Number with the purpose of making it be clear what it is when mixing all weeks together"
   ]
  },
  {
   "cell_type": "code",
   "execution_count": 204,
   "metadata": {},
   "outputs": [
    {
     "data": {
      "text/html": [
       "<div>\n",
       "<style scoped>\n",
       "    .dataframe tbody tr th:only-of-type {\n",
       "        vertical-align: middle;\n",
       "    }\n",
       "\n",
       "    .dataframe tbody tr th {\n",
       "        vertical-align: top;\n",
       "    }\n",
       "\n",
       "    .dataframe thead th {\n",
       "        text-align: right;\n",
       "    }\n",
       "</style>\n",
       "<table border=\"1\" class=\"dataframe\">\n",
       "  <thead>\n",
       "    <tr style=\"text-align: right;\">\n",
       "      <th></th>\n",
       "      <th>Week number</th>\n",
       "      <th>How would you rate your overall satisfaction with the Summer Academy this week?</th>\n",
       "      <th>How well is the schedule paced?</th>\n",
       "    </tr>\n",
       "  </thead>\n",
       "  <tbody>\n",
       "    <tr>\n",
       "      <th>0</th>\n",
       "      <td>7/1/2016 5:41:15</td>\n",
       "      <td>4</td>\n",
       "      <td>3</td>\n",
       "    </tr>\n",
       "    <tr>\n",
       "      <th>1</th>\n",
       "      <td>7/1/2016 8:52:52</td>\n",
       "      <td>3</td>\n",
       "      <td>3</td>\n",
       "    </tr>\n",
       "    <tr>\n",
       "      <th>2</th>\n",
       "      <td>7/2/2016 7:49:54</td>\n",
       "      <td>3</td>\n",
       "      <td>5</td>\n",
       "    </tr>\n",
       "    <tr>\n",
       "      <th>3</th>\n",
       "      <td>7/3/2016 19:14:57</td>\n",
       "      <td>3</td>\n",
       "      <td>3</td>\n",
       "    </tr>\n",
       "    <tr>\n",
       "      <th>4</th>\n",
       "      <td>7/3/2016 19:21:48</td>\n",
       "      <td>4</td>\n",
       "      <td>4</td>\n",
       "    </tr>\n",
       "    <tr>\n",
       "      <th>5</th>\n",
       "      <td>7/3/2016 19:27:27</td>\n",
       "      <td>4</td>\n",
       "      <td>3</td>\n",
       "    </tr>\n",
       "    <tr>\n",
       "      <th>6</th>\n",
       "      <td>7/3/2016 20:00:26</td>\n",
       "      <td>3</td>\n",
       "      <td>3</td>\n",
       "    </tr>\n",
       "    <tr>\n",
       "      <th>7</th>\n",
       "      <td>7/4/2016 3:03:20</td>\n",
       "      <td>3</td>\n",
       "      <td>3</td>\n",
       "    </tr>\n",
       "  </tbody>\n",
       "</table>\n",
       "</div>"
      ],
      "text/plain": [
       "         Week number  \\\n",
       "0   7/1/2016 5:41:15   \n",
       "1   7/1/2016 8:52:52   \n",
       "2   7/2/2016 7:49:54   \n",
       "3  7/3/2016 19:14:57   \n",
       "4  7/3/2016 19:21:48   \n",
       "5  7/3/2016 19:27:27   \n",
       "6  7/3/2016 20:00:26   \n",
       "7   7/4/2016 3:03:20   \n",
       "\n",
       "   How would you rate your overall satisfaction with the Summer Academy this week?  \\\n",
       "0                                                  4                                 \n",
       "1                                                  3                                 \n",
       "2                                                  3                                 \n",
       "3                                                  3                                 \n",
       "4                                                  4                                 \n",
       "5                                                  4                                 \n",
       "6                                                  3                                 \n",
       "7                                                  3                                 \n",
       "\n",
       "   How well is the schedule paced?  \n",
       "0                                3  \n",
       "1                                3  \n",
       "2                                5  \n",
       "3                                3  \n",
       "4                                4  \n",
       "5                                3  \n",
       "6                                3  \n",
       "7                                3  "
      ]
     },
     "execution_count": 204,
     "metadata": {},
     "output_type": "execute_result"
    }
   ],
   "source": [
    "SA_2016_SG_W2.rename(columns={'Timestamp': 'Week number'}, inplace=True)\n",
    "SA_2016_SG_W2"
   ]
  },
  {
   "cell_type": "markdown",
   "metadata": {},
   "source": [
    "#### Formatting Setup\n",
    "* Make a variable with the number of data points\n",
    "* Make a variable with all the features\n",
    "* Make a variable with the number of features"
   ]
  },
  {
   "cell_type": "code",
   "execution_count": 197,
   "metadata": {},
   "outputs": [],
   "source": [
    "lenght_SA_2016_SG_W2 = len(SA_2016_SG_W2)\n",
    "SET_SA_2016_SG_W2 = set(SA_2016_SG_W2)\n",
    "column_lenght_SA_2016_SG_W2 = len(SA_2016_SG_W2.columns)"
   ]
  },
  {
   "cell_type": "markdown",
   "metadata": {},
   "source": [
    "#### Add new column with the location name"
   ]
  },
  {
   "cell_type": "code",
   "execution_count": 406,
   "metadata": {},
   "outputs": [],
   "source": [
    "# SA_2016_SG_W2.insert(0, 'Location', 'Singapor')\n",
    "# SA_2016_SG_W2"
   ]
  },
  {
   "cell_type": "markdown",
   "metadata": {},
   "source": [
    "---"
   ]
  },
  {
   "cell_type": "code",
   "execution_count": 198,
   "metadata": {},
   "outputs": [
    {
     "data": {
      "text/html": [
       "<div>\n",
       "<style scoped>\n",
       "    .dataframe tbody tr th:only-of-type {\n",
       "        vertical-align: middle;\n",
       "    }\n",
       "\n",
       "    .dataframe tbody tr th {\n",
       "        vertical-align: top;\n",
       "    }\n",
       "\n",
       "    .dataframe thead th {\n",
       "        text-align: right;\n",
       "    }\n",
       "</style>\n",
       "<table border=\"1\" class=\"dataframe\">\n",
       "  <thead>\n",
       "    <tr style=\"text-align: right;\">\n",
       "      <th></th>\n",
       "      <th>Timestamp</th>\n",
       "      <th>What track are you in?</th>\n",
       "      <th>How would you rate your overall satisfaction with the Summer Academy this week?</th>\n",
       "      <th>How well is the schedule paced?</th>\n",
       "    </tr>\n",
       "  </thead>\n",
       "  <tbody>\n",
       "    <tr>\n",
       "      <th>51</th>\n",
       "      <td>7/1/2016 10:47:06</td>\n",
       "      <td>Games</td>\n",
       "      <td>5</td>\n",
       "      <td>3</td>\n",
       "    </tr>\n",
       "    <tr>\n",
       "      <th>52</th>\n",
       "      <td>7/1/2016 10:47:57</td>\n",
       "      <td>Games</td>\n",
       "      <td>5</td>\n",
       "      <td>4</td>\n",
       "    </tr>\n",
       "    <tr>\n",
       "      <th>53</th>\n",
       "      <td>7/1/2016 13:25:32</td>\n",
       "      <td>Intro</td>\n",
       "      <td>5</td>\n",
       "      <td>2</td>\n",
       "    </tr>\n",
       "    <tr>\n",
       "      <th>54</th>\n",
       "      <td>7/1/2016 13:26:00</td>\n",
       "      <td>Intro</td>\n",
       "      <td>5</td>\n",
       "      <td>5</td>\n",
       "    </tr>\n",
       "    <tr>\n",
       "      <th>55</th>\n",
       "      <td>7/1/2016 13:28:10</td>\n",
       "      <td>Intro</td>\n",
       "      <td>5</td>\n",
       "      <td>2</td>\n",
       "    </tr>\n",
       "  </tbody>\n",
       "</table>\n",
       "</div>"
      ],
      "text/plain": [
       "            Timestamp What track are you in?  \\\n",
       "51  7/1/2016 10:47:06                  Games   \n",
       "52  7/1/2016 10:47:57                  Games   \n",
       "53  7/1/2016 13:25:32                  Intro   \n",
       "54  7/1/2016 13:26:00                  Intro   \n",
       "55  7/1/2016 13:28:10                  Intro   \n",
       "\n",
       "    How would you rate your overall satisfaction with the Summer Academy this week?  \\\n",
       "51                                                  5                                 \n",
       "52                                                  5                                 \n",
       "53                                                  5                                 \n",
       "54                                                  5                                 \n",
       "55                                                  5                                 \n",
       "\n",
       "    How well is the schedule paced?  \n",
       "51                                3  \n",
       "52                                4  \n",
       "53                                2  \n",
       "54                                5  \n",
       "55                                2  "
      ]
     },
     "execution_count": 198,
     "metadata": {},
     "output_type": "execute_result"
    }
   ],
   "source": [
    "file10_SV_PATH = \"../Datasets/SAFeedbackSurveys_FINAL/2016/Anon Week 2 Feedback - SV.csv\"\n",
    "SA_2016_SV_W2 = pd.read_csv(file10_SV_PATH)\n",
    "# SA_2016_SV_W2.head()\n",
    "SA_2016_SV_W2.tail()"
   ]
  },
  {
   "cell_type": "markdown",
   "metadata": {},
   "source": [
    "#### Notes on Week2 SV:\n",
    "* There are 56 data points\n",
    "* Features 4: \"Timestamp, What track are you in?, How would you rate your overall satisfaction with the Summer Academy this week?, How well is the schedule paced?\""
   ]
  },
  {
   "cell_type": "markdown",
   "metadata": {},
   "source": [
    "#### Cleaning Process\n",
    "* Change the name of Timestamp to Week Number with the purpose of making it be clear what it is when mixing all weeks together"
   ]
  },
  {
   "cell_type": "code",
   "execution_count": 199,
   "metadata": {},
   "outputs": [],
   "source": [
    "SA_2016_SV_W2.rename(columns={'Timestamp': 'Week number'}, inplace=True)"
   ]
  },
  {
   "cell_type": "markdown",
   "metadata": {},
   "source": [
    "#### Formatting Setup\n",
    "* Make a variable with the number of data points\n",
    "* Make a variable with all the features\n",
    "* Make a variable with the number of features"
   ]
  },
  {
   "cell_type": "code",
   "execution_count": 200,
   "metadata": {},
   "outputs": [],
   "source": [
    "lenght_SA_2016_SV_W2 = len(SA_2016_SV_W2)\n",
    "SET_SA_2016_SV_W2 = set(SA_2016_SV_W2)\n",
    "column_lenght_SA_2016_SV_W2 = len(SA_2016_SV_W2.columns)"
   ]
  },
  {
   "cell_type": "markdown",
   "metadata": {},
   "source": [
    "#### Add new column with the location name"
   ]
  },
  {
   "cell_type": "code",
   "execution_count": 393,
   "metadata": {},
   "outputs": [],
   "source": [
    "# SA_2016_SV_W2.insert(0, 'Location', 'Sunnyvale')\n",
    "# SA_2016_SV_W2"
   ]
  },
  {
   "cell_type": "markdown",
   "metadata": {},
   "source": [
    "---"
   ]
  },
  {
   "cell_type": "markdown",
   "metadata": {},
   "source": [
    "### Formating into a complete week 2 file\n",
    "#### What to consider for this process\n",
    "* Do all Datasets have 4 features?\n",
    "* For NPS score do I need all datasets to have all features"
   ]
  },
  {
   "cell_type": "code",
   "execution_count": 206,
   "metadata": {},
   "outputs": [
    {
     "data": {
      "text/html": [
       "<div>\n",
       "<style scoped>\n",
       "    .dataframe tbody tr th:only-of-type {\n",
       "        vertical-align: middle;\n",
       "    }\n",
       "\n",
       "    .dataframe tbody tr th {\n",
       "        vertical-align: top;\n",
       "    }\n",
       "\n",
       "    .dataframe thead th {\n",
       "        text-align: right;\n",
       "    }\n",
       "</style>\n",
       "<table border=\"1\" class=\"dataframe\">\n",
       "  <thead>\n",
       "    <tr style=\"text-align: right;\">\n",
       "      <th></th>\n",
       "      <th>Location</th>\n",
       "      <th>Features</th>\n",
       "      <th>Number of Datapoints</th>\n",
       "      <th>Number of Features</th>\n",
       "    </tr>\n",
       "  </thead>\n",
       "  <tbody>\n",
       "    <tr>\n",
       "      <th>0</th>\n",
       "      <td>Singapore</td>\n",
       "      <td>{Week number, How well is the schedule paced?,...</td>\n",
       "      <td>8</td>\n",
       "      <td>3</td>\n",
       "    </tr>\n",
       "    <tr>\n",
       "      <th>1</th>\n",
       "      <td>Los Angeles</td>\n",
       "      <td>{Week number, How well is the schedule paced?,...</td>\n",
       "      <td>7</td>\n",
       "      <td>3</td>\n",
       "    </tr>\n",
       "    <tr>\n",
       "      <th>2</th>\n",
       "      <td>New York</td>\n",
       "      <td>{Week number, How well is the schedule paced?,...</td>\n",
       "      <td>28</td>\n",
       "      <td>4</td>\n",
       "    </tr>\n",
       "    <tr>\n",
       "      <th>3</th>\n",
       "      <td>San Francisco</td>\n",
       "      <td>{What track are you in?, Week number, How well...</td>\n",
       "      <td>62</td>\n",
       "      <td>4</td>\n",
       "    </tr>\n",
       "    <tr>\n",
       "      <th>4</th>\n",
       "      <td>Sunny Vale</td>\n",
       "      <td>{Week number, How well is the schedule paced?,...</td>\n",
       "      <td>56</td>\n",
       "      <td>4</td>\n",
       "    </tr>\n",
       "  </tbody>\n",
       "</table>\n",
       "</div>"
      ],
      "text/plain": [
       "        Location                                           Features  \\\n",
       "0      Singapore  {Week number, How well is the schedule paced?,...   \n",
       "1    Los Angeles  {Week number, How well is the schedule paced?,...   \n",
       "2       New York  {Week number, How well is the schedule paced?,...   \n",
       "3  San Francisco  {What track are you in?, Week number, How well...   \n",
       "4     Sunny Vale  {Week number, How well is the schedule paced?,...   \n",
       "\n",
       "   Number of Datapoints  Number of Features  \n",
       "0                     8                   3  \n",
       "1                     7                   3  \n",
       "2                    28                   4  \n",
       "3                    62                   4  \n",
       "4                    56                   4  "
      ]
     },
     "execution_count": 206,
     "metadata": {},
     "output_type": "execute_result"
    }
   ],
   "source": [
    "SA_2016_W2_data = {'Location': ['Singapore', 'Los Angeles', 'New York', 'San Francisco', 'Sunny Vale'], \n",
    "                   'Features': [SET_SA_2016_SG_W2, SET_SA_2016_LA_W2, SET_SA_2016_NY_W2, SET_SA_2016_SF_W2, SET_SA_2016_SV_W2], \n",
    "                   'Number of Datapoints': [lenght_SA_2016_SG_W2, lenght_SA_2016_LA_W2, lenght_SA_2016_NY_W2, lenght_SA_2016_SF_W2, lenght_SA_2016_SV_W2],\n",
    "                   'Number of Features': [column_lenght_SA_2016_SG_W2, column_lenght_SA_2016_LA_W2, column_lenght_SA_2016_NY_W2, column_lenght_SA_2016_SF_W2, column_lenght_SA_2016_SV_W2]\n",
    "                  }\n",
    "SA_2016_W2 = pd.DataFrame(data=SA_2016_W2_data)\n",
    "SA_2016_W2\n",
    "\n"
   ]
  },
  {
   "cell_type": "markdown",
   "metadata": {},
   "source": [
    "#### Complete comparion of dataset\n",
    "_Objective:_\n",
    "* Be able to see easily which dataset have more features \n",
    "* Decide if it's a good idea to have a special weekly dataset with the more complete ones and a normal one where the not always present features is not added"
   ]
  },
  {
   "cell_type": "markdown",
   "metadata": {},
   "source": [
    "### Complete week 2\n",
    "#### Process to achieve this\n",
    "* Concatenate all without including track\n",
    "* Concatenate only the ones with track\n",
    "\n",
    "__Note:__\n",
    "    - Given that all datasets don't have track included will have two weekly datasets"
   ]
  },
  {
   "cell_type": "code",
   "execution_count": 475,
   "metadata": {},
   "outputs": [],
   "source": [
    "# Here will only be the ones who have their track\n",
    "week2_frames = [SA_2016_SG_W2, SA_2016_LA_W2, SA_2016_NY_W2, SA_2016_SF_W2, SA_2016_SV_W2]\n",
    "SA_2016_W2_ALL = pd.concat(week2_frames, sort=True)\n",
    "# SA_2016_W2_ALL = SA_2016_W2_ALL.drop('What track are you in?', 1)\n",
    "# SA_2016_W2_ALL"
   ]
  },
  {
   "cell_type": "code",
   "execution_count": 474,
   "metadata": {},
   "outputs": [],
   "source": [
    "# Here will only be the ones who have the feature track\n",
    "week2_frames_only_track = [SA_2016_NY_W2, SA_2016_SF_W2, SA_2016_SV_W2]\n",
    "SA_2016_W2_with_track = pd.concat(week2_frames_only_track, sort=True)\n",
    "# SA_2016_W2_with_track"
   ]
  },
  {
   "cell_type": "markdown",
   "metadata": {},
   "source": [
    "## Week3"
   ]
  },
  {
   "cell_type": "code",
   "execution_count": 225,
   "metadata": {},
   "outputs": [
    {
     "data": {
      "text/html": [
       "<div>\n",
       "<style scoped>\n",
       "    .dataframe tbody tr th:only-of-type {\n",
       "        vertical-align: middle;\n",
       "    }\n",
       "\n",
       "    .dataframe tbody tr th {\n",
       "        vertical-align: top;\n",
       "    }\n",
       "\n",
       "    .dataframe thead th {\n",
       "        text-align: right;\n",
       "    }\n",
       "</style>\n",
       "<table border=\"1\" class=\"dataframe\">\n",
       "  <thead>\n",
       "    <tr style=\"text-align: right;\">\n",
       "      <th></th>\n",
       "      <th>Timestamp</th>\n",
       "      <th>How would you rate your overall satisfaction with the Summer Academy this week?</th>\n",
       "      <th>How well is the schedule paced?</th>\n",
       "    </tr>\n",
       "  </thead>\n",
       "  <tbody>\n",
       "    <tr>\n",
       "      <th>1</th>\n",
       "      <td>7/8/2016 13:45:52</td>\n",
       "      <td>4</td>\n",
       "      <td>4</td>\n",
       "    </tr>\n",
       "    <tr>\n",
       "      <th>2</th>\n",
       "      <td>7/8/2016 13:47:42</td>\n",
       "      <td>4</td>\n",
       "      <td>3</td>\n",
       "    </tr>\n",
       "    <tr>\n",
       "      <th>3</th>\n",
       "      <td>7/8/2016 13:47:59</td>\n",
       "      <td>4</td>\n",
       "      <td>3</td>\n",
       "    </tr>\n",
       "    <tr>\n",
       "      <th>4</th>\n",
       "      <td>7/8/2016 14:12:24</td>\n",
       "      <td>4</td>\n",
       "      <td>3</td>\n",
       "    </tr>\n",
       "    <tr>\n",
       "      <th>5</th>\n",
       "      <td>7/8/2016 14:13:39</td>\n",
       "      <td>5</td>\n",
       "      <td>4</td>\n",
       "    </tr>\n",
       "  </tbody>\n",
       "</table>\n",
       "</div>"
      ],
      "text/plain": [
       "           Timestamp  \\\n",
       "1  7/8/2016 13:45:52   \n",
       "2  7/8/2016 13:47:42   \n",
       "3  7/8/2016 13:47:59   \n",
       "4  7/8/2016 14:12:24   \n",
       "5  7/8/2016 14:13:39   \n",
       "\n",
       "   How would you rate your overall satisfaction with the Summer Academy this week?  \\\n",
       "1                                                  4                                 \n",
       "2                                                  4                                 \n",
       "3                                                  4                                 \n",
       "4                                                  4                                 \n",
       "5                                                  5                                 \n",
       "\n",
       "   How well is the schedule paced?  \n",
       "1                                4  \n",
       "2                                3  \n",
       "3                                3  \n",
       "4                                3  \n",
       "5                                4  "
      ]
     },
     "execution_count": 225,
     "metadata": {},
     "output_type": "execute_result"
    }
   ],
   "source": [
    "file11_LA_PATH = \"../Datasets/SAFeedbackSurveys_FINAL/2016/Anon Week 3 Feedback - LA.csv\"\n",
    "SA_2016_LA_W3 = pd.read_csv(file11_LA_PATH)\n",
    "# SA_2016_LA_W3.head()\n",
    "SA_2016_LA_W3.tail()"
   ]
  },
  {
   "cell_type": "markdown",
   "metadata": {},
   "source": [
    "#### Notes on Week3 LA:\n",
    "* There are 6 data points\n",
    "* Features 3: \"Timestamp, How would you rate your overall satisfaction with the Summer Academy this week?, How well is the schedule paced?\""
   ]
  },
  {
   "cell_type": "markdown",
   "metadata": {},
   "source": [
    "#### Cleaning Process\n",
    "* Change the name of Timestamp to Week Number with the purpose of making it be clear what it is when mixing all weeks together"
   ]
  },
  {
   "cell_type": "code",
   "execution_count": 226,
   "metadata": {},
   "outputs": [],
   "source": [
    "SA_2016_LA_W3.rename(columns={'Timestamp': 'Week number'}, inplace=True)"
   ]
  },
  {
   "cell_type": "markdown",
   "metadata": {},
   "source": [
    "#### Formatting Setup\n",
    "* Make a variable with the number of data points\n",
    "* Make a variable with all the features\n",
    "* Make a variable with the number of features"
   ]
  },
  {
   "cell_type": "code",
   "execution_count": 227,
   "metadata": {},
   "outputs": [],
   "source": [
    "lenght_SA_2016_LA_W3 = len(SA_2016_LA_W3)\n",
    "SET_SA_2016_LA_W3 = set(SA_2016_LA_W3)\n",
    "column_lenght_SA_2016_LA_W3 = len(SA_2016_LA_W3.columns)"
   ]
  },
  {
   "cell_type": "markdown",
   "metadata": {},
   "source": [
    "#### Add new column with the location name"
   ]
  },
  {
   "cell_type": "code",
   "execution_count": 395,
   "metadata": {},
   "outputs": [],
   "source": [
    "# SA_2016_LA_W3.insert(0, 'Location', 'Los Angeles')\n",
    "# SA_2016_LA_W3"
   ]
  },
  {
   "cell_type": "markdown",
   "metadata": {},
   "source": [
    "---"
   ]
  },
  {
   "cell_type": "code",
   "execution_count": 228,
   "metadata": {},
   "outputs": [
    {
     "data": {
      "text/html": [
       "<div>\n",
       "<style scoped>\n",
       "    .dataframe tbody tr th:only-of-type {\n",
       "        vertical-align: middle;\n",
       "    }\n",
       "\n",
       "    .dataframe tbody tr th {\n",
       "        vertical-align: top;\n",
       "    }\n",
       "\n",
       "    .dataframe thead th {\n",
       "        text-align: right;\n",
       "    }\n",
       "</style>\n",
       "<table border=\"1\" class=\"dataframe\">\n",
       "  <thead>\n",
       "    <tr style=\"text-align: right;\">\n",
       "      <th></th>\n",
       "      <th>Timestamp</th>\n",
       "      <th>What track are you in?</th>\n",
       "      <th>How would you rate your overall satisfaction with the Summer Academy this week?</th>\n",
       "      <th>How well is the schedule paced?</th>\n",
       "    </tr>\n",
       "  </thead>\n",
       "  <tbody>\n",
       "    <tr>\n",
       "      <th>23</th>\n",
       "      <td>7/8/2016 6:33:10</td>\n",
       "      <td>Apps</td>\n",
       "      <td>5</td>\n",
       "      <td>3</td>\n",
       "    </tr>\n",
       "    <tr>\n",
       "      <th>24</th>\n",
       "      <td>7/8/2016 6:36:23</td>\n",
       "      <td>Intro</td>\n",
       "      <td>4</td>\n",
       "      <td>4</td>\n",
       "    </tr>\n",
       "    <tr>\n",
       "      <th>25</th>\n",
       "      <td>7/8/2016 6:36:36</td>\n",
       "      <td>Games</td>\n",
       "      <td>5</td>\n",
       "      <td>3</td>\n",
       "    </tr>\n",
       "    <tr>\n",
       "      <th>26</th>\n",
       "      <td>7/8/2016 6:38:24</td>\n",
       "      <td>Games</td>\n",
       "      <td>5</td>\n",
       "      <td>3</td>\n",
       "    </tr>\n",
       "    <tr>\n",
       "      <th>27</th>\n",
       "      <td>7/8/2016 12:14:54</td>\n",
       "      <td>Apps</td>\n",
       "      <td>4</td>\n",
       "      <td>3</td>\n",
       "    </tr>\n",
       "  </tbody>\n",
       "</table>\n",
       "</div>"
      ],
      "text/plain": [
       "            Timestamp What track are you in?  \\\n",
       "23   7/8/2016 6:33:10                   Apps   \n",
       "24   7/8/2016 6:36:23                  Intro   \n",
       "25   7/8/2016 6:36:36                  Games   \n",
       "26   7/8/2016 6:38:24                  Games   \n",
       "27  7/8/2016 12:14:54                   Apps   \n",
       "\n",
       "    How would you rate your overall satisfaction with the Summer Academy this week?  \\\n",
       "23                                                  5                                 \n",
       "24                                                  4                                 \n",
       "25                                                  5                                 \n",
       "26                                                  5                                 \n",
       "27                                                  4                                 \n",
       "\n",
       "    How well is the schedule paced?  \n",
       "23                                3  \n",
       "24                                4  \n",
       "25                                3  \n",
       "26                                3  \n",
       "27                                3  "
      ]
     },
     "execution_count": 228,
     "metadata": {},
     "output_type": "execute_result"
    }
   ],
   "source": [
    "file12_NY_PATH = \"../Datasets/SAFeedbackSurveys_FINAL/2016/Anon Week 3 Feedback - NY.csv\"\n",
    "SA_2016_NY_W3 = pd.read_csv(file12_NY_PATH)\n",
    "# SA_2016_NY_W3.head()\n",
    "SA_2016_NY_W3.tail()"
   ]
  },
  {
   "cell_type": "markdown",
   "metadata": {},
   "source": [
    "#### Notes on Week3 NY:\n",
    "* There are 28 data points\n",
    "* Features 4: \"What track are you in?, Timestamp, How would you rate your overall satisfaction with the Summer Academy this week?, How well is the schedule paced?\""
   ]
  },
  {
   "cell_type": "markdown",
   "metadata": {},
   "source": [
    "#### Cleaning Process\n",
    "* Change the name of Timestamp to Week Number with the purpose of making it be clear what it is when mixing all weeks together"
   ]
  },
  {
   "cell_type": "code",
   "execution_count": 229,
   "metadata": {},
   "outputs": [],
   "source": [
    "SA_2016_NY_W3.rename(columns={'Timestamp': 'Week number'}, inplace=True)"
   ]
  },
  {
   "cell_type": "markdown",
   "metadata": {},
   "source": [
    "#### Formatting Setup\n",
    "* Make a variable with the number of data points\n",
    "* Make a variable with all the features\n",
    "* Make a variable with the number of features"
   ]
  },
  {
   "cell_type": "code",
   "execution_count": 230,
   "metadata": {},
   "outputs": [],
   "source": [
    "lenght_SA_2016_NY_W3 = len(SA_2016_NY_W3)\n",
    "SET_SA_2016_NY_W3 = set(SA_2016_NY_W3)\n",
    "column_lenght_SA_2016_NY_W3 = len(SA_2016_NY_W3.columns)"
   ]
  },
  {
   "cell_type": "markdown",
   "metadata": {},
   "source": [
    "#### Add new column with the location name"
   ]
  },
  {
   "cell_type": "code",
   "execution_count": 397,
   "metadata": {},
   "outputs": [],
   "source": [
    "# SA_2016_NY_W3.insert(0, 'Location', 'New York')\n",
    "# SA_2016_NY_W3"
   ]
  },
  {
   "cell_type": "markdown",
   "metadata": {},
   "source": [
    "---"
   ]
  },
  {
   "cell_type": "code",
   "execution_count": 231,
   "metadata": {},
   "outputs": [
    {
     "data": {
      "text/html": [
       "<div>\n",
       "<style scoped>\n",
       "    .dataframe tbody tr th:only-of-type {\n",
       "        vertical-align: middle;\n",
       "    }\n",
       "\n",
       "    .dataframe tbody tr th {\n",
       "        vertical-align: top;\n",
       "    }\n",
       "\n",
       "    .dataframe thead th {\n",
       "        text-align: right;\n",
       "    }\n",
       "</style>\n",
       "<table border=\"1\" class=\"dataframe\">\n",
       "  <thead>\n",
       "    <tr style=\"text-align: right;\">\n",
       "      <th></th>\n",
       "      <th>What track are you in?</th>\n",
       "      <th>Timestamp</th>\n",
       "      <th>How would you rate your overall satisfaction with the Summer Academy this week?</th>\n",
       "      <th>How well is the schedule paced?</th>\n",
       "    </tr>\n",
       "  </thead>\n",
       "  <tbody>\n",
       "    <tr>\n",
       "      <th>18</th>\n",
       "      <td>VR</td>\n",
       "      <td>7/8/2016 16:27:30</td>\n",
       "      <td>4</td>\n",
       "      <td>4</td>\n",
       "    </tr>\n",
       "    <tr>\n",
       "      <th>19</th>\n",
       "      <td>VR</td>\n",
       "      <td>7/8/2016 17:18:49</td>\n",
       "      <td>1</td>\n",
       "      <td>5</td>\n",
       "    </tr>\n",
       "    <tr>\n",
       "      <th>20</th>\n",
       "      <td>VR</td>\n",
       "      <td>7/8/2016 19:14:34</td>\n",
       "      <td>4</td>\n",
       "      <td>4</td>\n",
       "    </tr>\n",
       "    <tr>\n",
       "      <th>21</th>\n",
       "      <td>Intro</td>\n",
       "      <td>7/11/2016 12:10:26</td>\n",
       "      <td>3</td>\n",
       "      <td>4</td>\n",
       "    </tr>\n",
       "    <tr>\n",
       "      <th>22</th>\n",
       "      <td>Intro</td>\n",
       "      <td>7/11/2016 12:39:56</td>\n",
       "      <td>4</td>\n",
       "      <td>4</td>\n",
       "    </tr>\n",
       "  </tbody>\n",
       "</table>\n",
       "</div>"
      ],
      "text/plain": [
       "   What track are you in?           Timestamp  \\\n",
       "18                     VR   7/8/2016 16:27:30   \n",
       "19                     VR   7/8/2016 17:18:49   \n",
       "20                     VR   7/8/2016 19:14:34   \n",
       "21                  Intro  7/11/2016 12:10:26   \n",
       "22                  Intro  7/11/2016 12:39:56   \n",
       "\n",
       "    How would you rate your overall satisfaction with the Summer Academy this week?  \\\n",
       "18                                                  4                                 \n",
       "19                                                  1                                 \n",
       "20                                                  4                                 \n",
       "21                                                  3                                 \n",
       "22                                                  4                                 \n",
       "\n",
       "    How well is the schedule paced?  \n",
       "18                                4  \n",
       "19                                5  \n",
       "20                                4  \n",
       "21                                4  \n",
       "22                                4  "
      ]
     },
     "execution_count": 231,
     "metadata": {},
     "output_type": "execute_result"
    }
   ],
   "source": [
    "file13_SF_PATH = \"../Datasets/SAFeedbackSurveys_FINAL/2016/Anon Week 3 Feedback - SF.csv\"\n",
    "SA_2016_SF_W3 = pd.read_csv(file13_SF_PATH)\n",
    "# SA_2016_SF_W3.head()\n",
    "SA_2016_SF_W3.tail()"
   ]
  },
  {
   "cell_type": "markdown",
   "metadata": {},
   "source": [
    "#### Notes on Week3 SF:\n",
    "* There are 22 data points\n",
    "* Features 4: \"What track are you in?, Timestamp, How would you rate your overall satisfaction with the Summer Academy this week?, How well is the schedule paced?\""
   ]
  },
  {
   "cell_type": "markdown",
   "metadata": {},
   "source": [
    "#### Cleaning Process\n",
    "* Change the name of Timestamp to Week Number with the purpose of making it be clear what it is when mixing all weeks together"
   ]
  },
  {
   "cell_type": "code",
   "execution_count": 232,
   "metadata": {},
   "outputs": [],
   "source": [
    "SA_2016_SF_W3.rename(columns={'Timestamp': 'Week number'}, inplace=True)"
   ]
  },
  {
   "cell_type": "markdown",
   "metadata": {},
   "source": [
    "#### Formatting Setup\n",
    "* Make a variable with the number of data points\n",
    "* Make a variable with all the features\n",
    "* Make a variable with the number of features"
   ]
  },
  {
   "cell_type": "code",
   "execution_count": 233,
   "metadata": {},
   "outputs": [],
   "source": [
    "lenght_SA_2016_SF_W3 = len(SA_2016_SF_W3)\n",
    "SET_SA_2016_SF_W3 = set(SA_2016_SF_W3)\n",
    "column_lenght_SA_2016_SF_W3 = len(SA_2016_SF_W3.columns)"
   ]
  },
  {
   "cell_type": "markdown",
   "metadata": {},
   "source": [
    "#### Add new column with the location name"
   ]
  },
  {
   "cell_type": "code",
   "execution_count": 399,
   "metadata": {},
   "outputs": [],
   "source": [
    "# SA_2016_SF_W3.insert(0, 'Location', 'San Francisco')\n",
    "# SA_2016_SF_W3"
   ]
  },
  {
   "cell_type": "markdown",
   "metadata": {},
   "source": [
    "---"
   ]
  },
  {
   "cell_type": "code",
   "execution_count": 234,
   "metadata": {},
   "outputs": [
    {
     "data": {
      "text/html": [
       "<div>\n",
       "<style scoped>\n",
       "    .dataframe tbody tr th:only-of-type {\n",
       "        vertical-align: middle;\n",
       "    }\n",
       "\n",
       "    .dataframe tbody tr th {\n",
       "        vertical-align: top;\n",
       "    }\n",
       "\n",
       "    .dataframe thead th {\n",
       "        text-align: right;\n",
       "    }\n",
       "</style>\n",
       "<table border=\"1\" class=\"dataframe\">\n",
       "  <thead>\n",
       "    <tr style=\"text-align: right;\">\n",
       "      <th></th>\n",
       "      <th>Timestamp</th>\n",
       "      <th>How would you rate your overall satisfaction with the Summer Academy this week?</th>\n",
       "      <th>How well is the schedule paced?</th>\n",
       "    </tr>\n",
       "  </thead>\n",
       "  <tbody>\n",
       "    <tr>\n",
       "      <th>0</th>\n",
       "      <td>7/8/2016 7:36:11</td>\n",
       "      <td>4</td>\n",
       "      <td>3</td>\n",
       "    </tr>\n",
       "    <tr>\n",
       "      <th>1</th>\n",
       "      <td>7/8/2016 22:05:05</td>\n",
       "      <td>5</td>\n",
       "      <td>3</td>\n",
       "    </tr>\n",
       "  </tbody>\n",
       "</table>\n",
       "</div>"
      ],
      "text/plain": [
       "           Timestamp  \\\n",
       "0   7/8/2016 7:36:11   \n",
       "1  7/8/2016 22:05:05   \n",
       "\n",
       "   How would you rate your overall satisfaction with the Summer Academy this week?  \\\n",
       "0                                                  4                                 \n",
       "1                                                  5                                 \n",
       "\n",
       "   How well is the schedule paced?  \n",
       "0                                3  \n",
       "1                                3  "
      ]
     },
     "execution_count": 234,
     "metadata": {},
     "output_type": "execute_result"
    }
   ],
   "source": [
    "file14_SG_PATH = \"../Datasets/SAFeedbackSurveys_FINAL/2016/Anon Week 3 Feedback - SG.csv\"\n",
    "SA_2016_SG_W3 = pd.read_csv(file14_SG_PATH)\n",
    "# SA_2016_SG_W3.head()\n",
    "SA_2016_SG_W3.tail()"
   ]
  },
  {
   "cell_type": "markdown",
   "metadata": {},
   "source": [
    "#### Notes on Week3 SG:\n",
    "* There are 2 data points\n",
    "* Features 3: \"Timestamp, How would you rate your overall satisfaction with the Summer Academy this week?, How well is the schedule paced?\""
   ]
  },
  {
   "cell_type": "markdown",
   "metadata": {},
   "source": [
    "#### Cleaning Process\n",
    "* Change the name of Timestamp to Week Number with the purpose of making it be clear what it is when mixing all weeks together"
   ]
  },
  {
   "cell_type": "code",
   "execution_count": 235,
   "metadata": {},
   "outputs": [],
   "source": [
    "SA_2016_SG_W3.rename(columns={'Timestamp': 'Week number'}, inplace=True)"
   ]
  },
  {
   "cell_type": "markdown",
   "metadata": {},
   "source": [
    "#### Formatting Setup\n",
    "* Make a variable with the number of data points\n",
    "* Make a variable with all the features\n",
    "* Make a variable with the number of features"
   ]
  },
  {
   "cell_type": "code",
   "execution_count": 236,
   "metadata": {},
   "outputs": [],
   "source": [
    "lenght_SA_2016_SG_W3 = len(SA_2016_SG_W3)\n",
    "SET_SA_2016_SG_W3 = set(SA_2016_SG_W3)\n",
    "column_lenght_SA_2016_SG_W3 = len(SA_2016_SG_W3.columns)"
   ]
  },
  {
   "cell_type": "markdown",
   "metadata": {},
   "source": [
    "#### Add new column with the location name"
   ]
  },
  {
   "cell_type": "code",
   "execution_count": 400,
   "metadata": {},
   "outputs": [
    {
     "data": {
      "text/html": [
       "<div>\n",
       "<style scoped>\n",
       "    .dataframe tbody tr th:only-of-type {\n",
       "        vertical-align: middle;\n",
       "    }\n",
       "\n",
       "    .dataframe tbody tr th {\n",
       "        vertical-align: top;\n",
       "    }\n",
       "\n",
       "    .dataframe thead th {\n",
       "        text-align: right;\n",
       "    }\n",
       "</style>\n",
       "<table border=\"1\" class=\"dataframe\">\n",
       "  <thead>\n",
       "    <tr style=\"text-align: right;\">\n",
       "      <th></th>\n",
       "      <th>Location</th>\n",
       "      <th>Week number</th>\n",
       "      <th>How would you rate your overall satisfaction with the Summer Academy this week?</th>\n",
       "      <th>How well is the schedule paced?</th>\n",
       "    </tr>\n",
       "  </thead>\n",
       "  <tbody>\n",
       "    <tr>\n",
       "      <th>0</th>\n",
       "      <td>Singapor</td>\n",
       "      <td>7/8/2016 7:36:11</td>\n",
       "      <td>4</td>\n",
       "      <td>3</td>\n",
       "    </tr>\n",
       "    <tr>\n",
       "      <th>1</th>\n",
       "      <td>Singapor</td>\n",
       "      <td>7/8/2016 22:05:05</td>\n",
       "      <td>5</td>\n",
       "      <td>3</td>\n",
       "    </tr>\n",
       "  </tbody>\n",
       "</table>\n",
       "</div>"
      ],
      "text/plain": [
       "   Location        Week number  \\\n",
       "0  Singapor   7/8/2016 7:36:11   \n",
       "1  Singapor  7/8/2016 22:05:05   \n",
       "\n",
       "   How would you rate your overall satisfaction with the Summer Academy this week?  \\\n",
       "0                                                  4                                 \n",
       "1                                                  5                                 \n",
       "\n",
       "   How well is the schedule paced?  \n",
       "0                                3  \n",
       "1                                3  "
      ]
     },
     "execution_count": 400,
     "metadata": {},
     "output_type": "execute_result"
    }
   ],
   "source": [
    "SA_2016_SG_W3.insert(0, 'Location', 'Singapor')\n",
    "SA_2016_SG_W3"
   ]
  },
  {
   "cell_type": "markdown",
   "metadata": {},
   "source": [
    "---"
   ]
  },
  {
   "cell_type": "code",
   "execution_count": 237,
   "metadata": {},
   "outputs": [
    {
     "data": {
      "text/html": [
       "<div>\n",
       "<style scoped>\n",
       "    .dataframe tbody tr th:only-of-type {\n",
       "        vertical-align: middle;\n",
       "    }\n",
       "\n",
       "    .dataframe tbody tr th {\n",
       "        vertical-align: top;\n",
       "    }\n",
       "\n",
       "    .dataframe thead th {\n",
       "        text-align: right;\n",
       "    }\n",
       "</style>\n",
       "<table border=\"1\" class=\"dataframe\">\n",
       "  <thead>\n",
       "    <tr style=\"text-align: right;\">\n",
       "      <th></th>\n",
       "      <th>Timestamp</th>\n",
       "      <th>What track are you in?</th>\n",
       "      <th>How would you rate your overall satisfaction with the Summer Academy this week?</th>\n",
       "      <th>How well is the schedule paced?</th>\n",
       "    </tr>\n",
       "  </thead>\n",
       "  <tbody>\n",
       "    <tr>\n",
       "      <th>32</th>\n",
       "      <td>7/10/2016 23:44:41</td>\n",
       "      <td>Games</td>\n",
       "      <td>4</td>\n",
       "      <td>4</td>\n",
       "    </tr>\n",
       "    <tr>\n",
       "      <th>33</th>\n",
       "      <td>NaN</td>\n",
       "      <td>Average:</td>\n",
       "      <td>#REF!</td>\n",
       "      <td>#REF!</td>\n",
       "    </tr>\n",
       "    <tr>\n",
       "      <th>34</th>\n",
       "      <td>7/8/2016 16:41:06</td>\n",
       "      <td>Apps</td>\n",
       "      <td>5</td>\n",
       "      <td>3</td>\n",
       "    </tr>\n",
       "    <tr>\n",
       "      <th>35</th>\n",
       "      <td>7/8/2016 13:07:39</td>\n",
       "      <td>Games</td>\n",
       "      <td>5</td>\n",
       "      <td>3</td>\n",
       "    </tr>\n",
       "    <tr>\n",
       "      <th>36</th>\n",
       "      <td>7/8/2016 12:45:02</td>\n",
       "      <td>Intro</td>\n",
       "      <td>5</td>\n",
       "      <td>3</td>\n",
       "    </tr>\n",
       "  </tbody>\n",
       "</table>\n",
       "</div>"
      ],
      "text/plain": [
       "             Timestamp What track are you in?  \\\n",
       "32  7/10/2016 23:44:41                  Games   \n",
       "33                 NaN               Average:   \n",
       "34   7/8/2016 16:41:06                   Apps   \n",
       "35   7/8/2016 13:07:39                  Games   \n",
       "36   7/8/2016 12:45:02                  Intro   \n",
       "\n",
       "   How would you rate your overall satisfaction with the Summer Academy this week?  \\\n",
       "32                                                  4                                \n",
       "33                                              #REF!                                \n",
       "34                                                  5                                \n",
       "35                                                  5                                \n",
       "36                                                  5                                \n",
       "\n",
       "   How well is the schedule paced?  \n",
       "32                               4  \n",
       "33                           #REF!  \n",
       "34                               3  \n",
       "35                               3  \n",
       "36                               3  "
      ]
     },
     "execution_count": 237,
     "metadata": {},
     "output_type": "execute_result"
    }
   ],
   "source": [
    "file15_SV_PATH = \"../Datasets/SAFeedbackSurveys_FINAL/2016/Anon Week 3 Feedback - SV.csv\"\n",
    "SA_2016_SV_W3 = pd.read_csv(file15_SV_PATH)\n",
    "# SA_2016_SV_W3.head()\n",
    "SA_2016_SV_W3.tail()"
   ]
  },
  {
   "cell_type": "markdown",
   "metadata": {},
   "source": [
    "#### Notes on Week3 SV:\n",
    "* There are 37 data points\n",
    "* Features 4: \"Timestamp, What track are you in?, How would you rate your overall satisfaction with the Summer Academy this week?, How well is the schedule paced?\""
   ]
  },
  {
   "cell_type": "markdown",
   "metadata": {},
   "source": [
    "#### Cleaning Process\n",
    "* Change the name of Timestamp to Week Number with the purpose of making it be clear what it is when mixing all weeks together"
   ]
  },
  {
   "cell_type": "code",
   "execution_count": 238,
   "metadata": {},
   "outputs": [],
   "source": [
    "SA_2016_SV_W3.rename(columns={'Timestamp': 'Week number'}, inplace=True)"
   ]
  },
  {
   "cell_type": "markdown",
   "metadata": {},
   "source": [
    "#### Formatting Setup\n",
    "* Make a variable with the number of data points\n",
    "* Make a variable with all the features\n",
    "* Make a variable with the number of features"
   ]
  },
  {
   "cell_type": "code",
   "execution_count": 239,
   "metadata": {},
   "outputs": [],
   "source": [
    "lenght_SA_2016_SV_W3 = len(SA_2016_SV_W3)\n",
    "SET_SA_2016_SV_W3 = set(SA_2016_SV_W3)\n",
    "column_lenght_SA_2016_SV_W3 = len(SA_2016_SV_W3.columns)"
   ]
  },
  {
   "cell_type": "markdown",
   "metadata": {},
   "source": [
    "#### Add new column with the location name"
   ]
  },
  {
   "cell_type": "code",
   "execution_count": 415,
   "metadata": {},
   "outputs": [],
   "source": [
    "# SA_2016_SV_W3.insert(0, 'Location', 'Sunnyvale')\n",
    "# SA_2016_SV_W3\n"
   ]
  },
  {
   "cell_type": "markdown",
   "metadata": {},
   "source": [
    "---"
   ]
  },
  {
   "cell_type": "markdown",
   "metadata": {},
   "source": [
    "### Formating into a complete week 3 file\n",
    "#### What to consider for this process\n",
    "* Do all Datasets have 4 features?\n",
    "* For NPS score do I need all datasets to have all features"
   ]
  },
  {
   "cell_type": "code",
   "execution_count": 241,
   "metadata": {},
   "outputs": [
    {
     "data": {
      "text/html": [
       "<div>\n",
       "<style scoped>\n",
       "    .dataframe tbody tr th:only-of-type {\n",
       "        vertical-align: middle;\n",
       "    }\n",
       "\n",
       "    .dataframe tbody tr th {\n",
       "        vertical-align: top;\n",
       "    }\n",
       "\n",
       "    .dataframe thead th {\n",
       "        text-align: right;\n",
       "    }\n",
       "</style>\n",
       "<table border=\"1\" class=\"dataframe\">\n",
       "  <thead>\n",
       "    <tr style=\"text-align: right;\">\n",
       "      <th></th>\n",
       "      <th>Location</th>\n",
       "      <th>Features</th>\n",
       "      <th>Number of Datapoints</th>\n",
       "      <th>Number of Features</th>\n",
       "    </tr>\n",
       "  </thead>\n",
       "  <tbody>\n",
       "    <tr>\n",
       "      <th>0</th>\n",
       "      <td>Singapore</td>\n",
       "      <td>{Week number, How well is the schedule paced?,...</td>\n",
       "      <td>2</td>\n",
       "      <td>3</td>\n",
       "    </tr>\n",
       "    <tr>\n",
       "      <th>1</th>\n",
       "      <td>Los Angeles</td>\n",
       "      <td>{Week number, How well is the schedule paced?,...</td>\n",
       "      <td>6</td>\n",
       "      <td>3</td>\n",
       "    </tr>\n",
       "    <tr>\n",
       "      <th>2</th>\n",
       "      <td>New York</td>\n",
       "      <td>{Week number, How well is the schedule paced?,...</td>\n",
       "      <td>28</td>\n",
       "      <td>4</td>\n",
       "    </tr>\n",
       "    <tr>\n",
       "      <th>3</th>\n",
       "      <td>San Francisco</td>\n",
       "      <td>{What track are you in?, Week number, How well...</td>\n",
       "      <td>23</td>\n",
       "      <td>4</td>\n",
       "    </tr>\n",
       "    <tr>\n",
       "      <th>4</th>\n",
       "      <td>Sunny Vale</td>\n",
       "      <td>{Week number, How well is the schedule paced?,...</td>\n",
       "      <td>37</td>\n",
       "      <td>4</td>\n",
       "    </tr>\n",
       "  </tbody>\n",
       "</table>\n",
       "</div>"
      ],
      "text/plain": [
       "        Location                                           Features  \\\n",
       "0      Singapore  {Week number, How well is the schedule paced?,...   \n",
       "1    Los Angeles  {Week number, How well is the schedule paced?,...   \n",
       "2       New York  {Week number, How well is the schedule paced?,...   \n",
       "3  San Francisco  {What track are you in?, Week number, How well...   \n",
       "4     Sunny Vale  {Week number, How well is the schedule paced?,...   \n",
       "\n",
       "   Number of Datapoints  Number of Features  \n",
       "0                     2                   3  \n",
       "1                     6                   3  \n",
       "2                    28                   4  \n",
       "3                    23                   4  \n",
       "4                    37                   4  "
      ]
     },
     "execution_count": 241,
     "metadata": {},
     "output_type": "execute_result"
    }
   ],
   "source": [
    "SA_2016_W3_data = {'Location': ['Singapore', 'Los Angeles', 'New York', 'San Francisco', 'Sunny Vale'], \n",
    "                   'Features': [SET_SA_2016_SG_W3, SET_SA_2016_LA_W3, SET_SA_2016_NY_W3, SET_SA_2016_SF_W3, SET_SA_2016_SV_W3], \n",
    "                   'Number of Datapoints': [lenght_SA_2016_SG_W3, lenght_SA_2016_LA_W3, lenght_SA_2016_NY_W3, lenght_SA_2016_SF_W3, lenght_SA_2016_SV_W3],\n",
    "                   'Number of Features': [column_lenght_SA_2016_SG_W3, column_lenght_SA_2016_LA_W3, column_lenght_SA_2016_NY_W3, column_lenght_SA_2016_SF_W3, column_lenght_SA_2016_SV_W3]\n",
    "                  }\n",
    "SA_2016_W3 = pd.DataFrame(data=SA_2016_W3_data)\n",
    "SA_2016_W3"
   ]
  },
  {
   "cell_type": "markdown",
   "metadata": {},
   "source": [
    "#### Complete comparion of dataset\n",
    "_Objective:_\n",
    "* Be able to see easily which dataset have more features \n",
    "* Decide if it's a good idea to have a special weekly dataset with the more complete ones and a normal one where the not always present features is not added"
   ]
  },
  {
   "cell_type": "markdown",
   "metadata": {},
   "source": [
    "### Complete week 3\n",
    "#### Process to achieve this\n",
    "* Concatenate all without including track\n",
    "* Concatenate only the ones with track\n",
    "\n",
    "__Note:__\n",
    "    - Given that all datasets don't have track included will have two weekly datasets"
   ]
  },
  {
   "cell_type": "code",
   "execution_count": 478,
   "metadata": {},
   "outputs": [],
   "source": [
    "# Here will only be the ones who have their track\n",
    "week3_frames = [SA_2016_SG_W3, SA_2016_LA_W3, SA_2016_NY_W3, SA_2016_SF_W3, SA_2016_SV_W3]\n",
    "SA_2016_W3_ALL = pd.concat(week3_frames, sort=True)\n",
    "# SA_2016_W3_ALL = SA_2016_W3_ALL.drop('What track are you in?', 1)\n",
    "# SA_2016_W3_ALL\n"
   ]
  },
  {
   "cell_type": "code",
   "execution_count": 479,
   "metadata": {},
   "outputs": [],
   "source": [
    "# Here will only be the ones who have the feature track\n",
    "week3_frames_only_track = [SA_2016_NY_W3, SA_2016_SF_W3, SA_2016_SV_W3]\n",
    "SA_2016_W3_with_track = pd.concat(week3_frames_only_track, sort=True)\n",
    "# SA_2016_W3_with_track"
   ]
  },
  {
   "cell_type": "markdown",
   "metadata": {},
   "source": [
    "## Week4"
   ]
  },
  {
   "cell_type": "code",
   "execution_count": 243,
   "metadata": {},
   "outputs": [
    {
     "data": {
      "text/html": [
       "<div>\n",
       "<style scoped>\n",
       "    .dataframe tbody tr th:only-of-type {\n",
       "        vertical-align: middle;\n",
       "    }\n",
       "\n",
       "    .dataframe tbody tr th {\n",
       "        vertical-align: top;\n",
       "    }\n",
       "\n",
       "    .dataframe thead th {\n",
       "        text-align: right;\n",
       "    }\n",
       "</style>\n",
       "<table border=\"1\" class=\"dataframe\">\n",
       "  <thead>\n",
       "    <tr style=\"text-align: right;\">\n",
       "      <th></th>\n",
       "      <th>Timestamp</th>\n",
       "      <th>How would you rate your overall satisfaction with the Summer Academy this week?</th>\n",
       "      <th>How well is the schedule paced?</th>\n",
       "    </tr>\n",
       "  </thead>\n",
       "  <tbody>\n",
       "    <tr>\n",
       "      <th>3</th>\n",
       "      <td>7/15/2016 15:05:10</td>\n",
       "      <td>5</td>\n",
       "      <td>4</td>\n",
       "    </tr>\n",
       "    <tr>\n",
       "      <th>4</th>\n",
       "      <td>7/15/2016 15:12:36</td>\n",
       "      <td>3</td>\n",
       "      <td>3</td>\n",
       "    </tr>\n",
       "    <tr>\n",
       "      <th>5</th>\n",
       "      <td>7/15/2016 16:59:37</td>\n",
       "      <td>4</td>\n",
       "      <td>3</td>\n",
       "    </tr>\n",
       "    <tr>\n",
       "      <th>6</th>\n",
       "      <td>7/15/2016 17:10:52</td>\n",
       "      <td>4</td>\n",
       "      <td>3</td>\n",
       "    </tr>\n",
       "    <tr>\n",
       "      <th>7</th>\n",
       "      <td>7/15/2016 19:32:26</td>\n",
       "      <td>4</td>\n",
       "      <td>3</td>\n",
       "    </tr>\n",
       "  </tbody>\n",
       "</table>\n",
       "</div>"
      ],
      "text/plain": [
       "            Timestamp  \\\n",
       "3  7/15/2016 15:05:10   \n",
       "4  7/15/2016 15:12:36   \n",
       "5  7/15/2016 16:59:37   \n",
       "6  7/15/2016 17:10:52   \n",
       "7  7/15/2016 19:32:26   \n",
       "\n",
       "   How would you rate your overall satisfaction with the Summer Academy this week?  \\\n",
       "3                                                  5                                 \n",
       "4                                                  3                                 \n",
       "5                                                  4                                 \n",
       "6                                                  4                                 \n",
       "7                                                  4                                 \n",
       "\n",
       "   How well is the schedule paced?  \n",
       "3                                4  \n",
       "4                                3  \n",
       "5                                3  \n",
       "6                                3  \n",
       "7                                3  "
      ]
     },
     "execution_count": 243,
     "metadata": {},
     "output_type": "execute_result"
    }
   ],
   "source": [
    "file16_LA_PATH = \"../Datasets/SAFeedbackSurveys_FINAL/2016/Anon Week 4 Feedback - LA.csv\"\n",
    "SA_2016_LA_W4 = pd.read_csv(file16_LA_PATH)\n",
    "# SA_2016_LA_W4.head()\n",
    "SA_2016_LA_W4.tail()"
   ]
  },
  {
   "cell_type": "markdown",
   "metadata": {},
   "source": [
    "#### Notes on Week4 LA:\n",
    "* There are 7 data points\n",
    "* Features 3: \"Timestamp, How would you rate your overall satisfaction with the Summer Academy this week?, How well is the schedule paced?\""
   ]
  },
  {
   "cell_type": "markdown",
   "metadata": {},
   "source": [
    "#### Cleaning Process\n",
    "* Change the name of Timestamp to Week Number with the purpose of making it be clear what it is when mixing all weeks together"
   ]
  },
  {
   "cell_type": "code",
   "execution_count": 244,
   "metadata": {},
   "outputs": [],
   "source": [
    "SA_2016_LA_W4.rename(columns={'Timestamp': 'Week number'}, inplace=True)"
   ]
  },
  {
   "cell_type": "markdown",
   "metadata": {},
   "source": [
    "#### Formatting Setup\n",
    "* Make a variable with the number of data points\n",
    "* Make a variable with all the features\n",
    "* Make a variable with the number of features"
   ]
  },
  {
   "cell_type": "code",
   "execution_count": 245,
   "metadata": {},
   "outputs": [],
   "source": [
    "lenght_SA_2016_LA_W4 = len(SA_2016_LA_W4)\n",
    "SET_SA_2016_LA_W4 = set(SA_2016_LA_W4)\n",
    "column_lenght_SA_2016_LA_W4 = len(SA_2016_LA_W4.columns)"
   ]
  },
  {
   "cell_type": "markdown",
   "metadata": {},
   "source": [
    "#### Add new column with the location name"
   ]
  },
  {
   "cell_type": "code",
   "execution_count": 417,
   "metadata": {},
   "outputs": [],
   "source": [
    "# SA_2016_LA_W4.insert(0, 'Location', 'Los Angeles')\n",
    "# SA_2016_LA_W4\n"
   ]
  },
  {
   "cell_type": "markdown",
   "metadata": {},
   "source": [
    "---"
   ]
  },
  {
   "cell_type": "code",
   "execution_count": 247,
   "metadata": {},
   "outputs": [
    {
     "data": {
      "text/html": [
       "<div>\n",
       "<style scoped>\n",
       "    .dataframe tbody tr th:only-of-type {\n",
       "        vertical-align: middle;\n",
       "    }\n",
       "\n",
       "    .dataframe tbody tr th {\n",
       "        vertical-align: top;\n",
       "    }\n",
       "\n",
       "    .dataframe thead th {\n",
       "        text-align: right;\n",
       "    }\n",
       "</style>\n",
       "<table border=\"1\" class=\"dataframe\">\n",
       "  <thead>\n",
       "    <tr style=\"text-align: right;\">\n",
       "      <th></th>\n",
       "      <th>Timestamp</th>\n",
       "      <th>What track are you in?</th>\n",
       "      <th>How would you rate your overall satisfaction with the Summer Academy this week?</th>\n",
       "      <th>How well is the schedule paced?</th>\n",
       "    </tr>\n",
       "  </thead>\n",
       "  <tbody>\n",
       "    <tr>\n",
       "      <th>11</th>\n",
       "      <td>7/15/2016 7:30:38</td>\n",
       "      <td>Games</td>\n",
       "      <td>4</td>\n",
       "      <td>4</td>\n",
       "    </tr>\n",
       "    <tr>\n",
       "      <th>12</th>\n",
       "      <td>7/15/2016 7:37:15</td>\n",
       "      <td>Apps</td>\n",
       "      <td>5</td>\n",
       "      <td>3</td>\n",
       "    </tr>\n",
       "    <tr>\n",
       "      <th>13</th>\n",
       "      <td>7/15/2016 7:47:54</td>\n",
       "      <td>Games</td>\n",
       "      <td>4</td>\n",
       "      <td>3</td>\n",
       "    </tr>\n",
       "    <tr>\n",
       "      <th>14</th>\n",
       "      <td>7/15/2016 10:11:32</td>\n",
       "      <td>Apps</td>\n",
       "      <td>4</td>\n",
       "      <td>3</td>\n",
       "    </tr>\n",
       "    <tr>\n",
       "      <th>15</th>\n",
       "      <td>7/15/2016 10:18:52</td>\n",
       "      <td>Apps</td>\n",
       "      <td>4</td>\n",
       "      <td>3</td>\n",
       "    </tr>\n",
       "  </tbody>\n",
       "</table>\n",
       "</div>"
      ],
      "text/plain": [
       "             Timestamp What track are you in?  \\\n",
       "11   7/15/2016 7:30:38                  Games   \n",
       "12   7/15/2016 7:37:15                   Apps   \n",
       "13   7/15/2016 7:47:54                  Games   \n",
       "14  7/15/2016 10:11:32                   Apps   \n",
       "15  7/15/2016 10:18:52                   Apps   \n",
       "\n",
       "    How would you rate your overall satisfaction with the Summer Academy this week?  \\\n",
       "11                                                  4                                 \n",
       "12                                                  5                                 \n",
       "13                                                  4                                 \n",
       "14                                                  4                                 \n",
       "15                                                  4                                 \n",
       "\n",
       "    How well is the schedule paced?  \n",
       "11                                4  \n",
       "12                                3  \n",
       "13                                3  \n",
       "14                                3  \n",
       "15                                3  "
      ]
     },
     "execution_count": 247,
     "metadata": {},
     "output_type": "execute_result"
    }
   ],
   "source": [
    "file17_NY_PATH = \"../Datasets/SAFeedbackSurveys_FINAL/2016/Anon Week 4 Feedback - NY.csv\"\n",
    "SA_2016_NY_W4 = pd.read_csv(file17_NY_PATH)\n",
    "# SA_2016_NY_W4.head()\n",
    "SA_2016_NY_W4.tail()"
   ]
  },
  {
   "cell_type": "markdown",
   "metadata": {},
   "source": [
    "#### Notes on Week4 NY:\n",
    "* There are 16 data points\n",
    "* Features 4: \"Timestamp, What track are you in?, How would you rate your overall satisfaction with the Summer Academy this week?, How well is the schedule paced?\""
   ]
  },
  {
   "cell_type": "markdown",
   "metadata": {},
   "source": [
    "#### Cleaning Process\n",
    "* Change the name of Timestamp to Week Number with the purpose of making it be clear what it is when mixing all weeks together"
   ]
  },
  {
   "cell_type": "code",
   "execution_count": 248,
   "metadata": {},
   "outputs": [],
   "source": [
    "SA_2016_NY_W4.rename(columns={'Timestamp': 'Week number'}, inplace=True)"
   ]
  },
  {
   "cell_type": "markdown",
   "metadata": {},
   "source": [
    "#### Formatting Setup\n",
    "* Make a variable with the number of data points\n",
    "* Make a variable with all the features\n",
    "* Make a variable with the number of features"
   ]
  },
  {
   "cell_type": "code",
   "execution_count": 249,
   "metadata": {},
   "outputs": [],
   "source": [
    "lenght_SA_2016_NY_W4 = len(SA_2016_NY_W4)\n",
    "SET_SA_2016_NY_W4 = set(SA_2016_NY_W4)\n",
    "column_lenght_SA_2016_NY_W4 = len(SA_2016_NY_W4.columns)"
   ]
  },
  {
   "cell_type": "markdown",
   "metadata": {},
   "source": [
    "#### Add new column with the location name"
   ]
  },
  {
   "cell_type": "code",
   "execution_count": 419,
   "metadata": {},
   "outputs": [],
   "source": [
    "# SA_2016_NY_W4.insert(0, 'Location', 'New York')\n",
    "# SA_2016_NY_W4\n"
   ]
  },
  {
   "cell_type": "markdown",
   "metadata": {},
   "source": [
    "---"
   ]
  },
  {
   "cell_type": "code",
   "execution_count": 251,
   "metadata": {},
   "outputs": [
    {
     "data": {
      "text/html": [
       "<div>\n",
       "<style scoped>\n",
       "    .dataframe tbody tr th:only-of-type {\n",
       "        vertical-align: middle;\n",
       "    }\n",
       "\n",
       "    .dataframe tbody tr th {\n",
       "        vertical-align: top;\n",
       "    }\n",
       "\n",
       "    .dataframe thead th {\n",
       "        text-align: right;\n",
       "    }\n",
       "</style>\n",
       "<table border=\"1\" class=\"dataframe\">\n",
       "  <thead>\n",
       "    <tr style=\"text-align: right;\">\n",
       "      <th></th>\n",
       "      <th>What track are you in?</th>\n",
       "      <th>Timestamp</th>\n",
       "      <th>How would you rate your overall satisfaction with the Summer Academy this week?</th>\n",
       "      <th>How well is the schedule paced?</th>\n",
       "    </tr>\n",
       "  </thead>\n",
       "  <tbody>\n",
       "    <tr>\n",
       "      <th>26</th>\n",
       "      <td>Intro</td>\n",
       "      <td>7/19/2016 11:46:56</td>\n",
       "      <td>5</td>\n",
       "      <td>3</td>\n",
       "    </tr>\n",
       "    <tr>\n",
       "      <th>27</th>\n",
       "      <td>VR</td>\n",
       "      <td>7/15/2016 17:02:43</td>\n",
       "      <td>5</td>\n",
       "      <td>3</td>\n",
       "    </tr>\n",
       "    <tr>\n",
       "      <th>28</th>\n",
       "      <td>VR</td>\n",
       "      <td>7/16/2016 18:46:18</td>\n",
       "      <td>4</td>\n",
       "      <td>3</td>\n",
       "    </tr>\n",
       "    <tr>\n",
       "      <th>29</th>\n",
       "      <td>VR</td>\n",
       "      <td>7/18/2016 8:27:48</td>\n",
       "      <td>3</td>\n",
       "      <td>4</td>\n",
       "    </tr>\n",
       "    <tr>\n",
       "      <th>30</th>\n",
       "      <td>VR</td>\n",
       "      <td>7/18/2016 8:35:24</td>\n",
       "      <td>3</td>\n",
       "      <td>4</td>\n",
       "    </tr>\n",
       "  </tbody>\n",
       "</table>\n",
       "</div>"
      ],
      "text/plain": [
       "   What track are you in?           Timestamp  \\\n",
       "26                  Intro  7/19/2016 11:46:56   \n",
       "27                     VR  7/15/2016 17:02:43   \n",
       "28                     VR  7/16/2016 18:46:18   \n",
       "29                     VR   7/18/2016 8:27:48   \n",
       "30                     VR   7/18/2016 8:35:24   \n",
       "\n",
       "    How would you rate your overall satisfaction with the Summer Academy this week?  \\\n",
       "26                                                  5                                 \n",
       "27                                                  5                                 \n",
       "28                                                  4                                 \n",
       "29                                                  3                                 \n",
       "30                                                  3                                 \n",
       "\n",
       "    How well is the schedule paced?  \n",
       "26                                3  \n",
       "27                                3  \n",
       "28                                3  \n",
       "29                                4  \n",
       "30                                4  "
      ]
     },
     "execution_count": 251,
     "metadata": {},
     "output_type": "execute_result"
    }
   ],
   "source": [
    "file18_SF_PATH = \"../Datasets/SAFeedbackSurveys_FINAL/2016/Anon Week 4 Feedback - SF.csv\"\n",
    "SA_2016_SF_W4 = pd.read_csv(file18_SF_PATH)\n",
    "# SA_2016_SF_W4.head()\n",
    "SA_2016_SF_W4.tail()"
   ]
  },
  {
   "cell_type": "markdown",
   "metadata": {},
   "source": [
    "#### Notes on Week4 SF:\n",
    "* There are 31 data points\n",
    "* Features 4: \"What track are you in?, Timestamp, How would you rate your overall satisfaction with the Summer Academy this week?, How well is the schedule paced?\""
   ]
  },
  {
   "cell_type": "markdown",
   "metadata": {},
   "source": [
    "#### Cleaning Process\n",
    "* Change the name of Timestamp to Week Number with the purpose of making it be clear what it is when mixing all weeks together"
   ]
  },
  {
   "cell_type": "code",
   "execution_count": 252,
   "metadata": {},
   "outputs": [],
   "source": [
    "SA_2016_SF_W4.rename(columns={'Timestamp': 'Week number'}, inplace=True)"
   ]
  },
  {
   "cell_type": "markdown",
   "metadata": {},
   "source": [
    "#### Formatting Setup\n",
    "* Make a variable with the number of data points\n",
    "* Make a variable with all the features\n",
    "* Make a variable with the number of features"
   ]
  },
  {
   "cell_type": "code",
   "execution_count": 253,
   "metadata": {},
   "outputs": [],
   "source": [
    "lenght_SA_2016_SF_W4 = len(SA_2016_SF_W4)\n",
    "SET_SA_2016_SF_W4 = set(SA_2016_SF_W4)\n",
    "column_lenght_SA_2016_SF_W4 = len(SA_2016_SF_W4.columns)"
   ]
  },
  {
   "cell_type": "markdown",
   "metadata": {},
   "source": [
    "#### Add new column with the location name"
   ]
  },
  {
   "cell_type": "code",
   "execution_count": 421,
   "metadata": {},
   "outputs": [],
   "source": [
    "# SA_2016_SF_W4.insert(0, 'Location', 'San Francisco')\n",
    "# SA_2016_SF_W4\n"
   ]
  },
  {
   "cell_type": "markdown",
   "metadata": {},
   "source": [
    "---"
   ]
  },
  {
   "cell_type": "code",
   "execution_count": 254,
   "metadata": {},
   "outputs": [
    {
     "data": {
      "text/html": [
       "<div>\n",
       "<style scoped>\n",
       "    .dataframe tbody tr th:only-of-type {\n",
       "        vertical-align: middle;\n",
       "    }\n",
       "\n",
       "    .dataframe tbody tr th {\n",
       "        vertical-align: top;\n",
       "    }\n",
       "\n",
       "    .dataframe thead th {\n",
       "        text-align: right;\n",
       "    }\n",
       "</style>\n",
       "<table border=\"1\" class=\"dataframe\">\n",
       "  <thead>\n",
       "    <tr style=\"text-align: right;\">\n",
       "      <th></th>\n",
       "      <th>Timestamp</th>\n",
       "      <th>How would you rate your overall satisfaction with the Summer Academy this week?</th>\n",
       "      <th>How well is the schedule paced?</th>\n",
       "    </tr>\n",
       "  </thead>\n",
       "  <tbody>\n",
       "    <tr>\n",
       "      <th>4</th>\n",
       "      <td>7/15/2016 2:56:09</td>\n",
       "      <td>3</td>\n",
       "      <td>4</td>\n",
       "    </tr>\n",
       "    <tr>\n",
       "      <th>5</th>\n",
       "      <td>7/15/2016 4:37:33</td>\n",
       "      <td>4</td>\n",
       "      <td>3</td>\n",
       "    </tr>\n",
       "    <tr>\n",
       "      <th>6</th>\n",
       "      <td>7/15/2016 19:59:23</td>\n",
       "      <td>4</td>\n",
       "      <td>3</td>\n",
       "    </tr>\n",
       "    <tr>\n",
       "      <th>7</th>\n",
       "      <td>7/15/2016 20:46:14</td>\n",
       "      <td>3</td>\n",
       "      <td>4</td>\n",
       "    </tr>\n",
       "    <tr>\n",
       "      <th>8</th>\n",
       "      <td>7/17/2016 19:06:22</td>\n",
       "      <td>4</td>\n",
       "      <td>3</td>\n",
       "    </tr>\n",
       "  </tbody>\n",
       "</table>\n",
       "</div>"
      ],
      "text/plain": [
       "            Timestamp  \\\n",
       "4   7/15/2016 2:56:09   \n",
       "5   7/15/2016 4:37:33   \n",
       "6  7/15/2016 19:59:23   \n",
       "7  7/15/2016 20:46:14   \n",
       "8  7/17/2016 19:06:22   \n",
       "\n",
       "   How would you rate your overall satisfaction with the Summer Academy this week?  \\\n",
       "4                                                  3                                 \n",
       "5                                                  4                                 \n",
       "6                                                  4                                 \n",
       "7                                                  3                                 \n",
       "8                                                  4                                 \n",
       "\n",
       "   How well is the schedule paced?  \n",
       "4                                4  \n",
       "5                                3  \n",
       "6                                3  \n",
       "7                                4  \n",
       "8                                3  "
      ]
     },
     "execution_count": 254,
     "metadata": {},
     "output_type": "execute_result"
    }
   ],
   "source": [
    "file19_SG_PATH = \"../Datasets/SAFeedbackSurveys_FINAL/2016/Anon Week 4 Feedback - SG.csv\"\n",
    "SA_2016_SG_W4 = pd.read_csv(file19_SG_PATH)\n",
    "# SA_2016_SG_W4.head()\n",
    "SA_2016_SG_W4.tail()"
   ]
  },
  {
   "cell_type": "markdown",
   "metadata": {},
   "source": [
    "#### Notes on Week4 SG:\n",
    "* There are 8 data points\n",
    "* Features 3: \"Timestamp, How would you rate your overall satisfaction with the Summer Academy this week?, How well is the schedule paced?\""
   ]
  },
  {
   "cell_type": "markdown",
   "metadata": {},
   "source": [
    "#### Cleaning Process\n",
    "* Change the name of Timestamp to Week Number with the purpose of making it be clear what it is when mixing all weeks together"
   ]
  },
  {
   "cell_type": "code",
   "execution_count": 262,
   "metadata": {},
   "outputs": [],
   "source": [
    "SA_2016_SG_W4.rename(columns={'Timestamp': 'Week number'}, inplace=True)"
   ]
  },
  {
   "cell_type": "markdown",
   "metadata": {},
   "source": [
    "#### Formatting Setup\n",
    "* Make a variable with the number of data points\n",
    "* Make a variable with all the features\n",
    "* Make a variable with the number of features"
   ]
  },
  {
   "cell_type": "code",
   "execution_count": 263,
   "metadata": {},
   "outputs": [],
   "source": [
    "lenght_SA_2016_SG_W4 = len(SA_2016_SG_W4)\n",
    "SET_SA_2016_SG_W4 = set(SA_2016_SG_W4)\n",
    "column_lenght_SA_2016_SG_W4 = len(SA_2016_SG_W4.columns)"
   ]
  },
  {
   "cell_type": "markdown",
   "metadata": {},
   "source": [
    "#### Add new column with the location name"
   ]
  },
  {
   "cell_type": "code",
   "execution_count": 423,
   "metadata": {},
   "outputs": [],
   "source": [
    "# SA_2016_SG_W4.insert(0, 'Location', 'Singapor')\n",
    "# SA_2016_SG_W4\n"
   ]
  },
  {
   "cell_type": "markdown",
   "metadata": {},
   "source": [
    "---"
   ]
  },
  {
   "cell_type": "code",
   "execution_count": 264,
   "metadata": {},
   "outputs": [],
   "source": [
    "file20_SV_PATH = \"../Datasets/SAFeedbackSurveys_FINAL/2016/Anon Week 4 Feedback - SV.csv\"\n",
    "SA_2016_SV_W4 = pd.read_csv(file20_SV_PATH)"
   ]
  },
  {
   "cell_type": "code",
   "execution_count": 265,
   "metadata": {},
   "outputs": [
    {
     "data": {
      "text/html": [
       "<div>\n",
       "<style scoped>\n",
       "    .dataframe tbody tr th:only-of-type {\n",
       "        vertical-align: middle;\n",
       "    }\n",
       "\n",
       "    .dataframe tbody tr th {\n",
       "        vertical-align: top;\n",
       "    }\n",
       "\n",
       "    .dataframe thead th {\n",
       "        text-align: right;\n",
       "    }\n",
       "</style>\n",
       "<table border=\"1\" class=\"dataframe\">\n",
       "  <thead>\n",
       "    <tr style=\"text-align: right;\">\n",
       "      <th></th>\n",
       "      <th>Timestamp</th>\n",
       "      <th>What track are you in?</th>\n",
       "      <th>How would you rate your overall satisfaction with the Summer Academy this week?</th>\n",
       "      <th>How well is the schedule paced?</th>\n",
       "    </tr>\n",
       "  </thead>\n",
       "  <tbody>\n",
       "    <tr>\n",
       "      <th>31</th>\n",
       "      <td>7/15/2016 14:00:41</td>\n",
       "      <td>Games</td>\n",
       "      <td>4</td>\n",
       "      <td>4</td>\n",
       "    </tr>\n",
       "    <tr>\n",
       "      <th>32</th>\n",
       "      <td>7/15/2016 15:51:03</td>\n",
       "      <td>Games</td>\n",
       "      <td>5</td>\n",
       "      <td>5</td>\n",
       "    </tr>\n",
       "    <tr>\n",
       "      <th>33</th>\n",
       "      <td>7/15/2016 15:57:04</td>\n",
       "      <td>Games</td>\n",
       "      <td>5</td>\n",
       "      <td>3</td>\n",
       "    </tr>\n",
       "    <tr>\n",
       "      <th>34</th>\n",
       "      <td>7/15/2016 15:58:21</td>\n",
       "      <td>Games</td>\n",
       "      <td>3</td>\n",
       "      <td>3</td>\n",
       "    </tr>\n",
       "    <tr>\n",
       "      <th>35</th>\n",
       "      <td>7/15/2016 14:03:03</td>\n",
       "      <td>Intro</td>\n",
       "      <td>5</td>\n",
       "      <td>4</td>\n",
       "    </tr>\n",
       "  </tbody>\n",
       "</table>\n",
       "</div>"
      ],
      "text/plain": [
       "             Timestamp What track are you in?  \\\n",
       "31  7/15/2016 14:00:41                  Games   \n",
       "32  7/15/2016 15:51:03                  Games   \n",
       "33  7/15/2016 15:57:04                  Games   \n",
       "34  7/15/2016 15:58:21                  Games   \n",
       "35  7/15/2016 14:03:03                  Intro   \n",
       "\n",
       "    How would you rate your overall satisfaction with the Summer Academy this week?  \\\n",
       "31                                                  4                                 \n",
       "32                                                  5                                 \n",
       "33                                                  5                                 \n",
       "34                                                  3                                 \n",
       "35                                                  5                                 \n",
       "\n",
       "    How well is the schedule paced?  \n",
       "31                                4  \n",
       "32                                5  \n",
       "33                                3  \n",
       "34                                3  \n",
       "35                                4  "
      ]
     },
     "execution_count": 265,
     "metadata": {},
     "output_type": "execute_result"
    }
   ],
   "source": [
    "# SA_2016_SV_W4.head()\n",
    "SA_2016_SV_W4.tail()"
   ]
  },
  {
   "cell_type": "markdown",
   "metadata": {},
   "source": [
    "#### Notes on Week4 SV:\n",
    "* There are 36 data points\n",
    "* Features 4: \"Timestamp, What track are you in?, How would you rate your overall satisfaction with the Summer Academy this week?, How well is the schedule paced?\""
   ]
  },
  {
   "cell_type": "markdown",
   "metadata": {},
   "source": [
    "#### Cleaning Process\n",
    "* Change the name of Timestamp to Week Number with the purpose of making it be clear what it is when mixing all weeks together"
   ]
  },
  {
   "cell_type": "code",
   "execution_count": 266,
   "metadata": {},
   "outputs": [],
   "source": [
    "SA_2016_SV_W4.rename(columns={'Timestamp': 'Week number'}, inplace=True)"
   ]
  },
  {
   "cell_type": "markdown",
   "metadata": {},
   "source": [
    "#### Formatting Setup\n",
    "* Make a variable with the number of data points\n",
    "* Make a variable with all the features\n",
    "* Make a variable with the number of features"
   ]
  },
  {
   "cell_type": "code",
   "execution_count": 267,
   "metadata": {},
   "outputs": [],
   "source": [
    "lenght_SA_2016_SV_W4 = len(SA_2016_SV_W4)\n",
    "SET_SA_2016_SV_W4 = set(SA_2016_SV_W4)\n",
    "column_lenght_SA_2016_SV_W4 = len(SA_2016_SV_W4.columns)"
   ]
  },
  {
   "cell_type": "markdown",
   "metadata": {},
   "source": [
    "#### Add new column with the location name"
   ]
  },
  {
   "cell_type": "code",
   "execution_count": 425,
   "metadata": {},
   "outputs": [],
   "source": [
    "# SA_2016_SV_W4.insert(0, 'Location', 'Sunnyvale')\n",
    "# SA_2016_SV_W4\n"
   ]
  },
  {
   "cell_type": "markdown",
   "metadata": {},
   "source": [
    "---"
   ]
  },
  {
   "cell_type": "markdown",
   "metadata": {},
   "source": [
    "### Formating into a complete week 4 file\n",
    "#### What to consider for this process\n",
    "* Do all Datasets have 4 features?\n",
    "* For NPS score do I need all datasets to have all features"
   ]
  },
  {
   "cell_type": "code",
   "execution_count": 485,
   "metadata": {},
   "outputs": [
    {
     "data": {
      "text/html": [
       "<div>\n",
       "<style scoped>\n",
       "    .dataframe tbody tr th:only-of-type {\n",
       "        vertical-align: middle;\n",
       "    }\n",
       "\n",
       "    .dataframe tbody tr th {\n",
       "        vertical-align: top;\n",
       "    }\n",
       "\n",
       "    .dataframe thead th {\n",
       "        text-align: right;\n",
       "    }\n",
       "</style>\n",
       "<table border=\"1\" class=\"dataframe\">\n",
       "  <thead>\n",
       "    <tr style=\"text-align: right;\">\n",
       "      <th></th>\n",
       "      <th>Location</th>\n",
       "      <th>Features</th>\n",
       "      <th>Number of Datapoints</th>\n",
       "      <th>Number of Features</th>\n",
       "    </tr>\n",
       "  </thead>\n",
       "  <tbody>\n",
       "    <tr>\n",
       "      <th>0</th>\n",
       "      <td>Singapore</td>\n",
       "      <td>{Week number, How well is the schedule paced?,...</td>\n",
       "      <td>9</td>\n",
       "      <td>3</td>\n",
       "    </tr>\n",
       "    <tr>\n",
       "      <th>1</th>\n",
       "      <td>Los Angeles</td>\n",
       "      <td>{Week number, How well is the schedule paced?,...</td>\n",
       "      <td>8</td>\n",
       "      <td>3</td>\n",
       "    </tr>\n",
       "    <tr>\n",
       "      <th>2</th>\n",
       "      <td>New York</td>\n",
       "      <td>{Week number, How well is the schedule paced?,...</td>\n",
       "      <td>16</td>\n",
       "      <td>4</td>\n",
       "    </tr>\n",
       "    <tr>\n",
       "      <th>3</th>\n",
       "      <td>San Francisco</td>\n",
       "      <td>{What track are you in?, Week number, How well...</td>\n",
       "      <td>31</td>\n",
       "      <td>4</td>\n",
       "    </tr>\n",
       "    <tr>\n",
       "      <th>4</th>\n",
       "      <td>Sunnyvale</td>\n",
       "      <td>{Week number, How well is the schedule paced?,...</td>\n",
       "      <td>36</td>\n",
       "      <td>4</td>\n",
       "    </tr>\n",
       "  </tbody>\n",
       "</table>\n",
       "</div>"
      ],
      "text/plain": [
       "        Location                                           Features  \\\n",
       "0      Singapore  {Week number, How well is the schedule paced?,...   \n",
       "1    Los Angeles  {Week number, How well is the schedule paced?,...   \n",
       "2       New York  {Week number, How well is the schedule paced?,...   \n",
       "3  San Francisco  {What track are you in?, Week number, How well...   \n",
       "4      Sunnyvale  {Week number, How well is the schedule paced?,...   \n",
       "\n",
       "   Number of Datapoints  Number of Features  \n",
       "0                     9                   3  \n",
       "1                     8                   3  \n",
       "2                    16                   4  \n",
       "3                    31                   4  \n",
       "4                    36                   4  "
      ]
     },
     "execution_count": 485,
     "metadata": {},
     "output_type": "execute_result"
    }
   ],
   "source": [
    "SA_2016_W4_data = {'Location': ['Singapore', 'Los Angeles', 'New York', 'San Francisco', 'Sunnyvale'], \n",
    "                   'Features': [SET_SA_2016_SG_W4, SET_SA_2016_LA_W4, SET_SA_2016_NY_W4, SET_SA_2016_SF_W4, SET_SA_2016_SV_W4], \n",
    "                   'Number of Datapoints': [lenght_SA_2016_SG_W4, lenght_SA_2016_LA_W4, lenght_SA_2016_NY_W4, lenght_SA_2016_SF_W4, lenght_SA_2016_SV_W4],\n",
    "                   'Number of Features': [column_lenght_SA_2016_SG_W4, column_lenght_SA_2016_LA_W4, column_lenght_SA_2016_NY_W4, column_lenght_SA_2016_SF_W4, column_lenght_SA_2016_SV_W4]\n",
    "                  }\n",
    "SA_2016_W4 = pd.DataFrame(data=SA_2016_W4_data)\n",
    "SA_2016_W4\n",
    "\n"
   ]
  },
  {
   "cell_type": "markdown",
   "metadata": {},
   "source": [
    "#### Complete comparion of dataset\n",
    "_Objective:_\n",
    "* Be able to see easily which dataset have more features \n",
    "* Decide if it's a good idea to have a special weekly dataset with the more complete ones and a normal one where the not always present features is not added"
   ]
  },
  {
   "cell_type": "markdown",
   "metadata": {},
   "source": [
    "### Complete week 4\n",
    "#### Process to achieve this\n",
    "* Concatenate all without including track\n",
    "* Concatenate only the ones with track\n",
    "\n",
    "__Note:__\n",
    "    - Given that all datasets don't have track included will have two weekly datasets"
   ]
  },
  {
   "cell_type": "code",
   "execution_count": 499,
   "metadata": {},
   "outputs": [],
   "source": [
    "# Here will only be the ones who have their track\n",
    "# week4_frames = [SA_2016_SG_W4, SA_2016_LA_W4, SA_2016_NY_W4, SA_2016_SF_W4, SA_2016_SV_W4]\n",
    "# SA_2016_W4_ALL = pd.concat(week4_frames, sort=True)\n",
    "# SA_2016_W4_ALL = SA_2016_W4_ALL.drop('What track are you in?', 1)\n",
    "# SA_2016_W4_ALL\n"
   ]
  },
  {
   "cell_type": "code",
   "execution_count": 500,
   "metadata": {},
   "outputs": [],
   "source": [
    "# # Here will only be the ones who have the feature track\n",
    "# week4_frames_only_track = [SA_2016_NY_W4, SA_2016_SF_W4, SA_2016_SV_W4]\n",
    "# SA_2016_W4_with_track = pd.concat(week4_frames_only_track, sort=True)\n",
    "# SA_2016_W3_with_track"
   ]
  },
  {
   "cell_type": "markdown",
   "metadata": {},
   "source": [
    "## Week5"
   ]
  },
  {
   "cell_type": "code",
   "execution_count": 270,
   "metadata": {},
   "outputs": [
    {
     "data": {
      "text/html": [
       "<div>\n",
       "<style scoped>\n",
       "    .dataframe tbody tr th:only-of-type {\n",
       "        vertical-align: middle;\n",
       "    }\n",
       "\n",
       "    .dataframe tbody tr th {\n",
       "        vertical-align: top;\n",
       "    }\n",
       "\n",
       "    .dataframe thead th {\n",
       "        text-align: right;\n",
       "    }\n",
       "</style>\n",
       "<table border=\"1\" class=\"dataframe\">\n",
       "  <thead>\n",
       "    <tr style=\"text-align: right;\">\n",
       "      <th></th>\n",
       "      <th>Timestamp</th>\n",
       "      <th>How would you rate your overall satisfaction with the Summer Academy this week?</th>\n",
       "      <th>How well are the tutorials paced?</th>\n",
       "    </tr>\n",
       "  </thead>\n",
       "  <tbody>\n",
       "    <tr>\n",
       "      <th>0</th>\n",
       "      <td>7/21/2016 21:57:59</td>\n",
       "      <td>4</td>\n",
       "      <td>3</td>\n",
       "    </tr>\n",
       "    <tr>\n",
       "      <th>1</th>\n",
       "      <td>7/21/2016 21:59:37</td>\n",
       "      <td>5</td>\n",
       "      <td>3</td>\n",
       "    </tr>\n",
       "    <tr>\n",
       "      <th>2</th>\n",
       "      <td>7/21/2016 22:01:53</td>\n",
       "      <td>5</td>\n",
       "      <td>3</td>\n",
       "    </tr>\n",
       "  </tbody>\n",
       "</table>\n",
       "</div>"
      ],
      "text/plain": [
       "            Timestamp  \\\n",
       "0  7/21/2016 21:57:59   \n",
       "1  7/21/2016 21:59:37   \n",
       "2  7/21/2016 22:01:53   \n",
       "\n",
       "   How would you rate your overall satisfaction with the Summer Academy this week?  \\\n",
       "0                                                  4                                 \n",
       "1                                                  5                                 \n",
       "2                                                  5                                 \n",
       "\n",
       "   How well are the tutorials paced?  \n",
       "0                                  3  \n",
       "1                                  3  \n",
       "2                                  3  "
      ]
     },
     "execution_count": 270,
     "metadata": {},
     "output_type": "execute_result"
    }
   ],
   "source": [
    "file21_HK_PATH = \"../Datasets/SAFeedbackSurveys_FINAL/2016/Anon Week 5 Feedback - HK.csv\"\n",
    "SA_2016_HK_W5 = pd.read_csv(file21_HK_PATH)\n",
    "# SA_2016_HK_W5.head()\n",
    "SA_2016_HK_W5.tail()"
   ]
  },
  {
   "cell_type": "markdown",
   "metadata": {},
   "source": [
    "#### Notes on Week5 HK:\n",
    "* There are 3 data points\n",
    "* Features 3: \"Timestamp, How would you rate your overall satisfaction with the Summer Academy this week?, How well are the tutorials paced?\""
   ]
  },
  {
   "cell_type": "markdown",
   "metadata": {},
   "source": [
    "#### Cleaning Process\n",
    "* Change the name of Timestamp to Week Number with the purpose of making it be clear what it is when mixing all weeks together"
   ]
  },
  {
   "cell_type": "code",
   "execution_count": 271,
   "metadata": {},
   "outputs": [],
   "source": [
    "SA_2016_HK_W5.rename(columns={'Timestamp': 'Week number'}, inplace=True)"
   ]
  },
  {
   "cell_type": "markdown",
   "metadata": {},
   "source": [
    "#### Formatting Setup\n",
    "* Make a variable with the number of data points\n",
    "* Make a variable with all the features\n",
    "* Make a variable with the number of features"
   ]
  },
  {
   "cell_type": "code",
   "execution_count": 272,
   "metadata": {},
   "outputs": [],
   "source": [
    "lenght_SA_2016_HK_W5 = len(SA_2016_HK_W5)\n",
    "SET_SA_2016_HK_W5 = set(SA_2016_HK_W5)\n",
    "column_lenght_SA_2016_HK_W5 = len(SA_2016_HK_W5.columns)"
   ]
  },
  {
   "cell_type": "markdown",
   "metadata": {},
   "source": [
    "#### Add new column with the location name"
   ]
  },
  {
   "cell_type": "code",
   "execution_count": 427,
   "metadata": {},
   "outputs": [],
   "source": [
    "# SA_2016_HK_W5.insert(0, 'Location', 'Hong Kong')\n",
    "# SA_2016_HK_W5\n"
   ]
  },
  {
   "cell_type": "markdown",
   "metadata": {},
   "source": [
    "---"
   ]
  },
  {
   "cell_type": "code",
   "execution_count": 274,
   "metadata": {},
   "outputs": [
    {
     "data": {
      "text/html": [
       "<div>\n",
       "<style scoped>\n",
       "    .dataframe tbody tr th:only-of-type {\n",
       "        vertical-align: middle;\n",
       "    }\n",
       "\n",
       "    .dataframe tbody tr th {\n",
       "        vertical-align: top;\n",
       "    }\n",
       "\n",
       "    .dataframe thead th {\n",
       "        text-align: right;\n",
       "    }\n",
       "</style>\n",
       "<table border=\"1\" class=\"dataframe\">\n",
       "  <thead>\n",
       "    <tr style=\"text-align: right;\">\n",
       "      <th></th>\n",
       "      <th>Timestamp</th>\n",
       "      <th>What track are you in?</th>\n",
       "      <th>How would you rate your overall satisfaction with the Summer Academy this week?</th>\n",
       "      <th>How well is the schedule paced?</th>\n",
       "    </tr>\n",
       "  </thead>\n",
       "  <tbody>\n",
       "    <tr>\n",
       "      <th>7</th>\n",
       "      <td>7/22/2016 16:19:58</td>\n",
       "      <td>Games</td>\n",
       "      <td>4</td>\n",
       "      <td>4</td>\n",
       "    </tr>\n",
       "    <tr>\n",
       "      <th>8</th>\n",
       "      <td>7/22/2016 16:20:25</td>\n",
       "      <td>Games</td>\n",
       "      <td>5</td>\n",
       "      <td>4</td>\n",
       "    </tr>\n",
       "    <tr>\n",
       "      <th>9</th>\n",
       "      <td>7/22/2016 16:20:30</td>\n",
       "      <td>Intro</td>\n",
       "      <td>5</td>\n",
       "      <td>3</td>\n",
       "    </tr>\n",
       "    <tr>\n",
       "      <th>10</th>\n",
       "      <td>7/22/2016 16:23:12</td>\n",
       "      <td>Games</td>\n",
       "      <td>4</td>\n",
       "      <td>3</td>\n",
       "    </tr>\n",
       "    <tr>\n",
       "      <th>11</th>\n",
       "      <td>7/22/2016 16:23:19</td>\n",
       "      <td>Games</td>\n",
       "      <td>4</td>\n",
       "      <td>3</td>\n",
       "    </tr>\n",
       "  </tbody>\n",
       "</table>\n",
       "</div>"
      ],
      "text/plain": [
       "             Timestamp What track are you in?  \\\n",
       "7   7/22/2016 16:19:58                  Games   \n",
       "8   7/22/2016 16:20:25                  Games   \n",
       "9   7/22/2016 16:20:30                  Intro   \n",
       "10  7/22/2016 16:23:12                  Games   \n",
       "11  7/22/2016 16:23:19                  Games   \n",
       "\n",
       "    How would you rate your overall satisfaction with the Summer Academy this week?  \\\n",
       "7                                                   4                                 \n",
       "8                                                   5                                 \n",
       "9                                                   5                                 \n",
       "10                                                  4                                 \n",
       "11                                                  4                                 \n",
       "\n",
       "    How well is the schedule paced?  \n",
       "7                                 4  \n",
       "8                                 4  \n",
       "9                                 3  \n",
       "10                                3  \n",
       "11                                3  "
      ]
     },
     "execution_count": 274,
     "metadata": {},
     "output_type": "execute_result"
    }
   ],
   "source": [
    "file22_LA_PATH = \"../Datasets/SAFeedbackSurveys_FINAL/2016/Anon Week 5 Feedback - LA.csv\"\n",
    "SA_2016_LA_W5 = pd.read_csv(file22_LA_PATH)\n",
    "# SA_2016_LA_W5.head()\n",
    "SA_2016_LA_W5.tail()"
   ]
  },
  {
   "cell_type": "markdown",
   "metadata": {},
   "source": [
    "#### Notes on Week5 LA:\n",
    "* There are 12 data points\n",
    "* Features 4: \"Timestamp, What track are you in?, How would you rate your overall satisfaction with the Summer Academy this week?, How well is the schedule paced?\""
   ]
  },
  {
   "cell_type": "markdown",
   "metadata": {},
   "source": [
    "#### Cleaning Process\n",
    "* Change the name of Timestamp to Week Number with the purpose of making it be clear what it is when mixing all weeks together"
   ]
  },
  {
   "cell_type": "code",
   "execution_count": 275,
   "metadata": {},
   "outputs": [],
   "source": [
    "SA_2016_LA_W5.rename(columns={'Timestamp': 'Week number'}, inplace=True)"
   ]
  },
  {
   "cell_type": "markdown",
   "metadata": {},
   "source": [
    "#### Formatting Setup\n",
    "* Make a variable with the number of data points\n",
    "* Make a variable with all the features\n",
    "* Make a variable with the number of features"
   ]
  },
  {
   "cell_type": "code",
   "execution_count": 276,
   "metadata": {},
   "outputs": [],
   "source": [
    "lenght_SA_2016_LA_W5 = len(SA_2016_LA_W5)\n",
    "SET_SA_2016_LA_W5 = set(SA_2016_LA_W5)\n",
    "column_lenght_SA_2016_LA_W5 = len(SA_2016_LA_W5.columns)"
   ]
  },
  {
   "cell_type": "markdown",
   "metadata": {},
   "source": [
    "#### Add new column with the location name"
   ]
  },
  {
   "cell_type": "code",
   "execution_count": 429,
   "metadata": {},
   "outputs": [],
   "source": [
    "# SA_2016_LA_W5.insert(0, 'Location', 'Los Angeles')\n",
    "# SA_2016_LA_W5\n"
   ]
  },
  {
   "cell_type": "markdown",
   "metadata": {},
   "source": [
    "---"
   ]
  },
  {
   "cell_type": "code",
   "execution_count": 278,
   "metadata": {},
   "outputs": [
    {
     "data": {
      "text/html": [
       "<div>\n",
       "<style scoped>\n",
       "    .dataframe tbody tr th:only-of-type {\n",
       "        vertical-align: middle;\n",
       "    }\n",
       "\n",
       "    .dataframe tbody tr th {\n",
       "        vertical-align: top;\n",
       "    }\n",
       "\n",
       "    .dataframe thead th {\n",
       "        text-align: right;\n",
       "    }\n",
       "</style>\n",
       "<table border=\"1\" class=\"dataframe\">\n",
       "  <thead>\n",
       "    <tr style=\"text-align: right;\">\n",
       "      <th></th>\n",
       "      <th>Timestamp</th>\n",
       "      <th>What track are you in?</th>\n",
       "      <th>How would you rate your overall satisfaction with the Summer Academy this week?</th>\n",
       "      <th>How well is the schedule paced?</th>\n",
       "    </tr>\n",
       "  </thead>\n",
       "  <tbody>\n",
       "    <tr>\n",
       "      <th>16</th>\n",
       "      <td>7/22/2016 13:53:31</td>\n",
       "      <td>Games</td>\n",
       "      <td>5</td>\n",
       "      <td>3</td>\n",
       "    </tr>\n",
       "    <tr>\n",
       "      <th>17</th>\n",
       "      <td>7/22/2016 13:53:56</td>\n",
       "      <td>Apps</td>\n",
       "      <td>4</td>\n",
       "      <td>3</td>\n",
       "    </tr>\n",
       "    <tr>\n",
       "      <th>18</th>\n",
       "      <td>7/22/2016 13:54:46</td>\n",
       "      <td>Games</td>\n",
       "      <td>5</td>\n",
       "      <td>3</td>\n",
       "    </tr>\n",
       "    <tr>\n",
       "      <th>19</th>\n",
       "      <td>7/22/2016 13:54:52</td>\n",
       "      <td>Apps</td>\n",
       "      <td>5</td>\n",
       "      <td>3</td>\n",
       "    </tr>\n",
       "    <tr>\n",
       "      <th>20</th>\n",
       "      <td>7/22/2016 13:57:13</td>\n",
       "      <td>Games</td>\n",
       "      <td>4</td>\n",
       "      <td>3</td>\n",
       "    </tr>\n",
       "  </tbody>\n",
       "</table>\n",
       "</div>"
      ],
      "text/plain": [
       "             Timestamp What track are you in?  \\\n",
       "16  7/22/2016 13:53:31                  Games   \n",
       "17  7/22/2016 13:53:56                   Apps   \n",
       "18  7/22/2016 13:54:46                  Games   \n",
       "19  7/22/2016 13:54:52                   Apps   \n",
       "20  7/22/2016 13:57:13                  Games   \n",
       "\n",
       "    How would you rate your overall satisfaction with the Summer Academy this week?  \\\n",
       "16                                                  5                                 \n",
       "17                                                  4                                 \n",
       "18                                                  5                                 \n",
       "19                                                  5                                 \n",
       "20                                                  4                                 \n",
       "\n",
       "    How well is the schedule paced?  \n",
       "16                                3  \n",
       "17                                3  \n",
       "18                                3  \n",
       "19                                3  \n",
       "20                                3  "
      ]
     },
     "execution_count": 278,
     "metadata": {},
     "output_type": "execute_result"
    }
   ],
   "source": [
    "file23_NY_PATH = \"../Datasets/SAFeedbackSurveys_FINAL/2016/Anon Week 5 Feedback - NY.csv\"\n",
    "SA_2016_NY_W5 = pd.read_csv(file23_NY_PATH)\n",
    "# SA_2016_NY_W5.head()\n",
    "SA_2016_NY_W5.tail()"
   ]
  },
  {
   "cell_type": "markdown",
   "metadata": {},
   "source": [
    "#### Notes on Week5 NY:\n",
    "* There are 21 data points\n",
    "* Features 4: \"Timestamp, What track are you in?, How would you rate your overall satisfaction with the Summer Academy this week?, How well is the schedule paced?\""
   ]
  },
  {
   "cell_type": "markdown",
   "metadata": {},
   "source": [
    "#### Cleaning Process\n",
    "* Change the name of Timestamp to Week Number with the purpose of making it be clear what it is when mixing all weeks together"
   ]
  },
  {
   "cell_type": "code",
   "execution_count": 279,
   "metadata": {},
   "outputs": [],
   "source": [
    "SA_2016_NY_W5.rename(columns={'Timestamp': 'Week number'}, inplace=True)"
   ]
  },
  {
   "cell_type": "markdown",
   "metadata": {},
   "source": [
    "#### Formatting Setup\n",
    "* Make a variable with the number of data points\n",
    "* Make a variable with all the features\n",
    "* Make a variable with the number of features"
   ]
  },
  {
   "cell_type": "code",
   "execution_count": 280,
   "metadata": {},
   "outputs": [],
   "source": [
    "lenght_SA_2016_NY_W5 = len(SA_2016_NY_W5)\n",
    "SET_SA_2016_NY_W5 = set(SA_2016_NY_W5)\n",
    "column_lenght_SA_2016_NY_W5 = len(SA_2016_NY_W5.columns)"
   ]
  },
  {
   "cell_type": "markdown",
   "metadata": {},
   "source": [
    "#### Add new column with the location name"
   ]
  },
  {
   "cell_type": "code",
   "execution_count": 431,
   "metadata": {},
   "outputs": [],
   "source": [
    "# SA_2016_NY_W5.insert(0, 'Location', 'New York')\n",
    "# SA_2016_NY_W5\n"
   ]
  },
  {
   "cell_type": "markdown",
   "metadata": {},
   "source": [
    "---"
   ]
  },
  {
   "cell_type": "code",
   "execution_count": 282,
   "metadata": {},
   "outputs": [
    {
     "data": {
      "text/html": [
       "<div>\n",
       "<style scoped>\n",
       "    .dataframe tbody tr th:only-of-type {\n",
       "        vertical-align: middle;\n",
       "    }\n",
       "\n",
       "    .dataframe tbody tr th {\n",
       "        vertical-align: top;\n",
       "    }\n",
       "\n",
       "    .dataframe thead th {\n",
       "        text-align: right;\n",
       "    }\n",
       "</style>\n",
       "<table border=\"1\" class=\"dataframe\">\n",
       "  <thead>\n",
       "    <tr style=\"text-align: right;\">\n",
       "      <th></th>\n",
       "      <th>What track are you in?</th>\n",
       "      <th>How would you rate your overall satisfaction with the Summer Academy this week?</th>\n",
       "      <th>How well is the schedule paced?</th>\n",
       "    </tr>\n",
       "  </thead>\n",
       "  <tbody>\n",
       "    <tr>\n",
       "      <th>37</th>\n",
       "      <td>VR</td>\n",
       "      <td>5</td>\n",
       "      <td>4</td>\n",
       "    </tr>\n",
       "    <tr>\n",
       "      <th>38</th>\n",
       "      <td>VR</td>\n",
       "      <td>4</td>\n",
       "      <td>4</td>\n",
       "    </tr>\n",
       "    <tr>\n",
       "      <th>39</th>\n",
       "      <td>VR</td>\n",
       "      <td>5</td>\n",
       "      <td>3</td>\n",
       "    </tr>\n",
       "    <tr>\n",
       "      <th>40</th>\n",
       "      <td>Intro</td>\n",
       "      <td>3</td>\n",
       "      <td>3</td>\n",
       "    </tr>\n",
       "    <tr>\n",
       "      <th>41</th>\n",
       "      <td>Intro</td>\n",
       "      <td>3</td>\n",
       "      <td>3</td>\n",
       "    </tr>\n",
       "  </tbody>\n",
       "</table>\n",
       "</div>"
      ],
      "text/plain": [
       "   What track are you in?  \\\n",
       "37                     VR   \n",
       "38                     VR   \n",
       "39                     VR   \n",
       "40                  Intro   \n",
       "41                  Intro   \n",
       "\n",
       "    How would you rate your overall satisfaction with the Summer Academy this week?  \\\n",
       "37                                                  5                                 \n",
       "38                                                  4                                 \n",
       "39                                                  5                                 \n",
       "40                                                  3                                 \n",
       "41                                                  3                                 \n",
       "\n",
       "    How well is the schedule paced?  \n",
       "37                                4  \n",
       "38                                4  \n",
       "39                                3  \n",
       "40                                3  \n",
       "41                                3  "
      ]
     },
     "execution_count": 282,
     "metadata": {},
     "output_type": "execute_result"
    }
   ],
   "source": [
    "file24_SF_PATH = \"../Datasets/SAFeedbackSurveys_FINAL/2016/Anon Week 5 Feedback - SF.csv\"\n",
    "SA_2016_SF_W5 = pd.read_csv(file24_SF_PATH)\n",
    "# SA_2016_SF_W5.head()\n",
    "SA_2016_SF_W5.tail()"
   ]
  },
  {
   "cell_type": "markdown",
   "metadata": {},
   "source": [
    "#### Notes on Week5 SF:\n",
    "* There are 42 data points\n",
    "* Features 3: \"What track are you in?, How would you rate your overall satisfaction with the Summer Academy this week?, How well is the schedule paced?\""
   ]
  },
  {
   "cell_type": "markdown",
   "metadata": {},
   "source": [
    "#### Cleaning Process\n",
    "* Change the name of Timestamp to Week Number with the purpose of making it be clear what it is when mixing all weeks together"
   ]
  },
  {
   "cell_type": "code",
   "execution_count": 283,
   "metadata": {},
   "outputs": [],
   "source": [
    "SA_2016_SF_W5.rename(columns={'Timestamp': 'Week number'}, inplace=True)"
   ]
  },
  {
   "cell_type": "markdown",
   "metadata": {},
   "source": [
    "#### Formatting Setup\n",
    "* Make a variable with the number of data points\n",
    "* Make a variable with all the features\n",
    "* Make a variable with the number of features"
   ]
  },
  {
   "cell_type": "code",
   "execution_count": 284,
   "metadata": {},
   "outputs": [],
   "source": [
    "lenght_SA_2016_SF_W5 = len(SA_2016_SF_W5)\n",
    "SET_SA_2016_SF_W5 = set(SA_2016_SF_W5)\n",
    "column_lenght_SA_2016_SF_W5 = len(SA_2016_SF_W5.columns)"
   ]
  },
  {
   "cell_type": "markdown",
   "metadata": {},
   "source": [
    "#### Add new column with the location name"
   ]
  },
  {
   "cell_type": "code",
   "execution_count": 433,
   "metadata": {},
   "outputs": [],
   "source": [
    "# SA_2016_SF_W5.insert(0, 'Location', 'San Francisco')\n",
    "# SA_2016_SF_W5\n"
   ]
  },
  {
   "cell_type": "markdown",
   "metadata": {},
   "source": [
    "---"
   ]
  },
  {
   "cell_type": "code",
   "execution_count": 286,
   "metadata": {},
   "outputs": [
    {
     "data": {
      "text/html": [
       "<div>\n",
       "<style scoped>\n",
       "    .dataframe tbody tr th:only-of-type {\n",
       "        vertical-align: middle;\n",
       "    }\n",
       "\n",
       "    .dataframe tbody tr th {\n",
       "        vertical-align: top;\n",
       "    }\n",
       "\n",
       "    .dataframe thead th {\n",
       "        text-align: right;\n",
       "    }\n",
       "</style>\n",
       "<table border=\"1\" class=\"dataframe\">\n",
       "  <thead>\n",
       "    <tr style=\"text-align: right;\">\n",
       "      <th></th>\n",
       "      <th>Timestamp</th>\n",
       "      <th>How would you rate your overall satisfaction with the Summer Academy this week?</th>\n",
       "      <th>How well is the schedule paced?</th>\n",
       "    </tr>\n",
       "  </thead>\n",
       "  <tbody>\n",
       "    <tr>\n",
       "      <th>6</th>\n",
       "      <td>7/22/2016 19:26:57</td>\n",
       "      <td>4</td>\n",
       "      <td>3</td>\n",
       "    </tr>\n",
       "    <tr>\n",
       "      <th>7</th>\n",
       "      <td>7/22/2016 22:37:46</td>\n",
       "      <td>3</td>\n",
       "      <td>3</td>\n",
       "    </tr>\n",
       "    <tr>\n",
       "      <th>8</th>\n",
       "      <td>7/23/2016 18:59:21</td>\n",
       "      <td>4</td>\n",
       "      <td>3</td>\n",
       "    </tr>\n",
       "    <tr>\n",
       "      <th>9</th>\n",
       "      <td>7/23/2016 23:28:39</td>\n",
       "      <td>4</td>\n",
       "      <td>3</td>\n",
       "    </tr>\n",
       "    <tr>\n",
       "      <th>10</th>\n",
       "      <td>7/24/2016 11:16:24</td>\n",
       "      <td>2</td>\n",
       "      <td>2</td>\n",
       "    </tr>\n",
       "  </tbody>\n",
       "</table>\n",
       "</div>"
      ],
      "text/plain": [
       "             Timestamp  \\\n",
       "6   7/22/2016 19:26:57   \n",
       "7   7/22/2016 22:37:46   \n",
       "8   7/23/2016 18:59:21   \n",
       "9   7/23/2016 23:28:39   \n",
       "10  7/24/2016 11:16:24   \n",
       "\n",
       "    How would you rate your overall satisfaction with the Summer Academy this week?  \\\n",
       "6                                                   4                                 \n",
       "7                                                   3                                 \n",
       "8                                                   4                                 \n",
       "9                                                   4                                 \n",
       "10                                                  2                                 \n",
       "\n",
       "    How well is the schedule paced?  \n",
       "6                                 3  \n",
       "7                                 3  \n",
       "8                                 3  \n",
       "9                                 3  \n",
       "10                                2  "
      ]
     },
     "execution_count": 286,
     "metadata": {},
     "output_type": "execute_result"
    }
   ],
   "source": [
    "file25_SG_PATH = \"../Datasets/SAFeedbackSurveys_FINAL/2016/Anon Week 5 Feedback - SG.csv\"\n",
    "SA_2016_SG_W5 = pd.read_csv(file25_SG_PATH)\n",
    "# SA_2016_SG_W5.head()\n",
    "SA_2016_SG_W5.tail()"
   ]
  },
  {
   "cell_type": "markdown",
   "metadata": {},
   "source": [
    "#### Notes on Week5 SG:\n",
    "* There are 11 data points\n",
    "* Features 3: \"Timestamp, How would you rate your overall satisfaction with the Summer Academy this week?, How well is the schedule paced?\""
   ]
  },
  {
   "cell_type": "markdown",
   "metadata": {},
   "source": [
    "#### Cleaning Process\n",
    "* Change the name of Timestamp to Week Number with the purpose of making it be clear what it is when mixing all weeks together"
   ]
  },
  {
   "cell_type": "code",
   "execution_count": 287,
   "metadata": {},
   "outputs": [],
   "source": [
    "SA_2016_SG_W5.rename(columns={'Timestamp': 'Week number'}, inplace=True)"
   ]
  },
  {
   "cell_type": "markdown",
   "metadata": {},
   "source": [
    "#### Formatting Setup\n",
    "* Make a variable with the number of data points\n",
    "* Make a variable with all the features\n",
    "* Make a variable with the number of features"
   ]
  },
  {
   "cell_type": "code",
   "execution_count": 288,
   "metadata": {},
   "outputs": [],
   "source": [
    "lenght_SA_2016_SG_W5 = len(SA_2016_SG_W5)\n",
    "SET_SA_2016_SG_W5 = set(SA_2016_SG_W5)\n",
    "column_lenght_SA_2016_SG_W5 = len(SA_2016_SG_W5.columns)"
   ]
  },
  {
   "cell_type": "markdown",
   "metadata": {},
   "source": [
    "#### Add new column with the location name"
   ]
  },
  {
   "cell_type": "code",
   "execution_count": 435,
   "metadata": {},
   "outputs": [],
   "source": [
    "# SA_2016_SG_W5.insert(0, 'Location', 'Singapor')\n",
    "# SA_2016_SG_W5\n"
   ]
  },
  {
   "cell_type": "markdown",
   "metadata": {},
   "source": [
    "---"
   ]
  },
  {
   "cell_type": "code",
   "execution_count": 290,
   "metadata": {},
   "outputs": [
    {
     "data": {
      "text/html": [
       "<div>\n",
       "<style scoped>\n",
       "    .dataframe tbody tr th:only-of-type {\n",
       "        vertical-align: middle;\n",
       "    }\n",
       "\n",
       "    .dataframe tbody tr th {\n",
       "        vertical-align: top;\n",
       "    }\n",
       "\n",
       "    .dataframe thead th {\n",
       "        text-align: right;\n",
       "    }\n",
       "</style>\n",
       "<table border=\"1\" class=\"dataframe\">\n",
       "  <thead>\n",
       "    <tr style=\"text-align: right;\">\n",
       "      <th></th>\n",
       "      <th>Timestamp</th>\n",
       "      <th>What track are you in?</th>\n",
       "      <th>How would you rate your overall satisfaction with the Summer Academy this week?</th>\n",
       "      <th>How well is the schedule paced?</th>\n",
       "    </tr>\n",
       "  </thead>\n",
       "  <tbody>\n",
       "    <tr>\n",
       "      <th>36</th>\n",
       "      <td>7/22/2016 15:24:21</td>\n",
       "      <td>Games</td>\n",
       "      <td>3</td>\n",
       "      <td>5</td>\n",
       "    </tr>\n",
       "    <tr>\n",
       "      <th>37</th>\n",
       "      <td>7/22/2016 15:54:08</td>\n",
       "      <td>Games</td>\n",
       "      <td>5</td>\n",
       "      <td>2</td>\n",
       "    </tr>\n",
       "    <tr>\n",
       "      <th>38</th>\n",
       "      <td>7/22/2016 15:24:25</td>\n",
       "      <td>Games</td>\n",
       "      <td>3</td>\n",
       "      <td>3</td>\n",
       "    </tr>\n",
       "    <tr>\n",
       "      <th>39</th>\n",
       "      <td>7/22/2016 12:45:22</td>\n",
       "      <td>Games</td>\n",
       "      <td>5</td>\n",
       "      <td>3</td>\n",
       "    </tr>\n",
       "    <tr>\n",
       "      <th>40</th>\n",
       "      <td>7/22/2016 14:04:51</td>\n",
       "      <td>Games</td>\n",
       "      <td>5</td>\n",
       "      <td>3</td>\n",
       "    </tr>\n",
       "  </tbody>\n",
       "</table>\n",
       "</div>"
      ],
      "text/plain": [
       "             Timestamp What track are you in?  \\\n",
       "36  7/22/2016 15:24:21                  Games   \n",
       "37  7/22/2016 15:54:08                  Games   \n",
       "38  7/22/2016 15:24:25                  Games   \n",
       "39  7/22/2016 12:45:22                  Games   \n",
       "40  7/22/2016 14:04:51                  Games   \n",
       "\n",
       "    How would you rate your overall satisfaction with the Summer Academy this week?  \\\n",
       "36                                                  3                                 \n",
       "37                                                  5                                 \n",
       "38                                                  3                                 \n",
       "39                                                  5                                 \n",
       "40                                                  5                                 \n",
       "\n",
       "    How well is the schedule paced?  \n",
       "36                                5  \n",
       "37                                2  \n",
       "38                                3  \n",
       "39                                3  \n",
       "40                                3  "
      ]
     },
     "execution_count": 290,
     "metadata": {},
     "output_type": "execute_result"
    }
   ],
   "source": [
    "file26_SV_PATH = \"../Datasets/SAFeedbackSurveys_FINAL/2016/Anon Week 5 Feedback - SV.csv\"\n",
    "SA_2016_SV_W5 = pd.read_csv(file26_SV_PATH)\n",
    "# SA_2016_SV_W5.head()\n",
    "SA_2016_SV_W5.tail()"
   ]
  },
  {
   "cell_type": "markdown",
   "metadata": {},
   "source": [
    "#### Notes on Week5 SV:\n",
    "* There are 41 data points\n",
    "* Features 4: \"Timestamp, What track are you in?, How would you rate your overall satisfaction with the Summer Academy this week?, How well is the schedule paced?\""
   ]
  },
  {
   "cell_type": "markdown",
   "metadata": {},
   "source": [
    "#### Cleaning Process\n",
    "* Change the name of Timestamp to Week Number with the purpose of making it be clear what it is when mixing all weeks together"
   ]
  },
  {
   "cell_type": "code",
   "execution_count": 291,
   "metadata": {},
   "outputs": [],
   "source": [
    "SA_2016_SV_W5.rename(columns={'Timestamp': 'Week number'}, inplace=True)"
   ]
  },
  {
   "cell_type": "markdown",
   "metadata": {},
   "source": [
    "#### Formatting Setup\n",
    "* Make a variable with the number of data points\n",
    "* Make a variable with all the features\n",
    "* Make a variable with the number of features"
   ]
  },
  {
   "cell_type": "code",
   "execution_count": 294,
   "metadata": {},
   "outputs": [],
   "source": [
    "lenght_SA_2016_SV_W5 = len(SA_2016_SV_W5)\n",
    "SET_SA_2016_SV_W5 = set(SA_2016_SV_W5)\n",
    "column_lenght_SA_2016_SV_W5 = len(SA_2016_SV_W5.columns)"
   ]
  },
  {
   "cell_type": "markdown",
   "metadata": {},
   "source": [
    "#### Add new column with the location name"
   ]
  },
  {
   "cell_type": "code",
   "execution_count": 437,
   "metadata": {},
   "outputs": [],
   "source": [
    "# SA_2016_SV_W5.insert(0, 'Location', 'Sunnyvale')\n",
    "# SA_2016_SV_W5\n"
   ]
  },
  {
   "cell_type": "markdown",
   "metadata": {},
   "source": [
    "---"
   ]
  },
  {
   "cell_type": "markdown",
   "metadata": {},
   "source": [
    "### Formating into a complete week 5 file\n",
    "#### What to consider for this process\n",
    "* Do all Datasets have 4 features?\n",
    "* For NPS score do I need all datasets to have all features"
   ]
  },
  {
   "cell_type": "code",
   "execution_count": 484,
   "metadata": {},
   "outputs": [
    {
     "data": {
      "text/html": [
       "<div>\n",
       "<style scoped>\n",
       "    .dataframe tbody tr th:only-of-type {\n",
       "        vertical-align: middle;\n",
       "    }\n",
       "\n",
       "    .dataframe tbody tr th {\n",
       "        vertical-align: top;\n",
       "    }\n",
       "\n",
       "    .dataframe thead th {\n",
       "        text-align: right;\n",
       "    }\n",
       "</style>\n",
       "<table border=\"1\" class=\"dataframe\">\n",
       "  <thead>\n",
       "    <tr style=\"text-align: right;\">\n",
       "      <th></th>\n",
       "      <th>Location</th>\n",
       "      <th>Features</th>\n",
       "      <th>Number of Datapoints</th>\n",
       "      <th>Number of Features</th>\n",
       "    </tr>\n",
       "  </thead>\n",
       "  <tbody>\n",
       "    <tr>\n",
       "      <th>0</th>\n",
       "      <td>Singapore</td>\n",
       "      <td>{Week number, How well is the schedule paced?,...</td>\n",
       "      <td>11</td>\n",
       "      <td>3</td>\n",
       "    </tr>\n",
       "    <tr>\n",
       "      <th>1</th>\n",
       "      <td>Los Angeles</td>\n",
       "      <td>{Week number, How well is the schedule paced?,...</td>\n",
       "      <td>12</td>\n",
       "      <td>4</td>\n",
       "    </tr>\n",
       "    <tr>\n",
       "      <th>2</th>\n",
       "      <td>New York</td>\n",
       "      <td>{Week number, How well is the schedule paced?,...</td>\n",
       "      <td>21</td>\n",
       "      <td>4</td>\n",
       "    </tr>\n",
       "    <tr>\n",
       "      <th>3</th>\n",
       "      <td>San Francisco</td>\n",
       "      <td>{What track are you in?, How well is the sched...</td>\n",
       "      <td>42</td>\n",
       "      <td>3</td>\n",
       "    </tr>\n",
       "    <tr>\n",
       "      <th>4</th>\n",
       "      <td>Sunnyvale</td>\n",
       "      <td>{Week number, How well is the schedule paced?,...</td>\n",
       "      <td>41</td>\n",
       "      <td>4</td>\n",
       "    </tr>\n",
       "    <tr>\n",
       "      <th>5</th>\n",
       "      <td>Hong Kong</td>\n",
       "      <td>{Week number, How well are the tutorials paced...</td>\n",
       "      <td>3</td>\n",
       "      <td>3</td>\n",
       "    </tr>\n",
       "  </tbody>\n",
       "</table>\n",
       "</div>"
      ],
      "text/plain": [
       "        Location                                           Features  \\\n",
       "0      Singapore  {Week number, How well is the schedule paced?,...   \n",
       "1    Los Angeles  {Week number, How well is the schedule paced?,...   \n",
       "2       New York  {Week number, How well is the schedule paced?,...   \n",
       "3  San Francisco  {What track are you in?, How well is the sched...   \n",
       "4      Sunnyvale  {Week number, How well is the schedule paced?,...   \n",
       "5      Hong Kong  {Week number, How well are the tutorials paced...   \n",
       "\n",
       "   Number of Datapoints  Number of Features  \n",
       "0                    11                   3  \n",
       "1                    12                   4  \n",
       "2                    21                   4  \n",
       "3                    42                   3  \n",
       "4                    41                   4  \n",
       "5                     3                   3  "
      ]
     },
     "execution_count": 484,
     "metadata": {},
     "output_type": "execute_result"
    }
   ],
   "source": [
    "SA_2016_W5_data = {'Location': ['Singapore', 'Los Angeles', 'New York', 'San Francisco', 'Sunnyvale', 'Hong Kong'], \n",
    "                   'Features': [SET_SA_2016_SG_W5, SET_SA_2016_LA_W5, SET_SA_2016_NY_W5, SET_SA_2016_SF_W5, SET_SA_2016_SV_W5, SET_SA_2016_HK_W5], \n",
    "                   'Number of Datapoints': [lenght_SA_2016_SG_W5, lenght_SA_2016_LA_W5, lenght_SA_2016_NY_W5, lenght_SA_2016_SF_W5, lenght_SA_2016_SV_W5, lenght_SA_2016_HK_W5],\n",
    "                   'Number of Features': [column_lenght_SA_2016_SG_W5, column_lenght_SA_2016_LA_W5, column_lenght_SA_2016_NY_W5, column_lenght_SA_2016_SF_W5, column_lenght_SA_2016_SV_W5, column_lenght_SA_2016_HK_W5]\n",
    "                  }\n",
    "SA_2016_W5 = pd.DataFrame(data=SA_2016_W5_data)\n",
    "SA_2016_W5"
   ]
  },
  {
   "cell_type": "markdown",
   "metadata": {},
   "source": [
    "#### Complete comparion of dataset\n",
    "_Objective:_\n",
    "* Be able to see easily which dataset have more features \n",
    "* Decide if it's a good idea to have a special weekly dataset with the more complete ones and a normal one where the not always present features is not added"
   ]
  },
  {
   "cell_type": "markdown",
   "metadata": {},
   "source": [
    "### Complete week 5\n",
    "#### Process to achieve this\n",
    "* Concatenate all without including track, will exclude Hong Kong because it begins at week 5 compared to NY, LA, SV, SG and SF, but relative to itself for it this would be week 1.\n",
    "* Concatenate only the ones with track\n",
    "*\n",
    "\n",
    "__Note:__\n",
    "    - Given that all datasets don't have track included will have two weekly datasets"
   ]
  },
  {
   "cell_type": "code",
   "execution_count": 495,
   "metadata": {},
   "outputs": [],
   "source": [
    "# Here will only be the ones who have their track\n",
    "# week5_frames = [SA_2016_SG_W5, SA_2016_LA_W5, SA_2016_NY_W5, SA_2016_SF_W5, SA_2016_SV_W5]\n",
    "# SA_2016_W5_ALL = pd.concat(week5_frames, sort=True)\n",
    "# SA_2016_W5_ALL = SA_2016_W5_ALL.drop('What track are you in?', 1)\n",
    "# SA_2016_W5_ALL\n"
   ]
  },
  {
   "cell_type": "code",
   "execution_count": 496,
   "metadata": {},
   "outputs": [
    {
     "data": {
      "text/html": [
       "<div>\n",
       "<style scoped>\n",
       "    .dataframe tbody tr th:only-of-type {\n",
       "        vertical-align: middle;\n",
       "    }\n",
       "\n",
       "    .dataframe tbody tr th {\n",
       "        vertical-align: top;\n",
       "    }\n",
       "\n",
       "    .dataframe thead th {\n",
       "        text-align: right;\n",
       "    }\n",
       "</style>\n",
       "<table border=\"1\" class=\"dataframe\">\n",
       "  <thead>\n",
       "    <tr style=\"text-align: right;\">\n",
       "      <th></th>\n",
       "      <th>How well is the schedule paced?</th>\n",
       "      <th>How would you rate your overall satisfaction with the Summer Academy this week?</th>\n",
       "      <th>Location</th>\n",
       "      <th>Week number</th>\n",
       "      <th>What track are you in?</th>\n",
       "    </tr>\n",
       "  </thead>\n",
       "  <tbody>\n",
       "    <tr>\n",
       "      <th>0</th>\n",
       "      <td>5</td>\n",
       "      <td>5</td>\n",
       "      <td>New York</td>\n",
       "      <td>7/22/2016 13:29:33</td>\n",
       "      <td>Apps</td>\n",
       "    </tr>\n",
       "    <tr>\n",
       "      <th>1</th>\n",
       "      <td>3</td>\n",
       "      <td>5</td>\n",
       "      <td>New York</td>\n",
       "      <td>7/22/2016 13:35:20</td>\n",
       "      <td>Apps</td>\n",
       "    </tr>\n",
       "    <tr>\n",
       "      <th>2</th>\n",
       "      <td>3</td>\n",
       "      <td>4</td>\n",
       "      <td>New York</td>\n",
       "      <td>7/22/2016 13:36:39</td>\n",
       "      <td>Apps</td>\n",
       "    </tr>\n",
       "    <tr>\n",
       "      <th>3</th>\n",
       "      <td>3</td>\n",
       "      <td>4</td>\n",
       "      <td>New York</td>\n",
       "      <td>7/22/2016 13:37:15</td>\n",
       "      <td>Apps</td>\n",
       "    </tr>\n",
       "    <tr>\n",
       "      <th>4</th>\n",
       "      <td>3</td>\n",
       "      <td>5</td>\n",
       "      <td>New York</td>\n",
       "      <td>7/22/2016 13:40:21</td>\n",
       "      <td>Apps</td>\n",
       "    </tr>\n",
       "    <tr>\n",
       "      <th>5</th>\n",
       "      <td>4</td>\n",
       "      <td>4</td>\n",
       "      <td>New York</td>\n",
       "      <td>7/22/2016 13:44:52</td>\n",
       "      <td>Apps</td>\n",
       "    </tr>\n",
       "    <tr>\n",
       "      <th>6</th>\n",
       "      <td>5</td>\n",
       "      <td>3</td>\n",
       "      <td>New York</td>\n",
       "      <td>7/22/2016 13:50:50</td>\n",
       "      <td>Games</td>\n",
       "    </tr>\n",
       "    <tr>\n",
       "      <th>7</th>\n",
       "      <td>4</td>\n",
       "      <td>4</td>\n",
       "      <td>New York</td>\n",
       "      <td>7/22/2016 13:50:50</td>\n",
       "      <td>Apps</td>\n",
       "    </tr>\n",
       "    <tr>\n",
       "      <th>8</th>\n",
       "      <td>4</td>\n",
       "      <td>5</td>\n",
       "      <td>New York</td>\n",
       "      <td>7/22/2016 13:51:22</td>\n",
       "      <td>Apps</td>\n",
       "    </tr>\n",
       "    <tr>\n",
       "      <th>9</th>\n",
       "      <td>3</td>\n",
       "      <td>4</td>\n",
       "      <td>New York</td>\n",
       "      <td>7/22/2016 13:51:35</td>\n",
       "      <td>Games</td>\n",
       "    </tr>\n",
       "    <tr>\n",
       "      <th>10</th>\n",
       "      <td>3</td>\n",
       "      <td>4</td>\n",
       "      <td>New York</td>\n",
       "      <td>7/22/2016 13:51:36</td>\n",
       "      <td>Apps</td>\n",
       "    </tr>\n",
       "    <tr>\n",
       "      <th>11</th>\n",
       "      <td>4</td>\n",
       "      <td>4</td>\n",
       "      <td>New York</td>\n",
       "      <td>7/22/2016 13:51:44</td>\n",
       "      <td>Games</td>\n",
       "    </tr>\n",
       "    <tr>\n",
       "      <th>12</th>\n",
       "      <td>3</td>\n",
       "      <td>4</td>\n",
       "      <td>New York</td>\n",
       "      <td>7/22/2016 13:52:05</td>\n",
       "      <td>Intro</td>\n",
       "    </tr>\n",
       "    <tr>\n",
       "      <th>13</th>\n",
       "      <td>3</td>\n",
       "      <td>4</td>\n",
       "      <td>New York</td>\n",
       "      <td>7/22/2016 13:52:19</td>\n",
       "      <td>Apps</td>\n",
       "    </tr>\n",
       "    <tr>\n",
       "      <th>14</th>\n",
       "      <td>3</td>\n",
       "      <td>5</td>\n",
       "      <td>New York</td>\n",
       "      <td>7/22/2016 13:52:41</td>\n",
       "      <td>Games</td>\n",
       "    </tr>\n",
       "    <tr>\n",
       "      <th>15</th>\n",
       "      <td>3</td>\n",
       "      <td>4</td>\n",
       "      <td>New York</td>\n",
       "      <td>7/22/2016 13:53:19</td>\n",
       "      <td>Apps</td>\n",
       "    </tr>\n",
       "    <tr>\n",
       "      <th>16</th>\n",
       "      <td>3</td>\n",
       "      <td>5</td>\n",
       "      <td>New York</td>\n",
       "      <td>7/22/2016 13:53:31</td>\n",
       "      <td>Games</td>\n",
       "    </tr>\n",
       "    <tr>\n",
       "      <th>17</th>\n",
       "      <td>3</td>\n",
       "      <td>4</td>\n",
       "      <td>New York</td>\n",
       "      <td>7/22/2016 13:53:56</td>\n",
       "      <td>Apps</td>\n",
       "    </tr>\n",
       "    <tr>\n",
       "      <th>18</th>\n",
       "      <td>3</td>\n",
       "      <td>5</td>\n",
       "      <td>New York</td>\n",
       "      <td>7/22/2016 13:54:46</td>\n",
       "      <td>Games</td>\n",
       "    </tr>\n",
       "    <tr>\n",
       "      <th>19</th>\n",
       "      <td>3</td>\n",
       "      <td>5</td>\n",
       "      <td>New York</td>\n",
       "      <td>7/22/2016 13:54:52</td>\n",
       "      <td>Apps</td>\n",
       "    </tr>\n",
       "    <tr>\n",
       "      <th>20</th>\n",
       "      <td>3</td>\n",
       "      <td>4</td>\n",
       "      <td>New York</td>\n",
       "      <td>7/22/2016 13:57:13</td>\n",
       "      <td>Games</td>\n",
       "    </tr>\n",
       "    <tr>\n",
       "      <th>0</th>\n",
       "      <td>2</td>\n",
       "      <td>3</td>\n",
       "      <td>Los Angeles</td>\n",
       "      <td>7/22/2016 16:15:37</td>\n",
       "      <td>Games</td>\n",
       "    </tr>\n",
       "    <tr>\n",
       "      <th>1</th>\n",
       "      <td>3</td>\n",
       "      <td>4</td>\n",
       "      <td>Los Angeles</td>\n",
       "      <td>7/22/2016 16:16:07</td>\n",
       "      <td>Intro</td>\n",
       "    </tr>\n",
       "    <tr>\n",
       "      <th>2</th>\n",
       "      <td>3</td>\n",
       "      <td>5</td>\n",
       "      <td>Los Angeles</td>\n",
       "      <td>7/22/2016 16:16:20</td>\n",
       "      <td>Intro</td>\n",
       "    </tr>\n",
       "    <tr>\n",
       "      <th>3</th>\n",
       "      <td>3</td>\n",
       "      <td>4</td>\n",
       "      <td>Los Angeles</td>\n",
       "      <td>7/22/2016 16:17:04</td>\n",
       "      <td>Games</td>\n",
       "    </tr>\n",
       "    <tr>\n",
       "      <th>4</th>\n",
       "      <td>3</td>\n",
       "      <td>4</td>\n",
       "      <td>Los Angeles</td>\n",
       "      <td>7/22/2016 16:17:09</td>\n",
       "      <td>Intro</td>\n",
       "    </tr>\n",
       "    <tr>\n",
       "      <th>5</th>\n",
       "      <td>3</td>\n",
       "      <td>4</td>\n",
       "      <td>Los Angeles</td>\n",
       "      <td>7/22/2016 16:18:23</td>\n",
       "      <td>Games</td>\n",
       "    </tr>\n",
       "    <tr>\n",
       "      <th>6</th>\n",
       "      <td>3</td>\n",
       "      <td>5</td>\n",
       "      <td>Los Angeles</td>\n",
       "      <td>7/22/2016 16:18:45</td>\n",
       "      <td>Intro</td>\n",
       "    </tr>\n",
       "    <tr>\n",
       "      <th>7</th>\n",
       "      <td>4</td>\n",
       "      <td>4</td>\n",
       "      <td>Los Angeles</td>\n",
       "      <td>7/22/2016 16:19:58</td>\n",
       "      <td>Games</td>\n",
       "    </tr>\n",
       "    <tr>\n",
       "      <th>8</th>\n",
       "      <td>4</td>\n",
       "      <td>5</td>\n",
       "      <td>Los Angeles</td>\n",
       "      <td>7/22/2016 16:20:25</td>\n",
       "      <td>Games</td>\n",
       "    </tr>\n",
       "    <tr>\n",
       "      <th>...</th>\n",
       "      <td>...</td>\n",
       "      <td>...</td>\n",
       "      <td>...</td>\n",
       "      <td>...</td>\n",
       "      <td>...</td>\n",
       "    </tr>\n",
       "    <tr>\n",
       "      <th>11</th>\n",
       "      <td>3</td>\n",
       "      <td>5</td>\n",
       "      <td>Sunnyvale</td>\n",
       "      <td>7/22/2016 14:26:04</td>\n",
       "      <td>Apps</td>\n",
       "    </tr>\n",
       "    <tr>\n",
       "      <th>12</th>\n",
       "      <td>4</td>\n",
       "      <td>4</td>\n",
       "      <td>Sunnyvale</td>\n",
       "      <td>7/22/2016 12:45:30</td>\n",
       "      <td>Intro</td>\n",
       "    </tr>\n",
       "    <tr>\n",
       "      <th>13</th>\n",
       "      <td>3</td>\n",
       "      <td>5</td>\n",
       "      <td>Sunnyvale</td>\n",
       "      <td>7/22/2016 14:25:54</td>\n",
       "      <td>Apps</td>\n",
       "    </tr>\n",
       "    <tr>\n",
       "      <th>14</th>\n",
       "      <td>5</td>\n",
       "      <td>4</td>\n",
       "      <td>Sunnyvale</td>\n",
       "      <td>7/22/2016 12:47:59</td>\n",
       "      <td>Apps</td>\n",
       "    </tr>\n",
       "    <tr>\n",
       "      <th>15</th>\n",
       "      <td>2</td>\n",
       "      <td>2</td>\n",
       "      <td>Sunnyvale</td>\n",
       "      <td>7/22/2016 16:21:04</td>\n",
       "      <td>Apps</td>\n",
       "    </tr>\n",
       "    <tr>\n",
       "      <th>16</th>\n",
       "      <td>3</td>\n",
       "      <td>4</td>\n",
       "      <td>Sunnyvale</td>\n",
       "      <td>7/22/2016 14:25:46</td>\n",
       "      <td>Apps</td>\n",
       "    </tr>\n",
       "    <tr>\n",
       "      <th>17</th>\n",
       "      <td>4</td>\n",
       "      <td>5</td>\n",
       "      <td>Sunnyvale</td>\n",
       "      <td>7/22/2016 15:53:14</td>\n",
       "      <td>Apps</td>\n",
       "    </tr>\n",
       "    <tr>\n",
       "      <th>18</th>\n",
       "      <td>4</td>\n",
       "      <td>3</td>\n",
       "      <td>Sunnyvale</td>\n",
       "      <td>7/22/2016 18:00:51</td>\n",
       "      <td>Apps</td>\n",
       "    </tr>\n",
       "    <tr>\n",
       "      <th>19</th>\n",
       "      <td>4</td>\n",
       "      <td>4</td>\n",
       "      <td>Sunnyvale</td>\n",
       "      <td>7/22/2016 12:51:51</td>\n",
       "      <td>Apps</td>\n",
       "    </tr>\n",
       "    <tr>\n",
       "      <th>20</th>\n",
       "      <td>3</td>\n",
       "      <td>4</td>\n",
       "      <td>Sunnyvale</td>\n",
       "      <td>7/22/2016 14:26:06</td>\n",
       "      <td>Apps</td>\n",
       "    </tr>\n",
       "    <tr>\n",
       "      <th>21</th>\n",
       "      <td>3</td>\n",
       "      <td>4</td>\n",
       "      <td>Sunnyvale</td>\n",
       "      <td>7/22/2016 14:27:03</td>\n",
       "      <td>Apps</td>\n",
       "    </tr>\n",
       "    <tr>\n",
       "      <th>22</th>\n",
       "      <td>4</td>\n",
       "      <td>3</td>\n",
       "      <td>Sunnyvale</td>\n",
       "      <td>7/22/2016 14:28:15</td>\n",
       "      <td>Apps</td>\n",
       "    </tr>\n",
       "    <tr>\n",
       "      <th>23</th>\n",
       "      <td>3</td>\n",
       "      <td>5</td>\n",
       "      <td>Sunnyvale</td>\n",
       "      <td>7/22/2016 12:43:02</td>\n",
       "      <td>Games</td>\n",
       "    </tr>\n",
       "    <tr>\n",
       "      <th>24</th>\n",
       "      <td>3</td>\n",
       "      <td>5</td>\n",
       "      <td>Sunnyvale</td>\n",
       "      <td>7/22/2016 12:46:29</td>\n",
       "      <td>Games</td>\n",
       "    </tr>\n",
       "    <tr>\n",
       "      <th>25</th>\n",
       "      <td>5</td>\n",
       "      <td>4</td>\n",
       "      <td>Sunnyvale</td>\n",
       "      <td>7/22/2016 12:50:31</td>\n",
       "      <td>Games</td>\n",
       "    </tr>\n",
       "    <tr>\n",
       "      <th>26</th>\n",
       "      <td>3</td>\n",
       "      <td>4</td>\n",
       "      <td>Sunnyvale</td>\n",
       "      <td>7/22/2016 14:26:59</td>\n",
       "      <td>Games</td>\n",
       "    </tr>\n",
       "    <tr>\n",
       "      <th>27</th>\n",
       "      <td>3</td>\n",
       "      <td>4</td>\n",
       "      <td>Sunnyvale</td>\n",
       "      <td>7/22/2016 14:27:45</td>\n",
       "      <td>Intro</td>\n",
       "    </tr>\n",
       "    <tr>\n",
       "      <th>28</th>\n",
       "      <td>3</td>\n",
       "      <td>4</td>\n",
       "      <td>Sunnyvale</td>\n",
       "      <td>7/22/2016 12:45:12</td>\n",
       "      <td>Intro</td>\n",
       "    </tr>\n",
       "    <tr>\n",
       "      <th>29</th>\n",
       "      <td>3</td>\n",
       "      <td>5</td>\n",
       "      <td>Sunnyvale</td>\n",
       "      <td>7/22/2016 13:00:34</td>\n",
       "      <td>Intro</td>\n",
       "    </tr>\n",
       "    <tr>\n",
       "      <th>30</th>\n",
       "      <td>3</td>\n",
       "      <td>4</td>\n",
       "      <td>Sunnyvale</td>\n",
       "      <td>7/22/2016 14:40:12</td>\n",
       "      <td>Intro</td>\n",
       "    </tr>\n",
       "    <tr>\n",
       "      <th>31</th>\n",
       "      <td>3</td>\n",
       "      <td>4</td>\n",
       "      <td>Sunnyvale</td>\n",
       "      <td>7/22/2016 12:44:15</td>\n",
       "      <td>Intro</td>\n",
       "    </tr>\n",
       "    <tr>\n",
       "      <th>32</th>\n",
       "      <td>3</td>\n",
       "      <td>5</td>\n",
       "      <td>Sunnyvale</td>\n",
       "      <td>7/22/2016 12:45:16</td>\n",
       "      <td>Intro</td>\n",
       "    </tr>\n",
       "    <tr>\n",
       "      <th>33</th>\n",
       "      <td>4</td>\n",
       "      <td>4</td>\n",
       "      <td>Sunnyvale</td>\n",
       "      <td>7/22/2016 12:49:41</td>\n",
       "      <td>Intro</td>\n",
       "    </tr>\n",
       "    <tr>\n",
       "      <th>34</th>\n",
       "      <td>2</td>\n",
       "      <td>4</td>\n",
       "      <td>Sunnyvale</td>\n",
       "      <td>7/22/2016 12:52:37</td>\n",
       "      <td>Intro</td>\n",
       "    </tr>\n",
       "    <tr>\n",
       "      <th>35</th>\n",
       "      <td>3</td>\n",
       "      <td>5</td>\n",
       "      <td>Sunnyvale</td>\n",
       "      <td>7/22/2016 12:52:51</td>\n",
       "      <td>Intro</td>\n",
       "    </tr>\n",
       "    <tr>\n",
       "      <th>36</th>\n",
       "      <td>5</td>\n",
       "      <td>3</td>\n",
       "      <td>Sunnyvale</td>\n",
       "      <td>7/22/2016 15:24:21</td>\n",
       "      <td>Games</td>\n",
       "    </tr>\n",
       "    <tr>\n",
       "      <th>37</th>\n",
       "      <td>2</td>\n",
       "      <td>5</td>\n",
       "      <td>Sunnyvale</td>\n",
       "      <td>7/22/2016 15:54:08</td>\n",
       "      <td>Games</td>\n",
       "    </tr>\n",
       "    <tr>\n",
       "      <th>38</th>\n",
       "      <td>3</td>\n",
       "      <td>3</td>\n",
       "      <td>Sunnyvale</td>\n",
       "      <td>7/22/2016 15:24:25</td>\n",
       "      <td>Games</td>\n",
       "    </tr>\n",
       "    <tr>\n",
       "      <th>39</th>\n",
       "      <td>3</td>\n",
       "      <td>5</td>\n",
       "      <td>Sunnyvale</td>\n",
       "      <td>7/22/2016 12:45:22</td>\n",
       "      <td>Games</td>\n",
       "    </tr>\n",
       "    <tr>\n",
       "      <th>40</th>\n",
       "      <td>3</td>\n",
       "      <td>5</td>\n",
       "      <td>Sunnyvale</td>\n",
       "      <td>7/22/2016 14:04:51</td>\n",
       "      <td>Games</td>\n",
       "    </tr>\n",
       "  </tbody>\n",
       "</table>\n",
       "<p>74 rows × 5 columns</p>\n",
       "</div>"
      ],
      "text/plain": [
       "    How well is the schedule paced?  \\\n",
       "0                                 5   \n",
       "1                                 3   \n",
       "2                                 3   \n",
       "3                                 3   \n",
       "4                                 3   \n",
       "5                                 4   \n",
       "6                                 5   \n",
       "7                                 4   \n",
       "8                                 4   \n",
       "9                                 3   \n",
       "10                                3   \n",
       "11                                4   \n",
       "12                                3   \n",
       "13                                3   \n",
       "14                                3   \n",
       "15                                3   \n",
       "16                                3   \n",
       "17                                3   \n",
       "18                                3   \n",
       "19                                3   \n",
       "20                                3   \n",
       "0                                 2   \n",
       "1                                 3   \n",
       "2                                 3   \n",
       "3                                 3   \n",
       "4                                 3   \n",
       "5                                 3   \n",
       "6                                 3   \n",
       "7                                 4   \n",
       "8                                 4   \n",
       "..                              ...   \n",
       "11                                3   \n",
       "12                                4   \n",
       "13                                3   \n",
       "14                                5   \n",
       "15                                2   \n",
       "16                                3   \n",
       "17                                4   \n",
       "18                                4   \n",
       "19                                4   \n",
       "20                                3   \n",
       "21                                3   \n",
       "22                                4   \n",
       "23                                3   \n",
       "24                                3   \n",
       "25                                5   \n",
       "26                                3   \n",
       "27                                3   \n",
       "28                                3   \n",
       "29                                3   \n",
       "30                                3   \n",
       "31                                3   \n",
       "32                                3   \n",
       "33                                4   \n",
       "34                                2   \n",
       "35                                3   \n",
       "36                                5   \n",
       "37                                2   \n",
       "38                                3   \n",
       "39                                3   \n",
       "40                                3   \n",
       "\n",
       "    How would you rate your overall satisfaction with the Summer Academy this week?  \\\n",
       "0                                                   5                                 \n",
       "1                                                   5                                 \n",
       "2                                                   4                                 \n",
       "3                                                   4                                 \n",
       "4                                                   5                                 \n",
       "5                                                   4                                 \n",
       "6                                                   3                                 \n",
       "7                                                   4                                 \n",
       "8                                                   5                                 \n",
       "9                                                   4                                 \n",
       "10                                                  4                                 \n",
       "11                                                  4                                 \n",
       "12                                                  4                                 \n",
       "13                                                  4                                 \n",
       "14                                                  5                                 \n",
       "15                                                  4                                 \n",
       "16                                                  5                                 \n",
       "17                                                  4                                 \n",
       "18                                                  5                                 \n",
       "19                                                  5                                 \n",
       "20                                                  4                                 \n",
       "0                                                   3                                 \n",
       "1                                                   4                                 \n",
       "2                                                   5                                 \n",
       "3                                                   4                                 \n",
       "4                                                   4                                 \n",
       "5                                                   4                                 \n",
       "6                                                   5                                 \n",
       "7                                                   4                                 \n",
       "8                                                   5                                 \n",
       "..                                                ...                                 \n",
       "11                                                  5                                 \n",
       "12                                                  4                                 \n",
       "13                                                  5                                 \n",
       "14                                                  4                                 \n",
       "15                                                  2                                 \n",
       "16                                                  4                                 \n",
       "17                                                  5                                 \n",
       "18                                                  3                                 \n",
       "19                                                  4                                 \n",
       "20                                                  4                                 \n",
       "21                                                  4                                 \n",
       "22                                                  3                                 \n",
       "23                                                  5                                 \n",
       "24                                                  5                                 \n",
       "25                                                  4                                 \n",
       "26                                                  4                                 \n",
       "27                                                  4                                 \n",
       "28                                                  4                                 \n",
       "29                                                  5                                 \n",
       "30                                                  4                                 \n",
       "31                                                  4                                 \n",
       "32                                                  5                                 \n",
       "33                                                  4                                 \n",
       "34                                                  4                                 \n",
       "35                                                  5                                 \n",
       "36                                                  3                                 \n",
       "37                                                  5                                 \n",
       "38                                                  3                                 \n",
       "39                                                  5                                 \n",
       "40                                                  5                                 \n",
       "\n",
       "       Location         Week number What track are you in?  \n",
       "0      New York  7/22/2016 13:29:33                   Apps  \n",
       "1      New York  7/22/2016 13:35:20                   Apps  \n",
       "2      New York  7/22/2016 13:36:39                   Apps  \n",
       "3      New York  7/22/2016 13:37:15                   Apps  \n",
       "4      New York  7/22/2016 13:40:21                   Apps  \n",
       "5      New York  7/22/2016 13:44:52                   Apps  \n",
       "6      New York  7/22/2016 13:50:50                  Games  \n",
       "7      New York  7/22/2016 13:50:50                   Apps  \n",
       "8      New York  7/22/2016 13:51:22                   Apps  \n",
       "9      New York  7/22/2016 13:51:35                  Games  \n",
       "10     New York  7/22/2016 13:51:36                   Apps  \n",
       "11     New York  7/22/2016 13:51:44                  Games  \n",
       "12     New York  7/22/2016 13:52:05                  Intro  \n",
       "13     New York  7/22/2016 13:52:19                   Apps  \n",
       "14     New York  7/22/2016 13:52:41                  Games  \n",
       "15     New York  7/22/2016 13:53:19                   Apps  \n",
       "16     New York  7/22/2016 13:53:31                  Games  \n",
       "17     New York  7/22/2016 13:53:56                   Apps  \n",
       "18     New York  7/22/2016 13:54:46                  Games  \n",
       "19     New York  7/22/2016 13:54:52                   Apps  \n",
       "20     New York  7/22/2016 13:57:13                  Games  \n",
       "0   Los Angeles  7/22/2016 16:15:37                  Games  \n",
       "1   Los Angeles  7/22/2016 16:16:07                  Intro  \n",
       "2   Los Angeles  7/22/2016 16:16:20                  Intro  \n",
       "3   Los Angeles  7/22/2016 16:17:04                  Games  \n",
       "4   Los Angeles  7/22/2016 16:17:09                  Intro  \n",
       "5   Los Angeles  7/22/2016 16:18:23                  Games  \n",
       "6   Los Angeles  7/22/2016 16:18:45                  Intro  \n",
       "7   Los Angeles  7/22/2016 16:19:58                  Games  \n",
       "8   Los Angeles  7/22/2016 16:20:25                  Games  \n",
       "..          ...                 ...                    ...  \n",
       "11    Sunnyvale  7/22/2016 14:26:04                   Apps  \n",
       "12    Sunnyvale  7/22/2016 12:45:30                  Intro  \n",
       "13    Sunnyvale  7/22/2016 14:25:54                   Apps  \n",
       "14    Sunnyvale  7/22/2016 12:47:59                   Apps  \n",
       "15    Sunnyvale  7/22/2016 16:21:04                   Apps  \n",
       "16    Sunnyvale  7/22/2016 14:25:46                   Apps  \n",
       "17    Sunnyvale  7/22/2016 15:53:14                   Apps  \n",
       "18    Sunnyvale  7/22/2016 18:00:51                   Apps  \n",
       "19    Sunnyvale  7/22/2016 12:51:51                   Apps  \n",
       "20    Sunnyvale  7/22/2016 14:26:06                   Apps  \n",
       "21    Sunnyvale  7/22/2016 14:27:03                   Apps  \n",
       "22    Sunnyvale  7/22/2016 14:28:15                   Apps  \n",
       "23    Sunnyvale  7/22/2016 12:43:02                  Games  \n",
       "24    Sunnyvale  7/22/2016 12:46:29                  Games  \n",
       "25    Sunnyvale  7/22/2016 12:50:31                  Games  \n",
       "26    Sunnyvale  7/22/2016 14:26:59                  Games  \n",
       "27    Sunnyvale  7/22/2016 14:27:45                  Intro  \n",
       "28    Sunnyvale  7/22/2016 12:45:12                  Intro  \n",
       "29    Sunnyvale  7/22/2016 13:00:34                  Intro  \n",
       "30    Sunnyvale  7/22/2016 14:40:12                  Intro  \n",
       "31    Sunnyvale  7/22/2016 12:44:15                  Intro  \n",
       "32    Sunnyvale  7/22/2016 12:45:16                  Intro  \n",
       "33    Sunnyvale  7/22/2016 12:49:41                  Intro  \n",
       "34    Sunnyvale  7/22/2016 12:52:37                  Intro  \n",
       "35    Sunnyvale  7/22/2016 12:52:51                  Intro  \n",
       "36    Sunnyvale  7/22/2016 15:24:21                  Games  \n",
       "37    Sunnyvale  7/22/2016 15:54:08                  Games  \n",
       "38    Sunnyvale  7/22/2016 15:24:25                  Games  \n",
       "39    Sunnyvale  7/22/2016 12:45:22                  Games  \n",
       "40    Sunnyvale  7/22/2016 14:04:51                  Games  \n",
       "\n",
       "[74 rows x 5 columns]"
      ]
     },
     "execution_count": 496,
     "metadata": {},
     "output_type": "execute_result"
    }
   ],
   "source": [
    "# Here will only be the ones who have the feature track\n",
    "# week5_frames_only_track = [SA_2016_NY_W5, SA_2016_LA_W5, SA_2016_SV_W5]\n",
    "# SA_2016_W5_with_track = pd.concat(week5_frames_only_track, sort=True)\n",
    "# SA_2016_W5_with_track"
   ]
  },
  {
   "cell_type": "markdown",
   "metadata": {},
   "source": [
    "## Week6"
   ]
  },
  {
   "cell_type": "code",
   "execution_count": 298,
   "metadata": {},
   "outputs": [
    {
     "data": {
      "text/html": [
       "<div>\n",
       "<style scoped>\n",
       "    .dataframe tbody tr th:only-of-type {\n",
       "        vertical-align: middle;\n",
       "    }\n",
       "\n",
       "    .dataframe tbody tr th {\n",
       "        vertical-align: top;\n",
       "    }\n",
       "\n",
       "    .dataframe thead th {\n",
       "        text-align: right;\n",
       "    }\n",
       "</style>\n",
       "<table border=\"1\" class=\"dataframe\">\n",
       "  <thead>\n",
       "    <tr style=\"text-align: right;\">\n",
       "      <th></th>\n",
       "      <th>Timestamp</th>\n",
       "      <th>How would you rate your overall satisfaction with the Summer Academy this week?</th>\n",
       "      <th>How well is the schedule paced?</th>\n",
       "    </tr>\n",
       "  </thead>\n",
       "  <tbody>\n",
       "    <tr>\n",
       "      <th>0</th>\n",
       "      <td>7/29/2016 0:19:08</td>\n",
       "      <td>5</td>\n",
       "      <td>3</td>\n",
       "    </tr>\n",
       "    <tr>\n",
       "      <th>1</th>\n",
       "      <td>7/29/2016 0:22:41</td>\n",
       "      <td>4</td>\n",
       "      <td>3</td>\n",
       "    </tr>\n",
       "    <tr>\n",
       "      <th>2</th>\n",
       "      <td>7/29/2016 0:23:17</td>\n",
       "      <td>5</td>\n",
       "      <td>3</td>\n",
       "    </tr>\n",
       "  </tbody>\n",
       "</table>\n",
       "</div>"
      ],
      "text/plain": [
       "           Timestamp  \\\n",
       "0  7/29/2016 0:19:08   \n",
       "1  7/29/2016 0:22:41   \n",
       "2  7/29/2016 0:23:17   \n",
       "\n",
       "   How would you rate your overall satisfaction with the Summer Academy this week?  \\\n",
       "0                                                  5                                 \n",
       "1                                                  4                                 \n",
       "2                                                  5                                 \n",
       "\n",
       "   How well is the schedule paced?  \n",
       "0                                3  \n",
       "1                                3  \n",
       "2                                3  "
      ]
     },
     "execution_count": 298,
     "metadata": {},
     "output_type": "execute_result"
    }
   ],
   "source": [
    "file27_HK_PATH = \"../Datasets/SAFeedbackSurveys_FINAL/2016/Anon Week 6 Feedback - HK.csv\"\n",
    "SA_2016_HK_W6 = pd.read_csv(file27_HK_PATH)\n",
    "# SA_2016_HK_W6.head()\n",
    "SA_2016_HK_W6.tail()"
   ]
  },
  {
   "cell_type": "markdown",
   "metadata": {},
   "source": [
    "#### Notes on Week6 HK:\n",
    "* There are 3 data points\n",
    "* Features 3: \"Timestamp, How would you rate your overall satisfaction with the Summer Academy this week?, How well is the schedule paced?\""
   ]
  },
  {
   "cell_type": "markdown",
   "metadata": {},
   "source": [
    "#### Cleaning Process\n",
    "* Change the name of Timestamp to Week Number with the purpose of making it be clear what it is when mixing all weeks together"
   ]
  },
  {
   "cell_type": "code",
   "execution_count": 299,
   "metadata": {},
   "outputs": [],
   "source": [
    "SA_2016_HK_W6.rename(columns={'Timestamp': 'Week number'}, inplace=True)"
   ]
  },
  {
   "cell_type": "markdown",
   "metadata": {},
   "source": [
    "#### Formatting Setup\n",
    "* Make a variable with the number of data points\n",
    "* Make a variable with all the features\n",
    "* Make a variable with the number of features"
   ]
  },
  {
   "cell_type": "code",
   "execution_count": 300,
   "metadata": {},
   "outputs": [],
   "source": [
    "lenght_SA_2016_HK_W6 = len(SA_2016_HK_W6)\n",
    "SET_SA_2016_HK_W6 = set(SA_2016_HK_W6)\n",
    "column_lenght_SA_2016_HK_W6 = len(SA_2016_HK_W6.columns)"
   ]
  },
  {
   "cell_type": "markdown",
   "metadata": {},
   "source": [
    "#### Add new column with the location name"
   ]
  },
  {
   "cell_type": "code",
   "execution_count": 439,
   "metadata": {},
   "outputs": [],
   "source": [
    "# SA_2016_HK_W6.insert(0, 'Location', 'Hong Kong')\n",
    "# SA_2016_HK_W6\n"
   ]
  },
  {
   "cell_type": "markdown",
   "metadata": {},
   "source": [
    "---"
   ]
  },
  {
   "cell_type": "code",
   "execution_count": 302,
   "metadata": {},
   "outputs": [
    {
     "data": {
      "text/html": [
       "<div>\n",
       "<style scoped>\n",
       "    .dataframe tbody tr th:only-of-type {\n",
       "        vertical-align: middle;\n",
       "    }\n",
       "\n",
       "    .dataframe tbody tr th {\n",
       "        vertical-align: top;\n",
       "    }\n",
       "\n",
       "    .dataframe thead th {\n",
       "        text-align: right;\n",
       "    }\n",
       "</style>\n",
       "<table border=\"1\" class=\"dataframe\">\n",
       "  <thead>\n",
       "    <tr style=\"text-align: right;\">\n",
       "      <th></th>\n",
       "      <th>Timestamp</th>\n",
       "      <th>What track are you in?</th>\n",
       "      <th>How would you rate your overall satisfaction with the Summer Academy this week?</th>\n",
       "      <th>How well is the schedule paced?</th>\n",
       "    </tr>\n",
       "  </thead>\n",
       "  <tbody>\n",
       "    <tr>\n",
       "      <th>5</th>\n",
       "      <td>8/1/2016 9:40:14</td>\n",
       "      <td>Intro</td>\n",
       "      <td>5</td>\n",
       "      <td>3</td>\n",
       "    </tr>\n",
       "    <tr>\n",
       "      <th>6</th>\n",
       "      <td>8/1/2016 10:03:22</td>\n",
       "      <td>Games</td>\n",
       "      <td>5</td>\n",
       "      <td>3</td>\n",
       "    </tr>\n",
       "    <tr>\n",
       "      <th>7</th>\n",
       "      <td>8/1/2016 10:04:06</td>\n",
       "      <td>Games</td>\n",
       "      <td>4</td>\n",
       "      <td>3</td>\n",
       "    </tr>\n",
       "    <tr>\n",
       "      <th>8</th>\n",
       "      <td>8/1/2016 10:06:45</td>\n",
       "      <td>Intro</td>\n",
       "      <td>4</td>\n",
       "      <td>4</td>\n",
       "    </tr>\n",
       "    <tr>\n",
       "      <th>9</th>\n",
       "      <td>8/1/2016 11:22:56</td>\n",
       "      <td>Games</td>\n",
       "      <td>4</td>\n",
       "      <td>4</td>\n",
       "    </tr>\n",
       "  </tbody>\n",
       "</table>\n",
       "</div>"
      ],
      "text/plain": [
       "           Timestamp What track are you in?  \\\n",
       "5   8/1/2016 9:40:14                  Intro   \n",
       "6  8/1/2016 10:03:22                  Games   \n",
       "7  8/1/2016 10:04:06                  Games   \n",
       "8  8/1/2016 10:06:45                  Intro   \n",
       "9  8/1/2016 11:22:56                  Games   \n",
       "\n",
       "   How would you rate your overall satisfaction with the Summer Academy this week?  \\\n",
       "5                                                  5                                 \n",
       "6                                                  5                                 \n",
       "7                                                  4                                 \n",
       "8                                                  4                                 \n",
       "9                                                  4                                 \n",
       "\n",
       "   How well is the schedule paced?  \n",
       "5                                3  \n",
       "6                                3  \n",
       "7                                3  \n",
       "8                                4  \n",
       "9                                4  "
      ]
     },
     "execution_count": 302,
     "metadata": {},
     "output_type": "execute_result"
    }
   ],
   "source": [
    "file28_LA_PATH = \"../Datasets/SAFeedbackSurveys_FINAL/2016/Anon Week 6 Feedback - LA.csv\"\n",
    "SA_2016_LA_W6 = pd.read_csv(file28_LA_PATH)\n",
    "# SA_2016_LA_W6.head()\n",
    "SA_2016_LA_W6.tail()"
   ]
  },
  {
   "cell_type": "markdown",
   "metadata": {},
   "source": [
    "#### Notes on Week6 LA:\n",
    "* There are 10 data points\n",
    "* Features 4: \"Timestamp, What track are you in?, How would you rate your overall satisfaction with the Summer Academy this week?, How well is the schedule paced?\""
   ]
  },
  {
   "cell_type": "markdown",
   "metadata": {},
   "source": [
    "#### Cleaning Process\n",
    "* Change the name of Timestamp to Week Number with the purpose of making it be clear what it is when mixing all weeks together"
   ]
  },
  {
   "cell_type": "code",
   "execution_count": 303,
   "metadata": {},
   "outputs": [],
   "source": [
    "SA_2016_LA_W6.rename(columns={'Timestamp': 'Week number'}, inplace=True)"
   ]
  },
  {
   "cell_type": "markdown",
   "metadata": {},
   "source": [
    "#### Formatting Setup\n",
    "* Make a variable with the number of data points\n",
    "* Make a variable with all the features\n",
    "* Make a variable with the number of features"
   ]
  },
  {
   "cell_type": "code",
   "execution_count": 304,
   "metadata": {},
   "outputs": [],
   "source": [
    "lenght_SA_2016_LA_W6 = len(SA_2016_LA_W6)\n",
    "SET_SA_2016_LA_W6 = set(SA_2016_LA_W6)\n",
    "column_lenght_SA_2016_LA_W6 = len(SA_2016_LA_W6.columns)"
   ]
  },
  {
   "cell_type": "markdown",
   "metadata": {},
   "source": [
    "#### Add new column with the location name"
   ]
  },
  {
   "cell_type": "code",
   "execution_count": 441,
   "metadata": {},
   "outputs": [],
   "source": [
    "# SA_2016_LA_W6.insert(0, 'Location', 'Los Angeles')\n",
    "# SA_2016_LA_W6\n"
   ]
  },
  {
   "cell_type": "markdown",
   "metadata": {},
   "source": [
    "---"
   ]
  },
  {
   "cell_type": "code",
   "execution_count": 306,
   "metadata": {},
   "outputs": [
    {
     "data": {
      "text/html": [
       "<div>\n",
       "<style scoped>\n",
       "    .dataframe tbody tr th:only-of-type {\n",
       "        vertical-align: middle;\n",
       "    }\n",
       "\n",
       "    .dataframe tbody tr th {\n",
       "        vertical-align: top;\n",
       "    }\n",
       "\n",
       "    .dataframe thead th {\n",
       "        text-align: right;\n",
       "    }\n",
       "</style>\n",
       "<table border=\"1\" class=\"dataframe\">\n",
       "  <thead>\n",
       "    <tr style=\"text-align: right;\">\n",
       "      <th></th>\n",
       "      <th>Timestamp</th>\n",
       "      <th>What track are you in?</th>\n",
       "      <th>How would you rate your overall satisfaction with the Summer Academy this week?</th>\n",
       "      <th>How well is the schedule paced?</th>\n",
       "    </tr>\n",
       "  </thead>\n",
       "  <tbody>\n",
       "    <tr>\n",
       "      <th>15</th>\n",
       "      <td>7/29/2016 13:17:56</td>\n",
       "      <td>Apps</td>\n",
       "      <td>4</td>\n",
       "      <td>3</td>\n",
       "    </tr>\n",
       "    <tr>\n",
       "      <th>16</th>\n",
       "      <td>7/29/2016 13:19:10</td>\n",
       "      <td>Intro</td>\n",
       "      <td>5</td>\n",
       "      <td>3</td>\n",
       "    </tr>\n",
       "    <tr>\n",
       "      <th>17</th>\n",
       "      <td>7/29/2016 13:19:53</td>\n",
       "      <td>Games</td>\n",
       "      <td>4</td>\n",
       "      <td>3</td>\n",
       "    </tr>\n",
       "    <tr>\n",
       "      <th>18</th>\n",
       "      <td>7/29/2016 13:21:00</td>\n",
       "      <td>Apps</td>\n",
       "      <td>5</td>\n",
       "      <td>5</td>\n",
       "    </tr>\n",
       "    <tr>\n",
       "      <th>19</th>\n",
       "      <td>8/5/2016 12:40:44</td>\n",
       "      <td>Games</td>\n",
       "      <td>4</td>\n",
       "      <td>3</td>\n",
       "    </tr>\n",
       "  </tbody>\n",
       "</table>\n",
       "</div>"
      ],
      "text/plain": [
       "             Timestamp What track are you in?  \\\n",
       "15  7/29/2016 13:17:56                   Apps   \n",
       "16  7/29/2016 13:19:10                  Intro   \n",
       "17  7/29/2016 13:19:53                  Games   \n",
       "18  7/29/2016 13:21:00                   Apps   \n",
       "19   8/5/2016 12:40:44                  Games   \n",
       "\n",
       "    How would you rate your overall satisfaction with the Summer Academy this week?  \\\n",
       "15                                                  4                                 \n",
       "16                                                  5                                 \n",
       "17                                                  4                                 \n",
       "18                                                  5                                 \n",
       "19                                                  4                                 \n",
       "\n",
       "    How well is the schedule paced?  \n",
       "15                                3  \n",
       "16                                3  \n",
       "17                                3  \n",
       "18                                5  \n",
       "19                                3  "
      ]
     },
     "execution_count": 306,
     "metadata": {},
     "output_type": "execute_result"
    }
   ],
   "source": [
    "file29_NY_PATH = \"../Datasets/SAFeedbackSurveys_FINAL/2016/Anon Week 6 Feedback - NY.csv\"\n",
    "SA_2016_NY_W6 = pd.read_csv(file29_NY_PATH)\n",
    "# SA_2016_NY_W6.head()\n",
    "SA_2016_NY_W6.tail()"
   ]
  },
  {
   "cell_type": "markdown",
   "metadata": {},
   "source": [
    "#### Notes on Week6 NY:\n",
    "* There are 20 data points\n",
    "* Features 4: \"Timestamp, What track are you in?, How would you rate your overall satisfaction with the Summer Academy this week?, How well is the schedule paced?\""
   ]
  },
  {
   "cell_type": "markdown",
   "metadata": {},
   "source": [
    "#### Cleaning Process\n",
    "* Change the name of Timestamp to Week Number with the purpose of making it be clear what it is when mixing all weeks together"
   ]
  },
  {
   "cell_type": "code",
   "execution_count": 307,
   "metadata": {},
   "outputs": [],
   "source": [
    "SA_2016_NY_W6.rename(columns={'Timestamp': 'Week number'}, inplace=True)"
   ]
  },
  {
   "cell_type": "markdown",
   "metadata": {},
   "source": [
    "#### Formatting Setup\n",
    "* Make a variable with the number of data points\n",
    "* Make a variable with all the features\n",
    "* Make a variable with the number of features"
   ]
  },
  {
   "cell_type": "code",
   "execution_count": 308,
   "metadata": {},
   "outputs": [],
   "source": [
    "lenght_SA_2016_NY_W6 = len(SA_2016_NY_W6)\n",
    "SET_SA_2016_NY_W6 = set(SA_2016_NY_W6)\n",
    "column_lenght_SA_2016_NY_W6 = len(SA_2016_NY_W6.columns)"
   ]
  },
  {
   "cell_type": "markdown",
   "metadata": {},
   "source": [
    "#### Add new column with the location name"
   ]
  },
  {
   "cell_type": "code",
   "execution_count": 443,
   "metadata": {},
   "outputs": [],
   "source": [
    "# SA_2016_NY_W6.insert(0, 'Location', 'New York')\n",
    "# SA_2016_NY_W6\n"
   ]
  },
  {
   "cell_type": "markdown",
   "metadata": {},
   "source": [
    "---"
   ]
  },
  {
   "cell_type": "code",
   "execution_count": 310,
   "metadata": {},
   "outputs": [
    {
     "data": {
      "text/html": [
       "<div>\n",
       "<style scoped>\n",
       "    .dataframe tbody tr th:only-of-type {\n",
       "        vertical-align: middle;\n",
       "    }\n",
       "\n",
       "    .dataframe tbody tr th {\n",
       "        vertical-align: top;\n",
       "    }\n",
       "\n",
       "    .dataframe thead th {\n",
       "        text-align: right;\n",
       "    }\n",
       "</style>\n",
       "<table border=\"1\" class=\"dataframe\">\n",
       "  <thead>\n",
       "    <tr style=\"text-align: right;\">\n",
       "      <th></th>\n",
       "      <th>What track are you in?</th>\n",
       "      <th>Timestamp</th>\n",
       "      <th>How would you rate your overall satisfaction with the Summer Academy this week?</th>\n",
       "      <th>How well is the schedule paced?</th>\n",
       "    </tr>\n",
       "  </thead>\n",
       "  <tbody>\n",
       "    <tr>\n",
       "      <th>20</th>\n",
       "      <td>Intro</td>\n",
       "      <td>7/29/2016 15:02:01</td>\n",
       "      <td>5</td>\n",
       "      <td>3</td>\n",
       "    </tr>\n",
       "    <tr>\n",
       "      <th>21</th>\n",
       "      <td>Intro</td>\n",
       "      <td>7/29/2016 15:09:17</td>\n",
       "      <td>5</td>\n",
       "      <td>3</td>\n",
       "    </tr>\n",
       "    <tr>\n",
       "      <th>22</th>\n",
       "      <td>VR</td>\n",
       "      <td>7/30/2016 9:00:15</td>\n",
       "      <td>4</td>\n",
       "      <td>3</td>\n",
       "    </tr>\n",
       "    <tr>\n",
       "      <th>23</th>\n",
       "      <td>VR</td>\n",
       "      <td>7/29/2016 21:45:54</td>\n",
       "      <td>4</td>\n",
       "      <td>4</td>\n",
       "    </tr>\n",
       "    <tr>\n",
       "      <th>24</th>\n",
       "      <td>VR</td>\n",
       "      <td>7/30/2016 13:09:48</td>\n",
       "      <td>4</td>\n",
       "      <td>3</td>\n",
       "    </tr>\n",
       "  </tbody>\n",
       "</table>\n",
       "</div>"
      ],
      "text/plain": [
       "   What track are you in?           Timestamp  \\\n",
       "20                  Intro  7/29/2016 15:02:01   \n",
       "21                  Intro  7/29/2016 15:09:17   \n",
       "22                     VR   7/30/2016 9:00:15   \n",
       "23                     VR  7/29/2016 21:45:54   \n",
       "24                     VR  7/30/2016 13:09:48   \n",
       "\n",
       "    How would you rate your overall satisfaction with the Summer Academy this week?  \\\n",
       "20                                                  5                                 \n",
       "21                                                  5                                 \n",
       "22                                                  4                                 \n",
       "23                                                  4                                 \n",
       "24                                                  4                                 \n",
       "\n",
       "    How well is the schedule paced?  \n",
       "20                                3  \n",
       "21                                3  \n",
       "22                                3  \n",
       "23                                4  \n",
       "24                                3  "
      ]
     },
     "execution_count": 310,
     "metadata": {},
     "output_type": "execute_result"
    }
   ],
   "source": [
    "file30_SF_PATH = \"../Datasets/SAFeedbackSurveys_FINAL/2016/Anon Week 6 Feedback - SF.csv\"\n",
    "SA_2016_SF_W6 = pd.read_csv(file30_SF_PATH)\n",
    "# SA_2016_SF_W6.head()\n",
    "SA_2016_SF_W6.tail()"
   ]
  },
  {
   "cell_type": "markdown",
   "metadata": {},
   "source": [
    "#### Notes on Week6 SF:\n",
    "* There are 24 data points\n",
    "* Features 3: \"What track are you in?, Timestamp, How would you rate your overall satisfaction with the Summer Academy this week?, How well is the schedule paced?\""
   ]
  },
  {
   "cell_type": "markdown",
   "metadata": {},
   "source": [
    "#### Cleaning Process\n",
    "* Change the name of Timestamp to Week Number with the purpose of making it be clear what it is when mixing all weeks together"
   ]
  },
  {
   "cell_type": "code",
   "execution_count": 311,
   "metadata": {},
   "outputs": [],
   "source": [
    "SA_2016_SF_W6.rename(columns={'Timestamp': 'Week number'}, inplace=True)"
   ]
  },
  {
   "cell_type": "markdown",
   "metadata": {},
   "source": [
    "#### Formatting Setup\n",
    "* Make a variable with the number of data points\n",
    "* Make a variable with all the features\n",
    "* Make a variable with the number of features"
   ]
  },
  {
   "cell_type": "code",
   "execution_count": 312,
   "metadata": {},
   "outputs": [],
   "source": [
    "lenght_SA_2016_SF_W6 = len(SA_2016_SF_W6)\n",
    "SET_SA_2016_SF_W6 = set(SA_2016_SF_W6)\n",
    "column_lenght_SA_2016_SF_W6 = len(SA_2016_SF_W6.columns)"
   ]
  },
  {
   "cell_type": "markdown",
   "metadata": {},
   "source": [
    "#### Add new column with the location name"
   ]
  },
  {
   "cell_type": "code",
   "execution_count": 445,
   "metadata": {},
   "outputs": [],
   "source": [
    "# SA_2016_SF_W6.insert(0, 'Location', 'San Francisco')\n",
    "# SA_2016_SF_W6\n"
   ]
  },
  {
   "cell_type": "markdown",
   "metadata": {},
   "source": [
    "---"
   ]
  },
  {
   "cell_type": "code",
   "execution_count": 313,
   "metadata": {},
   "outputs": [
    {
     "data": {
      "text/html": [
       "<div>\n",
       "<style scoped>\n",
       "    .dataframe tbody tr th:only-of-type {\n",
       "        vertical-align: middle;\n",
       "    }\n",
       "\n",
       "    .dataframe tbody tr th {\n",
       "        vertical-align: top;\n",
       "    }\n",
       "\n",
       "    .dataframe thead th {\n",
       "        text-align: right;\n",
       "    }\n",
       "</style>\n",
       "<table border=\"1\" class=\"dataframe\">\n",
       "  <thead>\n",
       "    <tr style=\"text-align: right;\">\n",
       "      <th></th>\n",
       "      <th>Timestamp</th>\n",
       "      <th>How would you rate your overall satisfaction with the Summer Academy this week?</th>\n",
       "      <th>How well is the schedule paced?</th>\n",
       "    </tr>\n",
       "  </thead>\n",
       "  <tbody>\n",
       "    <tr>\n",
       "      <th>1</th>\n",
       "      <td>7/29/2016 23:12:48</td>\n",
       "      <td>5</td>\n",
       "      <td>5</td>\n",
       "    </tr>\n",
       "    <tr>\n",
       "      <th>2</th>\n",
       "      <td>7/30/2016 5:46:01</td>\n",
       "      <td>5</td>\n",
       "      <td>3</td>\n",
       "    </tr>\n",
       "    <tr>\n",
       "      <th>3</th>\n",
       "      <td>7/30/2016 7:02:47</td>\n",
       "      <td>4</td>\n",
       "      <td>3</td>\n",
       "    </tr>\n",
       "    <tr>\n",
       "      <th>4</th>\n",
       "      <td>7/31/2016 7:40:14</td>\n",
       "      <td>3</td>\n",
       "      <td>5</td>\n",
       "    </tr>\n",
       "    <tr>\n",
       "      <th>5</th>\n",
       "      <td>7/31/2016 8:34:29</td>\n",
       "      <td>5</td>\n",
       "      <td>3</td>\n",
       "    </tr>\n",
       "  </tbody>\n",
       "</table>\n",
       "</div>"
      ],
      "text/plain": [
       "            Timestamp  \\\n",
       "1  7/29/2016 23:12:48   \n",
       "2   7/30/2016 5:46:01   \n",
       "3   7/30/2016 7:02:47   \n",
       "4   7/31/2016 7:40:14   \n",
       "5   7/31/2016 8:34:29   \n",
       "\n",
       "   How would you rate your overall satisfaction with the Summer Academy this week?  \\\n",
       "1                                                  5                                 \n",
       "2                                                  5                                 \n",
       "3                                                  4                                 \n",
       "4                                                  3                                 \n",
       "5                                                  5                                 \n",
       "\n",
       "   How well is the schedule paced?  \n",
       "1                                5  \n",
       "2                                3  \n",
       "3                                3  \n",
       "4                                5  \n",
       "5                                3  "
      ]
     },
     "execution_count": 313,
     "metadata": {},
     "output_type": "execute_result"
    }
   ],
   "source": [
    "file31_SG_PATH = \"../Datasets/SAFeedbackSurveys_FINAL/2016/Anon Week 6 Feedback - SG.csv\"\n",
    "SA_2016_SG_W6 = pd.read_csv(file31_SG_PATH)\n",
    "# SA_2016_SG_W6.head()\n",
    "SA_2016_SG_W6.tail()"
   ]
  },
  {
   "cell_type": "markdown",
   "metadata": {},
   "source": [
    "#### Notes on Week6 SG:\n",
    "* There are 6 data points\n",
    "* Features 3: \"Timestamp, What track are you in?, How would you rate your overall satisfaction with the Summer Academy this week?, How well is the schedule paced?\""
   ]
  },
  {
   "cell_type": "markdown",
   "metadata": {},
   "source": [
    "#### Cleaning Process\n",
    "* Change the name of Timestamp to Week Number with the purpose of making it be clear what it is when mixing all weeks together"
   ]
  },
  {
   "cell_type": "code",
   "execution_count": 314,
   "metadata": {},
   "outputs": [],
   "source": [
    "SA_2016_SG_W6.rename(columns={'Timestamp': 'Week number'}, inplace=True)"
   ]
  },
  {
   "cell_type": "markdown",
   "metadata": {},
   "source": [
    "#### Formatting Setup\n",
    "* Make a variable with the number of data points\n",
    "* Make a variable with all the features\n",
    "* Make a variable with the number of features"
   ]
  },
  {
   "cell_type": "code",
   "execution_count": 315,
   "metadata": {},
   "outputs": [],
   "source": [
    "lenght_SA_2016_SG_W6 = len(SA_2016_SG_W6)\n",
    "SET_SA_2016_SG_W6 = set(SA_2016_SG_W6)\n",
    "column_lenght_SA_2016_SG_W6 = len(SA_2016_SG_W6.columns)"
   ]
  },
  {
   "cell_type": "markdown",
   "metadata": {},
   "source": [
    "#### Add new column with the location name"
   ]
  },
  {
   "cell_type": "code",
   "execution_count": 447,
   "metadata": {},
   "outputs": [],
   "source": [
    "# SA_2016_SG_W6.insert(0, 'Location', 'Singapor')\n",
    "# SA_2016_SG_W6\n"
   ]
  },
  {
   "cell_type": "markdown",
   "metadata": {},
   "source": [
    "---"
   ]
  },
  {
   "cell_type": "code",
   "execution_count": 316,
   "metadata": {},
   "outputs": [
    {
     "data": {
      "text/html": [
       "<div>\n",
       "<style scoped>\n",
       "    .dataframe tbody tr th:only-of-type {\n",
       "        vertical-align: middle;\n",
       "    }\n",
       "\n",
       "    .dataframe tbody tr th {\n",
       "        vertical-align: top;\n",
       "    }\n",
       "\n",
       "    .dataframe thead th {\n",
       "        text-align: right;\n",
       "    }\n",
       "</style>\n",
       "<table border=\"1\" class=\"dataframe\">\n",
       "  <thead>\n",
       "    <tr style=\"text-align: right;\">\n",
       "      <th></th>\n",
       "      <th>Timestamp</th>\n",
       "      <th>What track are you in?</th>\n",
       "      <th>How would you rate your overall satisfaction with the Summer Academy this week?</th>\n",
       "      <th>How well is the schedule paced?</th>\n",
       "    </tr>\n",
       "  </thead>\n",
       "  <tbody>\n",
       "    <tr>\n",
       "      <th>30</th>\n",
       "      <td>7/29/2016 13:15:55</td>\n",
       "      <td>Intro</td>\n",
       "      <td>4</td>\n",
       "      <td>3</td>\n",
       "    </tr>\n",
       "    <tr>\n",
       "      <th>31</th>\n",
       "      <td>7/29/2016 13:16:10</td>\n",
       "      <td>Intro</td>\n",
       "      <td>4</td>\n",
       "      <td>3</td>\n",
       "    </tr>\n",
       "    <tr>\n",
       "      <th>32</th>\n",
       "      <td>7/29/2016 13:19:58</td>\n",
       "      <td>Intro</td>\n",
       "      <td>4</td>\n",
       "      <td>3</td>\n",
       "    </tr>\n",
       "    <tr>\n",
       "      <th>33</th>\n",
       "      <td>7/29/2016 13:17:35</td>\n",
       "      <td>Intro</td>\n",
       "      <td>5</td>\n",
       "      <td>3</td>\n",
       "    </tr>\n",
       "    <tr>\n",
       "      <th>34</th>\n",
       "      <td>7/29/2016 13:24:51</td>\n",
       "      <td>Intro</td>\n",
       "      <td>4</td>\n",
       "      <td>2</td>\n",
       "    </tr>\n",
       "  </tbody>\n",
       "</table>\n",
       "</div>"
      ],
      "text/plain": [
       "             Timestamp What track are you in?  \\\n",
       "30  7/29/2016 13:15:55                  Intro   \n",
       "31  7/29/2016 13:16:10                  Intro   \n",
       "32  7/29/2016 13:19:58                  Intro   \n",
       "33  7/29/2016 13:17:35                  Intro   \n",
       "34  7/29/2016 13:24:51                  Intro   \n",
       "\n",
       "    How would you rate your overall satisfaction with the Summer Academy this week?  \\\n",
       "30                                                  4                                 \n",
       "31                                                  4                                 \n",
       "32                                                  4                                 \n",
       "33                                                  5                                 \n",
       "34                                                  4                                 \n",
       "\n",
       "    How well is the schedule paced?  \n",
       "30                                3  \n",
       "31                                3  \n",
       "32                                3  \n",
       "33                                3  \n",
       "34                                2  "
      ]
     },
     "execution_count": 316,
     "metadata": {},
     "output_type": "execute_result"
    }
   ],
   "source": [
    "file32_SV_PATH = \"../Datasets/SAFeedbackSurveys_FINAL/2016/Anon Week 6 Feedback - SV.csv\"\n",
    "SA_2016_SV_W6 = pd.read_csv(file32_SV_PATH)\n",
    "# SA_2016_SV_W6.head()\n",
    "SA_2016_SV_W6.tail()"
   ]
  },
  {
   "cell_type": "markdown",
   "metadata": {},
   "source": [
    "#### Notes on Week6 SV:\n",
    "* There are 35 data points\n",
    "* Features 4: \"Timestamp, What track are you in?, How would you rate your overall satisfaction with the Summer Academy this week?, How well is the schedule paced?\""
   ]
  },
  {
   "cell_type": "markdown",
   "metadata": {},
   "source": [
    "#### Cleaning Process\n",
    "* Change the name of Timestamp to Week Number with the purpose of making it be clear what it is when mixing all weeks together"
   ]
  },
  {
   "cell_type": "code",
   "execution_count": 317,
   "metadata": {},
   "outputs": [],
   "source": [
    "SA_2016_SV_W6.rename(columns={'Timestamp': 'Week number'}, inplace=True)"
   ]
  },
  {
   "cell_type": "markdown",
   "metadata": {},
   "source": [
    "#### Formatting Setup\n",
    "* Make a variable with the number of data points\n",
    "* Make a variable with all the features\n",
    "* Make a variable with the number of features"
   ]
  },
  {
   "cell_type": "code",
   "execution_count": 318,
   "metadata": {},
   "outputs": [],
   "source": [
    "lenght_SA_2016_SV_W6 = len(SA_2016_SV_W6)\n",
    "SET_SA_2016_SV_W6 = set(SA_2016_SV_W6)\n",
    "column_lenght_SA_2016_SV_W6 = len(SA_2016_SV_W6.columns)"
   ]
  },
  {
   "cell_type": "markdown",
   "metadata": {},
   "source": [
    "#### Add new column with the location name"
   ]
  },
  {
   "cell_type": "code",
   "execution_count": 449,
   "metadata": {},
   "outputs": [],
   "source": [
    "# SA_2016_SV_W6.insert(0, 'Location', 'Sunnyvale')\n",
    "# SA_2016_SV_W6\n"
   ]
  },
  {
   "cell_type": "markdown",
   "metadata": {},
   "source": [
    "---"
   ]
  },
  {
   "cell_type": "code",
   "execution_count": 319,
   "metadata": {},
   "outputs": [
    {
     "data": {
      "text/html": [
       "<div>\n",
       "<style scoped>\n",
       "    .dataframe tbody tr th:only-of-type {\n",
       "        vertical-align: middle;\n",
       "    }\n",
       "\n",
       "    .dataframe tbody tr th {\n",
       "        vertical-align: top;\n",
       "    }\n",
       "\n",
       "    .dataframe thead th {\n",
       "        text-align: right;\n",
       "    }\n",
       "</style>\n",
       "<table border=\"1\" class=\"dataframe\">\n",
       "  <thead>\n",
       "    <tr style=\"text-align: right;\">\n",
       "      <th></th>\n",
       "      <th>Timestamp</th>\n",
       "      <th>How would you rate your overall satisfaction with the Summer Academy this week?</th>\n",
       "      <th>How well is the schedule paced?</th>\n",
       "    </tr>\n",
       "  </thead>\n",
       "  <tbody>\n",
       "    <tr>\n",
       "      <th>7</th>\n",
       "      <td>7/29/2016 1:27:55</td>\n",
       "      <td>3</td>\n",
       "      <td>3</td>\n",
       "    </tr>\n",
       "    <tr>\n",
       "      <th>8</th>\n",
       "      <td>7/29/2016 1:28:54</td>\n",
       "      <td>5</td>\n",
       "      <td>2</td>\n",
       "    </tr>\n",
       "    <tr>\n",
       "      <th>9</th>\n",
       "      <td>7/29/2016 1:29:23</td>\n",
       "      <td>4</td>\n",
       "      <td>4</td>\n",
       "    </tr>\n",
       "    <tr>\n",
       "      <th>10</th>\n",
       "      <td>7/29/2016 1:46:49</td>\n",
       "      <td>5</td>\n",
       "      <td>4</td>\n",
       "    </tr>\n",
       "    <tr>\n",
       "      <th>11</th>\n",
       "      <td>7/29/2016 21:20:05</td>\n",
       "      <td>5</td>\n",
       "      <td>3</td>\n",
       "    </tr>\n",
       "  </tbody>\n",
       "</table>\n",
       "</div>"
      ],
      "text/plain": [
       "             Timestamp  \\\n",
       "7    7/29/2016 1:27:55   \n",
       "8    7/29/2016 1:28:54   \n",
       "9    7/29/2016 1:29:23   \n",
       "10   7/29/2016 1:46:49   \n",
       "11  7/29/2016 21:20:05   \n",
       "\n",
       "    How would you rate your overall satisfaction with the Summer Academy this week?  \\\n",
       "7                                                   3                                 \n",
       "8                                                   5                                 \n",
       "9                                                   4                                 \n",
       "10                                                  5                                 \n",
       "11                                                  5                                 \n",
       "\n",
       "    How well is the schedule paced?  \n",
       "7                                 3  \n",
       "8                                 2  \n",
       "9                                 4  \n",
       "10                                4  \n",
       "11                                3  "
      ]
     },
     "execution_count": 319,
     "metadata": {},
     "output_type": "execute_result"
    }
   ],
   "source": [
    "file33_Taipei_PATH = \"../Datasets/SAFeedbackSurveys_FINAL/2016/Anon Week 6 Feedback - Taipei.csv\"\n",
    "SA_2016_Taipei_W6 = pd.read_csv(file33_Taipei_PATH)\n",
    "# SA_2016_Taipei_W6.head()\n",
    "SA_2016_Taipei_W6.tail()"
   ]
  },
  {
   "cell_type": "markdown",
   "metadata": {},
   "source": [
    "#### Notes on Week6 Taipei:\n",
    "* There are 12 data points\n",
    "* Features 3: \"Timestamp, How would you rate your overall satisfaction with the Summer Academy this week?, How well is the schedule paced?\""
   ]
  },
  {
   "cell_type": "markdown",
   "metadata": {},
   "source": [
    "#### Cleaning Process\n",
    "* Change the name of Timestamp to Week Number with the purpose of making it be clear what it is when mixing all weeks together"
   ]
  },
  {
   "cell_type": "code",
   "execution_count": 320,
   "metadata": {},
   "outputs": [],
   "source": [
    "SA_2016_Taipei_W6.rename(columns={'Timestamp': 'Week number'}, inplace=True)"
   ]
  },
  {
   "cell_type": "markdown",
   "metadata": {},
   "source": [
    "#### Formatting Setup\n",
    "* Make a variable with the number of data points\n",
    "* Make a variable with all the features\n",
    "* Make a variable with the number of features"
   ]
  },
  {
   "cell_type": "code",
   "execution_count": 321,
   "metadata": {},
   "outputs": [],
   "source": [
    "lenght_SA_2016_Taipei_W6 = len(SA_2016_Taipei_W6)\n",
    "SET_SA_2016_Taipei_W6 = set(SA_2016_Taipei_W6)\n",
    "column_lenght_SA_2016_Taipei_W6 = len(SA_2016_Taipei_W6.columns)"
   ]
  },
  {
   "cell_type": "markdown",
   "metadata": {},
   "source": [
    "#### Add new column with the location name"
   ]
  },
  {
   "cell_type": "code",
   "execution_count": 451,
   "metadata": {},
   "outputs": [],
   "source": [
    "# SA_2016_Taipei_W6.insert(0, 'Location', 'Taipei')\n",
    "# SA_2016_Taipei_W6\n"
   ]
  },
  {
   "cell_type": "markdown",
   "metadata": {},
   "source": [
    "---"
   ]
  },
  {
   "cell_type": "code",
   "execution_count": 322,
   "metadata": {},
   "outputs": [
    {
     "data": {
      "text/html": [
       "<div>\n",
       "<style scoped>\n",
       "    .dataframe tbody tr th:only-of-type {\n",
       "        vertical-align: middle;\n",
       "    }\n",
       "\n",
       "    .dataframe tbody tr th {\n",
       "        vertical-align: top;\n",
       "    }\n",
       "\n",
       "    .dataframe thead th {\n",
       "        text-align: right;\n",
       "    }\n",
       "</style>\n",
       "<table border=\"1\" class=\"dataframe\">\n",
       "  <thead>\n",
       "    <tr style=\"text-align: right;\">\n",
       "      <th></th>\n",
       "      <th>Timestamp</th>\n",
       "      <th>How would you rate your overall satisfaction with the Summer Academy this week?</th>\n",
       "      <th>How well is the schedule paced?</th>\n",
       "    </tr>\n",
       "  </thead>\n",
       "  <tbody>\n",
       "    <tr>\n",
       "      <th>8</th>\n",
       "      <td>8/1/2016 1:18:47</td>\n",
       "      <td>3</td>\n",
       "      <td>4</td>\n",
       "    </tr>\n",
       "    <tr>\n",
       "      <th>9</th>\n",
       "      <td>8/1/2016 1:30:17</td>\n",
       "      <td>5</td>\n",
       "      <td>3</td>\n",
       "    </tr>\n",
       "    <tr>\n",
       "      <th>10</th>\n",
       "      <td>8/1/2016 1:30:17</td>\n",
       "      <td>5</td>\n",
       "      <td>3</td>\n",
       "    </tr>\n",
       "    <tr>\n",
       "      <th>11</th>\n",
       "      <td>8/1/2016 6:15:10</td>\n",
       "      <td>4</td>\n",
       "      <td>4</td>\n",
       "    </tr>\n",
       "    <tr>\n",
       "      <th>12</th>\n",
       "      <td>8/1/2016 7:56:08</td>\n",
       "      <td>4</td>\n",
       "      <td>3</td>\n",
       "    </tr>\n",
       "  </tbody>\n",
       "</table>\n",
       "</div>"
      ],
      "text/plain": [
       "           Timestamp  \\\n",
       "8   8/1/2016 1:18:47   \n",
       "9   8/1/2016 1:30:17   \n",
       "10  8/1/2016 1:30:17   \n",
       "11  8/1/2016 6:15:10   \n",
       "12  8/1/2016 7:56:08   \n",
       "\n",
       "    How would you rate your overall satisfaction with the Summer Academy this week?  \\\n",
       "8                                                   3                                 \n",
       "9                                                   5                                 \n",
       "10                                                  5                                 \n",
       "11                                                  4                                 \n",
       "12                                                  4                                 \n",
       "\n",
       "    How well is the schedule paced?  \n",
       "8                                 4  \n",
       "9                                 3  \n",
       "10                                3  \n",
       "11                                4  \n",
       "12                                3  "
      ]
     },
     "execution_count": 322,
     "metadata": {},
     "output_type": "execute_result"
    }
   ],
   "source": [
    "file34_Tokyo_PATH = \"../Datasets/SAFeedbackSurveys_FINAL/2016/Anon Week 6 Feedback - Tokyo.csv\"\n",
    "SA_2016_Tokyo_W6 = pd.read_csv(file34_Tokyo_PATH)\n",
    "# SA_2016_Tokyo_W6.head()\n",
    "SA_2016_Tokyo_W6.tail()"
   ]
  },
  {
   "cell_type": "markdown",
   "metadata": {},
   "source": [
    "#### Notes on Week6 Tokyo:\n",
    "* There are 13 data points\n",
    "* Features 3: \"Timestamp, How would you rate your overall satisfaction with the Summer Academy this week?, How well is the schedule paced?\""
   ]
  },
  {
   "cell_type": "markdown",
   "metadata": {},
   "source": [
    "#### Cleaning Process\n",
    "* Change the name of Timestamp to Week Number with the purpose of making it be clear what it is when mixing all weeks together"
   ]
  },
  {
   "cell_type": "code",
   "execution_count": 323,
   "metadata": {},
   "outputs": [],
   "source": [
    "SA_2016_Tokyo_W6.rename(columns={'Timestamp': 'Week number'}, inplace=True)"
   ]
  },
  {
   "cell_type": "markdown",
   "metadata": {},
   "source": [
    "#### Formatting Setup\n",
    "* Make a variable with the number of data points\n",
    "* Make a variable with all the features\n",
    "* Make a variable with the number of features"
   ]
  },
  {
   "cell_type": "code",
   "execution_count": 324,
   "metadata": {},
   "outputs": [],
   "source": [
    "lenght_SA_2016_Tokyo_W6 = len(SA_2016_Tokyo_W6)\n",
    "SET_SA_2016_Tokyo_W6 = set(SA_2016_Tokyo_W6)\n",
    "column_lenght_SA_2016_Tokyo_W6 = len(SA_2016_Tokyo_W6.columns)"
   ]
  },
  {
   "cell_type": "markdown",
   "metadata": {},
   "source": [
    "#### Add new column with the location name"
   ]
  },
  {
   "cell_type": "code",
   "execution_count": 492,
   "metadata": {},
   "outputs": [],
   "source": [
    "# SA_2016_Tokyo_W6.insert(0, 'Location', 'Tokyo')\n",
    "# SA_2016_Tokyo_W6\n"
   ]
  },
  {
   "cell_type": "markdown",
   "metadata": {},
   "source": [
    "---"
   ]
  },
  {
   "cell_type": "markdown",
   "metadata": {},
   "source": [
    "### Formating into a complete week 6 file\n",
    "#### What to consider for this process\n",
    "* Do all Datasets have 4 features?\n",
    "* For NPS score do I need all datasets to have all features"
   ]
  },
  {
   "cell_type": "code",
   "execution_count": 511,
   "metadata": {},
   "outputs": [
    {
     "data": {
      "text/html": [
       "<div>\n",
       "<style scoped>\n",
       "    .dataframe tbody tr th:only-of-type {\n",
       "        vertical-align: middle;\n",
       "    }\n",
       "\n",
       "    .dataframe tbody tr th {\n",
       "        vertical-align: top;\n",
       "    }\n",
       "\n",
       "    .dataframe thead th {\n",
       "        text-align: right;\n",
       "    }\n",
       "</style>\n",
       "<table border=\"1\" class=\"dataframe\">\n",
       "  <thead>\n",
       "    <tr style=\"text-align: right;\">\n",
       "      <th></th>\n",
       "      <th>Location</th>\n",
       "      <th>Features</th>\n",
       "      <th>Number of Datapoints</th>\n",
       "      <th>Number of Features</th>\n",
       "    </tr>\n",
       "  </thead>\n",
       "  <tbody>\n",
       "    <tr>\n",
       "      <th>0</th>\n",
       "      <td>Singapore</td>\n",
       "      <td>{Week number, How well is the schedule paced?,...</td>\n",
       "      <td>6</td>\n",
       "      <td>3</td>\n",
       "    </tr>\n",
       "    <tr>\n",
       "      <th>1</th>\n",
       "      <td>Los Angeles</td>\n",
       "      <td>{Week number, How well is the schedule paced?,...</td>\n",
       "      <td>10</td>\n",
       "      <td>4</td>\n",
       "    </tr>\n",
       "    <tr>\n",
       "      <th>2</th>\n",
       "      <td>New York</td>\n",
       "      <td>{Week number, How well is the schedule paced?,...</td>\n",
       "      <td>20</td>\n",
       "      <td>4</td>\n",
       "    </tr>\n",
       "    <tr>\n",
       "      <th>3</th>\n",
       "      <td>San Francisco</td>\n",
       "      <td>{What track are you in?, Week number, How well...</td>\n",
       "      <td>25</td>\n",
       "      <td>4</td>\n",
       "    </tr>\n",
       "    <tr>\n",
       "      <th>4</th>\n",
       "      <td>Sunnyvale</td>\n",
       "      <td>{Week number, How well is the schedule paced?,...</td>\n",
       "      <td>35</td>\n",
       "      <td>4</td>\n",
       "    </tr>\n",
       "    <tr>\n",
       "      <th>5</th>\n",
       "      <td>Hong Kong</td>\n",
       "      <td>{Week number, How well is the schedule paced?,...</td>\n",
       "      <td>3</td>\n",
       "      <td>3</td>\n",
       "    </tr>\n",
       "    <tr>\n",
       "      <th>6</th>\n",
       "      <td>Taipei</td>\n",
       "      <td>{Week number, How well is the schedule paced?,...</td>\n",
       "      <td>12</td>\n",
       "      <td>3</td>\n",
       "    </tr>\n",
       "    <tr>\n",
       "      <th>7</th>\n",
       "      <td>Tokyo</td>\n",
       "      <td>{Week number, How well is the schedule paced?,...</td>\n",
       "      <td>13</td>\n",
       "      <td>3</td>\n",
       "    </tr>\n",
       "  </tbody>\n",
       "</table>\n",
       "</div>"
      ],
      "text/plain": [
       "        Location                                           Features  \\\n",
       "0      Singapore  {Week number, How well is the schedule paced?,...   \n",
       "1    Los Angeles  {Week number, How well is the schedule paced?,...   \n",
       "2       New York  {Week number, How well is the schedule paced?,...   \n",
       "3  San Francisco  {What track are you in?, Week number, How well...   \n",
       "4      Sunnyvale  {Week number, How well is the schedule paced?,...   \n",
       "5      Hong Kong  {Week number, How well is the schedule paced?,...   \n",
       "6         Taipei  {Week number, How well is the schedule paced?,...   \n",
       "7          Tokyo  {Week number, How well is the schedule paced?,...   \n",
       "\n",
       "   Number of Datapoints  Number of Features  \n",
       "0                     6                   3  \n",
       "1                    10                   4  \n",
       "2                    20                   4  \n",
       "3                    25                   4  \n",
       "4                    35                   4  \n",
       "5                     3                   3  \n",
       "6                    12                   3  \n",
       "7                    13                   3  "
      ]
     },
     "execution_count": 511,
     "metadata": {},
     "output_type": "execute_result"
    }
   ],
   "source": [
    "SA_2016_W6_data = {'Location': ['Singapore', 'Los Angeles', 'New York', 'San Francisco', 'Sunnyvale', 'Hong Kong', 'Taipei', 'Tokyo'], \n",
    "                   'Features': [SET_SA_2016_SG_W6, SET_SA_2016_LA_W6, SET_SA_2016_NY_W6, SET_SA_2016_SF_W6, SET_SA_2016_SV_W6, SET_SA_2016_HK_W6, SET_SA_2016_Taipei_W6, SET_SA_2016_Tokyo_W6], \n",
    "                   'Number of Datapoints': [lenght_SA_2016_SG_W6, lenght_SA_2016_LA_W6, lenght_SA_2016_NY_W6, lenght_SA_2016_SF_W6, lenght_SA_2016_SV_W6, lenght_SA_2016_HK_W6, lenght_SA_2016_Taipei_W6, lenght_SA_2016_Tokyo_W6],\n",
    "                   'Number of Features': [column_lenght_SA_2016_SG_W6, column_lenght_SA_2016_LA_W6, column_lenght_SA_2016_NY_W6, column_lenght_SA_2016_SF_W6, column_lenght_SA_2016_SV_W6, column_lenght_SA_2016_HK_W6, column_lenght_SA_2016_Taipei_W6, column_lenght_SA_2016_Tokyo_W6]\n",
    "                  }\n",
    "SA_2016_W6 = pd.DataFrame(data=SA_2016_W6_data)\n",
    "SA_2016_W6\n",
    "\n"
   ]
  },
  {
   "cell_type": "markdown",
   "metadata": {},
   "source": [
    "#### Complete comparion of dataset\n",
    "_Objective:_\n",
    "* Be able to see easily which dataset have more features \n",
    "* Decide if it's a good idea to have a special weekly dataset with the more complete ones and a normal one where the not always present features is not added"
   ]
  },
  {
   "cell_type": "markdown",
   "metadata": {},
   "source": [
    "### Complete week 6\n",
    "#### Process to achieve this\n",
    "* Concatenate all without including track, will exclude Hong Kong, Tokyo and Taipei because it begins at week 5 compared to NY, LA, SV, SG and SF, but relative to itself for it this would be week 2, week 1 and week 1.\n",
    "* Concatenate only the ones with track\n",
    "\n",
    "__Note:__\n",
    "    - Given that all datasets don't have track included will have two weekly datasets"
   ]
  },
  {
   "cell_type": "code",
   "execution_count": 503,
   "metadata": {},
   "outputs": [],
   "source": [
    "# Here will only be the ones who have their track\n",
    "week6_frames = [SA_2016_SG_W6, SA_2016_LA_W6, SA_2016_NY_W6, SA_2016_SF_W6, SA_2016_SV_W6]\n",
    "SA_2016_W6_ALL = pd.concat(week6_frames, sort=True)\n",
    "# SA_2016_W6_ALL = SA_2016_W6_ALL.drop('What track are you in?', 1)\n",
    "# SA_2016_W6_ALL\n"
   ]
  },
  {
   "cell_type": "code",
   "execution_count": 504,
   "metadata": {},
   "outputs": [],
   "source": [
    "# Here will only be the ones who have the feature track\n",
    "week6_frames_only_track = [SA_2016_NY_W6, SA_2016_LA_W6, SA_2016_SV_W6]\n",
    "# SA_2016_W6_with_track = pd.concat(week6_frames_only_track, sort=True)\n",
    "# SA_2016_W6_with_track"
   ]
  },
  {
   "cell_type": "markdown",
   "metadata": {},
   "source": [
    "## Week7"
   ]
  },
  {
   "cell_type": "code",
   "execution_count": 329,
   "metadata": {},
   "outputs": [
    {
     "data": {
      "text/html": [
       "<div>\n",
       "<style scoped>\n",
       "    .dataframe tbody tr th:only-of-type {\n",
       "        vertical-align: middle;\n",
       "    }\n",
       "\n",
       "    .dataframe tbody tr th {\n",
       "        vertical-align: top;\n",
       "    }\n",
       "\n",
       "    .dataframe thead th {\n",
       "        text-align: right;\n",
       "    }\n",
       "</style>\n",
       "<table border=\"1\" class=\"dataframe\">\n",
       "  <thead>\n",
       "    <tr style=\"text-align: right;\">\n",
       "      <th></th>\n",
       "      <th>Timestamp</th>\n",
       "      <th>What track are you in?</th>\n",
       "      <th>How would you rate your overall satisfaction with the Summer Academy this week?</th>\n",
       "      <th>How well is the schedule paced?</th>\n",
       "    </tr>\n",
       "  </thead>\n",
       "  <tbody>\n",
       "    <tr>\n",
       "      <th>4</th>\n",
       "      <td>8/5/2016 11:31:08</td>\n",
       "      <td>Games</td>\n",
       "      <td>4</td>\n",
       "      <td>3</td>\n",
       "    </tr>\n",
       "    <tr>\n",
       "      <th>5</th>\n",
       "      <td>8/5/2016 11:57:53</td>\n",
       "      <td>Games</td>\n",
       "      <td>5</td>\n",
       "      <td>3</td>\n",
       "    </tr>\n",
       "    <tr>\n",
       "      <th>6</th>\n",
       "      <td>8/5/2016 13:23:30</td>\n",
       "      <td>Intro</td>\n",
       "      <td>4</td>\n",
       "      <td>4</td>\n",
       "    </tr>\n",
       "    <tr>\n",
       "      <th>7</th>\n",
       "      <td>8/5/2016 13:58:27</td>\n",
       "      <td>Games</td>\n",
       "      <td>5</td>\n",
       "      <td>3</td>\n",
       "    </tr>\n",
       "    <tr>\n",
       "      <th>8</th>\n",
       "      <td>8/5/2016 14:00:14</td>\n",
       "      <td>Games</td>\n",
       "      <td>5</td>\n",
       "      <td>3</td>\n",
       "    </tr>\n",
       "  </tbody>\n",
       "</table>\n",
       "</div>"
      ],
      "text/plain": [
       "           Timestamp What track are you in?  \\\n",
       "4  8/5/2016 11:31:08                  Games   \n",
       "5  8/5/2016 11:57:53                  Games   \n",
       "6  8/5/2016 13:23:30                  Intro   \n",
       "7  8/5/2016 13:58:27                  Games   \n",
       "8  8/5/2016 14:00:14                  Games   \n",
       "\n",
       "   How would you rate your overall satisfaction with the Summer Academy this week?  \\\n",
       "4                                                  4                                 \n",
       "5                                                  5                                 \n",
       "6                                                  4                                 \n",
       "7                                                  5                                 \n",
       "8                                                  5                                 \n",
       "\n",
       "   How well is the schedule paced?  \n",
       "4                                3  \n",
       "5                                3  \n",
       "6                                4  \n",
       "7                                3  \n",
       "8                                3  "
      ]
     },
     "execution_count": 329,
     "metadata": {},
     "output_type": "execute_result"
    }
   ],
   "source": [
    "file35_LA_PATH = \"../Datasets/SAFeedbackSurveys_FINAL/2016/Anon Week 7 Feedback - LA.csv\"\n",
    "SA_2016_LA_W7 = pd.read_csv(file35_LA_PATH)\n",
    "# SA_2016_SV_W7.head()\n",
    "SA_2016_LA_W7.tail()"
   ]
  },
  {
   "cell_type": "markdown",
   "metadata": {},
   "source": [
    "#### Notes on Week7 SV:\n",
    "* There are 9 data points\n",
    "* Features 4: \"Timestamp, What track are you in?, How would you rate your overall satisfaction with the Summer Academy this week?, How well is the schedule paced?\""
   ]
  },
  {
   "cell_type": "markdown",
   "metadata": {},
   "source": [
    "#### Cleaning Process\n",
    "* Change the name of Timestamp to Week Number with the purpose of making it be clear what it is when mixing all weeks together"
   ]
  },
  {
   "cell_type": "code",
   "execution_count": 330,
   "metadata": {},
   "outputs": [],
   "source": [
    "SA_2016_LA_W7.rename(columns={'Timestamp': 'Week number'}, inplace=True)"
   ]
  },
  {
   "cell_type": "markdown",
   "metadata": {},
   "source": [
    "#### Formatting Setup\n",
    "* Make a variable with the number of data points\n",
    "* Make a variable with all the features\n",
    "* Make a variable with the number of features"
   ]
  },
  {
   "cell_type": "code",
   "execution_count": 331,
   "metadata": {},
   "outputs": [],
   "source": [
    "lenght_SA_2016_LA_W7 = len(SA_2016_LA_W7)\n",
    "SET_SA_2016_LA_W7 = set(SA_2016_LA_W7)\n",
    "column_lenght_SA_2016_LA_W7 = len(SA_2016_LA_W7.columns)"
   ]
  },
  {
   "cell_type": "markdown",
   "metadata": {},
   "source": [
    "#### Add new column with the location name"
   ]
  },
  {
   "cell_type": "code",
   "execution_count": 455,
   "metadata": {},
   "outputs": [],
   "source": [
    "# SA_2016_LA_W7.insert(0, 'Location', 'Los Angeles')\n",
    "# SA_2016_LA_W7\n"
   ]
  },
  {
   "cell_type": "markdown",
   "metadata": {},
   "source": [
    "---"
   ]
  },
  {
   "cell_type": "code",
   "execution_count": 333,
   "metadata": {},
   "outputs": [
    {
     "data": {
      "text/html": [
       "<div>\n",
       "<style scoped>\n",
       "    .dataframe tbody tr th:only-of-type {\n",
       "        vertical-align: middle;\n",
       "    }\n",
       "\n",
       "    .dataframe tbody tr th {\n",
       "        vertical-align: top;\n",
       "    }\n",
       "\n",
       "    .dataframe thead th {\n",
       "        text-align: right;\n",
       "    }\n",
       "</style>\n",
       "<table border=\"1\" class=\"dataframe\">\n",
       "  <thead>\n",
       "    <tr style=\"text-align: right;\">\n",
       "      <th></th>\n",
       "      <th>Timestamp</th>\n",
       "      <th>What track are you in?</th>\n",
       "      <th>How would you rate your overall satisfaction with the Summer Academy this week?</th>\n",
       "      <th>How well is the schedule paced?</th>\n",
       "    </tr>\n",
       "  </thead>\n",
       "  <tbody>\n",
       "    <tr>\n",
       "      <th>12</th>\n",
       "      <td>8/5/2016 12:46:09</td>\n",
       "      <td>Games</td>\n",
       "      <td>5</td>\n",
       "      <td>4</td>\n",
       "    </tr>\n",
       "    <tr>\n",
       "      <th>13</th>\n",
       "      <td>8/5/2016 13:04:11</td>\n",
       "      <td>Apps</td>\n",
       "      <td>4</td>\n",
       "      <td>3</td>\n",
       "    </tr>\n",
       "    <tr>\n",
       "      <th>14</th>\n",
       "      <td>8/5/2016 13:13:02</td>\n",
       "      <td>Intro</td>\n",
       "      <td>4</td>\n",
       "      <td>3</td>\n",
       "    </tr>\n",
       "    <tr>\n",
       "      <th>15</th>\n",
       "      <td>8/5/2016 13:37:41</td>\n",
       "      <td>Apps</td>\n",
       "      <td>4</td>\n",
       "      <td>3</td>\n",
       "    </tr>\n",
       "    <tr>\n",
       "      <th>16</th>\n",
       "      <td>8/5/2016 13:39:55</td>\n",
       "      <td>Intro</td>\n",
       "      <td>5</td>\n",
       "      <td>4</td>\n",
       "    </tr>\n",
       "  </tbody>\n",
       "</table>\n",
       "</div>"
      ],
      "text/plain": [
       "            Timestamp What track are you in?  \\\n",
       "12  8/5/2016 12:46:09                  Games   \n",
       "13  8/5/2016 13:04:11                   Apps   \n",
       "14  8/5/2016 13:13:02                  Intro   \n",
       "15  8/5/2016 13:37:41                   Apps   \n",
       "16  8/5/2016 13:39:55                  Intro   \n",
       "\n",
       "    How would you rate your overall satisfaction with the Summer Academy this week?  \\\n",
       "12                                                  5                                 \n",
       "13                                                  4                                 \n",
       "14                                                  4                                 \n",
       "15                                                  4                                 \n",
       "16                                                  5                                 \n",
       "\n",
       "    How well is the schedule paced?  \n",
       "12                                4  \n",
       "13                                3  \n",
       "14                                3  \n",
       "15                                3  \n",
       "16                                4  "
      ]
     },
     "execution_count": 333,
     "metadata": {},
     "output_type": "execute_result"
    }
   ],
   "source": [
    "file36_NY_PATH = \"../Datasets/SAFeedbackSurveys_FINAL/2016/Anon Week 7 Feedback - NY.csv\"\n",
    "SA_2016_NY_W7 = pd.read_csv(file36_NY_PATH)\n",
    "# SA_2016_NY_W7.head()\n",
    "SA_2016_NY_W7.tail()"
   ]
  },
  {
   "cell_type": "markdown",
   "metadata": {},
   "source": [
    "#### Notes on Week7 NY:\n",
    "* There are 17 data points\n",
    "* Features 4: \"Timestamp, What track are you in?, How would you rate your overall satisfaction with the Summer Academy this week?, How well is the schedule paced?\""
   ]
  },
  {
   "cell_type": "markdown",
   "metadata": {},
   "source": [
    "#### Cleaning Process\n",
    "* Change the name of Timestamp to Week Number with the purpose of making it be clear what it is when mixing all weeks together"
   ]
  },
  {
   "cell_type": "code",
   "execution_count": 334,
   "metadata": {},
   "outputs": [],
   "source": [
    "SA_2016_NY_W7.rename(columns={'Timestamp': 'Week number'}, inplace=True)"
   ]
  },
  {
   "cell_type": "markdown",
   "metadata": {},
   "source": [
    "#### Formatting Setup\n",
    "* Make a variable with the number of data points\n",
    "* Make a variable with all the features\n",
    "* Make a variable with the number of features"
   ]
  },
  {
   "cell_type": "code",
   "execution_count": 335,
   "metadata": {},
   "outputs": [],
   "source": [
    "lenght_SA_2016_NY_W7 = len(SA_2016_NY_W7)\n",
    "SET_SA_2016_NY_W7 = set(SA_2016_NY_W7)\n",
    "column_lenght_SA_2016_NY_W7 = len(SA_2016_NY_W7.columns)"
   ]
  },
  {
   "cell_type": "markdown",
   "metadata": {},
   "source": [
    "#### Add new column with the location name"
   ]
  },
  {
   "cell_type": "code",
   "execution_count": 457,
   "metadata": {},
   "outputs": [],
   "source": [
    "# SA_2016_NY_W7.insert(0, 'Location', 'New York')\n",
    "# SA_2016_NY_W7\n"
   ]
  },
  {
   "cell_type": "markdown",
   "metadata": {},
   "source": [
    "---"
   ]
  },
  {
   "cell_type": "code",
   "execution_count": 337,
   "metadata": {},
   "outputs": [
    {
     "data": {
      "text/html": [
       "<div>\n",
       "<style scoped>\n",
       "    .dataframe tbody tr th:only-of-type {\n",
       "        vertical-align: middle;\n",
       "    }\n",
       "\n",
       "    .dataframe tbody tr th {\n",
       "        vertical-align: top;\n",
       "    }\n",
       "\n",
       "    .dataframe thead th {\n",
       "        text-align: right;\n",
       "    }\n",
       "</style>\n",
       "<table border=\"1\" class=\"dataframe\">\n",
       "  <thead>\n",
       "    <tr style=\"text-align: right;\">\n",
       "      <th></th>\n",
       "      <th>What track are you in?</th>\n",
       "      <th>Timestamp</th>\n",
       "      <th>How would you rate your overall satisfaction with the Summer Academy this week?</th>\n",
       "      <th>How well is the schedule paced?</th>\n",
       "    </tr>\n",
       "  </thead>\n",
       "  <tbody>\n",
       "    <tr>\n",
       "      <th>14</th>\n",
       "      <td>Intro</td>\n",
       "      <td>8/7/2016 10:45:47</td>\n",
       "      <td>4</td>\n",
       "      <td>5</td>\n",
       "    </tr>\n",
       "    <tr>\n",
       "      <th>15</th>\n",
       "      <td>VR</td>\n",
       "      <td>8/5/2016 11:21:38</td>\n",
       "      <td>5</td>\n",
       "      <td>3</td>\n",
       "    </tr>\n",
       "    <tr>\n",
       "      <th>16</th>\n",
       "      <td>VR</td>\n",
       "      <td>8/8/2016 8:35:18</td>\n",
       "      <td>1</td>\n",
       "      <td>3</td>\n",
       "    </tr>\n",
       "    <tr>\n",
       "      <th>17</th>\n",
       "      <td>VR</td>\n",
       "      <td>8/8/2016 8:39:01</td>\n",
       "      <td>3</td>\n",
       "      <td>5</td>\n",
       "    </tr>\n",
       "    <tr>\n",
       "      <th>18</th>\n",
       "      <td>VR</td>\n",
       "      <td>8/8/2016 9:41:39</td>\n",
       "      <td>2</td>\n",
       "      <td>2</td>\n",
       "    </tr>\n",
       "  </tbody>\n",
       "</table>\n",
       "</div>"
      ],
      "text/plain": [
       "   What track are you in?          Timestamp  \\\n",
       "14                  Intro  8/7/2016 10:45:47   \n",
       "15                     VR  8/5/2016 11:21:38   \n",
       "16                     VR   8/8/2016 8:35:18   \n",
       "17                     VR   8/8/2016 8:39:01   \n",
       "18                     VR   8/8/2016 9:41:39   \n",
       "\n",
       "    How would you rate your overall satisfaction with the Summer Academy this week?  \\\n",
       "14                                                  4                                 \n",
       "15                                                  5                                 \n",
       "16                                                  1                                 \n",
       "17                                                  3                                 \n",
       "18                                                  2                                 \n",
       "\n",
       "    How well is the schedule paced?  \n",
       "14                                5  \n",
       "15                                3  \n",
       "16                                3  \n",
       "17                                5  \n",
       "18                                2  "
      ]
     },
     "execution_count": 337,
     "metadata": {},
     "output_type": "execute_result"
    }
   ],
   "source": [
    "file37_SF_PATH = \"../Datasets/SAFeedbackSurveys_FINAL/2016/Anon Week 7 Feedback - SF.csv\"\n",
    "SA_2016_SF_W7 = pd.read_csv(file37_SF_PATH)\n",
    "# SA_2016_SF_W7.head()\n",
    "SA_2016_SF_W7.tail()"
   ]
  },
  {
   "cell_type": "markdown",
   "metadata": {},
   "source": [
    "#### Notes on Week7 SF:\n",
    "* There are 19 data points\n",
    "* Features 4: \"What track are you in?, Timestamp, How would you rate your overall satisfaction with the Summer Academy this week?, How well is the schedule paced?\""
   ]
  },
  {
   "cell_type": "markdown",
   "metadata": {},
   "source": [
    "#### Cleaning Process\n",
    "* Change the name of Timestamp to Week Number with the purpose of making it be clear what it is when mixing all weeks together"
   ]
  },
  {
   "cell_type": "code",
   "execution_count": 338,
   "metadata": {},
   "outputs": [],
   "source": [
    "SA_2016_SF_W7.rename(columns={'Timestamp': 'Week number'}, inplace=True)"
   ]
  },
  {
   "cell_type": "markdown",
   "metadata": {},
   "source": [
    "#### Formatting Setup\n",
    "* Make a variable with the number of data points\n",
    "* Make a variable with all the features\n",
    "* Make a variable with the number of features"
   ]
  },
  {
   "cell_type": "code",
   "execution_count": 339,
   "metadata": {},
   "outputs": [],
   "source": [
    "lenght_SA_2016_SF_W7 = len(SA_2016_SF_W7)\n",
    "SET_SA_2016_SF_W7 = set(SA_2016_SF_W7)\n",
    "column_lenght_SA_2016_SF_W7 = len(SA_2016_SF_W7.columns)"
   ]
  },
  {
   "cell_type": "markdown",
   "metadata": {},
   "source": [
    "#### Add new column with the location name"
   ]
  },
  {
   "cell_type": "code",
   "execution_count": 459,
   "metadata": {},
   "outputs": [],
   "source": [
    "# SA_2016_SF_W7.insert(0, 'Location', 'San Francisco')\n",
    "# SA_2016_SF_W7\n"
   ]
  },
  {
   "cell_type": "markdown",
   "metadata": {},
   "source": [
    "---"
   ]
  },
  {
   "cell_type": "code",
   "execution_count": 341,
   "metadata": {},
   "outputs": [
    {
     "data": {
      "text/html": [
       "<div>\n",
       "<style scoped>\n",
       "    .dataframe tbody tr th:only-of-type {\n",
       "        vertical-align: middle;\n",
       "    }\n",
       "\n",
       "    .dataframe tbody tr th {\n",
       "        vertical-align: top;\n",
       "    }\n",
       "\n",
       "    .dataframe thead th {\n",
       "        text-align: right;\n",
       "    }\n",
       "</style>\n",
       "<table border=\"1\" class=\"dataframe\">\n",
       "  <thead>\n",
       "    <tr style=\"text-align: right;\">\n",
       "      <th></th>\n",
       "      <th>Timestamp</th>\n",
       "      <th>What track are you in?</th>\n",
       "      <th>How would you rate your overall satisfaction with the Summer Academy this week?</th>\n",
       "      <th>How well is the schedule paced?</th>\n",
       "    </tr>\n",
       "  </thead>\n",
       "  <tbody>\n",
       "    <tr>\n",
       "      <th>42</th>\n",
       "      <td>8/5/2016 13:44:24</td>\n",
       "      <td>Intro</td>\n",
       "      <td>4</td>\n",
       "      <td>4</td>\n",
       "    </tr>\n",
       "    <tr>\n",
       "      <th>43</th>\n",
       "      <td>8/5/2016 13:43:17</td>\n",
       "      <td>Intro</td>\n",
       "      <td>4</td>\n",
       "      <td>3</td>\n",
       "    </tr>\n",
       "    <tr>\n",
       "      <th>44</th>\n",
       "      <td>8/5/2016 13:51:18</td>\n",
       "      <td>Intro</td>\n",
       "      <td>5</td>\n",
       "      <td>3</td>\n",
       "    </tr>\n",
       "    <tr>\n",
       "      <th>45</th>\n",
       "      <td>8/5/2016 13:43:35</td>\n",
       "      <td>Intro</td>\n",
       "      <td>4</td>\n",
       "      <td>2</td>\n",
       "    </tr>\n",
       "    <tr>\n",
       "      <th>46</th>\n",
       "      <td>8/7/2016 17:45:06</td>\n",
       "      <td>Apps</td>\n",
       "      <td>3</td>\n",
       "      <td>3</td>\n",
       "    </tr>\n",
       "  </tbody>\n",
       "</table>\n",
       "</div>"
      ],
      "text/plain": [
       "            Timestamp What track are you in?  \\\n",
       "42  8/5/2016 13:44:24                  Intro   \n",
       "43  8/5/2016 13:43:17                  Intro   \n",
       "44  8/5/2016 13:51:18                  Intro   \n",
       "45  8/5/2016 13:43:35                  Intro   \n",
       "46  8/7/2016 17:45:06                   Apps   \n",
       "\n",
       "    How would you rate your overall satisfaction with the Summer Academy this week?  \\\n",
       "42                                                  4                                 \n",
       "43                                                  4                                 \n",
       "44                                                  5                                 \n",
       "45                                                  4                                 \n",
       "46                                                  3                                 \n",
       "\n",
       "    How well is the schedule paced?  \n",
       "42                                4  \n",
       "43                                3  \n",
       "44                                3  \n",
       "45                                2  \n",
       "46                                3  "
      ]
     },
     "execution_count": 341,
     "metadata": {},
     "output_type": "execute_result"
    }
   ],
   "source": [
    "file38_SV_PATH = \"../Datasets/SAFeedbackSurveys_FINAL/2016/Anon Week 7 Feedback - SV.csv\"\n",
    "SA_2016_SV_W7 = pd.read_csv(file38_SV_PATH)\n",
    "# SA_2016_SV_W7.head()\n",
    "SA_2016_SV_W7.tail()"
   ]
  },
  {
   "cell_type": "markdown",
   "metadata": {},
   "source": [
    "#### Notes on Week7 SV:\n",
    "* There are 47 data points\n",
    "* Features 4: \"Timestamp, What track are you in?, How would you rate your overall satisfaction with the Summer Academy this week?, How well is the schedule paced?\""
   ]
  },
  {
   "cell_type": "markdown",
   "metadata": {},
   "source": [
    "#### Cleaning Process\n",
    "* Change the name of Timestamp to Week Number with the purpose of making it be clear what it is when mixing all weeks together"
   ]
  },
  {
   "cell_type": "code",
   "execution_count": 342,
   "metadata": {},
   "outputs": [],
   "source": [
    "SA_2016_SV_W7.rename(columns={'Timestamp': 'Week number'}, inplace=True)"
   ]
  },
  {
   "cell_type": "markdown",
   "metadata": {},
   "source": [
    "#### Formatting Setup\n",
    "* Make a variable with the number of data points\n",
    "* Make a variable with all the features\n",
    "* Make a variable with the number of features"
   ]
  },
  {
   "cell_type": "code",
   "execution_count": 343,
   "metadata": {},
   "outputs": [],
   "source": [
    "lenght_SA_2016_SV_W7 = len(SA_2016_SV_W7)\n",
    "SET_SA_2016_SV_W7 = set(SA_2016_SV_W7)\n",
    "column_lenght_SA_2016_SV_W7 = len(SA_2016_SV_W7.columns)"
   ]
  },
  {
   "cell_type": "markdown",
   "metadata": {},
   "source": [
    "#### Add new column with the location name"
   ]
  },
  {
   "cell_type": "code",
   "execution_count": 461,
   "metadata": {},
   "outputs": [],
   "source": [
    "# SA_2016_SV_W7.insert(0, 'Location', 'Sunnyvale')\n",
    "# SA_2016_SV_W7\n"
   ]
  },
  {
   "cell_type": "markdown",
   "metadata": {},
   "source": [
    "---"
   ]
  },
  {
   "cell_type": "code",
   "execution_count": 345,
   "metadata": {},
   "outputs": [
    {
     "data": {
      "text/html": [
       "<div>\n",
       "<style scoped>\n",
       "    .dataframe tbody tr th:only-of-type {\n",
       "        vertical-align: middle;\n",
       "    }\n",
       "\n",
       "    .dataframe tbody tr th {\n",
       "        vertical-align: top;\n",
       "    }\n",
       "\n",
       "    .dataframe thead th {\n",
       "        text-align: right;\n",
       "    }\n",
       "</style>\n",
       "<table border=\"1\" class=\"dataframe\">\n",
       "  <thead>\n",
       "    <tr style=\"text-align: right;\">\n",
       "      <th></th>\n",
       "      <th>Timestamp</th>\n",
       "      <th>How would you rate your overall satisfaction with the Summer Academy this week?</th>\n",
       "      <th>How well is the schedule paced?</th>\n",
       "    </tr>\n",
       "  </thead>\n",
       "  <tbody>\n",
       "    <tr>\n",
       "      <th>6</th>\n",
       "      <td>8/5/2016 1:49:21</td>\n",
       "      <td>4</td>\n",
       "      <td>3</td>\n",
       "    </tr>\n",
       "    <tr>\n",
       "      <th>7</th>\n",
       "      <td>8/8/2016 1:30:34</td>\n",
       "      <td>5</td>\n",
       "      <td>3</td>\n",
       "    </tr>\n",
       "    <tr>\n",
       "      <th>8</th>\n",
       "      <td>8/8/2016 1:33:45</td>\n",
       "      <td>5</td>\n",
       "      <td>3</td>\n",
       "    </tr>\n",
       "    <tr>\n",
       "      <th>9</th>\n",
       "      <td>8/8/2016 1:49:29</td>\n",
       "      <td>5</td>\n",
       "      <td>3</td>\n",
       "    </tr>\n",
       "    <tr>\n",
       "      <th>10</th>\n",
       "      <td>8/8/2016 1:51:00</td>\n",
       "      <td>3</td>\n",
       "      <td>3</td>\n",
       "    </tr>\n",
       "  </tbody>\n",
       "</table>\n",
       "</div>"
      ],
      "text/plain": [
       "           Timestamp  \\\n",
       "6   8/5/2016 1:49:21   \n",
       "7   8/8/2016 1:30:34   \n",
       "8   8/8/2016 1:33:45   \n",
       "9   8/8/2016 1:49:29   \n",
       "10  8/8/2016 1:51:00   \n",
       "\n",
       "    How would you rate your overall satisfaction with the Summer Academy this week?  \\\n",
       "6                                                   4                                 \n",
       "7                                                   5                                 \n",
       "8                                                   5                                 \n",
       "9                                                   5                                 \n",
       "10                                                  3                                 \n",
       "\n",
       "    How well is the schedule paced?  \n",
       "6                                 3  \n",
       "7                                 3  \n",
       "8                                 3  \n",
       "9                                 3  \n",
       "10                                3  "
      ]
     },
     "execution_count": 345,
     "metadata": {},
     "output_type": "execute_result"
    }
   ],
   "source": [
    "file39_Taipei_PATH = \"../Datasets/SAFeedbackSurveys_FINAL/2016/Anon Week 7 Feedback - Taipei.csv\"\n",
    "SA_2016_Taipei_W7 = pd.read_csv(file39_Taipei_PATH)\n",
    "# SA_2016_Taipei_W7.head()\n",
    "SA_2016_Taipei_W7.tail()"
   ]
  },
  {
   "cell_type": "markdown",
   "metadata": {},
   "source": [
    "#### Notes on Week7 Taipei:\n",
    "* There are 11 data points\n",
    "* Features 3: \"Timestamp, How would you rate your overall satisfaction with the Summer Academy this week?, How well is the schedule paced?\""
   ]
  },
  {
   "cell_type": "markdown",
   "metadata": {},
   "source": [
    "#### Cleaning Process\n",
    "* Change the name of Timestamp to Week Number with the purpose of making it be clear what it is when mixing all weeks together"
   ]
  },
  {
   "cell_type": "code",
   "execution_count": 346,
   "metadata": {},
   "outputs": [],
   "source": [
    "SA_2016_Taipei_W7.rename(columns={'Timestamp': 'Week number'}, inplace=True)"
   ]
  },
  {
   "cell_type": "markdown",
   "metadata": {},
   "source": [
    "#### Formatting Setup\n",
    "* Make a variable with the number of data points\n",
    "* Make a variable with all the features\n",
    "* Make a variable with the number of features"
   ]
  },
  {
   "cell_type": "code",
   "execution_count": 347,
   "metadata": {},
   "outputs": [],
   "source": [
    "lenght_SA_2016_Taipei_W7 = len(SA_2016_Taipei_W7)\n",
    "SET_SA_2016_Taipei_W7 = set(SA_2016_Taipei_W7)\n",
    "column_lenght_SA_2016_Taipei_W7 = len(SA_2016_Taipei_W7.columns)"
   ]
  },
  {
   "cell_type": "markdown",
   "metadata": {},
   "source": [
    "#### Add new column with the location name"
   ]
  },
  {
   "cell_type": "code",
   "execution_count": 463,
   "metadata": {},
   "outputs": [],
   "source": [
    "# SA_2016_Taipei_W7.insert(0, 'Location', 'Taipei')\n",
    "# SA_2016_Taipei_W7\n"
   ]
  },
  {
   "cell_type": "markdown",
   "metadata": {},
   "source": [
    "---"
   ]
  },
  {
   "cell_type": "markdown",
   "metadata": {},
   "source": [
    "### Formating into a complete week 7 file\n",
    "#### What to consider for this process\n",
    "* Do all Datasets have 4 features?\n",
    "* For NPS score do I need all datasets to have all features"
   ]
  },
  {
   "cell_type": "code",
   "execution_count": 506,
   "metadata": {},
   "outputs": [
    {
     "data": {
      "text/html": [
       "<div>\n",
       "<style scoped>\n",
       "    .dataframe tbody tr th:only-of-type {\n",
       "        vertical-align: middle;\n",
       "    }\n",
       "\n",
       "    .dataframe tbody tr th {\n",
       "        vertical-align: top;\n",
       "    }\n",
       "\n",
       "    .dataframe thead th {\n",
       "        text-align: right;\n",
       "    }\n",
       "</style>\n",
       "<table border=\"1\" class=\"dataframe\">\n",
       "  <thead>\n",
       "    <tr style=\"text-align: right;\">\n",
       "      <th></th>\n",
       "      <th>Location</th>\n",
       "      <th>Features</th>\n",
       "      <th>Number of Datapoints</th>\n",
       "      <th>Number of Features</th>\n",
       "    </tr>\n",
       "  </thead>\n",
       "  <tbody>\n",
       "    <tr>\n",
       "      <th>0</th>\n",
       "      <td>Los Angeles</td>\n",
       "      <td>{Week number, How well is the schedule paced?,...</td>\n",
       "      <td>9</td>\n",
       "      <td>4</td>\n",
       "    </tr>\n",
       "    <tr>\n",
       "      <th>1</th>\n",
       "      <td>New York</td>\n",
       "      <td>{Week number, How well is the schedule paced?,...</td>\n",
       "      <td>17</td>\n",
       "      <td>4</td>\n",
       "    </tr>\n",
       "    <tr>\n",
       "      <th>2</th>\n",
       "      <td>San Francisco</td>\n",
       "      <td>{What track are you in?, Week number, How well...</td>\n",
       "      <td>19</td>\n",
       "      <td>4</td>\n",
       "    </tr>\n",
       "    <tr>\n",
       "      <th>3</th>\n",
       "      <td>Sunnyvale</td>\n",
       "      <td>{Week number, How well is the schedule paced?,...</td>\n",
       "      <td>47</td>\n",
       "      <td>4</td>\n",
       "    </tr>\n",
       "    <tr>\n",
       "      <th>4</th>\n",
       "      <td>Taipei</td>\n",
       "      <td>{Week number, How well is the schedule paced?,...</td>\n",
       "      <td>11</td>\n",
       "      <td>3</td>\n",
       "    </tr>\n",
       "  </tbody>\n",
       "</table>\n",
       "</div>"
      ],
      "text/plain": [
       "        Location                                           Features  \\\n",
       "0    Los Angeles  {Week number, How well is the schedule paced?,...   \n",
       "1       New York  {Week number, How well is the schedule paced?,...   \n",
       "2  San Francisco  {What track are you in?, Week number, How well...   \n",
       "3      Sunnyvale  {Week number, How well is the schedule paced?,...   \n",
       "4         Taipei  {Week number, How well is the schedule paced?,...   \n",
       "\n",
       "   Number of Datapoints  Number of Features  \n",
       "0                     9                   4  \n",
       "1                    17                   4  \n",
       "2                    19                   4  \n",
       "3                    47                   4  \n",
       "4                    11                   3  "
      ]
     },
     "execution_count": 506,
     "metadata": {},
     "output_type": "execute_result"
    }
   ],
   "source": [
    "\n",
    "SA_2016_W7_data = {'Location': ['Los Angeles', 'New York', 'San Francisco', 'Sunnyvale', 'Taipei'], \n",
    "                   'Features': [SET_SA_2016_LA_W7, SET_SA_2016_NY_W7, SET_SA_2016_SF_W7, SET_SA_2016_SV_W7, SET_SA_2016_Taipei_W7], \n",
    "                   'Number of Datapoints': [lenght_SA_2016_LA_W7, lenght_SA_2016_NY_W7, lenght_SA_2016_SF_W7, lenght_SA_2016_SV_W7, lenght_SA_2016_Taipei_W7],\n",
    "                   'Number of Features': [column_lenght_SA_2016_LA_W7, column_lenght_SA_2016_NY_W7, column_lenght_SA_2016_SF_W7, column_lenght_SA_2016_SV_W7, column_lenght_SA_2016_Taipei_W7]\n",
    "                  }\n",
    "SA_2016_W7 = pd.DataFrame(data=SA_2016_W7_data)\n",
    "SA_2016_W7\n",
    "\n"
   ]
  },
  {
   "cell_type": "markdown",
   "metadata": {},
   "source": [
    "#### Complete comparion of dataset\n",
    "_Objective:_\n",
    "* Be able to see easily which dataset have more features \n",
    "* Decide if it's a good idea to have a special weekly dataset with the more complete ones and a normal one where the not always present features is not added"
   ]
  },
  {
   "cell_type": "markdown",
   "metadata": {},
   "source": [
    "### Complete week 7\n",
    "#### Process to achieve this\n",
    "* Concatenate all without including track, will exclude Taipei because it begins at week 5 compared to NY, LA, SV and SF, but relative to itself for it this would be week 2.\n",
    "* Concatenate only the ones with track\n",
    "\n",
    "__Note:__\n",
    "    - Given that all datasets don't have track included will have two weekly datasets"
   ]
  },
  {
   "cell_type": "code",
   "execution_count": 509,
   "metadata": {},
   "outputs": [
    {
     "data": {
      "text/html": [
       "<div>\n",
       "<style scoped>\n",
       "    .dataframe tbody tr th:only-of-type {\n",
       "        vertical-align: middle;\n",
       "    }\n",
       "\n",
       "    .dataframe tbody tr th {\n",
       "        vertical-align: top;\n",
       "    }\n",
       "\n",
       "    .dataframe thead th {\n",
       "        text-align: right;\n",
       "    }\n",
       "</style>\n",
       "<table border=\"1\" class=\"dataframe\">\n",
       "  <thead>\n",
       "    <tr style=\"text-align: right;\">\n",
       "      <th></th>\n",
       "      <th>How well is the schedule paced?</th>\n",
       "      <th>How would you rate your overall satisfaction with the Summer Academy this week?</th>\n",
       "      <th>Location</th>\n",
       "      <th>Week number</th>\n",
       "    </tr>\n",
       "  </thead>\n",
       "  <tbody>\n",
       "    <tr>\n",
       "      <th>0</th>\n",
       "      <td>2</td>\n",
       "      <td>3</td>\n",
       "      <td>Los Angeles</td>\n",
       "      <td>8/5/2016 11:22:50</td>\n",
       "    </tr>\n",
       "    <tr>\n",
       "      <th>1</th>\n",
       "      <td>3</td>\n",
       "      <td>5</td>\n",
       "      <td>Los Angeles</td>\n",
       "      <td>8/5/2016 11:23:13</td>\n",
       "    </tr>\n",
       "    <tr>\n",
       "      <th>2</th>\n",
       "      <td>2</td>\n",
       "      <td>4</td>\n",
       "      <td>Los Angeles</td>\n",
       "      <td>8/5/2016 11:24:20</td>\n",
       "    </tr>\n",
       "    <tr>\n",
       "      <th>3</th>\n",
       "      <td>3</td>\n",
       "      <td>4</td>\n",
       "      <td>Los Angeles</td>\n",
       "      <td>8/5/2016 11:29:26</td>\n",
       "    </tr>\n",
       "    <tr>\n",
       "      <th>4</th>\n",
       "      <td>3</td>\n",
       "      <td>4</td>\n",
       "      <td>Los Angeles</td>\n",
       "      <td>8/5/2016 11:31:08</td>\n",
       "    </tr>\n",
       "  </tbody>\n",
       "</table>\n",
       "</div>"
      ],
      "text/plain": [
       "   How well is the schedule paced?  \\\n",
       "0                                2   \n",
       "1                                3   \n",
       "2                                2   \n",
       "3                                3   \n",
       "4                                3   \n",
       "\n",
       "   How would you rate your overall satisfaction with the Summer Academy this week?  \\\n",
       "0                                                  3                                 \n",
       "1                                                  5                                 \n",
       "2                                                  4                                 \n",
       "3                                                  4                                 \n",
       "4                                                  4                                 \n",
       "\n",
       "      Location        Week number  \n",
       "0  Los Angeles  8/5/2016 11:22:50  \n",
       "1  Los Angeles  8/5/2016 11:23:13  \n",
       "2  Los Angeles  8/5/2016 11:24:20  \n",
       "3  Los Angeles  8/5/2016 11:29:26  \n",
       "4  Los Angeles  8/5/2016 11:31:08  "
      ]
     },
     "execution_count": 509,
     "metadata": {},
     "output_type": "execute_result"
    }
   ],
   "source": [
    "# Here will only be the ones who have their track\n",
    "week7_frames = [SA_2016_LA_W7, SA_2016_NY_W7, SA_2016_SF_W7, SA_2016_SV_W7]\n",
    "SA_2016_W7_ALL = pd.concat(week7_frames, sort=True)\n",
    "SA_2016_W7_ALL = SA_2016_W7_ALL.drop('What track are you in?', 1)\n",
    "SA_2016_W7_ALL.head()\n"
   ]
  },
  {
   "cell_type": "code",
   "execution_count": 510,
   "metadata": {},
   "outputs": [
    {
     "data": {
      "text/html": [
       "<div>\n",
       "<style scoped>\n",
       "    .dataframe tbody tr th:only-of-type {\n",
       "        vertical-align: middle;\n",
       "    }\n",
       "\n",
       "    .dataframe tbody tr th {\n",
       "        vertical-align: top;\n",
       "    }\n",
       "\n",
       "    .dataframe thead th {\n",
       "        text-align: right;\n",
       "    }\n",
       "</style>\n",
       "<table border=\"1\" class=\"dataframe\">\n",
       "  <thead>\n",
       "    <tr style=\"text-align: right;\">\n",
       "      <th></th>\n",
       "      <th>How well is the schedule paced?</th>\n",
       "      <th>How would you rate your overall satisfaction with the Summer Academy this week?</th>\n",
       "      <th>Location</th>\n",
       "      <th>Week number</th>\n",
       "      <th>What track are you in?</th>\n",
       "    </tr>\n",
       "  </thead>\n",
       "  <tbody>\n",
       "    <tr>\n",
       "      <th>14</th>\n",
       "      <td>5</td>\n",
       "      <td>4</td>\n",
       "      <td>San Francisco</td>\n",
       "      <td>8/7/2016 10:45:47</td>\n",
       "      <td>Intro</td>\n",
       "    </tr>\n",
       "    <tr>\n",
       "      <th>15</th>\n",
       "      <td>3</td>\n",
       "      <td>5</td>\n",
       "      <td>San Francisco</td>\n",
       "      <td>8/5/2016 11:21:38</td>\n",
       "      <td>VR</td>\n",
       "    </tr>\n",
       "    <tr>\n",
       "      <th>16</th>\n",
       "      <td>3</td>\n",
       "      <td>1</td>\n",
       "      <td>San Francisco</td>\n",
       "      <td>8/8/2016 8:35:18</td>\n",
       "      <td>VR</td>\n",
       "    </tr>\n",
       "    <tr>\n",
       "      <th>17</th>\n",
       "      <td>5</td>\n",
       "      <td>3</td>\n",
       "      <td>San Francisco</td>\n",
       "      <td>8/8/2016 8:39:01</td>\n",
       "      <td>VR</td>\n",
       "    </tr>\n",
       "    <tr>\n",
       "      <th>18</th>\n",
       "      <td>2</td>\n",
       "      <td>2</td>\n",
       "      <td>San Francisco</td>\n",
       "      <td>8/8/2016 9:41:39</td>\n",
       "      <td>VR</td>\n",
       "    </tr>\n",
       "  </tbody>\n",
       "</table>\n",
       "</div>"
      ],
      "text/plain": [
       "    How well is the schedule paced?  \\\n",
       "14                                5   \n",
       "15                                3   \n",
       "16                                3   \n",
       "17                                5   \n",
       "18                                2   \n",
       "\n",
       "    How would you rate your overall satisfaction with the Summer Academy this week?  \\\n",
       "14                                                  4                                 \n",
       "15                                                  5                                 \n",
       "16                                                  1                                 \n",
       "17                                                  3                                 \n",
       "18                                                  2                                 \n",
       "\n",
       "         Location        Week number What track are you in?  \n",
       "14  San Francisco  8/7/2016 10:45:47                  Intro  \n",
       "15  San Francisco  8/5/2016 11:21:38                     VR  \n",
       "16  San Francisco   8/8/2016 8:35:18                     VR  \n",
       "17  San Francisco   8/8/2016 8:39:01                     VR  \n",
       "18  San Francisco   8/8/2016 9:41:39                     VR  "
      ]
     },
     "execution_count": 510,
     "metadata": {},
     "output_type": "execute_result"
    }
   ],
   "source": [
    "# Here will only be the ones who have the feature track\n",
    "week7_frames_only_track = [SA_2016_NY_W7, SA_2016_LA_W7, SA_2016_SV_W7, SA_2016_SF_W7]\n",
    "SA_2016_W7_with_track = pd.concat(week7_frames_only_track, sort=True)\n",
    "SA_2016_W7_with_track.tail()"
   ]
  },
  {
   "cell_type": "markdown",
   "metadata": {},
   "source": [
    "## Week8"
   ]
  },
  {
   "cell_type": "code",
   "execution_count": null,
   "metadata": {},
   "outputs": [],
   "source": [
    "## Step2"
   ]
  },
  {
   "cell_type": "markdown",
   "metadata": {},
   "source": [
    "_For the sake of coherence and keeping a consistent logic across every set of files __TotalFile will be shortened to TF__ ds_"
   ]
  },
  {
   "cell_type": "code",
   "execution_count": 35,
   "metadata": {},
   "outputs": [
    {
     "data": {
      "text/html": [
       "<div>\n",
       "<style scoped>\n",
       "    .dataframe tbody tr th:only-of-type {\n",
       "        vertical-align: middle;\n",
       "    }\n",
       "\n",
       "    .dataframe tbody tr th {\n",
       "        vertical-align: top;\n",
       "    }\n",
       "\n",
       "    .dataframe thead th {\n",
       "        text-align: right;\n",
       "    }\n",
       "</style>\n",
       "<table border=\"1\" class=\"dataframe\">\n",
       "  <thead>\n",
       "    <tr style=\"text-align: right;\">\n",
       "      <th></th>\n",
       "      <th>#</th>\n",
       "      <th>How likely is it that you would recommend the Make School Summer Academy to a friend?</th>\n",
       "      <th>location</th>\n",
       "      <th>track</th>\n",
       "      <th>Start Date (UTC)</th>\n",
       "      <th>Submit Date (UTC)</th>\n",
       "      <th>Network ID</th>\n",
       "    </tr>\n",
       "  </thead>\n",
       "  <tbody>\n",
       "    <tr>\n",
       "      <th>0</th>\n",
       "      <td>00b836bda84e6bdbe780af97e249e59f</td>\n",
       "      <td>10</td>\n",
       "      <td>New York</td>\n",
       "      <td>summerApps</td>\n",
       "      <td>9/7/16 1:03</td>\n",
       "      <td>9/7/16 1:04</td>\n",
       "      <td>3212b7a834</td>\n",
       "    </tr>\n",
       "    <tr>\n",
       "      <th>1</th>\n",
       "      <td>39dde6dc0e1e375845d756fc7e39fc5f</td>\n",
       "      <td>10</td>\n",
       "      <td>San Francisco</td>\n",
       "      <td>summerIntro</td>\n",
       "      <td>9/7/16 1:03</td>\n",
       "      <td>9/7/16 1:04</td>\n",
       "      <td>f4954355aa</td>\n",
       "    </tr>\n",
       "    <tr>\n",
       "      <th>2</th>\n",
       "      <td>5e56b9de91670b308cb98dd2848b8739</td>\n",
       "      <td>10</td>\n",
       "      <td>New York</td>\n",
       "      <td>summerIntro</td>\n",
       "      <td>9/7/16 1:03</td>\n",
       "      <td>9/7/16 1:05</td>\n",
       "      <td>3d69ca289b</td>\n",
       "    </tr>\n",
       "    <tr>\n",
       "      <th>3</th>\n",
       "      <td>641081d05785b47a0f17448625da0d49</td>\n",
       "      <td>9</td>\n",
       "      <td>Sunnyvale</td>\n",
       "      <td>summerApps (4-week)</td>\n",
       "      <td>9/7/16 1:04</td>\n",
       "      <td>9/7/16 1:06</td>\n",
       "      <td>261608f95d</td>\n",
       "    </tr>\n",
       "    <tr>\n",
       "      <th>4</th>\n",
       "      <td>c29bdd4f5678d78b450f4494e0f53c8c</td>\n",
       "      <td>3</td>\n",
       "      <td>San Francisco</td>\n",
       "      <td>summerIntro</td>\n",
       "      <td>9/7/16 1:04</td>\n",
       "      <td>9/7/16 1:11</td>\n",
       "      <td>d6672ddf6f</td>\n",
       "    </tr>\n",
       "  </tbody>\n",
       "</table>\n",
       "</div>"
      ],
      "text/plain": [
       "                                  #  \\\n",
       "0  00b836bda84e6bdbe780af97e249e59f   \n",
       "1  39dde6dc0e1e375845d756fc7e39fc5f   \n",
       "2  5e56b9de91670b308cb98dd2848b8739   \n",
       "3  641081d05785b47a0f17448625da0d49   \n",
       "4  c29bdd4f5678d78b450f4494e0f53c8c   \n",
       "\n",
       "   How likely is it that you would recommend the Make School Summer Academy to a friend?  \\\n",
       "0                                                 10                                       \n",
       "1                                                 10                                       \n",
       "2                                                 10                                       \n",
       "3                                                  9                                       \n",
       "4                                                  3                                       \n",
       "\n",
       "        location                track Start Date (UTC) Submit Date (UTC)  \\\n",
       "0       New York           summerApps      9/7/16 1:03       9/7/16 1:04   \n",
       "1  San Francisco          summerIntro      9/7/16 1:03       9/7/16 1:04   \n",
       "2       New York          summerIntro      9/7/16 1:03       9/7/16 1:05   \n",
       "3      Sunnyvale  summerApps (4-week)      9/7/16 1:04       9/7/16 1:06   \n",
       "4  San Francisco          summerIntro      9/7/16 1:04       9/7/16 1:11   \n",
       "\n",
       "   Network ID  \n",
       "0  3212b7a834  \n",
       "1  f4954355aa  \n",
       "2  3d69ca289b  \n",
       "3  261608f95d  \n",
       "4  d6672ddf6f  "
      ]
     },
     "execution_count": 35,
     "metadata": {},
     "output_type": "execute_result"
    }
   ],
   "source": [
    "file40_TFW8_NY_PATH = \"../Datasets/SAFeedbackSurveys_FINAL/2016/Week 8 Feedback (2016, incomplete) - results.csv\"\n",
    "SA_2016_W8 = pd.read_csv(file40_TFW8_NY_PATH)\n",
    "SA_2016_W8.head()"
   ]
  },
  {
   "cell_type": "code",
   "execution_count": 349,
   "metadata": {
    "scrolled": false
   },
   "outputs": [
    {
     "data": {
      "text/plain": [
       "{'Los Angeles', 'New York', 'San Francisco', 'Singapore', 'Sunnyvale'}"
      ]
     },
     "execution_count": 349,
     "metadata": {},
     "output_type": "execute_result"
    }
   ],
   "source": [
    "# SA_2016_W8.head()\n",
    "# SA_2016_W8.tail()\n",
    "# SA_2016_W8.tail()\n",
    "set(SA_2016_W8.location)"
   ]
  },
  {
   "cell_type": "markdown",
   "metadata": {},
   "source": [
    "#### Notes on week 8 LA, NY, SF, SG, SV\n",
    "* "
   ]
  },
  {
   "cell_type": "code",
   "execution_count": null,
   "metadata": {},
   "outputs": [],
   "source": [
    "# Currently my objective is to get a clean dataset from all this information\n",
    "\n",
    "# Process questions\n",
    "    # \n",
    "    # Get rid of number"
   ]
  },
  {
   "cell_type": "markdown",
   "metadata": {},
   "source": [
    "#### Cleaning Process\n",
    "* Get the columns not needed out\n",
    "* Check for null values, delete the row and ponder what is the effect of this in the information."
   ]
  },
  {
   "cell_type": "markdown",
   "metadata": {},
   "source": [
    "## Objective\n",
    "* Clean MS NPS\n",
    "* Investigate the data\n",
    "* Find actionable trends that help inform decision-makers"
   ]
  },
  {
   "cell_type": "markdown",
   "metadata": {},
   "source": [
    "### Deletion of columns\n",
    "* -# -> WHY -> This column is meant for a code number that is useful under circunstances other than my current ones, what they mean is not necessary to track because the objective of this study gets anything from this column.\n",
    "* StartDate -> WHY -> Given my circunstances this column does not show any value for the objectives of this data project.\n",
    "* SubmitData -> WHY -> This does not show any added value for the purpose of fulfilling the objective of this project.\n",
    "* NetworkID -> WHY -> Given that I'm trying to find trends related to the NPS score this is not useful to have because it is not a variable needed."
   ]
  },
  {
   "cell_type": "code",
   "execution_count": 59,
   "metadata": {},
   "outputs": [],
   "source": [
    "# In the drop function the second parameter can be 1 or 0, 1 means column and 0 means row.\n",
    "# SA_2016_W8_minus_ = SA_2016_W8.drop('#', 1)\n",
    "# SA_2016_W8_minus_StartDate = SA_2016_W8.drop('Start Date (UTC)', 1)\n",
    "# SA_2016_W8_minus_SubmitDate = SA_2016_W8.drop('Submit Date (UTC)', 1)\n",
    "# SA_2016_W8_minus_NetworkID = SA_2016_W8.drop('Network ID', 1)\n",
    "# Remarks on this approach for next time, do it sequentially making a variable for each new change"
   ]
  },
  {
   "cell_type": "code",
   "execution_count": 62,
   "metadata": {},
   "outputs": [
    {
     "data": {
      "text/html": [
       "<div>\n",
       "<style scoped>\n",
       "    .dataframe tbody tr th:only-of-type {\n",
       "        vertical-align: middle;\n",
       "    }\n",
       "\n",
       "    .dataframe tbody tr th {\n",
       "        vertical-align: top;\n",
       "    }\n",
       "\n",
       "    .dataframe thead th {\n",
       "        text-align: right;\n",
       "    }\n",
       "</style>\n",
       "<table border=\"1\" class=\"dataframe\">\n",
       "  <thead>\n",
       "    <tr style=\"text-align: right;\">\n",
       "      <th></th>\n",
       "      <th>How likely is it that you would recommend the Make School Summer Academy to a friend?</th>\n",
       "      <th>location</th>\n",
       "      <th>track</th>\n",
       "    </tr>\n",
       "  </thead>\n",
       "  <tbody>\n",
       "    <tr>\n",
       "      <th>60</th>\n",
       "      <td>9</td>\n",
       "      <td>San Francisco</td>\n",
       "      <td>summerApps</td>\n",
       "    </tr>\n",
       "    <tr>\n",
       "      <th>61</th>\n",
       "      <td>5</td>\n",
       "      <td>San Francisco</td>\n",
       "      <td>summerVR</td>\n",
       "    </tr>\n",
       "    <tr>\n",
       "      <th>62</th>\n",
       "      <td>10</td>\n",
       "      <td>San Francisco</td>\n",
       "      <td>summerGames (4-week)</td>\n",
       "    </tr>\n",
       "    <tr>\n",
       "      <th>63</th>\n",
       "      <td>9</td>\n",
       "      <td>San Francisco</td>\n",
       "      <td>summerIntro</td>\n",
       "    </tr>\n",
       "    <tr>\n",
       "      <th>64</th>\n",
       "      <td>9</td>\n",
       "      <td>Sunnyvale</td>\n",
       "      <td>summerGames</td>\n",
       "    </tr>\n",
       "  </tbody>\n",
       "</table>\n",
       "</div>"
      ],
      "text/plain": [
       "    How likely is it that you would recommend the Make School Summer Academy to a friend?  \\\n",
       "60                                                  9                                       \n",
       "61                                                  5                                       \n",
       "62                                                 10                                       \n",
       "63                                                  9                                       \n",
       "64                                                  9                                       \n",
       "\n",
       "         location                 track  \n",
       "60  San Francisco            summerApps  \n",
       "61  San Francisco              summerVR  \n",
       "62  San Francisco  summerGames (4-week)  \n",
       "63  San Francisco           summerIntro  \n",
       "64      Sunnyvale           summerGames  "
      ]
     },
     "execution_count": 62,
     "metadata": {},
     "output_type": "execute_result"
    }
   ],
   "source": [
    "lessdirty_SA_2016_W8 = SA_2016_W8\n",
    "lessdirty_SA_2016_W8.tail()"
   ]
  },
  {
   "cell_type": "markdown",
   "metadata": {},
   "source": [
    "#### Making sure there are no nul values"
   ]
  },
  {
   "cell_type": "code",
   "execution_count": 351,
   "metadata": {},
   "outputs": [
    {
     "data": {
      "text/plain": [
       "(array([], dtype=int64), array([], dtype=int64))"
      ]
     },
     "execution_count": 351,
     "metadata": {},
     "output_type": "execute_result"
    }
   ],
   "source": [
    "clean_SA_2016_W8 = np.where(pd.isnull(lessdirty_SA_2016_W8))\n",
    "clean_SA_2016_W8"
   ]
  },
  {
   "cell_type": "markdown",
   "metadata": {},
   "source": [
    "_There are no nul values this week was clean_"
   ]
  },
  {
   "cell_type": "markdown",
   "metadata": {},
   "source": [
    "### Each summer academy duration\n"
   ]
  },
  {
   "cell_type": "code",
   "execution_count": null,
   "metadata": {},
   "outputs": [],
   "source": [
    "# Questions to have\n",
    "# Is it fair information to separate what I get from different datasets????, bladly wrote, thinkking on it"
   ]
  },
  {
   "cell_type": "markdown",
   "metadata": {},
   "source": [
    "---"
   ]
  },
  {
   "cell_type": "markdown",
   "metadata": {},
   "source": [
    "### Formating of information\n",
    "* Get each week into a proper format that can be mixed together to make a 2016 complete format"
   ]
  },
  {
   "cell_type": "code",
   "execution_count": 68,
   "metadata": {},
   "outputs": [],
   "source": [
    "# clean_SA_2016_W8\n",
    "clean_SA_2016_W8_features = set(clean_SA_2016_W8)"
   ]
  },
  {
   "cell_type": "code",
   "execution_count": null,
   "metadata": {},
   "outputs": [],
   "source": [
    "# I have to explain every desicion, the final format must be where all have the same types of information"
   ]
  },
  {
   "cell_type": "code",
   "execution_count": null,
   "metadata": {},
   "outputs": [],
   "source": []
  },
  {
   "cell_type": "code",
   "execution_count": null,
   "metadata": {},
   "outputs": [],
   "source": [
    "# Got to clean the whole"
   ]
  },
  {
   "cell_type": "markdown",
   "metadata": {},
   "source": [
    "#### Concatenation \n"
   ]
  },
  {
   "cell_type": "markdown",
   "metadata": {},
   "source": [
    "#### Create special datasets for Hong Kong, Tokyo and Taipei"
   ]
  },
  {
   "cell_type": "markdown",
   "metadata": {},
   "source": [
    "#### Make a new one with the relative begginings of these summer academies, beggining in week 1"
   ]
  },
  {
   "cell_type": "code",
   "execution_count": null,
   "metadata": {},
   "outputs": [],
   "source": []
  },
  {
   "cell_type": "code",
   "execution_count": null,
   "metadata": {},
   "outputs": [],
   "source": []
  },
  {
   "cell_type": "code",
   "execution_count": null,
   "metadata": {},
   "outputs": [],
   "source": []
  },
  {
   "cell_type": "code",
   "execution_count": null,
   "metadata": {},
   "outputs": [],
   "source": []
  },
  {
   "cell_type": "code",
   "execution_count": null,
   "metadata": {},
   "outputs": [],
   "source": []
  },
  {
   "cell_type": "code",
   "execution_count": null,
   "metadata": {},
   "outputs": [],
   "source": []
  },
  {
   "cell_type": "code",
   "execution_count": null,
   "metadata": {},
   "outputs": [],
   "source": []
  },
  {
   "cell_type": "code",
   "execution_count": null,
   "metadata": {},
   "outputs": [],
   "source": []
  },
  {
   "cell_type": "code",
   "execution_count": null,
   "metadata": {},
   "outputs": [],
   "source": []
  },
  {
   "cell_type": "code",
   "execution_count": null,
   "metadata": {},
   "outputs": [],
   "source": []
  },
  {
   "cell_type": "code",
   "execution_count": null,
   "metadata": {},
   "outputs": [],
   "source": []
  },
  {
   "cell_type": "code",
   "execution_count": null,
   "metadata": {},
   "outputs": [],
   "source": []
  },
  {
   "cell_type": "code",
   "execution_count": null,
   "metadata": {},
   "outputs": [],
   "source": []
  },
  {
   "cell_type": "code",
   "execution_count": null,
   "metadata": {},
   "outputs": [],
   "source": []
  },
  {
   "cell_type": "code",
   "execution_count": null,
   "metadata": {},
   "outputs": [],
   "source": []
  },
  {
   "cell_type": "markdown",
   "metadata": {},
   "source": [
    "## Elements to develop:\n",
    "* __Quantity Assurance__ -> It's a metric to analyse the amount of total surveys collected from the whole student corpus in a determined time frame.\n",
    "* __Quality Assurance__ -> The information quality at a given time."
   ]
  },
  {
   "cell_type": "markdown",
   "metadata": {},
   "source": [
    "## Quantity Assurance\n",
    "#### Purpose\n",
    "#### Objective\n",
    "#### Process"
   ]
  },
  {
   "cell_type": "markdown",
   "metadata": {},
   "source": [
    "## Quality Assurance \n",
    "#### Purpose\n",
    "#### Objective\n",
    "#### Process"
   ]
  },
  {
   "cell_type": "markdown",
   "metadata": {},
   "source": []
  }
 ],
 "metadata": {
  "kernelspec": {
   "display_name": "Python 3",
   "language": "python",
   "name": "python3"
  },
  "language_info": {
   "codemirror_mode": {
    "name": "ipython",
    "version": 3
   },
   "file_extension": ".py",
   "mimetype": "text/x-python",
   "name": "python",
   "nbconvert_exporter": "python",
   "pygments_lexer": "ipython3",
   "version": "3.7.1"
  }
 },
 "nbformat": 4,
 "nbformat_minor": 2
}
