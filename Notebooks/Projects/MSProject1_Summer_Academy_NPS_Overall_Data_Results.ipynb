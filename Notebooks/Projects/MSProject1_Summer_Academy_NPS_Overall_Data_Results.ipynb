{
 "cells": [
  {
   "cell_type": "markdown",
   "metadata": {},
   "source": [
    "# Data Analysis & Visualization"
   ]
  },
  {
   "cell_type": "markdown",
   "metadata": {},
   "source": [
    "### Timelines:\n",
    "    * Description & data given: Monday, February 4th\n",
    "    * Data cleaning check-in: Monday, February 11th\n",
    "    * In-class presentations: Tuesday, February 19th"
   ]
  },
  {
   "cell_type": "markdown",
   "metadata": {},
   "source": [
    "---"
   ]
  },
  {
   "cell_type": "markdown",
   "metadata": {},
   "source": [
    "## Objective\n",
    "* Answer the descriptive questions made\n",
    "* "
   ]
  },
  {
   "cell_type": "markdown",
   "metadata": {},
   "source": [
    "## Deliverables\n",
    "* Clean all the data into one file\n",
    "* Convert `Ratings` data into NPS categories (promoters, passives, and detractors)\n",
    "* Answer at least 5-7 self-generated descriptive questions regarding trends and patterns across the data."
   ]
  },
  {
   "cell_type": "markdown",
   "metadata": {},
   "source": [
    "## Problem Setup\n",
    "_What is NPS (Net Promoter Score) - a tool commonly used to measure customer loyalty and promotion._\n",
    "\n",
    "**It segments the sentiment of the participants in:**\n",
    "* Promoter (9 - 10)\n",
    "* Passive (7 - 8)\n",
    "* Detractor (1 - 6)\n",
    "\n",
    "**Steps to calculate NPS and equation**\n",
    "\n",
    "1. Segment all responses into Promoter, Passive and Detractor categories. \n",
    "\n",
    "2. Calculate the percentage of responses in each category out of the total number of responses to the survey. \n",
    "\n",
    "3. Subtract the Detractors percentage from the Promoters percentage. \n",
    "\n",
    "  _NPS = (Promoters - Detractors) / (Promoters + Passives + Detractors)_\n",
    "  \n",
    "**Note:** The range can go from -100(everyone is a detractor) to 100(everyone is a supporter)"
   ]
  },
  {
   "cell_type": "markdown",
   "metadata": {
    "collapsed": true
   },
   "source": [
    "## Main Action Plan\n",
    "__1.__ Get the 2016 information dataset to a point where they can be compared with 2017 datasets.\n",
    "    \n",
    "    \n",
    "__2.__ Clean and arrange the 2017 format until it can be worked in combination with the 2016 datasets\n",
    "\n",
    "\n",
    "__3.__ "
   ]
  },
  {
   "cell_type": "markdown",
   "metadata": {},
   "source": [
    "**Note:** _Each number in the action plan that is a decimal is an extra step that is optional and not necesarilly been done_"
   ]
  },
  {
   "cell_type": "code",
   "execution_count": null,
   "metadata": {},
   "outputs": [],
   "source": []
  }
 ],
 "metadata": {
  "kernelspec": {
   "display_name": "Python 3",
   "language": "python",
   "name": "python3"
  },
  "language_info": {
   "codemirror_mode": {
    "name": "ipython",
    "version": 3
   },
   "file_extension": ".py",
   "mimetype": "text/x-python",
   "name": "python",
   "nbconvert_exporter": "python",
   "pygments_lexer": "ipython3",
   "version": "3.7.1"
  }
 },
 "nbformat": 4,
 "nbformat_minor": 2
}
