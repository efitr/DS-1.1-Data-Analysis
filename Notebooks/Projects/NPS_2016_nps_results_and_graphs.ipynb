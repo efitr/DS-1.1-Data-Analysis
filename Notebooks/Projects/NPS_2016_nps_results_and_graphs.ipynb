{
 "cells": [
  {
   "cell_type": "markdown",
   "metadata": {},
   "source": [
    "# Complete Analysis of 2016"
   ]
  },
  {
   "cell_type": "markdown",
   "metadata": {},
   "source": [
    "## Purpose\n",
    "* Be able to convey patterns of information through graphics\n",
    "* Get a NPS score to see where the consumers of the product stand"
   ]
  },
  {
   "cell_type": "markdown",
   "metadata": {},
   "source": [
    "## Objectives\n",
    "* Get the NPS score\n",
    "* Use the appropiate methods to create representatives examples of the information in matplotlib\n",
    "* See through the information to take better desicions\n",
    "* See through the information gathering process\n",
    "* Compare each different summer academy product NPS\n",
    "    * A One Week Summer Academy\n",
    "    * A Two Week Summer Academy\n",
    "    * A Eight Week Summer Academy"
   ]
  },
  {
   "cell_type": "markdown",
   "metadata": {},
   "source": [
    "### Resources made from the MSProject1_Summer_Academy_NPS_2016_Clean_ and_Format_Process_1\n",
    "* A basic study of each week summer academy \n",
    "    * DF contaning Location, Week, SET of elements in the survey, Number of datapoints and number of columns at the datasets.\n",
    "* Summer academies by week SA_2016_W1_with_track\n",
    "* Summer academies by week SA_2016_W1_ALL\n",
    "    "
   ]
  },
  {
   "cell_type": "markdown",
   "metadata": {},
   "source": [
    "## Deliverables\n",
    "* Clean all the data into one file\n",
    "* Convert `Ratings` data into NPS categories (promoters, passives, and detractors)\n",
    "* Answer at least 5-7 self-generated descriptive questions regarding trends and patterns across the data.\n",
    "\n",
    "## Problem Setup\n",
    "_What is NPS (Net Promoter Score) - a tool commonly used to measure customer loyalty and promotion._\n",
    "\n",
    "**It segments the sentiment of the participants in:**\n",
    "* Promoter (9 - 10)\n",
    "* Passive (7 - 8)\n",
    "* Detractor (1 - 6)\n",
    "\n",
    "**Steps to calculate NPS and equation**\n",
    "\n",
    "1. Segment all responses into Promoter, Passive and Detractor categories. \n",
    "\n",
    "2. Calculate the percentage of responses in each category out of the total number of responses to the survey. \n",
    "\n",
    "3. Subtract the Detractors percentage from the Promoters percentage. \n",
    "\n",
    "  _NPS = (Promoters - Detractors) / (Promoters + Passives + Detractors)_\n",
    "  \n",
    "**Note:** The range can go from -100(everyone is a detractor) to 100(everyone is a supporter)\n",
    "\n",
    "## Main Action Plan\n",
    "__1.__ Get the 2016 information dataset to a point where they can be compared with 2017 datasets.\n",
    "    \n",
    "    \n",
    "__2.__ Clean and arrange the 2017 format until it can be worked in combination with the 2016 datasets\n",
    "\n",
    "\n",
    "__3.__ \n",
    "\n",
    "**Note:** _Each number in the action plan that is a decimal is an extra step that is optional and not necesarilly been done_"
   ]
  },
  {
   "cell_type": "markdown",
   "metadata": {},
   "source": [
    "#### Helper functions"
   ]
  },
  {
   "cell_type": "code",
   "execution_count": 28,
   "metadata": {},
   "outputs": [],
   "source": [
    "def unique_values(df):\n",
    "    for col in df:\n",
    "        print(df[col].unique())\n",
    "# unique_values()"
   ]
  },
  {
   "cell_type": "markdown",
   "metadata": {},
   "source": [
    "### Data Weekly comparison of data gathered"
   ]
  },
  {
   "cell_type": "markdown",
   "metadata": {},
   "source": [
    "#### Process\n",
    "* See if there is a difference between how much data is  "
   ]
  },
  {
   "cell_type": "code",
   "execution_count": 13,
   "metadata": {},
   "outputs": [],
   "source": [
    "import pandas as pd"
   ]
  },
  {
   "cell_type": "code",
   "execution_count": 14,
   "metadata": {},
   "outputs": [],
   "source": [
    "W1_PATH_DATA_ANALYSIS = 'Data/SA_2016_W1.csv'\n",
    "SA_2016_W1 = pd.read_csv(W1_PATH_DATA_ANALYSIS)\n",
    "\n",
    "W2_PATH_DATA_ANALYSIS = 'Data/SA_2016_W2.csv'\n",
    "SA_2016_W2 = pd.read_csv(W2_PATH_DATA_ANALYSIS)\n",
    "\n",
    "W3_PATH_DATA_ANALYSIS = 'Data/SA_2016_W3.csv'\n",
    "SA_2016_W3 = pd.read_csv(W3_PATH_DATA_ANALYSIS)\n",
    "\n",
    "W4_PATH_DATA_ANALYSIS = 'Data/SA_2016_W4.csv'\n",
    "SA_2016_W4 = pd.read_csv(W4_PATH_DATA_ANALYSIS)\n",
    "\n",
    "W5_PATH_DATA_ANALYSIS = 'Data/SA_2016_W5.csv'\n",
    "SA_2016_W5 = pd.read_csv(W5_PATH_DATA_ANALYSIS)\n",
    "\n",
    "W6_PATH_DATA_ANALYSIS = 'Data/SA_2016_W6.csv'\n",
    "SA_2016_W6 = pd.read_csv(W6_PATH_DATA_ANALYSIS)\n",
    "\n",
    "W7_PATH_DATA_ANALYSIS = 'Data/SA_2016_W7.csv'\n",
    "SA_2016_W7 = pd.read_csv(W7_PATH_DATA_ANALYSIS)\n",
    "#If there is time, do this one too\n",
    "# W8_PATH_DATA_ANALYSIS = 'Data/SA_2016_W8.csv'\n",
    "# SA_2016_W8"
   ]
  },
  {
   "cell_type": "code",
   "execution_count": 30,
   "metadata": {},
   "outputs": [
    {
     "data": {
      "text/html": [
       "<div>\n",
       "<style scoped>\n",
       "    .dataframe tbody tr th:only-of-type {\n",
       "        vertical-align: middle;\n",
       "    }\n",
       "\n",
       "    .dataframe tbody tr th {\n",
       "        vertical-align: top;\n",
       "    }\n",
       "\n",
       "    .dataframe thead th {\n",
       "        text-align: right;\n",
       "    }\n",
       "</style>\n",
       "<table border=\"1\" class=\"dataframe\">\n",
       "  <thead>\n",
       "    <tr style=\"text-align: right;\">\n",
       "      <th></th>\n",
       "      <th>Week number</th>\n",
       "      <th>Unnamed: 0</th>\n",
       "      <th>Location</th>\n",
       "      <th>Features</th>\n",
       "      <th>Number of Datapoints</th>\n",
       "      <th>Number of Features</th>\n",
       "    </tr>\n",
       "  </thead>\n",
       "  <tbody>\n",
       "    <tr>\n",
       "      <th>0</th>\n",
       "      <td>7</td>\n",
       "      <td>0</td>\n",
       "      <td>Los Angeles</td>\n",
       "      <td>{'What track are you in?', 'How would you rate...</td>\n",
       "      <td>9</td>\n",
       "      <td>4</td>\n",
       "    </tr>\n",
       "    <tr>\n",
       "      <th>1</th>\n",
       "      <td>7</td>\n",
       "      <td>1</td>\n",
       "      <td>New York</td>\n",
       "      <td>{'What track are you in?', 'How would you rate...</td>\n",
       "      <td>17</td>\n",
       "      <td>4</td>\n",
       "    </tr>\n",
       "    <tr>\n",
       "      <th>2</th>\n",
       "      <td>7</td>\n",
       "      <td>2</td>\n",
       "      <td>San Francisco</td>\n",
       "      <td>{'What track are you in?', 'How would you rate...</td>\n",
       "      <td>19</td>\n",
       "      <td>4</td>\n",
       "    </tr>\n",
       "    <tr>\n",
       "      <th>3</th>\n",
       "      <td>7</td>\n",
       "      <td>3</td>\n",
       "      <td>Sunnyvale</td>\n",
       "      <td>{'What track are you in?', 'How would you rate...</td>\n",
       "      <td>47</td>\n",
       "      <td>4</td>\n",
       "    </tr>\n",
       "    <tr>\n",
       "      <th>4</th>\n",
       "      <td>7</td>\n",
       "      <td>4</td>\n",
       "      <td>Taipei</td>\n",
       "      <td>{'How would you rate your overall satisfaction...</td>\n",
       "      <td>11</td>\n",
       "      <td>3</td>\n",
       "    </tr>\n",
       "  </tbody>\n",
       "</table>\n",
       "</div>"
      ],
      "text/plain": [
       "   Week number  Unnamed: 0       Location  \\\n",
       "0            7           0    Los Angeles   \n",
       "1            7           1       New York   \n",
       "2            7           2  San Francisco   \n",
       "3            7           3      Sunnyvale   \n",
       "4            7           4         Taipei   \n",
       "\n",
       "                                            Features  Number of Datapoints  \\\n",
       "0  {'What track are you in?', 'How would you rate...                     9   \n",
       "1  {'What track are you in?', 'How would you rate...                    17   \n",
       "2  {'What track are you in?', 'How would you rate...                    19   \n",
       "3  {'What track are you in?', 'How would you rate...                    47   \n",
       "4  {'How would you rate your overall satisfaction...                    11   \n",
       "\n",
       "   Number of Features  \n",
       "0                   4  \n",
       "1                   4  \n",
       "2                   4  \n",
       "3                   4  \n",
       "4                   3  "
      ]
     },
     "execution_count": 30,
     "metadata": {},
     "output_type": "execute_result"
    }
   ],
   "source": [
    "def adding_week(df, week_num):\n",
    "    df.insert(0, 'Week number', week_num)\n",
    "    df = df.drop('Unnamed: 0', 1)\n",
    "adding_week(SA_2016_W7, 7)\n",
    "SA_2016_W7"
   ]
  },
  {
   "cell_type": "code",
   "execution_count": 29,
   "metadata": {},
   "outputs": [
    {
     "data": {
      "text/html": [
       "<div>\n",
       "<style scoped>\n",
       "    .dataframe tbody tr th:only-of-type {\n",
       "        vertical-align: middle;\n",
       "    }\n",
       "\n",
       "    .dataframe tbody tr th {\n",
       "        vertical-align: top;\n",
       "    }\n",
       "\n",
       "    .dataframe thead th {\n",
       "        text-align: right;\n",
       "    }\n",
       "</style>\n",
       "<table border=\"1\" class=\"dataframe\">\n",
       "  <thead>\n",
       "    <tr style=\"text-align: right;\">\n",
       "      <th></th>\n",
       "      <th>Unnamed: 0</th>\n",
       "      <th>Location</th>\n",
       "      <th>Features</th>\n",
       "      <th>Number of Datapoints</th>\n",
       "      <th>Number of Features</th>\n",
       "    </tr>\n",
       "  </thead>\n",
       "  <tbody>\n",
       "    <tr>\n",
       "      <th>0</th>\n",
       "      <td>0</td>\n",
       "      <td>Los Angeles</td>\n",
       "      <td>{'What track are you in?', 'How would you rate...</td>\n",
       "      <td>9</td>\n",
       "      <td>4</td>\n",
       "    </tr>\n",
       "    <tr>\n",
       "      <th>1</th>\n",
       "      <td>1</td>\n",
       "      <td>New York</td>\n",
       "      <td>{'What track are you in?', 'How would you rate...</td>\n",
       "      <td>17</td>\n",
       "      <td>4</td>\n",
       "    </tr>\n",
       "    <tr>\n",
       "      <th>2</th>\n",
       "      <td>2</td>\n",
       "      <td>San Francisco</td>\n",
       "      <td>{'What track are you in?', 'How would you rate...</td>\n",
       "      <td>19</td>\n",
       "      <td>4</td>\n",
       "    </tr>\n",
       "    <tr>\n",
       "      <th>3</th>\n",
       "      <td>3</td>\n",
       "      <td>Sunnyvale</td>\n",
       "      <td>{'What track are you in?', 'How would you rate...</td>\n",
       "      <td>47</td>\n",
       "      <td>4</td>\n",
       "    </tr>\n",
       "    <tr>\n",
       "      <th>4</th>\n",
       "      <td>4</td>\n",
       "      <td>Taipei</td>\n",
       "      <td>{'How would you rate your overall satisfaction...</td>\n",
       "      <td>11</td>\n",
       "      <td>3</td>\n",
       "    </tr>\n",
       "  </tbody>\n",
       "</table>\n",
       "</div>"
      ],
      "text/plain": [
       "   Unnamed: 0       Location  \\\n",
       "0           0    Los Angeles   \n",
       "1           1       New York   \n",
       "2           2  San Francisco   \n",
       "3           3      Sunnyvale   \n",
       "4           4         Taipei   \n",
       "\n",
       "                                            Features  Number of Datapoints  \\\n",
       "0  {'What track are you in?', 'How would you rate...                     9   \n",
       "1  {'What track are you in?', 'How would you rate...                    17   \n",
       "2  {'What track are you in?', 'How would you rate...                    19   \n",
       "3  {'What track are you in?', 'How would you rate...                    47   \n",
       "4  {'How would you rate your overall satisfaction...                    11   \n",
       "\n",
       "   Number of Features  \n",
       "0                   4  \n",
       "1                   4  \n",
       "2                   4  \n",
       "3                   4  \n",
       "4                   3  "
      ]
     },
     "execution_count": 29,
     "metadata": {},
     "output_type": "execute_result"
    }
   ],
   "source": [
    "SA_2016_W7"
   ]
  },
  {
   "cell_type": "code",
   "execution_count": null,
   "metadata": {},
   "outputs": [],
   "source": []
  },
  {
   "cell_type": "markdown",
   "metadata": {},
   "source": [
    "### All the data without Tracks"
   ]
  },
  {
   "cell_type": "code",
   "execution_count": 4,
   "metadata": {},
   "outputs": [],
   "source": [
    "W1_PATH_DATA = 'Data/SA_2016_W1_ALL.csv'\n",
    "SA_2016_W1_ALL = pd.read_csv(W1_PATH_DATA)\n",
    "\n",
    "W2_PATH_DATA = 'Data/SA_2016_W2_ALL.csv'\n",
    "SA_2016_W2_ALL = pd.read_csv(W2_PATH_DATA)\n",
    "\n",
    "W3_PATH_DATA = 'Data/SA_2016_W3_ALL.csv'\n",
    "SA_2016_W3_ALL = pd.read_csv(W3_PATH_DATA)\n",
    "\n",
    "W4_PATH_DATA = 'Data/SA_2016_W4_ALL.csv'\n",
    "SA_2016_W4_ALL = pd.read_csv(W4_PATH_DATA)\n",
    "\n",
    "W5_PATH_DATA = 'Data/SA_2016_W5_ALL.csv'\n",
    "SA_2016_W5_ALL = pd.read_csv(W5_PATH_DATA)\n",
    "\n",
    "W6_PATH_DATA = 'Data/SA_2016_W6_ALL.csv'\n",
    "SA_2016_W6_ALL = pd.read_csv(W6_PATH_DATA)\n",
    "\n",
    "W7_PATH_DATA = 'Data/SA_2016_W7_ALL.csv'\n",
    "SA_2016_W7_ALL = pd.read_csv(W7_PATH_DATA)\n",
    "\n",
    "W8_PATH_DATA = 'Data/SA_2016_W8_ALL.csv'\n",
    "SA_2016_W8_ALL = pd.read_csv(W8_PATH_DATA)"
   ]
  },
  {
   "cell_type": "code",
   "execution_count": 45,
   "metadata": {},
   "outputs": [],
   "source": [
    "SA_2016_ALL_frames = [SA_2016_W1_ALL, SA_2016_W2_ALL, SA_2016_W3_ALL, SA_2016_W4_ALL,SA_2016_W5_ALL, SA_2016_W6_ALL, SA_2016_W7_ALL]\n",
    "SA_2016_ALL_without_8 = pd.concat(SA_2016_ALL_frames, sort=True)"
   ]
  },
  {
   "cell_type": "code",
   "execution_count": 49,
   "metadata": {},
   "outputs": [],
   "source": [
    "SA_2016_ALL_without_8 = SA_2016_ALL_without_8.drop('Unnamed: 0', 1)"
   ]
  },
  {
   "cell_type": "code",
   "execution_count": 56,
   "metadata": {},
   "outputs": [],
   "source": [
    "SA_2016_ALL_without_8 = SA_2016_ALL_without_8.drop('How would you rate your overall satisfaction with the Summer Academy this week?', 1)"
   ]
  },
  {
   "cell_type": "code",
   "execution_count": 94,
   "metadata": {},
   "outputs": [
    {
     "data": {
      "text/html": [
       "<div>\n",
       "<style scoped>\n",
       "    .dataframe tbody tr th:only-of-type {\n",
       "        vertical-align: middle;\n",
       "    }\n",
       "\n",
       "    .dataframe tbody tr th {\n",
       "        vertical-align: top;\n",
       "    }\n",
       "\n",
       "    .dataframe thead th {\n",
       "        text-align: right;\n",
       "    }\n",
       "</style>\n",
       "<table border=\"1\" class=\"dataframe\">\n",
       "  <thead>\n",
       "    <tr style=\"text-align: right;\">\n",
       "      <th></th>\n",
       "      <th>Level of satisfaction with the pacing</th>\n",
       "      <th>Location</th>\n",
       "      <th>Week number</th>\n",
       "    </tr>\n",
       "  </thead>\n",
       "  <tbody>\n",
       "    <tr>\n",
       "      <th>87</th>\n",
       "      <td>4</td>\n",
       "      <td>Sunnyvale</td>\n",
       "      <td>Week 7</td>\n",
       "    </tr>\n",
       "    <tr>\n",
       "      <th>88</th>\n",
       "      <td>3</td>\n",
       "      <td>Sunnyvale</td>\n",
       "      <td>Week 7</td>\n",
       "    </tr>\n",
       "    <tr>\n",
       "      <th>89</th>\n",
       "      <td>3</td>\n",
       "      <td>Sunnyvale</td>\n",
       "      <td>Week 7</td>\n",
       "    </tr>\n",
       "    <tr>\n",
       "      <th>90</th>\n",
       "      <td>2</td>\n",
       "      <td>Sunnyvale</td>\n",
       "      <td>Week 7</td>\n",
       "    </tr>\n",
       "    <tr>\n",
       "      <th>91</th>\n",
       "      <td>3</td>\n",
       "      <td>Sunnyvale</td>\n",
       "      <td>Week 7</td>\n",
       "    </tr>\n",
       "  </tbody>\n",
       "</table>\n",
       "</div>"
      ],
      "text/plain": [
       "   Level of satisfaction with the pacing   Location Week number\n",
       "87                                     4  Sunnyvale      Week 7\n",
       "88                                     3  Sunnyvale      Week 7\n",
       "89                                     3  Sunnyvale      Week 7\n",
       "90                                     2  Sunnyvale      Week 7\n",
       "91                                     3  Sunnyvale      Week 7"
      ]
     },
     "execution_count": 94,
     "metadata": {},
     "output_type": "execute_result"
    }
   ],
   "source": [
    "SA_2016_ALL_without_8.tail()"
   ]
  },
  {
   "cell_type": "code",
   "execution_count": 89,
   "metadata": {},
   "outputs": [],
   "source": [
    "# This will be used to generate a graph for the 'Level of satisfaction with the pacing'\n",
    "C = SA_2016_ALL_without_8.columns[0]"
   ]
  },
  {
   "cell_type": "code",
   "execution_count": 95,
   "metadata": {},
   "outputs": [],
   "source": [
    "indexNames = SA_2016_ALL_without_8[ SA_2016_ALL_without_8[C] == \"#REF!\" ].index\n",
    "SA_2016_ALL_without_8.drop(indexNames , inplace=True)"
   ]
  },
  {
   "cell_type": "code",
   "execution_count": 96,
   "metadata": {},
   "outputs": [],
   "source": [
    "SA_2016_ALL_without_8[C] = SA_2016_ALL_without_8[C].astype(int)"
   ]
  },
  {
   "cell_type": "code",
   "execution_count": 98,
   "metadata": {},
   "outputs": [
    {
     "name": "stdout",
     "output_type": "stream",
     "text": [
      "[3 4 5 2 1]\n",
      "['Singapore' 'Los Angeles' 'New York' 'San Francisco' 'Sunnyvale']\n",
      "['Week 1' 'Week 2' 'Week 3' 'Week 4' 'Week 5' 'Week 6' 'Week 7']\n"
     ]
    }
   ],
   "source": [
    "unique_values(SA_2016_ALL_without_8)"
   ]
  },
  {
   "cell_type": "code",
   "execution_count": 100,
   "metadata": {},
   "outputs": [
    {
     "name": "stdout",
     "output_type": "stream",
     "text": [
      "[2 3 4 5 1]\n",
      "['Singapore' 'Los Angeles' 'New York' 'San Francisco' 'Sunnyvale']\n",
      "['Week 1' 'Week 2' 'Week 3' 'Week 4' 'Week 5' 'Week 6' 'Week 7']\n"
     ]
    }
   ],
   "source": [
    "unique_values(SA_2016_ALL)"
   ]
  },
  {
   "cell_type": "code",
   "execution_count": null,
   "metadata": {},
   "outputs": [],
   "source": [
    "SA_2016_ALL_frames_with_8 = [SA_2016_W1_ALL, SA_2016_W2_ALL, SA_2016_W3_ALL, SA_2016_W4_ALL,SA_2016_W5_ALL, SA_2016_W6_ALL, SA_2016_W7_ALL, SA_2016_W8_ALL]\n",
    "SA_2016_ALL = pd.concat(SA_2016_ALL_frames_with_8, sort=True)"
   ]
  },
  {
   "cell_type": "code",
   "execution_count": 52,
   "metadata": {},
   "outputs": [],
   "source": [
    "SA_2016_ALL = SA_2016_ALL.drop('Level of satisfaction with the pacing', 1)"
   ]
  },
  {
   "cell_type": "code",
   "execution_count": 84,
   "metadata": {},
   "outputs": [],
   "source": [
    "# This will be used to generate a graph for the 'How would you rate your overall satisfaction with the Summer Academy this week?'\n",
    "# C = SA_2016_ALL[]\n",
    "# \n",
    "# SA_2016_ALL = pd.Series([SA_2016_ALL.])\n",
    "C = SA_2016_ALL.columns[0]\n",
    "# SA_2016_ALL[C]\n",
    "# SA_2016_ALL[~SA_2016_ALL[C].str.contains(\"#REF!\")]"
   ]
  },
  {
   "cell_type": "code",
   "execution_count": 85,
   "metadata": {},
   "outputs": [],
   "source": [
    "indexNames = SA_2016_ALL[ SA_2016_ALL[C] == \"#REF!\" ].index\n",
    "SA_2016_ALL.drop(indexNames , inplace=True)"
   ]
  },
  {
   "cell_type": "code",
   "execution_count": 86,
   "metadata": {},
   "outputs": [],
   "source": [
    "# SA_2016_ALL = SA_2016_ALL.to_numeric(C)\n",
    "SA_2016_ALL[C] = SA_2016_ALL[C].astype(int)"
   ]
  },
  {
   "cell_type": "code",
   "execution_count": 87,
   "metadata": {},
   "outputs": [
    {
     "data": {
      "text/html": [
       "<div>\n",
       "<style scoped>\n",
       "    .dataframe tbody tr th:only-of-type {\n",
       "        vertical-align: middle;\n",
       "    }\n",
       "\n",
       "    .dataframe tbody tr th {\n",
       "        vertical-align: top;\n",
       "    }\n",
       "\n",
       "    .dataframe thead th {\n",
       "        text-align: right;\n",
       "    }\n",
       "</style>\n",
       "<table border=\"1\" class=\"dataframe\">\n",
       "  <thead>\n",
       "    <tr style=\"text-align: right;\">\n",
       "      <th></th>\n",
       "      <th>How would you rate your overall satisfaction with the Summer Academy this week?</th>\n",
       "      <th>Location</th>\n",
       "      <th>Week number</th>\n",
       "    </tr>\n",
       "  </thead>\n",
       "  <tbody>\n",
       "    <tr>\n",
       "      <th>87</th>\n",
       "      <td>4</td>\n",
       "      <td>Sunnyvale</td>\n",
       "      <td>Week 7</td>\n",
       "    </tr>\n",
       "    <tr>\n",
       "      <th>88</th>\n",
       "      <td>4</td>\n",
       "      <td>Sunnyvale</td>\n",
       "      <td>Week 7</td>\n",
       "    </tr>\n",
       "    <tr>\n",
       "      <th>89</th>\n",
       "      <td>5</td>\n",
       "      <td>Sunnyvale</td>\n",
       "      <td>Week 7</td>\n",
       "    </tr>\n",
       "    <tr>\n",
       "      <th>90</th>\n",
       "      <td>4</td>\n",
       "      <td>Sunnyvale</td>\n",
       "      <td>Week 7</td>\n",
       "    </tr>\n",
       "    <tr>\n",
       "      <th>91</th>\n",
       "      <td>3</td>\n",
       "      <td>Sunnyvale</td>\n",
       "      <td>Week 7</td>\n",
       "    </tr>\n",
       "  </tbody>\n",
       "</table>\n",
       "</div>"
      ],
      "text/plain": [
       "    How would you rate your overall satisfaction with the Summer Academy this week?  \\\n",
       "87                                                  4                                 \n",
       "88                                                  4                                 \n",
       "89                                                  5                                 \n",
       "90                                                  4                                 \n",
       "91                                                  3                                 \n",
       "\n",
       "     Location Week number  \n",
       "87  Sunnyvale      Week 7  \n",
       "88  Sunnyvale      Week 7  \n",
       "89  Sunnyvale      Week 7  \n",
       "90  Sunnyvale      Week 7  \n",
       "91  Sunnyvale      Week 7  "
      ]
     },
     "execution_count": 87,
     "metadata": {},
     "output_type": "execute_result"
    }
   ],
   "source": [
    "SA_2016_ALL.tail()"
   ]
  },
  {
   "cell_type": "code",
   "execution_count": 88,
   "metadata": {},
   "outputs": [
    {
     "name": "stdout",
     "output_type": "stream",
     "text": [
      "[2 3 4 5 1]\n",
      "['Singapore' 'Los Angeles' 'New York' 'San Francisco' 'Sunnyvale']\n",
      "['Week 1' 'Week 2' 'Week 3' 'Week 4' 'Week 5' 'Week 6' 'Week 7']\n"
     ]
    }
   ],
   "source": [
    "unique_values(SA_2016_ALL)"
   ]
  },
  {
   "cell_type": "markdown",
   "metadata": {},
   "source": [
    "### Process:\n",
    "* Make two graphs - \n",
    "    * one for the level of satisfaction with the pacing\n",
    "    * Another for 'How would you rate your overall satisfaction with the Summer Academy this week?'"
   ]
  },
  {
   "cell_type": "code",
   "execution_count": null,
   "metadata": {},
   "outputs": [],
   "source": [
    "# This is for the level of satisfaction with the pacing"
   ]
  },
  {
   "cell_type": "code",
   "execution_count": 102,
   "metadata": {},
   "outputs": [],
   "source": [
    "import matplotlib as plt\n",
    "%matplotlib inline"
   ]
  },
  {
   "cell_type": "code",
   "execution_count": 103,
   "metadata": {},
   "outputs": [],
   "source": [
    "def lineplot(x_data, y_data, x_label=\"\", y_label=\"\", title=\"\"):\n",
    "    # Create the plot object\n",
    "    _, ax = plt.subplots()\n",
    "\n",
    "    # Plot the best fit line, set the linewidth (lw), color and\n",
    "    # transparency (alpha) of the line\n",
    "    ax.plot(x_data, y_data, lw = 2, color = '#539caf', alpha = 1)\n",
    "\n",
    "    # Label the axes and provide a title\n",
    "    ax.set_title(title)\n",
    "    ax.set_xlabel(x_label)\n",
    "    ax.set_ylabel(y_label)"
   ]
  },
  {
   "cell_type": "code",
   "execution_count": 108,
   "metadata": {},
   "outputs": [
    {
     "ename": "AttributeError",
     "evalue": "module 'matplotlib' has no attribute 'subplots'",
     "output_type": "error",
     "traceback": [
      "\u001b[0;31m---------------------------------------------------------------------------\u001b[0m",
      "\u001b[0;31mAttributeError\u001b[0m                            Traceback (most recent call last)",
      "\u001b[0;32m<ipython-input-108-7ff19bb504cc>\u001b[0m in \u001b[0;36m<module>\u001b[0;34m\u001b[0m\n\u001b[1;32m      3\u001b[0m \u001b[0mY\u001b[0m \u001b[0;34m=\u001b[0m \u001b[0mSA_2016_ALL_without_8\u001b[0m\u001b[0;34m.\u001b[0m\u001b[0mcolumns\u001b[0m\u001b[0;34m[\u001b[0m\u001b[0;36m0\u001b[0m\u001b[0;34m]\u001b[0m\u001b[0;34m\u001b[0m\u001b[0;34m\u001b[0m\u001b[0m\n\u001b[1;32m      4\u001b[0m \u001b[0;34m\u001b[0m\u001b[0m\n\u001b[0;32m----> 5\u001b[0;31m \u001b[0mlineplot\u001b[0m\u001b[0;34m(\u001b[0m\u001b[0mSA_2016_ALL_without_8\u001b[0m\u001b[0;34m[\u001b[0m\u001b[0mX\u001b[0m\u001b[0;34m]\u001b[0m\u001b[0;34m,\u001b[0m \u001b[0mSA_2016_ALL_without_8\u001b[0m\u001b[0;34m[\u001b[0m\u001b[0mY\u001b[0m\u001b[0;34m]\u001b[0m\u001b[0;34m,\u001b[0m \u001b[0mx_label\u001b[0m\u001b[0;34m=\u001b[0m\u001b[0;34m'Week Number'\u001b[0m\u001b[0;34m,\u001b[0m \u001b[0my_label\u001b[0m\u001b[0;34m=\u001b[0m\u001b[0;34m\"Satisfaction with the pacing\"\u001b[0m\u001b[0;34m,\u001b[0m \u001b[0mtitle\u001b[0m\u001b[0;34m=\u001b[0m\u001b[0;34m\"How satisfaction progresses\"\u001b[0m\u001b[0;34m)\u001b[0m\u001b[0;34m\u001b[0m\u001b[0;34m\u001b[0m\u001b[0m\n\u001b[0m",
      "\u001b[0;32m<ipython-input-103-031461db5be7>\u001b[0m in \u001b[0;36mlineplot\u001b[0;34m(x_data, y_data, x_label, y_label, title)\u001b[0m\n\u001b[1;32m      2\u001b[0m \u001b[0;32mdef\u001b[0m \u001b[0mlineplot\u001b[0m\u001b[0;34m(\u001b[0m\u001b[0mx_data\u001b[0m\u001b[0;34m,\u001b[0m \u001b[0my_data\u001b[0m\u001b[0;34m,\u001b[0m \u001b[0mx_label\u001b[0m\u001b[0;34m=\u001b[0m\u001b[0;34m\"\"\u001b[0m\u001b[0;34m,\u001b[0m \u001b[0my_label\u001b[0m\u001b[0;34m=\u001b[0m\u001b[0;34m\"\"\u001b[0m\u001b[0;34m,\u001b[0m \u001b[0mtitle\u001b[0m\u001b[0;34m=\u001b[0m\u001b[0;34m\"\"\u001b[0m\u001b[0;34m)\u001b[0m\u001b[0;34m:\u001b[0m\u001b[0;34m\u001b[0m\u001b[0;34m\u001b[0m\u001b[0m\n\u001b[1;32m      3\u001b[0m     \u001b[0;31m# Create the plot object\u001b[0m\u001b[0;34m\u001b[0m\u001b[0;34m\u001b[0m\u001b[0;34m\u001b[0m\u001b[0m\n\u001b[0;32m----> 4\u001b[0;31m     \u001b[0m_\u001b[0m\u001b[0;34m,\u001b[0m \u001b[0max\u001b[0m \u001b[0;34m=\u001b[0m \u001b[0mplt\u001b[0m\u001b[0;34m.\u001b[0m\u001b[0msubplots\u001b[0m\u001b[0;34m(\u001b[0m\u001b[0;34m)\u001b[0m\u001b[0;34m\u001b[0m\u001b[0;34m\u001b[0m\u001b[0m\n\u001b[0m\u001b[1;32m      5\u001b[0m \u001b[0;34m\u001b[0m\u001b[0m\n\u001b[1;32m      6\u001b[0m     \u001b[0;31m# Plot the best fit line, set the linewidth (lw), color and\u001b[0m\u001b[0;34m\u001b[0m\u001b[0;34m\u001b[0m\u001b[0;34m\u001b[0m\u001b[0m\n",
      "\u001b[0;31mAttributeError\u001b[0m: module 'matplotlib' has no attribute 'subplots'"
     ]
    }
   ],
   "source": [
    "# Which columns will I use, x_data is \n",
    "X = SA_2016_ALL_without_8.columns[2]\n",
    "Y = SA_2016_ALL_without_8.columns[0]\n",
    "\n",
    "lineplot(SA_2016_ALL_without_8[X], SA_2016_ALL_without_8[Y], x_label='Week Number', y_label=\"Satisfaction with the pacing\", title=\"How satisfaction progresses\")"
   ]
  },
  {
   "cell_type": "code",
   "execution_count": null,
   "metadata": {},
   "outputs": [],
   "source": []
  },
  {
   "cell_type": "code",
   "execution_count": null,
   "metadata": {},
   "outputs": [],
   "source": [
    "lineplot(SA_2016_ALL)"
   ]
  },
  {
   "cell_type": "markdown",
   "metadata": {},
   "source": [
    "### All the data with Tracks"
   ]
  },
  {
   "cell_type": "code",
   "execution_count": 5,
   "metadata": {},
   "outputs": [],
   "source": [
    "W1_PATH_DATA_with_track = 'Data/SA_2016_W1_with_track.csv'\n",
    "SA_2016_W1_with_track = pd.read_csv(W1_PATH_DATA_with_track)\n",
    "\n",
    "W2_PATH_DATA_with_track = 'Data/SA_2016_W2_with_track.csv'\n",
    "SA_2016_W2_with_track = pd.read_csv(W2_PATH_DATA_with_track)\n",
    "\n",
    "W3_PATH_DATA_with_track = 'Data/SA_2016_W3_with_track.csv'\n",
    "SA_2016_W3_with_track = pd.read_csv(W3_PATH_DATA_with_track)\n",
    "\n",
    "W4_PATH_DATA_with_track = 'Data/SA_2016_W4_with_track.csv'\n",
    "SA_2016_W4_with_track = pd.read_csv(W4_PATH_DATA_with_track)\n",
    "\n",
    "W5_PATH_DATA_with_track = 'Data/SA_2016_W5_with_track.csv'\n",
    "SA_2016_W5_with_track = pd.read_csv(W5_PATH_DATA_with_track)\n",
    "\n",
    "W6_PATH_DATA_with_track = 'Data/SA_2016_W6_with_track.csv'\n",
    "SA_2016_W6_with_track = pd.read_csv(W6_PATH_DATA_with_track)\n",
    "\n",
    "W7_PATH_DATA_with_track = 'Data/SA_2016_W7_with_track.csv'\n",
    "SA_2016_W7_with_track = pd.read_csv(W7_PATH_DATA_with_track)\n",
    "\n",
    "W8_PATH_DATA_with_track = 'Data/SA_2016_W8_with_track.csv'\n",
    "SA_2016_W8_with_track = pd.read_csv(W8_PATH_DATA_with_track)"
   ]
  },
  {
   "cell_type": "code",
   "execution_count": null,
   "metadata": {},
   "outputs": [],
   "source": []
  }
 ],
 "metadata": {
  "kernelspec": {
   "display_name": "Python 3",
   "language": "python",
   "name": "python3"
  },
  "language_info": {
   "codemirror_mode": {
    "name": "ipython",
    "version": 3
   },
   "file_extension": ".py",
   "mimetype": "text/x-python",
   "name": "python",
   "nbconvert_exporter": "python",
   "pygments_lexer": "ipython3",
   "version": "3.7.1"
  }
 },
 "nbformat": 4,
 "nbformat_minor": 2
}
