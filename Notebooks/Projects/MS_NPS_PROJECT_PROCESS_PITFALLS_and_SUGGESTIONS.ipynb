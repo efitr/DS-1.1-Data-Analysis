{
 "cells": [
  {
   "cell_type": "markdown",
   "metadata": {},
   "source": [
    "# Here will be a detailed work explaining the process followed to deal with the MakeSchool Summer Academy Data"
   ]
  },
  {
   "cell_type": "markdown",
   "metadata": {},
   "source": [
    "_\"First iteration in the process of learning how to deal with data\"_"
   ]
  },
  {
   "cell_type": "markdown",
   "metadata": {},
   "source": [
    "### Purpose\n",
    " * Succeed on a lesser time frame the completion of the objectives placed on the decision of pursuing a data exploration.\n",
    " * See the pitfalls that might have ocurred during each step of the data recollection process.\n",
    " * See what must be think of while working with data.\n",
    " *"
   ]
  },
  {
   "cell_type": "markdown",
   "metadata": {},
   "source": [
    "### Objectives\n",
    " * Make a plan of what to look for before cleaning the data.\n",
    " * Make a plan on how to clean the data to not run out of time.\n",
    " * Be clear towards what you want to get out of the data so on the process of cleaning you start drifting towards that.\n",
    " * The findings what you can use to present them better."
   ]
  },
  {
   "cell_type": "markdown",
   "metadata": {},
   "source": [
    "### Process\n",
    " 1. What is my opinion according to how I found the data distributed.\n",
    " 2. The cleaning process must be directed towards an objective to be sure of getting done the objective that began this whole process. \n",
    " 3. What is needed to show the information.\n",
    " 4. Getting your results ready to be seen in a way that is effective towards transmiting the knowledge extracted from the data."
   ]
  },
  {
   "cell_type": "markdown",
   "metadata": {},
   "source": [
    "# 1. "
   ]
  },
  {
   "cell_type": "markdown",
   "metadata": {},
   "source": [
    "### When working with data that is collected on determined moments through a period of time\n",
    ">__On the lenght of the data recollection process__\n",
    " * Depending on the time frame of the data process there might be places where the information starts at different moments.\n",
    " \n",
    ">__On Features__\n",
    " * Acknowledge that the features name might slightly change from the first recollection until the last recollection.\n",
    " * There can be features not been collected on some places compared to others.\n",
    " \n",
    ">__On Datapoints__\n",
    " * The amount of datapoints can be different from each iteration of the data recollection process.\n",
    " * There can be all sort of problems with the data points, they can of different types, there can be empty places, there can be reference problems and wrong inputs. \n",
    " * Depending on location different products can be offered.\n",
    " \n",
    ">__On the Data from different places__\n",
    " * For the same period of time there can be multiple places where the same questions are been asked but the product been answered about is different."
   ]
  },
  {
   "cell_type": "markdown",
   "metadata": {},
   "source": [
    "# 2."
   ]
  },
  {
   "cell_type": "markdown",
   "metadata": {},
   "source": [
    "### Prioritization of what is exactly needed\n",
    ">__When working on a data exploration with a determined time frame to be worked on__\n",
    " * Think of what are you looking for and seek those answers before anything.\n",
    " * While doing this in case of finding other aspect that might hold an interest leave notes behind of how the more complex or with more steps process could be done, but keep your north clear, if the new path promises faster answers attemp it if there is time to do so."
   ]
  },
  {
   "cell_type": "markdown",
   "metadata": {},
   "source": [
    "# 3."
   ]
  },
  {
   "cell_type": "markdown",
   "metadata": {},
   "source": [
    "### Elements that make the results more clear \n",
    ">__On dataframes__\n",
    " * You can create new ones or modify existing ones for the purpose of making the information more clear towards getting an understanding of an aspect you stumbled upon.\n",
    " * Keep on interest WHAT YOU WANT TO TRANSMIT WITH WHAT APPROACHES WITH HIGHER PRIORITY.\n",
    " \n",
    ">__On graphs__\n",
    " * Get them to explain to you what is exactly what is happening there, if it's good to you, probably towards other people too, but keep in mind what is your objective with this presentation.\n"
   ]
  },
  {
   "cell_type": "markdown",
   "metadata": {},
   "source": [
    "# 4."
   ]
  },
  {
   "cell_type": "markdown",
   "metadata": {},
   "source": [
    "### On a presentation\n",
    ">__Use the appropiate ways__\n",
    " * Jupyter notebooks slides.\n",
    "\n",
    ">__Clear objective of the presentation__\n",
    " * What you want to convey, make sure of doing it first and build the idea for it to make sense."
   ]
  },
  {
   "cell_type": "code",
   "execution_count": null,
   "metadata": {},
   "outputs": [],
   "source": []
  }
 ],
 "metadata": {
  "kernelspec": {
   "display_name": "Python 3",
   "language": "python",
   "name": "python3"
  },
  "language_info": {
   "codemirror_mode": {
    "name": "ipython",
    "version": 3
   },
   "file_extension": ".py",
   "mimetype": "text/x-python",
   "name": "python",
   "nbconvert_exporter": "python",
   "pygments_lexer": "ipython3",
   "version": "3.7.1"
  }
 },
 "nbformat": 4,
 "nbformat_minor": 2
}
